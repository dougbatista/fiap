{
 "cells": [
  {
   "cell_type": "markdown",
   "metadata": {},
   "source": [
    "\n",
    "# Modelos \"Ensemble\""
   ]
  },
  {
   "cell_type": "markdown",
   "metadata": {},
   "source": [
    "\n",
    "https://lightgbm.readthedocs.io/en/v3.3.2/\n"
   ]
  },
  {
   "cell_type": "markdown",
   "metadata": {},
   "source": [
    "### Nossa tarefa é analisar o conjunto de dados e prever se a renda de um adulto excederá 50K/ano ou não.\n"
   ]
  },
  {
   "cell_type": "markdown",
   "metadata": {},
   "source": [
    "\n",
    "### Classificador:  \n",
    "\n",
    "    Analisaremos uma base de dados de salários disponível no UCI Machine Learning.\n",
    "\n",
    "    Source: [UCI](https://archive.ics.uci.edu/ml/datasets/Adult) - 1996-05-01 . \n",
    "\n",
    "\n",
    "    A base de dados com 15 colunas e 48.842 linhas (Adult Salary Dataset).\n",
    "\n"
   ]
  },
  {
   "cell_type": "code",
   "execution_count": 5,
   "metadata": {},
   "outputs": [],
   "source": [
    "#Import libraries \n",
    "\n",
    "import numpy as np # linear algebra\n",
    "import pandas as pd # data processing\n",
    "\n",
    "# Libraries for data visualization\n",
    "import matplotlib.pyplot as plt  \n",
    "import seaborn as sb \n",
    "from pandas.plotting import scatter_matrix\n",
    "\n",
    "# Import scikit_learn module to split the dataset into train.test sub-datasets\n",
    "from sklearn.model_selection import train_test_split \n",
    "# Import scikit_learn module for k-fold cross validation\n",
    "from sklearn.model_selection import KFold\n",
    "from sklearn.model_selection import cross_val_score\n",
    "# import the metrics class\n",
    "from sklearn import metrics\n",
    "# import stats for accuracy \n",
    "import statsmodels.api as sm\n",
    "\n",
    "\n",
    "\n",
    "\n",
    "# !pip install lightgbm\n",
    "\n",
    "# !pip install xgboost\n",
    "\n",
    "# import pandas as Series, DataFrame\n",
    "\n",
    "import lightgbm as lgb\n",
    "\n",
    "import shap\n",
    "\n",
    "\n",
    "\n",
    "import xgboost as xgb"
   ]
  },
  {
   "cell_type": "code",
   "execution_count": 6,
   "metadata": {},
   "outputs": [],
   "source": [
    "import pandas as Series "
   ]
  },
  {
   "cell_type": "code",
   "execution_count": 7,
   "metadata": {},
   "outputs": [],
   "source": [
    "import lightgbm as lgbm\n",
    "\n",
    "import xgboost as xgb"
   ]
  },
  {
   "cell_type": "code",
   "execution_count": null,
   "metadata": {},
   "outputs": [],
   "source": [
    "\n"
   ]
  },
  {
   "cell_type": "markdown",
   "metadata": {},
   "source": [
    "Listing of attributes:\n",
    "\n",
    "    income: >50K, <=50K.\n",
    "    age: continuous.\n",
    "    workclass: Private, Self-emp-not-inc, Self-emp-inc, Federal-gov, Local-gov, State-gov, Without-pay, Never-worked.\n",
    "    fnlwgt: continuous.\n",
    "    education: Bachelors, Some-college, 11th, HS-grad, Prof-school, Assoc-acdm, Assoc-voc, 9th, 7th-8th, 12th, Masters, 1st-4th, 10th, Doctorate, 5th-6th, Preschool.\n",
    "    education-num: continuous.\n",
    "    marital-status: Married-civ-spouse, Divorced, Never-married, Separated, Widowed, Married-spouse-absent, Married-AF-spouse.\n",
    "    occupation: Tech-support, Craft-repair, Other-service, Sales, Exec-managerial, Prof-specialty, Handlers-cleaners, Machine-op-inspct, Adm-clerical, Farming-fishing, Transport-moving, Priv-house-serv, Protective-serv, Armed-Forces.\n",
    "    relationship: Wife, Own-child, Husband, Not-in-family, Other-relative, Unmarried.\n",
    "    race: White, Asian-Pac-Islander, Amer-Indian-Eskimo, Other, Black.\n",
    "    sex: Female, Male.\n",
    "    capital-gain: continuous.\n",
    "    capital-loss: continuous.\n",
    "    hours-per-week: continuous.\n",
    "    native-country: United-States, Cambodia, England, Puerto-Rico, Canada, Germany, Outlying-US(Guam-USVI-etc), India, Japan, Greece, South, China, Cuba, Iran, Honduras, Philippines, Italy, Poland, Jamaica, Vietnam, Mexico, Portugal, Ireland, France, Dominican-Republic, Laos, Ecuador, Taiwan, Haiti, Columbia, Hungary, Guatemala, Nicaragua, Scotland, Thailand, Yugoslavia, El-Salvador, Trinadad&Tobago, Peru, Hong, Holand-Netherlands.\n",
    "\n"
   ]
  },
  {
   "cell_type": "code",
   "execution_count": null,
   "metadata": {
    "colab": {
     "base_uri": "https://localhost:8080/",
     "height": 206
    },
    "id": "agTkcU4XYRxk",
    "outputId": "410a9934-b991-4d7b-9c48-90f101c21d50"
   },
   "outputs": [],
   "source": []
  },
  {
   "cell_type": "code",
   "execution_count": null,
   "metadata": {},
   "outputs": [],
   "source": []
  },
  {
   "cell_type": "code",
   "execution_count": 8,
   "metadata": {},
   "outputs": [
    {
     "data": {
      "text/html": [
       "<div>\n",
       "<style scoped>\n",
       "    .dataframe tbody tr th:only-of-type {\n",
       "        vertical-align: middle;\n",
       "    }\n",
       "\n",
       "    .dataframe tbody tr th {\n",
       "        vertical-align: top;\n",
       "    }\n",
       "\n",
       "    .dataframe thead th {\n",
       "        text-align: right;\n",
       "    }\n",
       "</style>\n",
       "<table border=\"1\" class=\"dataframe\">\n",
       "  <thead>\n",
       "    <tr style=\"text-align: right;\">\n",
       "      <th></th>\n",
       "      <th>age</th>\n",
       "      <th>workclass</th>\n",
       "      <th>fnlwgt</th>\n",
       "      <th>education</th>\n",
       "      <th>educational-num</th>\n",
       "      <th>marital-status</th>\n",
       "      <th>occupation</th>\n",
       "      <th>relationship</th>\n",
       "      <th>race</th>\n",
       "      <th>gender</th>\n",
       "      <th>capital-gain</th>\n",
       "      <th>capital-loss</th>\n",
       "      <th>hours-per-week</th>\n",
       "      <th>native-country</th>\n",
       "      <th>income</th>\n",
       "    </tr>\n",
       "  </thead>\n",
       "  <tbody>\n",
       "    <tr>\n",
       "      <th>0</th>\n",
       "      <td>25</td>\n",
       "      <td>Private</td>\n",
       "      <td>226802</td>\n",
       "      <td>11th</td>\n",
       "      <td>7</td>\n",
       "      <td>Never-married</td>\n",
       "      <td>Machine-op-inspct</td>\n",
       "      <td>Own-child</td>\n",
       "      <td>Black</td>\n",
       "      <td>Male</td>\n",
       "      <td>0</td>\n",
       "      <td>0</td>\n",
       "      <td>40</td>\n",
       "      <td>United-States</td>\n",
       "      <td>&lt;=50K</td>\n",
       "    </tr>\n",
       "    <tr>\n",
       "      <th>1</th>\n",
       "      <td>38</td>\n",
       "      <td>Private</td>\n",
       "      <td>89814</td>\n",
       "      <td>HS-grad</td>\n",
       "      <td>9</td>\n",
       "      <td>Married-civ-spouse</td>\n",
       "      <td>Farming-fishing</td>\n",
       "      <td>Husband</td>\n",
       "      <td>White</td>\n",
       "      <td>Male</td>\n",
       "      <td>0</td>\n",
       "      <td>0</td>\n",
       "      <td>50</td>\n",
       "      <td>United-States</td>\n",
       "      <td>&lt;=50K</td>\n",
       "    </tr>\n",
       "    <tr>\n",
       "      <th>2</th>\n",
       "      <td>28</td>\n",
       "      <td>Local-gov</td>\n",
       "      <td>336951</td>\n",
       "      <td>Assoc-acdm</td>\n",
       "      <td>12</td>\n",
       "      <td>Married-civ-spouse</td>\n",
       "      <td>Protective-serv</td>\n",
       "      <td>Husband</td>\n",
       "      <td>White</td>\n",
       "      <td>Male</td>\n",
       "      <td>0</td>\n",
       "      <td>0</td>\n",
       "      <td>40</td>\n",
       "      <td>United-States</td>\n",
       "      <td>&gt;50K</td>\n",
       "    </tr>\n",
       "    <tr>\n",
       "      <th>3</th>\n",
       "      <td>44</td>\n",
       "      <td>Private</td>\n",
       "      <td>160323</td>\n",
       "      <td>Some-college</td>\n",
       "      <td>10</td>\n",
       "      <td>Married-civ-spouse</td>\n",
       "      <td>Machine-op-inspct</td>\n",
       "      <td>Husband</td>\n",
       "      <td>Black</td>\n",
       "      <td>Male</td>\n",
       "      <td>7688</td>\n",
       "      <td>0</td>\n",
       "      <td>40</td>\n",
       "      <td>United-States</td>\n",
       "      <td>&gt;50K</td>\n",
       "    </tr>\n",
       "    <tr>\n",
       "      <th>4</th>\n",
       "      <td>18</td>\n",
       "      <td>?</td>\n",
       "      <td>103497</td>\n",
       "      <td>Some-college</td>\n",
       "      <td>10</td>\n",
       "      <td>Never-married</td>\n",
       "      <td>?</td>\n",
       "      <td>Own-child</td>\n",
       "      <td>White</td>\n",
       "      <td>Female</td>\n",
       "      <td>0</td>\n",
       "      <td>0</td>\n",
       "      <td>30</td>\n",
       "      <td>United-States</td>\n",
       "      <td>&lt;=50K</td>\n",
       "    </tr>\n",
       "  </tbody>\n",
       "</table>\n",
       "</div>"
      ],
      "text/plain": [
       "   age  workclass  fnlwgt     education  educational-num      marital-status  \\\n",
       "0   25    Private  226802          11th                7       Never-married   \n",
       "1   38    Private   89814       HS-grad                9  Married-civ-spouse   \n",
       "2   28  Local-gov  336951    Assoc-acdm               12  Married-civ-spouse   \n",
       "3   44    Private  160323  Some-college               10  Married-civ-spouse   \n",
       "4   18          ?  103497  Some-college               10       Never-married   \n",
       "\n",
       "          occupation relationship   race  gender  capital-gain  capital-loss  \\\n",
       "0  Machine-op-inspct    Own-child  Black    Male             0             0   \n",
       "1    Farming-fishing      Husband  White    Male             0             0   \n",
       "2    Protective-serv      Husband  White    Male             0             0   \n",
       "3  Machine-op-inspct      Husband  Black    Male          7688             0   \n",
       "4                  ?    Own-child  White  Female             0             0   \n",
       "\n",
       "   hours-per-week native-country income  \n",
       "0              40  United-States  <=50K  \n",
       "1              50  United-States  <=50K  \n",
       "2              40  United-States   >50K  \n",
       "3              40  United-States   >50K  \n",
       "4              30  United-States  <=50K  "
      ]
     },
     "execution_count": 8,
     "metadata": {},
     "output_type": "execute_result"
    }
   ],
   "source": [
    "#load the dataset direto do github\n",
    "# salary = pd.read_csv('https://raw.githubusercontent.com/llSourcell/Best-Programming-Languages-for-Machine-Learning/master/adults.txt',sep=',')\n",
    "\n",
    "#load the dataset \n",
    "salary = pd.read_csv('../Datasets/adult.csv')\n",
    "salary.head()"
   ]
  },
  {
   "cell_type": "code",
   "execution_count": 9,
   "metadata": {},
   "outputs": [
    {
     "data": {
      "text/html": [
       "<div>\n",
       "<style scoped>\n",
       "    .dataframe tbody tr th:only-of-type {\n",
       "        vertical-align: middle;\n",
       "    }\n",
       "\n",
       "    .dataframe tbody tr th {\n",
       "        vertical-align: top;\n",
       "    }\n",
       "\n",
       "    .dataframe thead th {\n",
       "        text-align: right;\n",
       "    }\n",
       "</style>\n",
       "<table border=\"1\" class=\"dataframe\">\n",
       "  <thead>\n",
       "    <tr style=\"text-align: right;\">\n",
       "      <th></th>\n",
       "      <th>age</th>\n",
       "      <th>workclass</th>\n",
       "      <th>fnlwgt</th>\n",
       "      <th>education</th>\n",
       "      <th>educational-num</th>\n",
       "      <th>marital-status</th>\n",
       "      <th>occupation</th>\n",
       "      <th>relationship</th>\n",
       "      <th>race</th>\n",
       "      <th>gender</th>\n",
       "      <th>capital-gain</th>\n",
       "      <th>capital-loss</th>\n",
       "      <th>hours-per-week</th>\n",
       "      <th>native-country</th>\n",
       "      <th>income</th>\n",
       "    </tr>\n",
       "  </thead>\n",
       "  <tbody>\n",
       "    <tr>\n",
       "      <th>0</th>\n",
       "      <td>25</td>\n",
       "      <td>Private</td>\n",
       "      <td>226802</td>\n",
       "      <td>11th</td>\n",
       "      <td>7</td>\n",
       "      <td>Never-married</td>\n",
       "      <td>Machine-op-inspct</td>\n",
       "      <td>Own-child</td>\n",
       "      <td>Black</td>\n",
       "      <td>Male</td>\n",
       "      <td>0</td>\n",
       "      <td>0</td>\n",
       "      <td>40</td>\n",
       "      <td>United-States</td>\n",
       "      <td>&lt;=50K</td>\n",
       "    </tr>\n",
       "    <tr>\n",
       "      <th>1</th>\n",
       "      <td>38</td>\n",
       "      <td>Private</td>\n",
       "      <td>89814</td>\n",
       "      <td>HS-grad</td>\n",
       "      <td>9</td>\n",
       "      <td>Married-civ-spouse</td>\n",
       "      <td>Farming-fishing</td>\n",
       "      <td>Husband</td>\n",
       "      <td>White</td>\n",
       "      <td>Male</td>\n",
       "      <td>0</td>\n",
       "      <td>0</td>\n",
       "      <td>50</td>\n",
       "      <td>United-States</td>\n",
       "      <td>&lt;=50K</td>\n",
       "    </tr>\n",
       "    <tr>\n",
       "      <th>2</th>\n",
       "      <td>28</td>\n",
       "      <td>Local-gov</td>\n",
       "      <td>336951</td>\n",
       "      <td>Assoc-acdm</td>\n",
       "      <td>12</td>\n",
       "      <td>Married-civ-spouse</td>\n",
       "      <td>Protective-serv</td>\n",
       "      <td>Husband</td>\n",
       "      <td>White</td>\n",
       "      <td>Male</td>\n",
       "      <td>0</td>\n",
       "      <td>0</td>\n",
       "      <td>40</td>\n",
       "      <td>United-States</td>\n",
       "      <td>&gt;50K</td>\n",
       "    </tr>\n",
       "    <tr>\n",
       "      <th>3</th>\n",
       "      <td>44</td>\n",
       "      <td>Private</td>\n",
       "      <td>160323</td>\n",
       "      <td>Some-college</td>\n",
       "      <td>10</td>\n",
       "      <td>Married-civ-spouse</td>\n",
       "      <td>Machine-op-inspct</td>\n",
       "      <td>Husband</td>\n",
       "      <td>Black</td>\n",
       "      <td>Male</td>\n",
       "      <td>7688</td>\n",
       "      <td>0</td>\n",
       "      <td>40</td>\n",
       "      <td>United-States</td>\n",
       "      <td>&gt;50K</td>\n",
       "    </tr>\n",
       "    <tr>\n",
       "      <th>4</th>\n",
       "      <td>18</td>\n",
       "      <td>?</td>\n",
       "      <td>103497</td>\n",
       "      <td>Some-college</td>\n",
       "      <td>10</td>\n",
       "      <td>Never-married</td>\n",
       "      <td>?</td>\n",
       "      <td>Own-child</td>\n",
       "      <td>White</td>\n",
       "      <td>Female</td>\n",
       "      <td>0</td>\n",
       "      <td>0</td>\n",
       "      <td>30</td>\n",
       "      <td>United-States</td>\n",
       "      <td>&lt;=50K</td>\n",
       "    </tr>\n",
       "    <tr>\n",
       "      <th>...</th>\n",
       "      <td>...</td>\n",
       "      <td>...</td>\n",
       "      <td>...</td>\n",
       "      <td>...</td>\n",
       "      <td>...</td>\n",
       "      <td>...</td>\n",
       "      <td>...</td>\n",
       "      <td>...</td>\n",
       "      <td>...</td>\n",
       "      <td>...</td>\n",
       "      <td>...</td>\n",
       "      <td>...</td>\n",
       "      <td>...</td>\n",
       "      <td>...</td>\n",
       "      <td>...</td>\n",
       "    </tr>\n",
       "    <tr>\n",
       "      <th>48837</th>\n",
       "      <td>27</td>\n",
       "      <td>Private</td>\n",
       "      <td>257302</td>\n",
       "      <td>Assoc-acdm</td>\n",
       "      <td>12</td>\n",
       "      <td>Married-civ-spouse</td>\n",
       "      <td>Tech-support</td>\n",
       "      <td>Wife</td>\n",
       "      <td>White</td>\n",
       "      <td>Female</td>\n",
       "      <td>0</td>\n",
       "      <td>0</td>\n",
       "      <td>38</td>\n",
       "      <td>United-States</td>\n",
       "      <td>&lt;=50K</td>\n",
       "    </tr>\n",
       "    <tr>\n",
       "      <th>48838</th>\n",
       "      <td>40</td>\n",
       "      <td>Private</td>\n",
       "      <td>154374</td>\n",
       "      <td>HS-grad</td>\n",
       "      <td>9</td>\n",
       "      <td>Married-civ-spouse</td>\n",
       "      <td>Machine-op-inspct</td>\n",
       "      <td>Husband</td>\n",
       "      <td>White</td>\n",
       "      <td>Male</td>\n",
       "      <td>0</td>\n",
       "      <td>0</td>\n",
       "      <td>40</td>\n",
       "      <td>United-States</td>\n",
       "      <td>&gt;50K</td>\n",
       "    </tr>\n",
       "    <tr>\n",
       "      <th>48839</th>\n",
       "      <td>58</td>\n",
       "      <td>Private</td>\n",
       "      <td>151910</td>\n",
       "      <td>HS-grad</td>\n",
       "      <td>9</td>\n",
       "      <td>Widowed</td>\n",
       "      <td>Adm-clerical</td>\n",
       "      <td>Unmarried</td>\n",
       "      <td>White</td>\n",
       "      <td>Female</td>\n",
       "      <td>0</td>\n",
       "      <td>0</td>\n",
       "      <td>40</td>\n",
       "      <td>United-States</td>\n",
       "      <td>&lt;=50K</td>\n",
       "    </tr>\n",
       "    <tr>\n",
       "      <th>48840</th>\n",
       "      <td>22</td>\n",
       "      <td>Private</td>\n",
       "      <td>201490</td>\n",
       "      <td>HS-grad</td>\n",
       "      <td>9</td>\n",
       "      <td>Never-married</td>\n",
       "      <td>Adm-clerical</td>\n",
       "      <td>Own-child</td>\n",
       "      <td>White</td>\n",
       "      <td>Male</td>\n",
       "      <td>0</td>\n",
       "      <td>0</td>\n",
       "      <td>20</td>\n",
       "      <td>United-States</td>\n",
       "      <td>&lt;=50K</td>\n",
       "    </tr>\n",
       "    <tr>\n",
       "      <th>48841</th>\n",
       "      <td>52</td>\n",
       "      <td>Self-emp-inc</td>\n",
       "      <td>287927</td>\n",
       "      <td>HS-grad</td>\n",
       "      <td>9</td>\n",
       "      <td>Married-civ-spouse</td>\n",
       "      <td>Exec-managerial</td>\n",
       "      <td>Wife</td>\n",
       "      <td>White</td>\n",
       "      <td>Female</td>\n",
       "      <td>15024</td>\n",
       "      <td>0</td>\n",
       "      <td>40</td>\n",
       "      <td>United-States</td>\n",
       "      <td>&gt;50K</td>\n",
       "    </tr>\n",
       "  </tbody>\n",
       "</table>\n",
       "<p>48842 rows × 15 columns</p>\n",
       "</div>"
      ],
      "text/plain": [
       "       age     workclass  fnlwgt     education  educational-num  \\\n",
       "0       25       Private  226802          11th                7   \n",
       "1       38       Private   89814       HS-grad                9   \n",
       "2       28     Local-gov  336951    Assoc-acdm               12   \n",
       "3       44       Private  160323  Some-college               10   \n",
       "4       18             ?  103497  Some-college               10   \n",
       "...    ...           ...     ...           ...              ...   \n",
       "48837   27       Private  257302    Assoc-acdm               12   \n",
       "48838   40       Private  154374       HS-grad                9   \n",
       "48839   58       Private  151910       HS-grad                9   \n",
       "48840   22       Private  201490       HS-grad                9   \n",
       "48841   52  Self-emp-inc  287927       HS-grad                9   \n",
       "\n",
       "           marital-status         occupation relationship   race  gender  \\\n",
       "0           Never-married  Machine-op-inspct    Own-child  Black    Male   \n",
       "1      Married-civ-spouse    Farming-fishing      Husband  White    Male   \n",
       "2      Married-civ-spouse    Protective-serv      Husband  White    Male   \n",
       "3      Married-civ-spouse  Machine-op-inspct      Husband  Black    Male   \n",
       "4           Never-married                  ?    Own-child  White  Female   \n",
       "...                   ...                ...          ...    ...     ...   \n",
       "48837  Married-civ-spouse       Tech-support         Wife  White  Female   \n",
       "48838  Married-civ-spouse  Machine-op-inspct      Husband  White    Male   \n",
       "48839             Widowed       Adm-clerical    Unmarried  White  Female   \n",
       "48840       Never-married       Adm-clerical    Own-child  White    Male   \n",
       "48841  Married-civ-spouse    Exec-managerial         Wife  White  Female   \n",
       "\n",
       "       capital-gain  capital-loss  hours-per-week native-country income  \n",
       "0                 0             0              40  United-States  <=50K  \n",
       "1                 0             0              50  United-States  <=50K  \n",
       "2                 0             0              40  United-States   >50K  \n",
       "3              7688             0              40  United-States   >50K  \n",
       "4                 0             0              30  United-States  <=50K  \n",
       "...             ...           ...             ...            ...    ...  \n",
       "48837             0             0              38  United-States  <=50K  \n",
       "48838             0             0              40  United-States   >50K  \n",
       "48839             0             0              40  United-States  <=50K  \n",
       "48840             0             0              20  United-States  <=50K  \n",
       "48841         15024             0              40  United-States   >50K  \n",
       "\n",
       "[48842 rows x 15 columns]"
      ]
     },
     "execution_count": 9,
     "metadata": {},
     "output_type": "execute_result"
    }
   ],
   "source": [
    "salary"
   ]
  },
  {
   "cell_type": "code",
   "execution_count": null,
   "metadata": {},
   "outputs": [],
   "source": []
  },
  {
   "cell_type": "code",
   "execution_count": 10,
   "metadata": {},
   "outputs": [
    {
     "name": "stdout",
     "output_type": "stream",
     "text": [
      "<class 'pandas.core.frame.DataFrame'>\n",
      "RangeIndex: 48842 entries, 0 to 48841\n",
      "Data columns (total 15 columns):\n",
      " #   Column           Non-Null Count  Dtype \n",
      "---  ------           --------------  ----- \n",
      " 0   age              48842 non-null  int64 \n",
      " 1   workclass        48842 non-null  object\n",
      " 2   fnlwgt           48842 non-null  int64 \n",
      " 3   education        48842 non-null  object\n",
      " 4   educational-num  48842 non-null  int64 \n",
      " 5   marital-status   48842 non-null  object\n",
      " 6   occupation       48842 non-null  object\n",
      " 7   relationship     48842 non-null  object\n",
      " 8   race             48842 non-null  object\n",
      " 9   gender           48842 non-null  object\n",
      " 10  capital-gain     48842 non-null  int64 \n",
      " 11  capital-loss     48842 non-null  int64 \n",
      " 12  hours-per-week   48842 non-null  int64 \n",
      " 13  native-country   48842 non-null  object\n",
      " 14  income           48842 non-null  object\n",
      "dtypes: int64(6), object(9)\n",
      "memory usage: 5.6+ MB\n"
     ]
    }
   ],
   "source": [
    "# salary dataset info to find columns and count of the data \n",
    "salary.info()"
   ]
  },
  {
   "cell_type": "code",
   "execution_count": 11,
   "metadata": {},
   "outputs": [
    {
     "data": {
      "text/plain": [
       "age                0\n",
       "workclass          0\n",
       "fnlwgt             0\n",
       "education          0\n",
       "educational-num    0\n",
       "marital-status     0\n",
       "occupation         0\n",
       "relationship       0\n",
       "race               0\n",
       "gender             0\n",
       "capital-gain       0\n",
       "capital-loss       0\n",
       "hours-per-week     0\n",
       "native-country     0\n",
       "income             0\n",
       "dtype: int64"
      ]
     },
     "execution_count": 11,
     "metadata": {},
     "output_type": "execute_result"
    }
   ],
   "source": [
    "# Verificando a existencia de valores ausentes(missing)\n",
    "\n",
    "salary.isnull().sum()\n"
   ]
  },
  {
   "cell_type": "code",
   "execution_count": 12,
   "metadata": {},
   "outputs": [],
   "source": [
    "# Olhando com mais cuidado os valores ausentes!!! "
   ]
  },
  {
   "cell_type": "code",
   "execution_count": 13,
   "metadata": {},
   "outputs": [
    {
     "data": {
      "text/html": [
       "<div>\n",
       "<style scoped>\n",
       "    .dataframe tbody tr th:only-of-type {\n",
       "        vertical-align: middle;\n",
       "    }\n",
       "\n",
       "    .dataframe tbody tr th {\n",
       "        vertical-align: top;\n",
       "    }\n",
       "\n",
       "    .dataframe thead th {\n",
       "        text-align: right;\n",
       "    }\n",
       "</style>\n",
       "<table border=\"1\" class=\"dataframe\">\n",
       "  <thead>\n",
       "    <tr style=\"text-align: right;\">\n",
       "      <th></th>\n",
       "      <th>0</th>\n",
       "      <th>1</th>\n",
       "      <th>2</th>\n",
       "      <th>3</th>\n",
       "      <th>4</th>\n",
       "      <th>5</th>\n",
       "      <th>6</th>\n",
       "      <th>7</th>\n",
       "      <th>8</th>\n",
       "      <th>9</th>\n",
       "    </tr>\n",
       "  </thead>\n",
       "  <tbody>\n",
       "    <tr>\n",
       "      <th>age</th>\n",
       "      <td>25</td>\n",
       "      <td>38</td>\n",
       "      <td>28</td>\n",
       "      <td>44</td>\n",
       "      <td>18</td>\n",
       "      <td>34</td>\n",
       "      <td>29</td>\n",
       "      <td>63</td>\n",
       "      <td>24</td>\n",
       "      <td>55</td>\n",
       "    </tr>\n",
       "    <tr>\n",
       "      <th>workclass</th>\n",
       "      <td>Private</td>\n",
       "      <td>Private</td>\n",
       "      <td>Local-gov</td>\n",
       "      <td>Private</td>\n",
       "      <td>?</td>\n",
       "      <td>Private</td>\n",
       "      <td>?</td>\n",
       "      <td>Self-emp-not-inc</td>\n",
       "      <td>Private</td>\n",
       "      <td>Private</td>\n",
       "    </tr>\n",
       "    <tr>\n",
       "      <th>fnlwgt</th>\n",
       "      <td>226802</td>\n",
       "      <td>89814</td>\n",
       "      <td>336951</td>\n",
       "      <td>160323</td>\n",
       "      <td>103497</td>\n",
       "      <td>198693</td>\n",
       "      <td>227026</td>\n",
       "      <td>104626</td>\n",
       "      <td>369667</td>\n",
       "      <td>104996</td>\n",
       "    </tr>\n",
       "    <tr>\n",
       "      <th>education</th>\n",
       "      <td>11th</td>\n",
       "      <td>HS-grad</td>\n",
       "      <td>Assoc-acdm</td>\n",
       "      <td>Some-college</td>\n",
       "      <td>Some-college</td>\n",
       "      <td>10th</td>\n",
       "      <td>HS-grad</td>\n",
       "      <td>Prof-school</td>\n",
       "      <td>Some-college</td>\n",
       "      <td>7th-8th</td>\n",
       "    </tr>\n",
       "    <tr>\n",
       "      <th>educational-num</th>\n",
       "      <td>7</td>\n",
       "      <td>9</td>\n",
       "      <td>12</td>\n",
       "      <td>10</td>\n",
       "      <td>10</td>\n",
       "      <td>6</td>\n",
       "      <td>9</td>\n",
       "      <td>15</td>\n",
       "      <td>10</td>\n",
       "      <td>4</td>\n",
       "    </tr>\n",
       "    <tr>\n",
       "      <th>marital-status</th>\n",
       "      <td>Never-married</td>\n",
       "      <td>Married-civ-spouse</td>\n",
       "      <td>Married-civ-spouse</td>\n",
       "      <td>Married-civ-spouse</td>\n",
       "      <td>Never-married</td>\n",
       "      <td>Never-married</td>\n",
       "      <td>Never-married</td>\n",
       "      <td>Married-civ-spouse</td>\n",
       "      <td>Never-married</td>\n",
       "      <td>Married-civ-spouse</td>\n",
       "    </tr>\n",
       "    <tr>\n",
       "      <th>occupation</th>\n",
       "      <td>Machine-op-inspct</td>\n",
       "      <td>Farming-fishing</td>\n",
       "      <td>Protective-serv</td>\n",
       "      <td>Machine-op-inspct</td>\n",
       "      <td>?</td>\n",
       "      <td>Other-service</td>\n",
       "      <td>?</td>\n",
       "      <td>Prof-specialty</td>\n",
       "      <td>Other-service</td>\n",
       "      <td>Craft-repair</td>\n",
       "    </tr>\n",
       "    <tr>\n",
       "      <th>relationship</th>\n",
       "      <td>Own-child</td>\n",
       "      <td>Husband</td>\n",
       "      <td>Husband</td>\n",
       "      <td>Husband</td>\n",
       "      <td>Own-child</td>\n",
       "      <td>Not-in-family</td>\n",
       "      <td>Unmarried</td>\n",
       "      <td>Husband</td>\n",
       "      <td>Unmarried</td>\n",
       "      <td>Husband</td>\n",
       "    </tr>\n",
       "    <tr>\n",
       "      <th>race</th>\n",
       "      <td>Black</td>\n",
       "      <td>White</td>\n",
       "      <td>White</td>\n",
       "      <td>Black</td>\n",
       "      <td>White</td>\n",
       "      <td>White</td>\n",
       "      <td>Black</td>\n",
       "      <td>White</td>\n",
       "      <td>White</td>\n",
       "      <td>White</td>\n",
       "    </tr>\n",
       "    <tr>\n",
       "      <th>gender</th>\n",
       "      <td>Male</td>\n",
       "      <td>Male</td>\n",
       "      <td>Male</td>\n",
       "      <td>Male</td>\n",
       "      <td>Female</td>\n",
       "      <td>Male</td>\n",
       "      <td>Male</td>\n",
       "      <td>Male</td>\n",
       "      <td>Female</td>\n",
       "      <td>Male</td>\n",
       "    </tr>\n",
       "    <tr>\n",
       "      <th>capital-gain</th>\n",
       "      <td>0</td>\n",
       "      <td>0</td>\n",
       "      <td>0</td>\n",
       "      <td>7688</td>\n",
       "      <td>0</td>\n",
       "      <td>0</td>\n",
       "      <td>0</td>\n",
       "      <td>3103</td>\n",
       "      <td>0</td>\n",
       "      <td>0</td>\n",
       "    </tr>\n",
       "    <tr>\n",
       "      <th>capital-loss</th>\n",
       "      <td>0</td>\n",
       "      <td>0</td>\n",
       "      <td>0</td>\n",
       "      <td>0</td>\n",
       "      <td>0</td>\n",
       "      <td>0</td>\n",
       "      <td>0</td>\n",
       "      <td>0</td>\n",
       "      <td>0</td>\n",
       "      <td>0</td>\n",
       "    </tr>\n",
       "    <tr>\n",
       "      <th>hours-per-week</th>\n",
       "      <td>40</td>\n",
       "      <td>50</td>\n",
       "      <td>40</td>\n",
       "      <td>40</td>\n",
       "      <td>30</td>\n",
       "      <td>30</td>\n",
       "      <td>40</td>\n",
       "      <td>32</td>\n",
       "      <td>40</td>\n",
       "      <td>10</td>\n",
       "    </tr>\n",
       "    <tr>\n",
       "      <th>native-country</th>\n",
       "      <td>United-States</td>\n",
       "      <td>United-States</td>\n",
       "      <td>United-States</td>\n",
       "      <td>United-States</td>\n",
       "      <td>United-States</td>\n",
       "      <td>United-States</td>\n",
       "      <td>United-States</td>\n",
       "      <td>United-States</td>\n",
       "      <td>United-States</td>\n",
       "      <td>United-States</td>\n",
       "    </tr>\n",
       "    <tr>\n",
       "      <th>income</th>\n",
       "      <td>&lt;=50K</td>\n",
       "      <td>&lt;=50K</td>\n",
       "      <td>&gt;50K</td>\n",
       "      <td>&gt;50K</td>\n",
       "      <td>&lt;=50K</td>\n",
       "      <td>&lt;=50K</td>\n",
       "      <td>&lt;=50K</td>\n",
       "      <td>&gt;50K</td>\n",
       "      <td>&lt;=50K</td>\n",
       "      <td>&lt;=50K</td>\n",
       "    </tr>\n",
       "  </tbody>\n",
       "</table>\n",
       "</div>"
      ],
      "text/plain": [
       "                                 0                   1                   2  \\\n",
       "age                             25                  38                  28   \n",
       "workclass                  Private             Private           Local-gov   \n",
       "fnlwgt                      226802               89814              336951   \n",
       "education                     11th             HS-grad          Assoc-acdm   \n",
       "educational-num                  7                   9                  12   \n",
       "marital-status       Never-married  Married-civ-spouse  Married-civ-spouse   \n",
       "occupation       Machine-op-inspct     Farming-fishing     Protective-serv   \n",
       "relationship             Own-child             Husband             Husband   \n",
       "race                         Black               White               White   \n",
       "gender                        Male                Male                Male   \n",
       "capital-gain                     0                   0                   0   \n",
       "capital-loss                     0                   0                   0   \n",
       "hours-per-week                  40                  50                  40   \n",
       "native-country       United-States       United-States       United-States   \n",
       "income                       <=50K               <=50K                >50K   \n",
       "\n",
       "                                  3              4              5  \\\n",
       "age                              44             18             34   \n",
       "workclass                   Private              ?        Private   \n",
       "fnlwgt                       160323         103497         198693   \n",
       "education              Some-college   Some-college           10th   \n",
       "educational-num                  10             10              6   \n",
       "marital-status   Married-civ-spouse  Never-married  Never-married   \n",
       "occupation        Machine-op-inspct              ?  Other-service   \n",
       "relationship                Husband      Own-child  Not-in-family   \n",
       "race                          Black          White          White   \n",
       "gender                         Male         Female           Male   \n",
       "capital-gain                   7688              0              0   \n",
       "capital-loss                      0              0              0   \n",
       "hours-per-week                   40             30             30   \n",
       "native-country        United-States  United-States  United-States   \n",
       "income                         >50K          <=50K          <=50K   \n",
       "\n",
       "                             6                   7              8  \\\n",
       "age                         29                  63             24   \n",
       "workclass                    ?    Self-emp-not-inc        Private   \n",
       "fnlwgt                  227026              104626         369667   \n",
       "education              HS-grad         Prof-school   Some-college   \n",
       "educational-num              9                  15             10   \n",
       "marital-status   Never-married  Married-civ-spouse  Never-married   \n",
       "occupation                   ?      Prof-specialty  Other-service   \n",
       "relationship         Unmarried             Husband      Unmarried   \n",
       "race                     Black               White          White   \n",
       "gender                    Male                Male         Female   \n",
       "capital-gain                 0                3103              0   \n",
       "capital-loss                 0                   0              0   \n",
       "hours-per-week              40                  32             40   \n",
       "native-country   United-States       United-States  United-States   \n",
       "income                   <=50K                >50K          <=50K   \n",
       "\n",
       "                                  9  \n",
       "age                              55  \n",
       "workclass                   Private  \n",
       "fnlwgt                       104996  \n",
       "education                   7th-8th  \n",
       "educational-num                   4  \n",
       "marital-status   Married-civ-spouse  \n",
       "occupation             Craft-repair  \n",
       "relationship                Husband  \n",
       "race                          White  \n",
       "gender                         Male  \n",
       "capital-gain                      0  \n",
       "capital-loss                      0  \n",
       "hours-per-week                   10  \n",
       "native-country        United-States  \n",
       "income                        <=50K  "
      ]
     },
     "execution_count": 13,
     "metadata": {},
     "output_type": "execute_result"
    }
   ],
   "source": [
    "salary.head(10).T"
   ]
  },
  {
   "cell_type": "markdown",
   "metadata": {},
   "source": [
    "     Quando avaliamos as categorias do gráfico acima da variável workclass encontramos a categoria '?'. \n",
    "     \n",
    "     Não encontramos missings na avaliação inicial das variáveis, mas encontramos esse caracter.\n",
    "     Fazendo uma verificação para as variáveis categoricas.\n",
    "     Encontramos:"
   ]
  },
  {
   "cell_type": "code",
   "execution_count": 14,
   "metadata": {},
   "outputs": [],
   "source": [
    "# code will replace the special character to nan and then drop the columns \n",
    "# salary['workclass'] = salary['workclass'].replace('?',np.nan)\n",
    "# salary['native-country'] =salary['native-country'].replace('?',np.nan)\n",
    "# salary['occupation'] = salary['occupation'].replace('?',np.nan)\n",
    "\n",
    "\n",
    "#dropping the NaN rows now \n",
    "# salary.dropna(how='any',inplace=True)\n"
   ]
  },
  {
   "cell_type": "code",
   "execution_count": 15,
   "metadata": {},
   "outputs": [
    {
     "data": {
      "text/plain": [
       "age                0\n",
       "workclass          0\n",
       "fnlwgt             0\n",
       "education          0\n",
       "educational-num    0\n",
       "marital-status     0\n",
       "occupation         0\n",
       "relationship       0\n",
       "race               0\n",
       "gender             0\n",
       "capital-gain       0\n",
       "capital-loss       0\n",
       "hours-per-week     0\n",
       "native-country     0\n",
       "income             0\n",
       "dtype: int64"
      ]
     },
     "execution_count": 15,
     "metadata": {},
     "output_type": "execute_result"
    }
   ],
   "source": [
    "# Verificando a existencia de valores ausentes(missing)\n",
    "\n",
    "salary.isnull().sum()"
   ]
  },
  {
   "cell_type": "markdown",
   "metadata": {},
   "source": [
    "    Uma opção pode ser excluirmos as observações com missings.\n",
    "    Outra opção é não trabalharmos com essas variáveis\n",
    "    Outra opção é usar o missing como uma opção de categoria  \n",
    "\n",
    "    Optamos pela terceira opção"
   ]
  },
  {
   "cell_type": "code",
   "execution_count": 16,
   "metadata": {},
   "outputs": [
    {
     "data": {
      "text/html": [
       "<div>\n",
       "<style scoped>\n",
       "    .dataframe tbody tr th:only-of-type {\n",
       "        vertical-align: middle;\n",
       "    }\n",
       "\n",
       "    .dataframe tbody tr th {\n",
       "        vertical-align: top;\n",
       "    }\n",
       "\n",
       "    .dataframe thead th {\n",
       "        text-align: right;\n",
       "    }\n",
       "</style>\n",
       "<table border=\"1\" class=\"dataframe\">\n",
       "  <thead>\n",
       "    <tr style=\"text-align: right;\">\n",
       "      <th></th>\n",
       "      <th>count</th>\n",
       "      <th>mean</th>\n",
       "      <th>std</th>\n",
       "      <th>min</th>\n",
       "      <th>25%</th>\n",
       "      <th>50%</th>\n",
       "      <th>75%</th>\n",
       "      <th>max</th>\n",
       "    </tr>\n",
       "  </thead>\n",
       "  <tbody>\n",
       "    <tr>\n",
       "      <th>age</th>\n",
       "      <td>48842.0</td>\n",
       "      <td>38.643585</td>\n",
       "      <td>13.710510</td>\n",
       "      <td>17.0</td>\n",
       "      <td>28.0</td>\n",
       "      <td>37.0</td>\n",
       "      <td>48.0</td>\n",
       "      <td>90.0</td>\n",
       "    </tr>\n",
       "    <tr>\n",
       "      <th>fnlwgt</th>\n",
       "      <td>48842.0</td>\n",
       "      <td>189664.134597</td>\n",
       "      <td>105604.025423</td>\n",
       "      <td>12285.0</td>\n",
       "      <td>117550.5</td>\n",
       "      <td>178144.5</td>\n",
       "      <td>237642.0</td>\n",
       "      <td>1490400.0</td>\n",
       "    </tr>\n",
       "    <tr>\n",
       "      <th>educational-num</th>\n",
       "      <td>48842.0</td>\n",
       "      <td>10.078089</td>\n",
       "      <td>2.570973</td>\n",
       "      <td>1.0</td>\n",
       "      <td>9.0</td>\n",
       "      <td>10.0</td>\n",
       "      <td>12.0</td>\n",
       "      <td>16.0</td>\n",
       "    </tr>\n",
       "    <tr>\n",
       "      <th>capital-gain</th>\n",
       "      <td>48842.0</td>\n",
       "      <td>1079.067626</td>\n",
       "      <td>7452.019058</td>\n",
       "      <td>0.0</td>\n",
       "      <td>0.0</td>\n",
       "      <td>0.0</td>\n",
       "      <td>0.0</td>\n",
       "      <td>99999.0</td>\n",
       "    </tr>\n",
       "    <tr>\n",
       "      <th>capital-loss</th>\n",
       "      <td>48842.0</td>\n",
       "      <td>87.502314</td>\n",
       "      <td>403.004552</td>\n",
       "      <td>0.0</td>\n",
       "      <td>0.0</td>\n",
       "      <td>0.0</td>\n",
       "      <td>0.0</td>\n",
       "      <td>4356.0</td>\n",
       "    </tr>\n",
       "    <tr>\n",
       "      <th>hours-per-week</th>\n",
       "      <td>48842.0</td>\n",
       "      <td>40.422382</td>\n",
       "      <td>12.391444</td>\n",
       "      <td>1.0</td>\n",
       "      <td>40.0</td>\n",
       "      <td>40.0</td>\n",
       "      <td>45.0</td>\n",
       "      <td>99.0</td>\n",
       "    </tr>\n",
       "  </tbody>\n",
       "</table>\n",
       "</div>"
      ],
      "text/plain": [
       "                   count           mean            std      min       25%  \\\n",
       "age              48842.0      38.643585      13.710510     17.0      28.0   \n",
       "fnlwgt           48842.0  189664.134597  105604.025423  12285.0  117550.5   \n",
       "educational-num  48842.0      10.078089       2.570973      1.0       9.0   \n",
       "capital-gain     48842.0    1079.067626    7452.019058      0.0       0.0   \n",
       "capital-loss     48842.0      87.502314     403.004552      0.0       0.0   \n",
       "hours-per-week   48842.0      40.422382      12.391444      1.0      40.0   \n",
       "\n",
       "                      50%       75%        max  \n",
       "age                  37.0      48.0       90.0  \n",
       "fnlwgt           178144.5  237642.0  1490400.0  \n",
       "educational-num      10.0      12.0       16.0  \n",
       "capital-gain          0.0       0.0    99999.0  \n",
       "capital-loss          0.0       0.0     4356.0  \n",
       "hours-per-week       40.0      45.0       99.0  "
      ]
     },
     "execution_count": 16,
     "metadata": {},
     "output_type": "execute_result"
    }
   ],
   "source": [
    "# informações das variaveis quantitativas\n",
    "\n",
    "salary.describe().T"
   ]
  },
  {
   "cell_type": "code",
   "execution_count": 17,
   "metadata": {
    "scrolled": true
   },
   "outputs": [
    {
     "data": {
      "text/plain": [
       "<=50K    76.071823\n",
       ">50K     23.928177\n",
       "Name: income, dtype: float64"
      ]
     },
     "execution_count": 17,
     "metadata": {},
     "output_type": "execute_result"
    }
   ],
   "source": [
    "# Uma variável é a variável target: \"income\" : renda anual \n",
    "\n",
    "salary.income.value_counts()  \n",
    "\n",
    "\n",
    "(salary.income.value_counts() / salary.shape[0]) * 100"
   ]
  },
  {
   "cell_type": "markdown",
   "metadata": {},
   "source": [
    "    A base disponibilizada para realizar o aprendizado apresenta duas classes: <=50K e >50K  \n",
    "\n",
    "    A variável target income está no formato categórica, vamos criar uma nova variável transformando a variável \n",
    "    target em númerica\n",
    "\n",
    "    Há várias opções de fazer essa transformação: vamos usar a função \"map\""
   ]
  },
  {
   "cell_type": "code",
   "execution_count": 18,
   "metadata": {},
   "outputs": [],
   "source": [
    " \n",
    "#mapping the data into numerical data using map function\n",
    "salary['income'] = salary['income'].map({'<=50K': 0, '>50K': 1}).astype(int)"
   ]
  },
  {
   "cell_type": "code",
   "execution_count": 19,
   "metadata": {},
   "outputs": [],
   "source": [
    "# Label Encoding da variável target\n",
    "# from sklearn.preprocessing import LabelEncoder, OneHotEncoder\n",
    "# le=LabelEncoder()\n",
    "# le.fit(salary.income)\n"
   ]
  },
  {
   "cell_type": "code",
   "execution_count": 20,
   "metadata": {},
   "outputs": [
    {
     "data": {
      "text/plain": [
       "0        0\n",
       "1        0\n",
       "2        1\n",
       "3        1\n",
       "4        0\n",
       "        ..\n",
       "48837    0\n",
       "48838    1\n",
       "48839    0\n",
       "48840    0\n",
       "48841    1\n",
       "Name: income, Length: 48842, dtype: int64"
      ]
     },
     "execution_count": 20,
     "metadata": {},
     "output_type": "execute_result"
    }
   ],
   "source": [
    "salary['income']"
   ]
  },
  {
   "cell_type": "code",
   "execution_count": null,
   "metadata": {},
   "outputs": [],
   "source": []
  },
  {
   "cell_type": "code",
   "execution_count": null,
   "metadata": {},
   "outputs": [],
   "source": []
  },
  {
   "cell_type": "markdown",
   "metadata": {},
   "source": [
    "    As análises a seguir sempre usaremos a variável target \"Income\" \n",
    "\n",
    "    Vamos analisar as demais variáveis para selecionar quais são as variáveis preditoras plusíveis para utilizar no algoritmo"
   ]
  },
  {
   "cell_type": "code",
   "execution_count": 21,
   "metadata": {
    "scrolled": true
   },
   "outputs": [
    {
     "data": {
      "image/png": "[encoded data removed]",
      "text/plain": [
       "<Figure size 640x480 with 1 Axes>"
      ]
     },
     "metadata": {},
     "output_type": "display_data"
    }
   ],
   "source": [
    "# Verificando a variável Age\n",
    "\n",
    "sb.histplot(data=salary, x=\"age\");"
   ]
  },
  {
   "cell_type": "markdown",
   "metadata": {},
   "source": [
    "    Quando estamos trabalhando com técnicas supervisionadas precisamos avaliar as variáveis preditoras \n",
    "    sempre verificando sua disribuição separadamente entre as classes."
   ]
  },
  {
   "cell_type": "code",
   "execution_count": 22,
   "metadata": {},
   "outputs": [
    {
     "data": {
      "image/png": "[encoded data removed]",
      "text/plain": [
       "<Figure size 640x480 with 1 Axes>"
      ]
     },
     "metadata": {},
     "output_type": "display_data"
    }
   ],
   "source": [
    "# Variável age(idade)  com a variável target  (Objetivo)\n",
    "import matplotlib.pyplot as plt  \n",
    "sb.boxplot(x='income', y='age', data=salary)\n",
    "plt.title('Distribuição de age por classe da variável target')\n",
    "plt.show()"
   ]
  },
  {
   "cell_type": "code",
   "execution_count": 23,
   "metadata": {},
   "outputs": [],
   "source": [
    "# Transformando a variável \"age\" em  categorias\n",
    "\n",
    "age_cat = []\n",
    "for dados in salary['age']:\n",
    "    if dados <= 30:\n",
    "        age_cat.append('0')\n",
    "    elif dados <= 45:\n",
    "        age_cat.append('1')\n",
    "    else:\n",
    "        age_cat.append(\"2\")#atribuindo a nova variavel ao conjunto de dados\n",
    "salary['age_cat'] = age_cat\n",
    "#resultado\n",
    "salary.head().T\n",
    "# mudar o formato da variável  \n",
    "salary['age_cat'] = salary['age_cat'].astype(int)"
   ]
  },
  {
   "cell_type": "code",
   "execution_count": 24,
   "metadata": {},
   "outputs": [
    {
     "data": {
      "image/png": "[encoded data removed]",
      "text/plain": [
       "<Figure size 600x600 with 1 Axes>"
      ]
     },
     "metadata": {},
     "output_type": "display_data"
    }
   ],
   "source": [
    "# comparison between age_cat and target\n",
    "\n",
    "Age_cat = pd.crosstab(salary['income'],salary['age_cat'])\n",
    "Age_cat.div(Age_cat.sum(1).astype(float), axis=0).plot(kind=\"bar\", stacked=True, figsize=(6, 6));"
   ]
  },
  {
   "cell_type": "markdown",
   "metadata": {},
   "source": [
    "Podemos verificar pelo boxplot acima da  variável idade  por classe que a classe >50K apresenta medidas de posição  superior que as encontradas na classe <50K."
   ]
  },
  {
   "cell_type": "code",
   "execution_count": 25,
   "metadata": {},
   "outputs": [
    {
     "data": {
      "image/png": "[encoded data removed]",
      "text/plain": [
       "<Figure size 640x480 with 1 Axes>"
      ]
     },
     "metadata": {},
     "output_type": "display_data"
    }
   ],
   "source": [
    "#plotting a bar graph for age_cat  against Income to see the co-relation between these columns \n",
    "salary.groupby('age_cat').income.mean().plot(kind='bar');\n"
   ]
  },
  {
   "cell_type": "code",
   "execution_count": 26,
   "metadata": {},
   "outputs": [
    {
     "data": {
      "image/png": "[encoded data removed]",
      "text/plain": [
       "<Figure size 600x600 with 1 Axes>"
      ]
     },
     "metadata": {},
     "output_type": "display_data"
    }
   ],
   "source": [
    "# comparison between Sexo and target\n",
    "\n",
    "Gender = pd.crosstab(salary['income'],salary['gender'])\n",
    "Gender.div(Gender.sum(1).astype(float), axis=0).plot(kind=\"bar\", stacked=True, figsize=(6, 6));"
   ]
  },
  {
   "cell_type": "markdown",
   "metadata": {},
   "source": [
    "Podemos verificar pelo gráfico acima que na classe >50K encontramos maior penetração de indivíduos do sexo masculino, em comparação a classe <=50K."
   ]
  },
  {
   "cell_type": "markdown",
   "metadata": {},
   "source": [
    "Nem todo algoritmo podemos trabalhar com variáveis preditoras categóricas, \n",
    "assim vamos fazer transformações de variáveis: deixando variáveis categóricas em numéricas."
   ]
  },
  {
   "cell_type": "code",
   "execution_count": 27,
   "metadata": {},
   "outputs": [],
   "source": [
    "# Transformando a variável categórica em tipo Dummy\n",
    "\n",
    "#gender\n",
    "salary['Male'] = salary['gender'].map({'Male': 1, 'Female': 0}).astype(int)"
   ]
  },
  {
   "cell_type": "code",
   "execution_count": 28,
   "metadata": {},
   "outputs": [
    {
     "data": {
      "image/png": "[encoded data removed]",
      "text/plain": [
       "<Figure size 640x480 with 1 Axes>"
      ]
     },
     "metadata": {},
     "output_type": "display_data"
    }
   ],
   "source": [
    "#plotting a bar graph for Sex against Income to see the co-relation between these columns \n",
    "salary.groupby('Male').income.mean().plot(kind='bar');"
   ]
  },
  {
   "cell_type": "code",
   "execution_count": 29,
   "metadata": {},
   "outputs": [
    {
     "data": {
      "text/html": [
       "<div>\n",
       "<style scoped>\n",
       "    .dataframe tbody tr th:only-of-type {\n",
       "        vertical-align: middle;\n",
       "    }\n",
       "\n",
       "    .dataframe tbody tr th {\n",
       "        vertical-align: top;\n",
       "    }\n",
       "\n",
       "    .dataframe thead th {\n",
       "        text-align: right;\n",
       "    }\n",
       "</style>\n",
       "<table border=\"1\" class=\"dataframe\">\n",
       "  <thead>\n",
       "    <tr style=\"text-align: right;\">\n",
       "      <th></th>\n",
       "      <th>0</th>\n",
       "      <th>1</th>\n",
       "      <th>2</th>\n",
       "      <th>3</th>\n",
       "      <th>4</th>\n",
       "    </tr>\n",
       "  </thead>\n",
       "  <tbody>\n",
       "    <tr>\n",
       "      <th>age</th>\n",
       "      <td>25</td>\n",
       "      <td>38</td>\n",
       "      <td>28</td>\n",
       "      <td>44</td>\n",
       "      <td>18</td>\n",
       "    </tr>\n",
       "    <tr>\n",
       "      <th>workclass</th>\n",
       "      <td>Private</td>\n",
       "      <td>Private</td>\n",
       "      <td>Local-gov</td>\n",
       "      <td>Private</td>\n",
       "      <td>?</td>\n",
       "    </tr>\n",
       "    <tr>\n",
       "      <th>fnlwgt</th>\n",
       "      <td>226802</td>\n",
       "      <td>89814</td>\n",
       "      <td>336951</td>\n",
       "      <td>160323</td>\n",
       "      <td>103497</td>\n",
       "    </tr>\n",
       "    <tr>\n",
       "      <th>education</th>\n",
       "      <td>11th</td>\n",
       "      <td>HS-grad</td>\n",
       "      <td>Assoc-acdm</td>\n",
       "      <td>Some-college</td>\n",
       "      <td>Some-college</td>\n",
       "    </tr>\n",
       "    <tr>\n",
       "      <th>educational-num</th>\n",
       "      <td>7</td>\n",
       "      <td>9</td>\n",
       "      <td>12</td>\n",
       "      <td>10</td>\n",
       "      <td>10</td>\n",
       "    </tr>\n",
       "    <tr>\n",
       "      <th>marital-status</th>\n",
       "      <td>Never-married</td>\n",
       "      <td>Married-civ-spouse</td>\n",
       "      <td>Married-civ-spouse</td>\n",
       "      <td>Married-civ-spouse</td>\n",
       "      <td>Never-married</td>\n",
       "    </tr>\n",
       "    <tr>\n",
       "      <th>occupation</th>\n",
       "      <td>Machine-op-inspct</td>\n",
       "      <td>Farming-fishing</td>\n",
       "      <td>Protective-serv</td>\n",
       "      <td>Machine-op-inspct</td>\n",
       "      <td>?</td>\n",
       "    </tr>\n",
       "    <tr>\n",
       "      <th>relationship</th>\n",
       "      <td>Own-child</td>\n",
       "      <td>Husband</td>\n",
       "      <td>Husband</td>\n",
       "      <td>Husband</td>\n",
       "      <td>Own-child</td>\n",
       "    </tr>\n",
       "    <tr>\n",
       "      <th>race</th>\n",
       "      <td>Black</td>\n",
       "      <td>White</td>\n",
       "      <td>White</td>\n",
       "      <td>Black</td>\n",
       "      <td>White</td>\n",
       "    </tr>\n",
       "    <tr>\n",
       "      <th>gender</th>\n",
       "      <td>Male</td>\n",
       "      <td>Male</td>\n",
       "      <td>Male</td>\n",
       "      <td>Male</td>\n",
       "      <td>Female</td>\n",
       "    </tr>\n",
       "    <tr>\n",
       "      <th>capital-gain</th>\n",
       "      <td>0</td>\n",
       "      <td>0</td>\n",
       "      <td>0</td>\n",
       "      <td>7688</td>\n",
       "      <td>0</td>\n",
       "    </tr>\n",
       "    <tr>\n",
       "      <th>capital-loss</th>\n",
       "      <td>0</td>\n",
       "      <td>0</td>\n",
       "      <td>0</td>\n",
       "      <td>0</td>\n",
       "      <td>0</td>\n",
       "    </tr>\n",
       "    <tr>\n",
       "      <th>hours-per-week</th>\n",
       "      <td>40</td>\n",
       "      <td>50</td>\n",
       "      <td>40</td>\n",
       "      <td>40</td>\n",
       "      <td>30</td>\n",
       "    </tr>\n",
       "    <tr>\n",
       "      <th>native-country</th>\n",
       "      <td>United-States</td>\n",
       "      <td>United-States</td>\n",
       "      <td>United-States</td>\n",
       "      <td>United-States</td>\n",
       "      <td>United-States</td>\n",
       "    </tr>\n",
       "    <tr>\n",
       "      <th>income</th>\n",
       "      <td>0</td>\n",
       "      <td>0</td>\n",
       "      <td>1</td>\n",
       "      <td>1</td>\n",
       "      <td>0</td>\n",
       "    </tr>\n",
       "    <tr>\n",
       "      <th>age_cat</th>\n",
       "      <td>0</td>\n",
       "      <td>1</td>\n",
       "      <td>0</td>\n",
       "      <td>1</td>\n",
       "      <td>0</td>\n",
       "    </tr>\n",
       "    <tr>\n",
       "      <th>Male</th>\n",
       "      <td>1</td>\n",
       "      <td>1</td>\n",
       "      <td>1</td>\n",
       "      <td>1</td>\n",
       "      <td>0</td>\n",
       "    </tr>\n",
       "  </tbody>\n",
       "</table>\n",
       "</div>"
      ],
      "text/plain": [
       "                                 0                   1                   2  \\\n",
       "age                             25                  38                  28   \n",
       "workclass                  Private             Private           Local-gov   \n",
       "fnlwgt                      226802               89814              336951   \n",
       "education                     11th             HS-grad          Assoc-acdm   \n",
       "educational-num                  7                   9                  12   \n",
       "marital-status       Never-married  Married-civ-spouse  Married-civ-spouse   \n",
       "occupation       Machine-op-inspct     Farming-fishing     Protective-serv   \n",
       "relationship             Own-child             Husband             Husband   \n",
       "race                         Black               White               White   \n",
       "gender                        Male                Male                Male   \n",
       "capital-gain                     0                   0                   0   \n",
       "capital-loss                     0                   0                   0   \n",
       "hours-per-week                  40                  50                  40   \n",
       "native-country       United-States       United-States       United-States   \n",
       "income                           0                   0                   1   \n",
       "age_cat                          0                   1                   0   \n",
       "Male                             1                   1                   1   \n",
       "\n",
       "                                  3              4  \n",
       "age                              44             18  \n",
       "workclass                   Private              ?  \n",
       "fnlwgt                       160323         103497  \n",
       "education              Some-college   Some-college  \n",
       "educational-num                  10             10  \n",
       "marital-status   Married-civ-spouse  Never-married  \n",
       "occupation        Machine-op-inspct              ?  \n",
       "relationship                Husband      Own-child  \n",
       "race                          Black          White  \n",
       "gender                         Male         Female  \n",
       "capital-gain                   7688              0  \n",
       "capital-loss                      0              0  \n",
       "hours-per-week                   40             30  \n",
       "native-country        United-States  United-States  \n",
       "income                            1              0  \n",
       "age_cat                           1              0  \n",
       "Male                              1              0  "
      ]
     },
     "execution_count": 29,
     "metadata": {},
     "output_type": "execute_result"
    }
   ],
   "source": [
    "salary.head().T"
   ]
  },
  {
   "cell_type": "code",
   "execution_count": 30,
   "metadata": {},
   "outputs": [
    {
     "data": {
      "image/png": "[encoded data removed]",
      "text/plain": [
       "<Figure size 1200x1200 with 1 Axes>"
      ]
     },
     "metadata": {},
     "output_type": "display_data"
    }
   ],
   "source": [
    "# comparison between marital-status and target\n",
    "\n",
    "MaritalStatus = pd.crosstab(salary['income'],salary['marital-status'])\n",
    "MaritalStatus.div(MaritalStatus.sum(1).astype(float), axis=0).plot(kind=\"bar\", stacked=True, figsize=(12, 12));"
   ]
  },
  {
   "cell_type": "markdown",
   "metadata": {},
   "source": [
    "Comparando as distribuição das categorias de marital-status entre as duas classes, podemos perceber que na classe >50K há um percentual maior da classe Married-civ-spouse"
   ]
  },
  {
   "cell_type": "code",
   "execution_count": 31,
   "metadata": {},
   "outputs": [],
   "source": [
    "#marital-status\n",
    " \n",
    "# Transformando a variável Estad civil em casado e Não casado\n",
    "\n",
    "salary['Married'] = salary['marital-status'].map({'Married-spouse-absent': 0, 'Widowed': 0, 'Married-civ-spouse': 1, 'Separated': 0, 'Divorced': 0,'Never-married': 0, 'Married-AF-spouse':1}).astype(int)\n"
   ]
  },
  {
   "cell_type": "code",
   "execution_count": 32,
   "metadata": {},
   "outputs": [
    {
     "data": {
      "image/png": "[encoded data removed]",
      "text/plain": [
       "<Figure size 600x600 with 1 Axes>"
      ]
     },
     "metadata": {},
     "output_type": "display_data"
    }
   ],
   "source": [
    "# comparison between marital-status and target\n",
    "\n",
    "MaritalStatus = pd.crosstab(salary['income'],salary['Married'])\n",
    "MaritalStatus.div(MaritalStatus.sum(1).astype(float), axis=0).plot(kind=\"bar\", stacked=True, figsize=(6, 6));"
   ]
  },
  {
   "cell_type": "code",
   "execution_count": 33,
   "metadata": {},
   "outputs": [
    {
     "data": {
      "image/png": "[encoded data removed]",
      "text/plain": [
       "<Figure size 640x480 with 1 Axes>"
      ]
     },
     "metadata": {},
     "output_type": "display_data"
    }
   ],
   "source": [
    "#plotting a bar graph for MaritalStatus  against Income to see the co-relation between these columns \n",
    "salary.groupby('Married').income.mean().plot(kind='bar');\n"
   ]
  },
  {
   "cell_type": "code",
   "execution_count": 34,
   "metadata": {},
   "outputs": [
    {
     "data": {
      "image/png": "[encoded data removed]",
      "text/plain": [
       "<Figure size 800x800 with 1 Axes>"
      ]
     },
     "metadata": {},
     "output_type": "display_data"
    }
   ],
   "source": [
    "# comparison between educational-num  and target\n",
    "\n",
    "Educational= pd.crosstab(salary['income'],salary['educational-num'])\n",
    "Educational.div(Educational.sum(1).astype(float), axis=0).plot(kind=\"bar\", stacked=True, figsize=(8, 8));\n",
    " "
   ]
  },
  {
   "cell_type": "code",
   "execution_count": 35,
   "metadata": {},
   "outputs": [
    {
     "data": {
      "image/png": "[encoded data removed]",
      "text/plain": [
       "<Figure size 640x480 with 1 Axes>"
      ]
     },
     "metadata": {},
     "output_type": "display_data"
    }
   ],
   "source": [
    "#plotting a bar graph for educational-num  against Income to see the co-relation between these columns \n",
    "salary.groupby('educational-num').income.mean().plot(kind='bar');"
   ]
  },
  {
   "cell_type": "markdown",
   "metadata": {},
   "source": [
    "Podemos perceber penetração de renda >50K por categoria de educational-num\n",
    "\n",
    "Vamos criar categorias conforme a força dessa penetração"
   ]
  },
  {
   "cell_type": "code",
   "execution_count": 36,
   "metadata": {},
   "outputs": [],
   "source": [
    "# PRE-PROCESSAMENTO\n",
    "# Vamos utilizar os algoritmos de classificação para prever os resultados, \n",
    "\n",
    "educa_cat = []\n",
    "for dados in salary['educational-num']:\n",
    "    if dados <= 8:\n",
    "        educa_cat.append('0')\n",
    "    elif dados == 9:\n",
    "        educa_cat.append('1')\n",
    "    elif dados <= 12:\n",
    "        educa_cat.append('2')\n",
    "    else:\n",
    "        educa_cat.append(\"3\")#atribuindo a nova variavel ao conjunto de dados\n",
    "salary['educa_cat'] = educa_cat\n",
    "#resultado\n",
    "salary.head().T\n",
    "salary['educa_cat'] = salary['educa_cat'].astype(int)\n",
    "\n"
   ]
  },
  {
   "cell_type": "code",
   "execution_count": null,
   "metadata": {},
   "outputs": [],
   "source": []
  },
  {
   "cell_type": "code",
   "execution_count": 37,
   "metadata": {},
   "outputs": [
    {
     "data": {
      "image/png": "[encoded data removed]",
      "text/plain": [
       "<Figure size 600x600 with 1 Axes>"
      ]
     },
     "metadata": {},
     "output_type": "display_data"
    }
   ],
   "source": [
    "# comparison between educational-num  and target\n",
    "\n",
    "Educational= pd.crosstab(salary['income'],salary['educa_cat'])\n",
    "Educational.div(Educational.sum(1).astype(float), axis=0).plot(kind=\"bar\", stacked=True, figsize=(6, 6));\n",
    " "
   ]
  },
  {
   "cell_type": "code",
   "execution_count": 38,
   "metadata": {},
   "outputs": [
    {
     "data": {
      "image/png": "[encoded data removed]",
      "text/plain": [
       "<Figure size 640x480 with 1 Axes>"
      ]
     },
     "metadata": {},
     "output_type": "display_data"
    }
   ],
   "source": [
    "# plotting a bar graph for educa_cat  against Income to see the co-relation between these columns \n",
    "salary.groupby('educa_cat').income.mean().plot(kind='bar',title='Penetração Renda >50K por escolaridade ');"
   ]
  },
  {
   "cell_type": "code",
   "execution_count": 39,
   "metadata": {},
   "outputs": [
    {
     "data": {
      "image/png": "[encoded data removed]",
      "text/plain": [
       "<Figure size 800x800 with 1 Axes>"
      ]
     },
     "metadata": {},
     "output_type": "display_data"
    }
   ],
   "source": [
    "# comparison between educational-num  and target\n",
    "\n",
    "Occupation= pd.crosstab(salary['income'],salary['occupation'])\n",
    "Occupation.div(Occupation.sum(1).astype(float), axis=0).plot(kind=\"bar\", stacked=True, figsize=(8, 8));\n",
    " "
   ]
  },
  {
   "cell_type": "code",
   "execution_count": 40,
   "metadata": {},
   "outputs": [
    {
     "data": {
      "image/png": "[encoded data removed]",
      "text/plain": [
       "<Figure size 1000x1000 with 1 Axes>"
      ]
     },
     "metadata": {},
     "output_type": "display_data"
    }
   ],
   "source": [
    "# comparison between race  and target\n",
    "\n",
    "Race= pd.crosstab(salary['income'],salary['race'])\n",
    "Race.div(Race.sum(1).astype(float), axis=0).plot(kind=\"bar\", stacked=True, figsize=(10, 10));"
   ]
  },
  {
   "cell_type": "code",
   "execution_count": 41,
   "metadata": {},
   "outputs": [],
   "source": [
    "#race\n",
    "salary['race_white'] =salary['race'].map({'Black': 0, 'Asian-Pac-Islander': 0, 'Other': 0, 'White': 1, 'Amer-Indian-Eskimo': 0}).astype(int)\n"
   ]
  },
  {
   "cell_type": "code",
   "execution_count": 42,
   "metadata": {
    "scrolled": true
   },
   "outputs": [
    {
     "data": {
      "image/png": "[encoded data removed]",
      "text/plain": [
       "<Figure size 600x600 with 1 Axes>"
      ]
     },
     "metadata": {},
     "output_type": "display_data"
    }
   ],
   "source": [
    "# comparison between race_white  and target\n",
    "\n",
    "Race_white= pd.crosstab(salary['income'],salary['race_white'])\n",
    "Race_white.div(Race_white.sum(1).astype(float), axis=0).plot(kind=\"bar\", stacked=True, figsize=(6, 6));"
   ]
  },
  {
   "cell_type": "code",
   "execution_count": 43,
   "metadata": {},
   "outputs": [
    {
     "data": {
      "image/png": "[encoded data removed]",
      "text/plain": [
       "<Figure size 640x480 with 1 Axes>"
      ]
     },
     "metadata": {},
     "output_type": "display_data"
    }
   ],
   "source": [
    "# plotting a bar graph for race against Income to see the co-relation between these columns \n",
    "salary.groupby('race_white').income.mean().plot(kind='bar');"
   ]
  },
  {
   "cell_type": "markdown",
   "metadata": {},
   "source": []
  },
  {
   "cell_type": "code",
   "execution_count": null,
   "metadata": {},
   "outputs": [],
   "source": []
  },
  {
   "cell_type": "code",
   "execution_count": 44,
   "metadata": {},
   "outputs": [
    {
     "name": "stdout",
     "output_type": "stream",
     "text": [
      "<class 'pandas.core.frame.DataFrame'>\n",
      "RangeIndex: 48842 entries, 0 to 48841\n",
      "Data columns (total 20 columns):\n",
      " #   Column           Non-Null Count  Dtype \n",
      "---  ------           --------------  ----- \n",
      " 0   age              48842 non-null  int64 \n",
      " 1   workclass        48842 non-null  object\n",
      " 2   fnlwgt           48842 non-null  int64 \n",
      " 3   education        48842 non-null  object\n",
      " 4   educational-num  48842 non-null  int64 \n",
      " 5   marital-status   48842 non-null  object\n",
      " 6   occupation       48842 non-null  object\n",
      " 7   relationship     48842 non-null  object\n",
      " 8   race             48842 non-null  object\n",
      " 9   gender           48842 non-null  object\n",
      " 10  capital-gain     48842 non-null  int64 \n",
      " 11  capital-loss     48842 non-null  int64 \n",
      " 12  hours-per-week   48842 non-null  int64 \n",
      " 13  native-country   48842 non-null  object\n",
      " 14  income           48842 non-null  int64 \n",
      " 15  age_cat          48842 non-null  int64 \n",
      " 16  Male             48842 non-null  int64 \n",
      " 17  Married          48842 non-null  int64 \n",
      " 18  educa_cat        48842 non-null  int64 \n",
      " 19  race_white       48842 non-null  int64 \n",
      "dtypes: int64(12), object(8)\n",
      "memory usage: 7.5+ MB\n"
     ]
    }
   ],
   "source": [
    "salary.info()"
   ]
  },
  {
   "cell_type": "code",
   "execution_count": 45,
   "metadata": {},
   "outputs": [
    {
     "data": {
      "image/png": "[encoded data removed]",
      "text/plain": [
       "<Figure size 640x480 with 1 Axes>"
      ]
     },
     "metadata": {},
     "output_type": "display_data"
    }
   ],
   "source": [
    "# Variável hours-per-week  com a variável target  (Objetivo)\n",
    "\n",
    "import matplotlib.pyplot as plt  \n",
    "sb.boxplot(x='income', y='hours-per-week', data=salary)\n",
    "plt.title('Distribuição de hours-per-week por classe da variável target')\n",
    "plt.show()"
   ]
  },
  {
   "cell_type": "code",
   "execution_count": 46,
   "metadata": {},
   "outputs": [],
   "source": [
    "horasweek = []\n",
    "for dados in salary['hours-per-week']:\n",
    "    if dados < 40:\n",
    "        horasweek.append('0')\n",
    "    elif dados == 40:\n",
    "        horasweek.append('1')\n",
    "    else:\n",
    "        horasweek.append(\"2\")#atribuindo a nova variavel ao conjunto de dados\n",
    "salary['horasweek'] = horasweek\n",
    "#resultado\n",
    "# mudar o formato da variável  \n",
    "salary['horasweek'] = salary['horasweek'].astype(int)"
   ]
  },
  {
   "cell_type": "code",
   "execution_count": 47,
   "metadata": {},
   "outputs": [
    {
     "data": {
      "image/png": "[encoded data removed]",
      "text/plain": [
       "<Figure size 640x480 with 1 Axes>"
      ]
     },
     "metadata": {},
     "output_type": "display_data"
    }
   ],
   "source": [
    "# plotting a bar graph for race against Income to see the co-relation between these columns \n",
    "salary.groupby('horasweek').income.mean().plot(kind='bar');"
   ]
  },
  {
   "cell_type": "code",
   "execution_count": 48,
   "metadata": {},
   "outputs": [
    {
     "data": {
      "image/png": "[encoded data removed]",
      "text/plain": [
       "<Figure size 640x480 with 1 Axes>"
      ]
     },
     "metadata": {},
     "output_type": "display_data"
    }
   ],
   "source": [
    "\n",
    "# Variável capital-gain  com a variável target  (Objetivo)\n",
    "\n",
    "import matplotlib.pyplot as plt  \n",
    "sb.boxplot(x='income', y='capital-gain', data=salary)\n",
    "plt.title('Distribuição de capital-gain por classe da variável target')\n",
    "plt.show()"
   ]
  },
  {
   "cell_type": "code",
   "execution_count": 49,
   "metadata": {},
   "outputs": [
    {
     "data": {
      "text/plain": [
       "0    91.738668\n",
       "1     8.261332\n",
       "Name: capitalgain, dtype: float64"
      ]
     },
     "execution_count": 49,
     "metadata": {},
     "output_type": "execute_result"
    }
   ],
   "source": [
    "capitalgain = []\n",
    "for dados in salary['capital-gain']:\n",
    "    if dados == 0:\n",
    "        capitalgain.append('0')\n",
    "    else:\n",
    "        capitalgain.append(\"1\")#atribuindo a nova variavel ao conjunto de dados\n",
    "salary['capitalgain'] = capitalgain\n",
    "\n",
    "# se teve ou não ganho de capital\n",
    "(salary.capitalgain.value_counts() / salary.shape[0]) * 100"
   ]
  },
  {
   "cell_type": "code",
   "execution_count": 50,
   "metadata": {},
   "outputs": [
    {
     "data": {
      "image/png": "[encoded data removed]",
      "text/plain": [
       "<Figure size 640x480 with 1 Axes>"
      ]
     },
     "metadata": {},
     "output_type": "display_data"
    }
   ],
   "source": [
    "# plotting a bar graph for race against Income to see the co-relation between these columns \n",
    "salary.groupby('capitalgain').income.mean().plot(kind='bar');"
   ]
  },
  {
   "cell_type": "code",
   "execution_count": null,
   "metadata": {},
   "outputs": [],
   "source": []
  },
  {
   "cell_type": "code",
   "execution_count": 51,
   "metadata": {},
   "outputs": [
    {
     "data": {
      "image/png": "[encoded data removed]",
      "text/plain": [
       "<Figure size 640x480 with 1 Axes>"
      ]
     },
     "metadata": {},
     "output_type": "display_data"
    }
   ],
   "source": [
    "\n",
    "# Variável capital-loss  com a variável target  (Objetivo)\n",
    "\n",
    "import matplotlib.pyplot as plt  \n",
    "sb.boxplot(x='income', y='capital-loss', data=salary)\n",
    "plt.title('Distribuição de capital-loss por classe da variável target')\n",
    "plt.show()"
   ]
  },
  {
   "cell_type": "code",
   "execution_count": 52,
   "metadata": {},
   "outputs": [
    {
     "data": {
      "text/plain": [
       "0    95.327792\n",
       "1     4.672208\n",
       "Name: capitalloss, dtype: float64"
      ]
     },
     "execution_count": 52,
     "metadata": {},
     "output_type": "execute_result"
    }
   ],
   "source": [
    "capitalloss = []\n",
    "for dados in salary['capital-loss']:\n",
    "    if dados == 0:\n",
    "        capitalloss.append('0')\n",
    "    else:\n",
    "        capitalloss.append(\"1\")#atribuindo a nova variavel ao conjunto de dados\n",
    "salary['capitalloss'] = capitalloss\n",
    "#resultado\n",
    "\n",
    "# se teve ou não perda de capital\n",
    "(salary.capitalloss.value_counts() / salary.shape[0]) * 100"
   ]
  },
  {
   "cell_type": "code",
   "execution_count": 53,
   "metadata": {},
   "outputs": [
    {
     "data": {
      "image/png": "[encoded data removed]",
      "text/plain": [
       "<Figure size 640x480 with 1 Axes>"
      ]
     },
     "metadata": {},
     "output_type": "display_data"
    }
   ],
   "source": [
    "# plotting a bar graph for race against Income to see the co-relation between these columns \n",
    "salary.groupby('capitalloss').income.mean().plot(kind='bar');"
   ]
  },
  {
   "cell_type": "code",
   "execution_count": 54,
   "metadata": {},
   "outputs": [
    {
     "data": {
      "text/html": [
       "<div>\n",
       "<style scoped>\n",
       "    .dataframe tbody tr th:only-of-type {\n",
       "        vertical-align: middle;\n",
       "    }\n",
       "\n",
       "    .dataframe tbody tr th {\n",
       "        vertical-align: top;\n",
       "    }\n",
       "\n",
       "    .dataframe thead th {\n",
       "        text-align: right;\n",
       "    }\n",
       "</style>\n",
       "<table border=\"1\" class=\"dataframe\">\n",
       "  <thead>\n",
       "    <tr style=\"text-align: right;\">\n",
       "      <th>capitalloss</th>\n",
       "      <th>0</th>\n",
       "      <th>1</th>\n",
       "    </tr>\n",
       "    <tr>\n",
       "      <th>capitalgain</th>\n",
       "      <th></th>\n",
       "      <th></th>\n",
       "    </tr>\n",
       "  </thead>\n",
       "  <tbody>\n",
       "    <tr>\n",
       "      <th>0</th>\n",
       "      <td>42525.0</td>\n",
       "      <td>2282.0</td>\n",
       "    </tr>\n",
       "    <tr>\n",
       "      <th>1</th>\n",
       "      <td>4035.0</td>\n",
       "      <td>NaN</td>\n",
       "    </tr>\n",
       "  </tbody>\n",
       "</table>\n",
       "</div>"
      ],
      "text/plain": [
       "capitalloss        0       1\n",
       "capitalgain                 \n",
       "0            42525.0  2282.0\n",
       "1             4035.0     NaN"
      ]
     },
     "execution_count": 54,
     "metadata": {},
     "output_type": "execute_result"
    }
   ],
   "source": [
    "check = salary.groupby(['capitalgain', 'capitalloss']).size().unstack(1)\n",
    "check.head(20)"
   ]
  },
  {
   "cell_type": "code",
   "execution_count": 55,
   "metadata": {},
   "outputs": [],
   "source": [
    "# Criar uma variável gainloss no Data Frame, sendo 0 = não ganhou nem perdeu capaital , 1= ganhou ou perdeu \n",
    "salary.loc[((salary.capitalgain =='0') & (salary.capitalloss =='0')),'gainloss']='0'\n",
    "salary.loc[((salary.capitalgain =='1') & (salary.capitalloss =='0')), 'gainloss']='1'\n",
    "salary.loc[((salary.capitalgain =='0') & (salary.capitalloss =='1')), 'gainloss']='1'\n",
    "salary.loc[((salary.capitalgain =='1') & (salary.capitalloss =='1')), 'gainloss']='1'\n",
    "\n",
    "(salary.gainloss.value_counts() / salary.shape[0]) * 100\n",
    "\n",
    "# mudar o formato da variável  \n",
    "salary['gainloss'] = salary['gainloss'].astype(int)"
   ]
  },
  {
   "cell_type": "code",
   "execution_count": 56,
   "metadata": {},
   "outputs": [
    {
     "data": {
      "text/plain": [
       "0    87.066459\n",
       "1    12.933541\n",
       "Name: gainloss, dtype: float64"
      ]
     },
     "execution_count": 56,
     "metadata": {},
     "output_type": "execute_result"
    }
   ],
   "source": [
    "# se teve ou não perda de capital\n",
    "(salary.gainloss.value_counts() / salary.shape[0]) * 100"
   ]
  },
  {
   "cell_type": "code",
   "execution_count": 57,
   "metadata": {},
   "outputs": [
    {
     "data": {
      "image/png": "[encoded data removed]",
      "text/plain": [
       "<Figure size 640x480 with 1 Axes>"
      ]
     },
     "metadata": {},
     "output_type": "display_data"
    }
   ],
   "source": [
    "# plotting a bar graph for race against Income to see the co-relation between these columns \n",
    "salary.groupby('gainloss').income.mean().plot(kind='bar');"
   ]
  },
  {
   "cell_type": "code",
   "execution_count": 58,
   "metadata": {},
   "outputs": [
    {
     "name": "stdout",
     "output_type": "stream",
     "text": [
      "<class 'pandas.core.frame.DataFrame'>\n",
      "RangeIndex: 48842 entries, 0 to 48841\n",
      "Data columns (total 24 columns):\n",
      " #   Column           Non-Null Count  Dtype \n",
      "---  ------           --------------  ----- \n",
      " 0   age              48842 non-null  int64 \n",
      " 1   workclass        48842 non-null  object\n",
      " 2   fnlwgt           48842 non-null  int64 \n",
      " 3   education        48842 non-null  object\n",
      " 4   educational-num  48842 non-null  int64 \n",
      " 5   marital-status   48842 non-null  object\n",
      " 6   occupation       48842 non-null  object\n",
      " 7   relationship     48842 non-null  object\n",
      " 8   race             48842 non-null  object\n",
      " 9   gender           48842 non-null  object\n",
      " 10  capital-gain     48842 non-null  int64 \n",
      " 11  capital-loss     48842 non-null  int64 \n",
      " 12  hours-per-week   48842 non-null  int64 \n",
      " 13  native-country   48842 non-null  object\n",
      " 14  income           48842 non-null  int64 \n",
      " 15  age_cat          48842 non-null  int64 \n",
      " 16  Male             48842 non-null  int64 \n",
      " 17  Married          48842 non-null  int64 \n",
      " 18  educa_cat        48842 non-null  int64 \n",
      " 19  race_white       48842 non-null  int64 \n",
      " 20  horasweek        48842 non-null  int64 \n",
      " 21  capitalgain      48842 non-null  object\n",
      " 22  capitalloss      48842 non-null  object\n",
      " 23  gainloss         48842 non-null  int64 \n",
      "dtypes: int64(14), object(10)\n",
      "memory usage: 8.9+ MB\n"
     ]
    }
   ],
   "source": [
    "#informaoes das variaveis\n",
    "salary.info()"
   ]
  },
  {
   "cell_type": "code",
   "execution_count": 59,
   "metadata": {},
   "outputs": [],
   "source": [
    "#dropping based on uniquiness of data from the dataset \n",
    "# A função Pandas .drop() é usada para remover colunas ou linhas especificadas.\n",
    "# axis=1 representa que pretendemos descartar a própria coluna, \n",
    "# inplace=True é mencionar que estamos substituindo o dataframe original, ou seja, \n",
    "# salary pelo conjunto de dados limpo após descartar as colunas.\n",
    "\n",
    "\n",
    "salary.drop(['fnlwgt','education' ,'educational-num','marital-status','relationship', 'race', 'gender','capital-gain', 'capital-loss', 'hours-per-week', 'native-country','age_cat','capitalgain', 'capitalloss'  ], axis=1, inplace=True)"
   ]
  },
  {
   "cell_type": "code",
   "execution_count": 60,
   "metadata": {},
   "outputs": [
    {
     "name": "stdout",
     "output_type": "stream",
     "text": [
      "<class 'pandas.core.frame.DataFrame'>\n",
      "RangeIndex: 48842 entries, 0 to 48841\n",
      "Data columns (total 10 columns):\n",
      " #   Column      Non-Null Count  Dtype \n",
      "---  ------      --------------  ----- \n",
      " 0   age         48842 non-null  int64 \n",
      " 1   workclass   48842 non-null  object\n",
      " 2   occupation  48842 non-null  object\n",
      " 3   income      48842 non-null  int64 \n",
      " 4   Male        48842 non-null  int64 \n",
      " 5   Married     48842 non-null  int64 \n",
      " 6   educa_cat   48842 non-null  int64 \n",
      " 7   race_white  48842 non-null  int64 \n",
      " 8   horasweek   48842 non-null  int64 \n",
      " 9   gainloss    48842 non-null  int64 \n",
      "dtypes: int64(8), object(2)\n",
      "memory usage: 3.7+ MB\n"
     ]
    }
   ],
   "source": [
    "salary.info()"
   ]
  },
  {
   "cell_type": "markdown",
   "metadata": {},
   "source": [
    "Finalmente temos:\n",
    "\n",
    " Variável Target: Income (classe de renda <=50K e >50K) \n",
    " Variáveis Preditoras: "
   ]
  },
  {
   "cell_type": "code",
   "execution_count": 61,
   "metadata": {},
   "outputs": [
    {
     "ename": "AttributeError",
     "evalue": "'DataFrame' object has no attribute 'marital'",
     "output_type": "error",
     "traceback": [
      "\u001b[0;31m---------------------------------------------------------------------------\u001b[0m",
      "\u001b[0;31mAttributeError\u001b[0m                            Traceback (most recent call last)",
      "\u001b[1;32m/Users/douglasbatista/Documents/fiap/Machine learning II/Notebooks/Base_AdultIncome_Ensemble.ipynb Célula: 83\u001b[0m in \u001b[0;36m<cell line: 4>\u001b[0;34m()\u001b[0m\n\u001b[1;32m      <a href='vscode-notebook-cell:/Users/douglasbatista/Documents/fiap/Machine%20learning%20II/Notebooks/Base_AdultIncome_Ensemble.ipynb#Y145sZmlsZQ%3D%3D?line=1'>2</a>\u001b[0m one_hot_workclass\u001b[39m=\u001b[39mpd\u001b[39m.\u001b[39mget_dummies(salary\u001b[39m.\u001b[39mworkclass)\n\u001b[1;32m      <a href='vscode-notebook-cell:/Users/douglasbatista/Documents/fiap/Machine%20learning%20II/Notebooks/Base_AdultIncome_Ensemble.ipynb#Y145sZmlsZQ%3D%3D?line=2'>3</a>\u001b[0m one_hot_occupation\u001b[39m=\u001b[39mpd\u001b[39m.\u001b[39mget_dummies(salary\u001b[39m.\u001b[39moccupation)\n\u001b[0;32m----> <a href='vscode-notebook-cell:/Users/douglasbatista/Documents/fiap/Machine%20learning%20II/Notebooks/Base_AdultIncome_Ensemble.ipynb#Y145sZmlsZQ%3D%3D?line=3'>4</a>\u001b[0m one_hot_marital_status\u001b[39m=\u001b[39mpd\u001b[39m.\u001b[39mget_dummies(salary\u001b[39m.\u001b[39;49mmarital\u001b[39m-\u001b[39mstatus)\n\u001b[1;32m      <a href='vscode-notebook-cell:/Users/douglasbatista/Documents/fiap/Machine%20learning%20II/Notebooks/Base_AdultIncome_Ensemble.ipynb#Y145sZmlsZQ%3D%3D?line=4'>5</a>\u001b[0m one_hot_relationship\u001b[39m=\u001b[39mpd\u001b[39m.\u001b[39mget_dummies(salary\u001b[39m.\u001b[39mrelationship)   \n\u001b[1;32m      <a href='vscode-notebook-cell:/Users/douglasbatista/Documents/fiap/Machine%20learning%20II/Notebooks/Base_AdultIncome_Ensemble.ipynb#Y145sZmlsZQ%3D%3D?line=5'>6</a>\u001b[0m one_hot_sex\u001b[39m=\u001b[39mpd\u001b[39m.\u001b[39mget_dummies(salary\u001b[39m.\u001b[39mgender)\n",
      "File \u001b[0;32m/opt/anaconda3/envs/CustomEnvironments/lib/python3.8/site-packages/pandas/core/generic.py:5575\u001b[0m, in \u001b[0;36mNDFrame.__getattr__\u001b[0;34m(self, name)\u001b[0m\n\u001b[1;32m   5568\u001b[0m \u001b[39mif\u001b[39;00m (\n\u001b[1;32m   5569\u001b[0m     name \u001b[39mnot\u001b[39;00m \u001b[39min\u001b[39;00m \u001b[39mself\u001b[39m\u001b[39m.\u001b[39m_internal_names_set\n\u001b[1;32m   5570\u001b[0m     \u001b[39mand\u001b[39;00m name \u001b[39mnot\u001b[39;00m \u001b[39min\u001b[39;00m \u001b[39mself\u001b[39m\u001b[39m.\u001b[39m_metadata\n\u001b[1;32m   5571\u001b[0m     \u001b[39mand\u001b[39;00m name \u001b[39mnot\u001b[39;00m \u001b[39min\u001b[39;00m \u001b[39mself\u001b[39m\u001b[39m.\u001b[39m_accessors\n\u001b[1;32m   5572\u001b[0m     \u001b[39mand\u001b[39;00m \u001b[39mself\u001b[39m\u001b[39m.\u001b[39m_info_axis\u001b[39m.\u001b[39m_can_hold_identifiers_and_holds_name(name)\n\u001b[1;32m   5573\u001b[0m ):\n\u001b[1;32m   5574\u001b[0m     \u001b[39mreturn\u001b[39;00m \u001b[39mself\u001b[39m[name]\n\u001b[0;32m-> 5575\u001b[0m \u001b[39mreturn\u001b[39;00m \u001b[39mobject\u001b[39;49m\u001b[39m.\u001b[39;49m\u001b[39m__getattribute__\u001b[39;49m(\u001b[39mself\u001b[39;49m, name)\n",
      "\u001b[0;31mAttributeError\u001b[0m: 'DataFrame' object has no attribute 'marital'"
     ]
    }
   ],
   "source": [
    "#One Hot Encoding  of the Categorical features\n",
    "one_hot_workclass=pd.get_dummies(salary.workclass)\n",
    "one_hot_occupation=pd.get_dummies(salary.occupation)\n",
    "one_hot_marital_status=pd.get_dummies(salary.marital-status)\n",
    "one_hot_relationship=pd.get_dummies(salary.relationship)   \n",
    "one_hot_sex=pd.get_dummies(salary.gender)\n",
    "one_hot_race=pd.get_dummies(salary.race)\n",
    "one_hot_native_country=pd.get_dummies(salary.native-country)\n",
    "one_hot_education=pd.get_dummies(salary.education)   \n"
   ]
  },
  {
   "cell_type": "code",
   "execution_count": null,
   "metadata": {},
   "outputs": [],
   "source": [
    "#salary=pd.concat([salary, one_hot_workclass,one_hot_occupation, one_hot_marital_status,one_hot_occupation,one_hot_sex,one_hot_race,one_hot_native_country, one_hot_education,one_hot_relationship])\n",
    "salary=pd.concat([salary, one_hot_occupation])"
   ]
  },
  {
   "cell_type": "code",
   "execution_count": null,
   "metadata": {},
   "outputs": [],
   "source": [
    "\n",
    "salary"
   ]
  },
  {
   "cell_type": "code",
   "execution_count": null,
   "metadata": {},
   "outputs": [],
   "source": [
    "salary.info()"
   ]
  },
  {
   "cell_type": "code",
   "execution_count": null,
   "metadata": {},
   "outputs": [],
   "source": [
    "\n",
    "salary.head().T\n"
   ]
  },
  {
   "cell_type": "code",
   "execution_count": null,
   "metadata": {},
   "outputs": [],
   "source": [
    "salary.duplicated().sum()\n",
    "salary.drop_duplicates(keep=False, inplace=True)\n",
    "salary.duplicated().sum()\n"
   ]
  },
  {
   "cell_type": "code",
   "execution_count": null,
   "metadata": {},
   "outputs": [],
   "source": []
  },
  {
   "cell_type": "markdown",
   "metadata": {},
   "source": [
    "Agora que chegamos nas variáveis de analise: Variável target income e variáveis preditoras: "
   ]
  },
  {
   "cell_type": "code",
   "execution_count": null,
   "metadata": {},
   "outputs": [],
   "source": [
    "salary.info()\n"
   ]
  },
  {
   "cell_type": "code",
   "execution_count": null,
   "metadata": {},
   "outputs": [],
   "source": [
    "salary.describe().T"
   ]
  },
  {
   "cell_type": "code",
   "execution_count": null,
   "metadata": {},
   "outputs": [],
   "source": [
    "# usando o classificador Naive Bayes CategoricalNB com a variável idade categorica\n",
    "# 1º: Separar o conjunto em variavel resposta e variaveis de treinamento\n",
    " \n",
    "   \n",
    "    \n",
    "X = salary.drop(['income','workclass', 'occupation'], axis=1)\n",
    "\n",
    "\n",
    "y = salary['income']\n",
    "X.shape, y.shape\n"
   ]
  },
  {
   "cell_type": "code",
   "execution_count": null,
   "metadata": {},
   "outputs": [],
   "source": [
    " "
   ]
  },
  {
   "cell_type": "code",
   "execution_count": null,
   "metadata": {},
   "outputs": [],
   "source": [
    "# Separating our data into features dataset (X) e target dataset(y)\n",
    "\n",
    "\n"
   ]
  },
  {
   "cell_type": "code",
   "execution_count": null,
   "metadata": {},
   "outputs": [],
   "source": [
    "X.info()"
   ]
  },
  {
   "cell_type": "code",
   "execution_count": null,
   "metadata": {},
   "outputs": [],
   "source": [
    "print(X)"
   ]
  },
  {
   "cell_type": "code",
   "execution_count": null,
   "metadata": {},
   "outputs": [],
   "source": [
    "print(y)"
   ]
  },
  {
   "cell_type": "code",
   "execution_count": null,
   "metadata": {},
   "outputs": [],
   "source": [
    "# Verificando a existencia de valores ausentes(missing)\n",
    "\n",
    "X.isnull().sum()\n"
   ]
  },
  {
   "cell_type": "code",
   "execution_count": null,
   "metadata": {},
   "outputs": [],
   "source": []
  },
  {
   "cell_type": "code",
   "execution_count": null,
   "metadata": {},
   "outputs": [],
   "source": [
    "y.fillna(y.mode()[0],inplace=True)"
   ]
  },
  {
   "cell_type": "code",
   "execution_count": null,
   "metadata": {},
   "outputs": [],
   "source": [
    "#Split the data into 70% training and 30% testing data\n",
    "#NOTE: We have to split the dependent variables (x) and the target or independent variable (y)\n",
    "X_train, X_test, y_train, y_test = train_test_split(X, y, test_size=0.30, random_state=17)"
   ]
  },
  {
   "cell_type": "markdown",
   "metadata": {},
   "source": [
    "XGBoost"
   ]
  },
  {
   "cell_type": "code",
   "execution_count": null,
   "metadata": {},
   "outputs": [],
   "source": [
    "# Applying XGBoost\n",
    "# The data is stored in a DMatrix object\n",
    "# label is used to define our outcome variable\n",
    "import xgboost as xgb\n",
    "\n",
    "\n",
    "dtrain=xgb.DMatrix(X_train, label=y_train)\n",
    "dtest=xgb.DMatrix(X_test, label=y_test)\n",
    "\n"
   ]
  },
  {
   "cell_type": "code",
   "execution_count": null,
   "metadata": {},
   "outputs": [],
   "source": [
    "# setting parameters for xgboost\n",
    "parameters={'max_depth':5,  'eta':1, 'silente':1, 'objective':'binary:logistic',\n",
    "'eval_matrix': 'auc', 'learning_rate':.05}\n"
   ]
  },
  {
   "cell_type": "code",
   "execution_count": null,
   "metadata": {},
   "outputs": [],
   "source": []
  },
  {
   "cell_type": "code",
   "execution_count": null,
   "metadata": {},
   "outputs": [],
   "source": [
    "# training our model\n",
    "num_round=50\n",
    "from datetime import datetime\n",
    "start = datetime.now()\n",
    "\n",
    "xg=xgb.train(parameters, dtrain, num_round)\n",
    "stop=datetime.now()\n",
    "#Execution time of the model\n",
    "execution_time_xgb = stop-start\n"
   ]
  },
  {
   "cell_type": "code",
   "execution_count": null,
   "metadata": {},
   "outputs": [],
   "source": [
    "#now predicting our model on dataset\n",
    "\n",
    "y_pred =xg.predict(dtest)\n",
    "y_pred.size\n"
   ]
  },
  {
   "cell_type": "code",
   "execution_count": null,
   "metadata": {},
   "outputs": [],
   "source": [
    "# converting probabilities into 1 or 0\n",
    "\n",
    "for i in range(0,14653):\n",
    "      if y_pred[i]>0.5:    #setting threshold to 0.5\n",
    "          y_pred[i]=1\n",
    "      else:\n",
    "           y_pred[i]=0\n"
   ]
  },
  {
   "cell_type": "code",
   "execution_count": null,
   "metadata": {},
   "outputs": [],
   "source": [
    "#calculating accuracy of our model\n",
    "\n",
    "from sklearn.metrics import accuracy_score\n",
    "accuracy_xgb=accuracy_score(y_test,y_pred)\n",
    "accuracy_xgb\n",
    "\n",
    " "
   ]
  },
  {
   "cell_type": "code",
   "execution_count": null,
   "metadata": {},
   "outputs": [],
   "source": [
    "from sklearn.metrics import roc_auc_score\n",
    "#calculating roc_auc for xgboost\n",
    "auc_xgb = roc_auc_score(y_test, y_pred)\n",
    "auc_xgb\n"
   ]
  },
  {
   "cell_type": "code",
   "execution_count": null,
   "metadata": {},
   "outputs": [],
   "source": [
    "from sklearn.metrics import confusion_matrix\n",
    "\n",
    "cm = confusion_matrix(y_pred, y_test)\n",
    "print(cm)"
   ]
  },
  {
   "cell_type": "code",
   "execution_count": null,
   "metadata": {},
   "outputs": [],
   "source": [
    "from sklearn.metrics import classification_report\n",
    "\n",
    "print(classification_report(y_test, y_pred))"
   ]
  },
  {
   "cell_type": "markdown",
   "metadata": {},
   "source": [
    "LightGBM"
   ]
  },
  {
   "cell_type": "code",
   "execution_count": null,
   "metadata": {},
   "outputs": [],
   "source": [
    "#Light GBM\n",
    "train_data=lgb.Dataset(X_train, label=y_train)\n",
    " \n",
    "test_data = lgb.Dataset(X_test, label=y_test)"
   ]
  },
  {
   "cell_type": "code",
   "execution_count": null,
   "metadata": {},
   "outputs": [],
   "source": [
    "train_data"
   ]
  },
  {
   "cell_type": "code",
   "execution_count": null,
   "metadata": {},
   "outputs": [],
   "source": [
    "# setting parameters for Lightgbm\n",
    "params = {'num_leaves':150, #número padrão=31\n",
    "'objective':'binary',\n",
    "'max_depth':7,\n",
    "'learning_rate':.05,\n",
    "'max_bin':200}\n",
    "params['metric'] = ['auc', 'binary_logloss']\n",
    "\n",
    "\n",
    "\n"
   ]
  },
  {
   "cell_type": "code",
   "execution_count": null,
   "metadata": {},
   "outputs": [],
   "source": [
    "\n",
    "params = {\n",
    "    \"max_bin\": 512,\n",
    "    \"learning_rate\": 0.05,\n",
    "    \"boosting_type\": \"gbdt\",\n",
    "    \"objective\": \"binary\",\n",
    "    \"metric\": \"binary_logloss\",\n",
    "    \"num_leaves\": 10,\n",
    "    \"verbose\": -1,\n",
    "    \"min_data\": 100,\n",
    "    \"boost_from_average\": True\n",
    "}\n"
   ]
  },
  {
   "cell_type": "code",
   "execution_count": null,
   "metadata": {},
   "outputs": [],
   "source": [
    "params"
   ]
  },
  {
   "cell_type": "code",
   "execution_count": null,
   "metadata": {},
   "outputs": [],
   "source": []
  },
  {
   "cell_type": "code",
   "execution_count": null,
   "metadata": {},
   "outputs": [],
   "source": [
    "# Where we have set max _depth in xgb and lightGBM to 7  to have a fair comparison between the two.\n",
    "\n",
    "#training our model using LightGBM\n",
    "num_round=50\n",
    "start=datetime.now()\n",
    "model = lgb.train(params, train_data)\n",
    "\n",
    "\n",
    "stop=datetime.now()\n",
    "#execution time of the model\n",
    "execution_time_lgbm=stop-start\n",
    "execution_time_lgbm"
   ]
  },
  {
   "cell_type": "code",
   "execution_count": null,
   "metadata": {},
   "outputs": [],
   "source": [
    "#predicting on test set\n",
    "y_pred2=model.predict(X_test)\n",
    "y_pred2[0:5]  #showing first´s predictions\n"
   ]
  },
  {
   "cell_type": "code",
   "execution_count": null,
   "metadata": {},
   "outputs": [],
   "source": [
    " "
   ]
  },
  {
   "cell_type": "code",
   "execution_count": null,
   "metadata": {},
   "outputs": [],
   "source": [
    "y_pred2.size\n",
    "\n",
    "\n"
   ]
  },
  {
   "cell_type": "code",
   "execution_count": null,
   "metadata": {},
   "outputs": [],
   "source": [
    "#converting probabilities into 0 or 1\n",
    "for i in range(0,14653):\n",
    "      if y_pred2[i]>0.5:    #setting threshold to 0.5\n",
    "          y_pred2[i]=1\n",
    "      else:\n",
    "           y_pred2[i]=0"
   ]
  },
  {
   "cell_type": "code",
   "execution_count": null,
   "metadata": {},
   "outputs": [],
   "source": [
    "#calculating accuracy\n",
    "accuracy_lgbm = accuracy_score(y_pred2,y_test)\n",
    "accuracy_lgbm\n",
    " "
   ]
  },
  {
   "cell_type": "code",
   "execution_count": null,
   "metadata": {},
   "outputs": [],
   "source": [
    "y_test.value_counts()\n"
   ]
  },
  {
   "cell_type": "markdown",
   "metadata": {},
   "source": [
    "Comparing XGBoost x LightGBM\n"
   ]
  },
  {
   "cell_type": "code",
   "execution_count": null,
   "metadata": {},
   "outputs": [],
   "source": [
    "#calculating roc_auc for xgboost\n",
    "auc_lgbm = roc_auc_score(y_test, y_pred2)\n",
    "auc_lgbm"
   ]
  },
  {
   "cell_type": "code",
   "execution_count": null,
   "metadata": {},
   "outputs": [],
   "source": [
    "aux_lgbm = comparison_dct = {'accuracy score': (accuracy_lgbm, accuracy_xgb), 'auc_score':  (auc_lgbm, auc_xgb),'execution_time': (execution_time_lgbm, execution_time_xgb)}\n",
    "\n",
    "aux_lgbm\n"
   ]
  },
  {
   "cell_type": "code",
   "execution_count": null,
   "metadata": {},
   "outputs": [],
   "source": []
  },
  {
   "cell_type": "code",
   "execution_count": null,
   "metadata": {},
   "outputs": [],
   "source": [
    "import pandas as DataFrame\n",
    "\n",
    "\n",
    "# creating a dataset ‘comparison_df’ for comparing of LightGBM e XGB\n",
    "\n",
    "comparison_df = pd.DataFrame(aux_lgbm)\n",
    "comparison_df.index=['LightGBM','XGBBoost']\n",
    "comparison_df"
   ]
  },
  {
   "cell_type": "code",
   "execution_count": null,
   "metadata": {},
   "outputs": [],
   "source": [
    "!pip install shap\n",
    "\n",
    "\n",
    "import shap\n"
   ]
  },
  {
   "cell_type": "code",
   "execution_count": null,
   "metadata": {},
   "outputs": [],
   "source": [
    "explainer = shap.TreeExplainer(model)\n",
    "shap_values = explainer.shap_values(X)"
   ]
  },
  {
   "cell_type": "code",
   "execution_count": null,
   "metadata": {},
   "outputs": [],
   "source": [
    "\n",
    "shap.summary_plot(shap_values, X)"
   ]
  },
  {
   "cell_type": "code",
   "execution_count": null,
   "metadata": {},
   "outputs": [],
   "source": []
  },
  {
   "cell_type": "code",
   "execution_count": null,
   "metadata": {},
   "outputs": [],
   "source": []
  }
 ],
 "metadata": {
  "colab": {
   "name": "Classificação Naive Bayes.ipynb",
   "provenance": []
  },
  "kernelspec": {
   "display_name": "Python 3.8.0 64-bit",
   "language": "python",
   "name": "python3"
  },
  "language_info": {
   "codemirror_mode": {
    "name": "ipython",
    "version": 3
   },
   "file_extension": ".py",
   "mimetype": "text/x-python",
   "name": "python",
   "nbconvert_exporter": "python",
   "pygments_lexer": "ipython3",
   "version": "3.8.0"
  },
  "vscode": {
   "interpreter": {
    "hash": "752579dbebe7f4dfe7c1aa72eac13e23fc88be2cc1ea7ab14e1f8d69b2d97d12"
   }
  }
 },
 "nbformat": 4,
 "nbformat_minor": 1
}
