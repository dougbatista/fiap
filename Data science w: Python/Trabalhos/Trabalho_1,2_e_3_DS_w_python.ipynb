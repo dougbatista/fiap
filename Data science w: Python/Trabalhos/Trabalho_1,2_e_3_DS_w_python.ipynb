{
  "cells": [
    {
      "cell_type": "markdown",
      "metadata": {
        "id": "MpQZwhqaMkuY"
      },
      "source": [
        "# Trabalho 1, 2 e 3"
      ]
    },
    {
      "attachments": {},
      "cell_type": "markdown",
      "metadata": {},
      "source": [
        "As 3 etapas solicitadas foram desenvolvidas através do estudo realizado no dataset https://www.kaggle.com/datasets/whenamancodes/predict-diabities. Por isso, todas as etapas solicitadas nos trabalhos encontram-se em um único Jupyter Notebook.\n",
        "\n",
        "O projeto está dividido em:\n",
        "\n",
        "- Etapa 1 - Análise exploratória\n",
        "- Etapa 2 - Aplicando Regressão logistica e avaliando suas métricas\n",
        "- Etapa 3 - AUTOML com H2O"
      ]
    },
    {
      "cell_type": "markdown",
      "metadata": {
        "id": "yhTAw1a6X1LM"
      },
      "source": [
        "## Etapa 1 - Considerar como trabalho 1"
      ]
    },
    {
      "cell_type": "code",
      "execution_count": 1,
      "metadata": {
        "id": "mtjlnRMlm-16"
      },
      "outputs": [],
      "source": [
        "import pandas as pd\n",
        "import matplotlib.pyplot as plt\n",
        "import seaborn as sns"
      ]
    },
    {
      "cell_type": "code",
      "execution_count": 2,
      "metadata": {
        "id": "MYhsQqiFoNy-"
      },
      "outputs": [],
      "source": [
        "df = pd.read_csv(\"diabetes.csv\")"
      ]
    },
    {
      "cell_type": "code",
      "execution_count": 3,
      "metadata": {
        "colab": {
          "base_uri": "https://localhost:8080/",
          "height": 206
        },
        "id": "kf_knpBToSLW",
        "outputId": "63931918-6422-4d9c-bf6b-f6b1bfaa1c57"
      },
      "outputs": [
        {
          "data": {
            "text/html": [
              "\n",
              "  <div id=\"df-da240725-4af2-4954-b328-3975ada847d5\">\n",
              "    <div class=\"colab-df-container\">\n",
              "      <div>\n",
              "<style scoped>\n",
              "    .dataframe tbody tr th:only-of-type {\n",
              "        vertical-align: middle;\n",
              "    }\n",
              "\n",
              "    .dataframe tbody tr th {\n",
              "        vertical-align: top;\n",
              "    }\n",
              "\n",
              "    .dataframe thead th {\n",
              "        text-align: right;\n",
              "    }\n",
              "</style>\n",
              "<table border=\"1\" class=\"dataframe\">\n",
              "  <thead>\n",
              "    <tr style=\"text-align: right;\">\n",
              "      <th></th>\n",
              "      <th>Pregnancies</th>\n",
              "      <th>Glucose</th>\n",
              "      <th>BloodPressure</th>\n",
              "      <th>SkinThickness</th>\n",
              "      <th>Insulin</th>\n",
              "      <th>BMI</th>\n",
              "      <th>DiabetesPedigreeFunction</th>\n",
              "      <th>Age</th>\n",
              "      <th>Outcome</th>\n",
              "    </tr>\n",
              "  </thead>\n",
              "  <tbody>\n",
              "    <tr>\n",
              "      <th>0</th>\n",
              "      <td>6</td>\n",
              "      <td>148</td>\n",
              "      <td>72</td>\n",
              "      <td>35</td>\n",
              "      <td>0</td>\n",
              "      <td>33.6</td>\n",
              "      <td>0.627</td>\n",
              "      <td>50</td>\n",
              "      <td>1</td>\n",
              "    </tr>\n",
              "    <tr>\n",
              "      <th>1</th>\n",
              "      <td>1</td>\n",
              "      <td>85</td>\n",
              "      <td>66</td>\n",
              "      <td>29</td>\n",
              "      <td>0</td>\n",
              "      <td>26.6</td>\n",
              "      <td>0.351</td>\n",
              "      <td>31</td>\n",
              "      <td>0</td>\n",
              "    </tr>\n",
              "    <tr>\n",
              "      <th>2</th>\n",
              "      <td>8</td>\n",
              "      <td>183</td>\n",
              "      <td>64</td>\n",
              "      <td>0</td>\n",
              "      <td>0</td>\n",
              "      <td>23.3</td>\n",
              "      <td>0.672</td>\n",
              "      <td>32</td>\n",
              "      <td>1</td>\n",
              "    </tr>\n",
              "    <tr>\n",
              "      <th>3</th>\n",
              "      <td>1</td>\n",
              "      <td>89</td>\n",
              "      <td>66</td>\n",
              "      <td>23</td>\n",
              "      <td>94</td>\n",
              "      <td>28.1</td>\n",
              "      <td>0.167</td>\n",
              "      <td>21</td>\n",
              "      <td>0</td>\n",
              "    </tr>\n",
              "    <tr>\n",
              "      <th>4</th>\n",
              "      <td>0</td>\n",
              "      <td>137</td>\n",
              "      <td>40</td>\n",
              "      <td>35</td>\n",
              "      <td>168</td>\n",
              "      <td>43.1</td>\n",
              "      <td>2.288</td>\n",
              "      <td>33</td>\n",
              "      <td>1</td>\n",
              "    </tr>\n",
              "  </tbody>\n",
              "</table>\n",
              "</div>\n",
              "      <button class=\"colab-df-convert\" onclick=\"convertToInteractive('df-da240725-4af2-4954-b328-3975ada847d5')\"\n",
              "              title=\"Convert this dataframe to an interactive table.\"\n",
              "              style=\"display:none;\">\n",
              "        \n",
              "  <svg xmlns=\"http://www.w3.org/2000/svg\" height=\"24px\"viewBox=\"0 0 24 24\"\n",
              "       width=\"24px\">\n",
              "    <path d=\"M0 0h24v24H0V0z\" fill=\"none\"/>\n",
              "    <path d=\"M18.56 5.44l.94 2.06.94-2.06 2.06-.94-2.06-.94-.94-2.06-.94 2.06-2.06.94zm-11 1L8.5 8.5l.94-2.06 2.06-.94-2.06-.94L8.5 2.5l-.94 2.06-2.06.94zm10 10l.94 2.06.94-2.06 2.06-.94-2.06-.94-.94-2.06-.94 2.06-2.06.94z\"/><path d=\"M17.41 7.96l-1.37-1.37c-.4-.4-.92-.59-1.43-.59-.52 0-1.04.2-1.43.59L10.3 9.45l-7.72 7.72c-.78.78-.78 2.05 0 2.83L4 21.41c.39.39.9.59 1.41.59.51 0 1.02-.2 1.41-.59l7.78-7.78 2.81-2.81c.8-.78.8-2.07 0-2.86zM5.41 20L4 18.59l7.72-7.72 1.47 1.35L5.41 20z\"/>\n",
              "  </svg>\n",
              "      </button>\n",
              "      \n",
              "  <style>\n",
              "    .colab-df-container {\n",
              "      display:flex;\n",
              "      flex-wrap:wrap;\n",
              "      gap: 12px;\n",
              "    }\n",
              "\n",
              "    .colab-df-convert {\n",
              "      background-color: #E8F0FE;\n",
              "      border: none;\n",
              "      border-radius: 50%;\n",
              "      cursor: pointer;\n",
              "      display: none;\n",
              "      fill: #1967D2;\n",
              "      height: 32px;\n",
              "      padding: 0 0 0 0;\n",
              "      width: 32px;\n",
              "    }\n",
              "\n",
              "    .colab-df-convert:hover {\n",
              "      background-color: #E2EBFA;\n",
              "      box-shadow: 0px 1px 2px rgba(60, 64, 67, 0.3), 0px 1px 3px 1px rgba(60, 64, 67, 0.15);\n",
              "      fill: #174EA6;\n",
              "    }\n",
              "\n",
              "    [theme=dark] .colab-df-convert {\n",
              "      background-color: #3B4455;\n",
              "      fill: #D2E3FC;\n",
              "    }\n",
              "\n",
              "    [theme=dark] .colab-df-convert:hover {\n",
              "      background-color: #434B5C;\n",
              "      box-shadow: 0px 1px 3px 1px rgba(0, 0, 0, 0.15);\n",
              "      filter: drop-shadow(0px 1px 2px rgba(0, 0, 0, 0.3));\n",
              "      fill: #FFFFFF;\n",
              "    }\n",
              "  </style>\n",
              "\n",
              "      <script>\n",
              "        const buttonEl =\n",
              "          document.querySelector('#df-da240725-4af2-4954-b328-3975ada847d5 button.colab-df-convert');\n",
              "        buttonEl.style.display =\n",
              "          google.colab.kernel.accessAllowed ? 'block' : 'none';\n",
              "\n",
              "        async function convertToInteractive(key) {\n",
              "          const element = document.querySelector('#df-da240725-4af2-4954-b328-3975ada847d5');\n",
              "          const dataTable =\n",
              "            await google.colab.kernel.invokeFunction('convertToInteractive',\n",
              "                                                     [key], {});\n",
              "          if (!dataTable) return;\n",
              "\n",
              "          const docLinkHtml = 'Like what you see? Visit the ' +\n",
              "            '<a target=\"_blank\" href=https://colab.research.google.com/notebooks/data_table.ipynb>data table notebook</a>'\n",
              "            + ' to learn more about interactive tables.';\n",
              "          element.innerHTML = '';\n",
              "          dataTable['output_type'] = 'display_data';\n",
              "          await google.colab.output.renderOutput(dataTable, element);\n",
              "          const docLink = document.createElement('div');\n",
              "          docLink.innerHTML = docLinkHtml;\n",
              "          element.appendChild(docLink);\n",
              "        }\n",
              "      </script>\n",
              "    </div>\n",
              "  </div>\n",
              "  "
            ],
            "text/plain": [
              "   Pregnancies  Glucose  BloodPressure  SkinThickness  Insulin   BMI  \\\n",
              "0            6      148             72             35        0  33.6   \n",
              "1            1       85             66             29        0  26.6   \n",
              "2            8      183             64              0        0  23.3   \n",
              "3            1       89             66             23       94  28.1   \n",
              "4            0      137             40             35      168  43.1   \n",
              "\n",
              "   DiabetesPedigreeFunction  Age  Outcome  \n",
              "0                     0.627   50        1  \n",
              "1                     0.351   31        0  \n",
              "2                     0.672   32        1  \n",
              "3                     0.167   21        0  \n",
              "4                     2.288   33        1  "
            ]
          },
          "execution_count": 3,
          "metadata": {},
          "output_type": "execute_result"
        }
      ],
      "source": [
        "df.head()"
      ]
    },
    {
      "cell_type": "markdown",
      "metadata": {
        "id": "6_dGao3XI0E1"
      },
      "source": [
        "### Dicionário de dados"
      ]
    },
    {
      "cell_type": "markdown",
      "metadata": {
        "id": "l3Pm0mgwJGzJ"
      },
      "source": [
        "\n",
        "| Colunas  | Descrição|\n",
        "|---|---|\n",
        "| Pregnancies  |  Expressa a quantidade de gravidez |\n",
        "| Glucose  |  Para expressar o nível de glicose no sangue |\n",
        "| BloodPressure  | Para expressar a medição da pressão arterial  |\n",
        "| SkinThickness  | Para expressar a espessura da pele |\n",
        "| Insulin | Para expressar o nível de insulina no sangue |\n",
        "| BMI | Para expressar o índice de massa corporal |\n",
        "| DiabetesPedigreeFunction | Para expressar a porcentagem de Diabetes |\n",
        "| Age | Para expressar a idade |\n",
        "| Outcome | Para expressar o resultado final onde 1 é Sim e 0 é Não |\n",
        "\n",
        "\n"
      ]
    },
    {
      "cell_type": "markdown",
      "metadata": {
        "id": "3rvQAAuNLKEt"
      },
      "source": [
        "### Análise descritiva"
      ]
    },
    {
      "cell_type": "code",
      "execution_count": 4,
      "metadata": {
        "colab": {
          "base_uri": "https://localhost:8080/",
          "height": 0
        },
        "id": "GP9Roo7boa9N",
        "outputId": "dca0a1bc-91c1-4642-ed43-308c351641a2"
      },
      "outputs": [
        {
          "name": "stdout",
          "output_type": "stream",
          "text": [
            "<class 'pandas.core.frame.DataFrame'>\n",
            "RangeIndex: 768 entries, 0 to 767\n",
            "Data columns (total 9 columns):\n",
            " #   Column                    Non-Null Count  Dtype  \n",
            "---  ------                    --------------  -----  \n",
            " 0   Pregnancies               768 non-null    int64  \n",
            " 1   Glucose                   768 non-null    int64  \n",
            " 2   BloodPressure             768 non-null    int64  \n",
            " 3   SkinThickness             768 non-null    int64  \n",
            " 4   Insulin                   768 non-null    int64  \n",
            " 5   BMI                       768 non-null    float64\n",
            " 6   DiabetesPedigreeFunction  768 non-null    float64\n",
            " 7   Age                       768 non-null    int64  \n",
            " 8   Outcome                   768 non-null    int64  \n",
            "dtypes: float64(2), int64(7)\n",
            "memory usage: 54.1 KB\n"
          ]
        }
      ],
      "source": [
        "df.info()"
      ]
    },
    {
      "cell_type": "code",
      "execution_count": 5,
      "metadata": {
        "colab": {
          "base_uri": "https://localhost:8080/",
          "height": 344
        },
        "id": "-MfhjTzLoeiy",
        "outputId": "853fc488-9dce-4703-9797-0af813c3be0a"
      },
      "outputs": [
        {
          "data": {
            "text/html": [
              "\n",
              "  <div id=\"df-af8134b1-8483-494e-9b7b-ee4a3a0399e2\">\n",
              "    <div class=\"colab-df-container\">\n",
              "      <div>\n",
              "<style scoped>\n",
              "    .dataframe tbody tr th:only-of-type {\n",
              "        vertical-align: middle;\n",
              "    }\n",
              "\n",
              "    .dataframe tbody tr th {\n",
              "        vertical-align: top;\n",
              "    }\n",
              "\n",
              "    .dataframe thead th {\n",
              "        text-align: right;\n",
              "    }\n",
              "</style>\n",
              "<table border=\"1\" class=\"dataframe\">\n",
              "  <thead>\n",
              "    <tr style=\"text-align: right;\">\n",
              "      <th></th>\n",
              "      <th>Pregnancies</th>\n",
              "      <th>Glucose</th>\n",
              "      <th>BloodPressure</th>\n",
              "      <th>SkinThickness</th>\n",
              "      <th>Insulin</th>\n",
              "      <th>BMI</th>\n",
              "      <th>DiabetesPedigreeFunction</th>\n",
              "      <th>Age</th>\n",
              "      <th>Outcome</th>\n",
              "    </tr>\n",
              "  </thead>\n",
              "  <tbody>\n",
              "    <tr>\n",
              "      <th>count</th>\n",
              "      <td>768.000000</td>\n",
              "      <td>768.000000</td>\n",
              "      <td>768.000000</td>\n",
              "      <td>768.000000</td>\n",
              "      <td>768.000000</td>\n",
              "      <td>768.000000</td>\n",
              "      <td>768.000000</td>\n",
              "      <td>768.000000</td>\n",
              "      <td>768.000000</td>\n",
              "    </tr>\n",
              "    <tr>\n",
              "      <th>mean</th>\n",
              "      <td>3.845052</td>\n",
              "      <td>120.894531</td>\n",
              "      <td>69.105469</td>\n",
              "      <td>20.536458</td>\n",
              "      <td>79.799479</td>\n",
              "      <td>31.992578</td>\n",
              "      <td>0.471876</td>\n",
              "      <td>33.240885</td>\n",
              "      <td>0.348958</td>\n",
              "    </tr>\n",
              "    <tr>\n",
              "      <th>std</th>\n",
              "      <td>3.369578</td>\n",
              "      <td>31.972618</td>\n",
              "      <td>19.355807</td>\n",
              "      <td>15.952218</td>\n",
              "      <td>115.244002</td>\n",
              "      <td>7.884160</td>\n",
              "      <td>0.331329</td>\n",
              "      <td>11.760232</td>\n",
              "      <td>0.476951</td>\n",
              "    </tr>\n",
              "    <tr>\n",
              "      <th>min</th>\n",
              "      <td>0.000000</td>\n",
              "      <td>0.000000</td>\n",
              "      <td>0.000000</td>\n",
              "      <td>0.000000</td>\n",
              "      <td>0.000000</td>\n",
              "      <td>0.000000</td>\n",
              "      <td>0.078000</td>\n",
              "      <td>21.000000</td>\n",
              "      <td>0.000000</td>\n",
              "    </tr>\n",
              "    <tr>\n",
              "      <th>25%</th>\n",
              "      <td>1.000000</td>\n",
              "      <td>99.000000</td>\n",
              "      <td>62.000000</td>\n",
              "      <td>0.000000</td>\n",
              "      <td>0.000000</td>\n",
              "      <td>27.300000</td>\n",
              "      <td>0.243750</td>\n",
              "      <td>24.000000</td>\n",
              "      <td>0.000000</td>\n",
              "    </tr>\n",
              "    <tr>\n",
              "      <th>50%</th>\n",
              "      <td>3.000000</td>\n",
              "      <td>117.000000</td>\n",
              "      <td>72.000000</td>\n",
              "      <td>23.000000</td>\n",
              "      <td>30.500000</td>\n",
              "      <td>32.000000</td>\n",
              "      <td>0.372500</td>\n",
              "      <td>29.000000</td>\n",
              "      <td>0.000000</td>\n",
              "    </tr>\n",
              "    <tr>\n",
              "      <th>75%</th>\n",
              "      <td>6.000000</td>\n",
              "      <td>140.250000</td>\n",
              "      <td>80.000000</td>\n",
              "      <td>32.000000</td>\n",
              "      <td>127.250000</td>\n",
              "      <td>36.600000</td>\n",
              "      <td>0.626250</td>\n",
              "      <td>41.000000</td>\n",
              "      <td>1.000000</td>\n",
              "    </tr>\n",
              "    <tr>\n",
              "      <th>max</th>\n",
              "      <td>17.000000</td>\n",
              "      <td>199.000000</td>\n",
              "      <td>122.000000</td>\n",
              "      <td>99.000000</td>\n",
              "      <td>846.000000</td>\n",
              "      <td>67.100000</td>\n",
              "      <td>2.420000</td>\n",
              "      <td>81.000000</td>\n",
              "      <td>1.000000</td>\n",
              "    </tr>\n",
              "  </tbody>\n",
              "</table>\n",
              "</div>\n",
              "      <button class=\"colab-df-convert\" onclick=\"convertToInteractive('df-af8134b1-8483-494e-9b7b-ee4a3a0399e2')\"\n",
              "              title=\"Convert this dataframe to an interactive table.\"\n",
              "              style=\"display:none;\">\n",
              "        \n",
              "  <svg xmlns=\"http://www.w3.org/2000/svg\" height=\"24px\"viewBox=\"0 0 24 24\"\n",
              "       width=\"24px\">\n",
              "    <path d=\"M0 0h24v24H0V0z\" fill=\"none\"/>\n",
              "    <path d=\"M18.56 5.44l.94 2.06.94-2.06 2.06-.94-2.06-.94-.94-2.06-.94 2.06-2.06.94zm-11 1L8.5 8.5l.94-2.06 2.06-.94-2.06-.94L8.5 2.5l-.94 2.06-2.06.94zm10 10l.94 2.06.94-2.06 2.06-.94-2.06-.94-.94-2.06-.94 2.06-2.06.94z\"/><path d=\"M17.41 7.96l-1.37-1.37c-.4-.4-.92-.59-1.43-.59-.52 0-1.04.2-1.43.59L10.3 9.45l-7.72 7.72c-.78.78-.78 2.05 0 2.83L4 21.41c.39.39.9.59 1.41.59.51 0 1.02-.2 1.41-.59l7.78-7.78 2.81-2.81c.8-.78.8-2.07 0-2.86zM5.41 20L4 18.59l7.72-7.72 1.47 1.35L5.41 20z\"/>\n",
              "  </svg>\n",
              "      </button>\n",
              "      \n",
              "  <style>\n",
              "    .colab-df-container {\n",
              "      display:flex;\n",
              "      flex-wrap:wrap;\n",
              "      gap: 12px;\n",
              "    }\n",
              "\n",
              "    .colab-df-convert {\n",
              "      background-color: #E8F0FE;\n",
              "      border: none;\n",
              "      border-radius: 50%;\n",
              "      cursor: pointer;\n",
              "      display: none;\n",
              "      fill: #1967D2;\n",
              "      height: 32px;\n",
              "      padding: 0 0 0 0;\n",
              "      width: 32px;\n",
              "    }\n",
              "\n",
              "    .colab-df-convert:hover {\n",
              "      background-color: #E2EBFA;\n",
              "      box-shadow: 0px 1px 2px rgba(60, 64, 67, 0.3), 0px 1px 3px 1px rgba(60, 64, 67, 0.15);\n",
              "      fill: #174EA6;\n",
              "    }\n",
              "\n",
              "    [theme=dark] .colab-df-convert {\n",
              "      background-color: #3B4455;\n",
              "      fill: #D2E3FC;\n",
              "    }\n",
              "\n",
              "    [theme=dark] .colab-df-convert:hover {\n",
              "      background-color: #434B5C;\n",
              "      box-shadow: 0px 1px 3px 1px rgba(0, 0, 0, 0.15);\n",
              "      filter: drop-shadow(0px 1px 2px rgba(0, 0, 0, 0.3));\n",
              "      fill: #FFFFFF;\n",
              "    }\n",
              "  </style>\n",
              "\n",
              "      <script>\n",
              "        const buttonEl =\n",
              "          document.querySelector('#df-af8134b1-8483-494e-9b7b-ee4a3a0399e2 button.colab-df-convert');\n",
              "        buttonEl.style.display =\n",
              "          google.colab.kernel.accessAllowed ? 'block' : 'none';\n",
              "\n",
              "        async function convertToInteractive(key) {\n",
              "          const element = document.querySelector('#df-af8134b1-8483-494e-9b7b-ee4a3a0399e2');\n",
              "          const dataTable =\n",
              "            await google.colab.kernel.invokeFunction('convertToInteractive',\n",
              "                                                     [key], {});\n",
              "          if (!dataTable) return;\n",
              "\n",
              "          const docLinkHtml = 'Like what you see? Visit the ' +\n",
              "            '<a target=\"_blank\" href=https://colab.research.google.com/notebooks/data_table.ipynb>data table notebook</a>'\n",
              "            + ' to learn more about interactive tables.';\n",
              "          element.innerHTML = '';\n",
              "          dataTable['output_type'] = 'display_data';\n",
              "          await google.colab.output.renderOutput(dataTable, element);\n",
              "          const docLink = document.createElement('div');\n",
              "          docLink.innerHTML = docLinkHtml;\n",
              "          element.appendChild(docLink);\n",
              "        }\n",
              "      </script>\n",
              "    </div>\n",
              "  </div>\n",
              "  "
            ],
            "text/plain": [
              "       Pregnancies     Glucose  BloodPressure  SkinThickness     Insulin  \\\n",
              "count   768.000000  768.000000     768.000000     768.000000  768.000000   \n",
              "mean      3.845052  120.894531      69.105469      20.536458   79.799479   \n",
              "std       3.369578   31.972618      19.355807      15.952218  115.244002   \n",
              "min       0.000000    0.000000       0.000000       0.000000    0.000000   \n",
              "25%       1.000000   99.000000      62.000000       0.000000    0.000000   \n",
              "50%       3.000000  117.000000      72.000000      23.000000   30.500000   \n",
              "75%       6.000000  140.250000      80.000000      32.000000  127.250000   \n",
              "max      17.000000  199.000000     122.000000      99.000000  846.000000   \n",
              "\n",
              "              BMI  DiabetesPedigreeFunction         Age     Outcome  \n",
              "count  768.000000                768.000000  768.000000  768.000000  \n",
              "mean    31.992578                  0.471876   33.240885    0.348958  \n",
              "std      7.884160                  0.331329   11.760232    0.476951  \n",
              "min      0.000000                  0.078000   21.000000    0.000000  \n",
              "25%     27.300000                  0.243750   24.000000    0.000000  \n",
              "50%     32.000000                  0.372500   29.000000    0.000000  \n",
              "75%     36.600000                  0.626250   41.000000    1.000000  \n",
              "max     67.100000                  2.420000   81.000000    1.000000  "
            ]
          },
          "execution_count": 5,
          "metadata": {},
          "output_type": "execute_result"
        }
      ],
      "source": [
        "df.describe()"
      ]
    },
    {
      "cell_type": "markdown",
      "metadata": {
        "id": "Id0LBtw6YaHi"
      },
      "source": [
        "Importante notar os valores das estatísticas min, mediana (50%) e max de cada variável independente para encontrar dispersões muito grandes e/ou outliers."
      ]
    },
    {
      "cell_type": "code",
      "execution_count": 6,
      "metadata": {
        "colab": {
          "base_uri": "https://localhost:8080/",
          "height": 280
        },
        "id": "pIN6AZGYvU54",
        "outputId": "3e077bd9-0b49-4d22-8156-b06fa3a73889"
      },
      "outputs": [
        {
          "data": {
            "text/plain": [
              "<matplotlib.axes._subplots.AxesSubplot at 0x7f178e9a6220>"
            ]
          },
          "execution_count": 6,
          "metadata": {},
          "output_type": "execute_result"
        },
        {
          "data": {
            "image/png": "[encoded data removed]",
            "text/plain": [
              "<Figure size 432x288 with 1 Axes>"
            ]
          },
          "metadata": {
            "needs_background": "light"
          },
          "output_type": "display_data"
        }
      ],
      "source": [
        "df.Outcome.value_counts().plot.bar()"
      ]
    },
    {
      "attachments": {},
      "cell_type": "markdown",
      "metadata": {
        "id": "iTvNwXhbdJk0"
      },
      "source": [
        "Conforme demonstrado no plot acima, as classes estão desbalanceadas, podendo gerar predições pobres para a classe que está em menor quantidade."
      ]
    },
    {
      "cell_type": "markdown",
      "metadata": {
        "id": "i8u3TfnKIaed"
      },
      "source": [
        "#### Análise dos histogramas"
      ]
    },
    {
      "cell_type": "code",
      "execution_count": 7,
      "metadata": {
        "colab": {
          "base_uri": "https://localhost:8080/",
          "height": 895
        },
        "id": "VEg0tp87oYv5",
        "outputId": "9b89d9fa-0085-41b5-f3b4-020de32d6ef6"
      },
      "outputs": [
        {
          "data": {
            "text/plain": [
              "array([[<matplotlib.axes._subplots.AxesSubplot object at 0x7f178e8e9070>,\n",
              "        <matplotlib.axes._subplots.AxesSubplot object at 0x7f178e444850>,\n",
              "        <matplotlib.axes._subplots.AxesSubplot object at 0x7f178e472c70>],\n",
              "       [<matplotlib.axes._subplots.AxesSubplot object at 0x7f178e421100>,\n",
              "        <matplotlib.axes._subplots.AxesSubplot object at 0x7f178e3db490>,\n",
              "        <matplotlib.axes._subplots.AxesSubplot object at 0x7f178e3897f0>],\n",
              "       [<matplotlib.axes._subplots.AxesSubplot object at 0x7f178e3898e0>,\n",
              "        <matplotlib.axes._subplots.AxesSubplot object at 0x7f178e3b8d60>,\n",
              "        <matplotlib.axes._subplots.AxesSubplot object at 0x7f178e320550>]],\n",
              "      dtype=object)"
            ]
          },
          "execution_count": 7,
          "metadata": {},
          "output_type": "execute_result"
        },
        {
          "data": {
            "image/png": "[encoded data removed]",
            "text/plain": [
              "<Figure size 936x864 with 9 Axes>"
            ]
          },
          "metadata": {
            "needs_background": "light"
          },
          "output_type": "display_data"
        }
      ],
      "source": [
        "df.hist(figsize=(13, 12))"
      ]
    },
    {
      "cell_type": "markdown",
      "metadata": {
        "id": "21HLUWswWAIG"
      },
      "source": [
        "Distribuições que se aproximam de uma normal"
      ]
    },
    {
      "cell_type": "code",
      "execution_count": 8,
      "metadata": {
        "colab": {
          "base_uri": "https://localhost:8080/",
          "height": 297
        },
        "id": "oLYSd2JCVFZP",
        "outputId": "4739a6b7-c4e9-4187-b5ce-c21ba62849ef"
      },
      "outputs": [
        {
          "data": {
            "text/plain": [
              "<matplotlib.axes._subplots.AxesSubplot at 0x7f178e1e5100>"
            ]
          },
          "execution_count": 8,
          "metadata": {},
          "output_type": "execute_result"
        },
        {
          "data": {
            "image/png": "[encoded data removed]",
            "text/plain": [
              "<Figure size 432x288 with 1 Axes>"
            ]
          },
          "metadata": {
            "needs_background": "light"
          },
          "output_type": "display_data"
        }
      ],
      "source": [
        "sns.histplot(data=df, x=\"BMI\")"
      ]
    },
    {
      "cell_type": "code",
      "execution_count": 9,
      "metadata": {
        "colab": {
          "base_uri": "https://localhost:8080/",
          "height": 297
        },
        "id": "GQFJALUJVvwP",
        "outputId": "639c8b78-db0f-4128-a991-9e494489d7b8"
      },
      "outputs": [
        {
          "data": {
            "text/plain": [
              "<matplotlib.axes._subplots.AxesSubplot at 0x7f178dfc3b80>"
            ]
          },
          "execution_count": 9,
          "metadata": {},
          "output_type": "execute_result"
        },
        {
          "data": {
            "image/png": "[encoded data removed]",
            "text/plain": [
              "<Figure size 432x288 with 1 Axes>"
            ]
          },
          "metadata": {
            "needs_background": "light"
          },
          "output_type": "display_data"
        }
      ],
      "source": [
        "sns.histplot(data=df, x=\"BloodPressure\")"
      ]
    },
    {
      "cell_type": "code",
      "execution_count": 10,
      "metadata": {
        "colab": {
          "base_uri": "https://localhost:8080/",
          "height": 297
        },
        "id": "yL65FP_jWH45",
        "outputId": "846eb095-52ed-4753-fcea-ffccb0250784"
      },
      "outputs": [
        {
          "data": {
            "text/plain": [
              "<matplotlib.axes._subplots.AxesSubplot at 0x7f178df17970>"
            ]
          },
          "execution_count": 10,
          "metadata": {},
          "output_type": "execute_result"
        },
        {
          "data": {
            "image/png": "[encoded data removed]",
            "text/plain": [
              "<Figure size 432x288 with 1 Axes>"
            ]
          },
          "metadata": {
            "needs_background": "light"
          },
          "output_type": "display_data"
        }
      ],
      "source": [
        "sns.histplot(data=df, x=\"Glucose\")"
      ]
    },
    {
      "cell_type": "markdown",
      "metadata": {
        "id": "9FuQV0YlIiLu"
      },
      "source": [
        "#### BOXPLOTS PARA ANÁLISE DE DISPERSÃO"
      ]
    },
    {
      "cell_type": "code",
      "execution_count": 11,
      "metadata": {
        "colab": {
          "base_uri": "https://localhost:8080/",
          "height": 558
        },
        "id": "E6I9cpTLEudu",
        "outputId": "d88a0297-f05d-4309-dd68-84852859da4d"
      },
      "outputs": [
        {
          "data": {
            "image/png": "[encoded data removed]",
            "text/plain": [
              "<Figure size 1152x576 with 9 Axes>"
            ]
          },
          "metadata": {
            "needs_background": "light"
          },
          "output_type": "display_data"
        }
      ],
      "source": [
        "plt.figure(figsize=(16 , 8))\n",
        "for i, col in enumerate(df.columns):\n",
        "    plt.subplot(3, 3, i + 1)\n",
        "    df.boxplot(col)\n",
        "    plt.tight_layout()"
      ]
    },
    {
      "attachments": {},
      "cell_type": "markdown",
      "metadata": {
        "id": "jhCcvM8EWrFa"
      },
      "source": [
        "Os boxplots acima mostram a variabilidade dos dados"
      ]
    },
    {
      "cell_type": "markdown",
      "metadata": {
        "id": "WkEC6IdgIlca"
      },
      "source": [
        "#### Correlação"
      ]
    },
    {
      "cell_type": "code",
      "execution_count": 12,
      "metadata": {
        "id": "2o6SwLp6E66O"
      },
      "outputs": [],
      "source": [
        "corr = df.corr()"
      ]
    },
    {
      "cell_type": "code",
      "execution_count": 13,
      "metadata": {
        "colab": {
          "base_uri": "https://localhost:8080/",
          "height": 685
        },
        "id": "yVtZenb1E_re",
        "outputId": "50ffb3d7-1e05-47e2-aee6-2e75b45d11c8"
      },
      "outputs": [
        {
          "data": {
            "text/plain": [
              "<matplotlib.axes._subplots.AxesSubplot at 0x7f178dee4e80>"
            ]
          },
          "execution_count": 13,
          "metadata": {},
          "output_type": "execute_result"
        },
        {
          "data": {
            "image/png": "[encoded data removed]",
            "text/plain": [
              "<Figure size 720x720 with 2 Axes>"
            ]
          },
          "metadata": {
            "needs_background": "light"
          },
          "output_type": "display_data"
        }
      ],
      "source": [
        "plt.figure(figsize=(10,10))\n",
        "sns.heatmap(corr, vmax=1, square=True,annot=True,cmap='inferno')"
      ]
    },
    {
      "cell_type": "code",
      "execution_count": 14,
      "metadata": {
        "id": "7oXiBrcLxNgb"
      },
      "outputs": [],
      "source": [
        "important_features = [\"Age\", \"BMI\", \"Glucose\", \"Pregnancies\", \"DiabetesPedigreeFunction\"]"
      ]
    },
    {
      "cell_type": "markdown",
      "metadata": {
        "id": "sDlkrEtnI4Qp"
      },
      "source": [
        " #### Verificando as disribuições das preditoras separadamente entre as classes"
      ]
    },
    {
      "cell_type": "code",
      "execution_count": 15,
      "metadata": {
        "colab": {
          "base_uri": "https://localhost:8080/",
          "height": 279
        },
        "id": "UE_tJ-6mFhV2",
        "outputId": "7db59872-01d0-4e81-aa07-b7834d9b8c04"
      },
      "outputs": [
        {
          "data": {
            "image/png": "[encoded data removed]",
            "text/plain": [
              "<Figure size 432x288 with 1 Axes>"
            ]
          },
          "metadata": {
            "needs_background": "light"
          },
          "output_type": "display_data"
        }
      ],
      "source": [
        "sns.boxplot(x='Outcome', y='Age', data=df)\n",
        "plt.show()"
      ]
    },
    {
      "cell_type": "code",
      "execution_count": 16,
      "metadata": {
        "colab": {
          "base_uri": "https://localhost:8080/",
          "height": 279
        },
        "id": "xmI4g5gCIRrv",
        "outputId": "9f2020d1-af85-4d93-a257-a59b40395410"
      },
      "outputs": [
        {
          "data": {
            "image/png": "[encoded data removed]",
            "text/plain": [
              "<Figure size 432x288 with 1 Axes>"
            ]
          },
          "metadata": {
            "needs_background": "light"
          },
          "output_type": "display_data"
        }
      ],
      "source": [
        "sns.boxplot(x='Outcome', y='Glucose', data=df)\n",
        "plt.show()"
      ]
    },
    {
      "cell_type": "markdown",
      "metadata": {
        "id": "HppTbhnZUhDk"
      },
      "source": [
        "Conforme observando no boxplot acima, pessoas com a Glicose mais alta, tendem a diabetes. Essa correlação pode ser confirmada no heatmap acima"
      ]
    },
    {
      "cell_type": "code",
      "execution_count": 17,
      "metadata": {
        "colab": {
          "base_uri": "https://localhost:8080/",
          "height": 282
        },
        "id": "YjyGfYqoIZKW",
        "outputId": "214c3c33-36be-4d6b-9955-004141db6df5"
      },
      "outputs": [
        {
          "data": {
            "image/png": "[encoded data removed]",
            "text/plain": [
              "<Figure size 432x288 with 1 Axes>"
            ]
          },
          "metadata": {
            "needs_background": "light"
          },
          "output_type": "display_data"
        }
      ],
      "source": [
        "sns.boxplot(x='Outcome', y='BMI', data=df)\n",
        "plt.show()"
      ]
    },
    {
      "cell_type": "code",
      "execution_count": 18,
      "metadata": {
        "colab": {
          "base_uri": "https://localhost:8080/",
          "height": 276
        },
        "id": "H2WfK5mNVwLf",
        "outputId": "191c0037-1cd1-42f4-8f88-5a24fe9ffafa"
      },
      "outputs": [
        {
          "data": {
            "image/png": "[encoded data removed]",
            "text/plain": [
              "<Figure size 432x288 with 1 Axes>"
            ]
          },
          "metadata": {
            "needs_background": "light"
          },
          "output_type": "display_data"
        }
      ],
      "source": [
        "df.groupby('Outcome').Glucose.mean().plot(kind='bar');\n"
      ]
    },
    {
      "attachments": {},
      "cell_type": "markdown",
      "metadata": {},
      "source": [
        "Pessoas que possuem a glicose média >= 110, tendem a ser diabéticas."
      ]
    },
    {
      "cell_type": "markdown",
      "metadata": {
        "id": "sNMRtu7uMhGD"
      },
      "source": [
        "### Conclusão"
      ]
    },
    {
      "attachments": {},
      "cell_type": "markdown",
      "metadata": {
        "id": "Ktd-QTJ5P_DY"
      },
      "source": [
        "Conforme observado nos dados, temos um dataset sem valores faltantes e com baixo número de outliers. Está bem fácil notar correlações entre a variavel dependente com as independentes (Conforme análisado no heatmap de correlação e nas comparações de distribuição). Vale ressaltar que temos o número de classes desbalanceadadas, onde temos o número de casos Negativos (0) maior em relação ao número de casos Positivos (1). "
      ]
    },
    {
      "cell_type": "markdown",
      "metadata": {
        "id": "0xXh3gMrYAK9"
      },
      "source": [
        "## Etapa 2 - Considerar como trabalho 2"
      ]
    },
    {
      "cell_type": "code",
      "execution_count": 19,
      "metadata": {
        "id": "8LuoVtWRYCJu"
      },
      "outputs": [],
      "source": [
        "from sklearn.linear_model import LogisticRegression\n",
        "from sklearn.metrics import classification_report, confusion_matrix\n",
        "from sklearn.model_selection import train_test_split\n",
        "from sklearn.preprocessing import StandardScaler"
      ]
    },
    {
      "cell_type": "code",
      "execution_count": 20,
      "metadata": {
        "id": "zxubaruPaVpD"
      },
      "outputs": [],
      "source": [
        "clf = LogisticRegression(random_state = 42)\n",
        "scaler = StandardScaler()"
      ]
    },
    {
      "cell_type": "code",
      "execution_count": 21,
      "metadata": {
        "colab": {
          "base_uri": "https://localhost:8080/",
          "height": 206
        },
        "id": "zWG4IHbbcZ66",
        "outputId": "8dc8e8a0-2622-45d8-bcac-81a5db727419"
      },
      "outputs": [
        {
          "data": {
            "text/html": [
              "\n",
              "  <div id=\"df-5daa4833-9b90-47b1-9908-994ed663e589\">\n",
              "    <div class=\"colab-df-container\">\n",
              "      <div>\n",
              "<style scoped>\n",
              "    .dataframe tbody tr th:only-of-type {\n",
              "        vertical-align: middle;\n",
              "    }\n",
              "\n",
              "    .dataframe tbody tr th {\n",
              "        vertical-align: top;\n",
              "    }\n",
              "\n",
              "    .dataframe thead th {\n",
              "        text-align: right;\n",
              "    }\n",
              "</style>\n",
              "<table border=\"1\" class=\"dataframe\">\n",
              "  <thead>\n",
              "    <tr style=\"text-align: right;\">\n",
              "      <th></th>\n",
              "      <th>Pregnancies</th>\n",
              "      <th>Glucose</th>\n",
              "      <th>BloodPressure</th>\n",
              "      <th>SkinThickness</th>\n",
              "      <th>Insulin</th>\n",
              "      <th>BMI</th>\n",
              "      <th>DiabetesPedigreeFunction</th>\n",
              "      <th>Age</th>\n",
              "      <th>Outcome</th>\n",
              "    </tr>\n",
              "  </thead>\n",
              "  <tbody>\n",
              "    <tr>\n",
              "      <th>0</th>\n",
              "      <td>6</td>\n",
              "      <td>148</td>\n",
              "      <td>72</td>\n",
              "      <td>35</td>\n",
              "      <td>0</td>\n",
              "      <td>33.6</td>\n",
              "      <td>0.627</td>\n",
              "      <td>50</td>\n",
              "      <td>1</td>\n",
              "    </tr>\n",
              "    <tr>\n",
              "      <th>1</th>\n",
              "      <td>1</td>\n",
              "      <td>85</td>\n",
              "      <td>66</td>\n",
              "      <td>29</td>\n",
              "      <td>0</td>\n",
              "      <td>26.6</td>\n",
              "      <td>0.351</td>\n",
              "      <td>31</td>\n",
              "      <td>0</td>\n",
              "    </tr>\n",
              "    <tr>\n",
              "      <th>2</th>\n",
              "      <td>8</td>\n",
              "      <td>183</td>\n",
              "      <td>64</td>\n",
              "      <td>0</td>\n",
              "      <td>0</td>\n",
              "      <td>23.3</td>\n",
              "      <td>0.672</td>\n",
              "      <td>32</td>\n",
              "      <td>1</td>\n",
              "    </tr>\n",
              "    <tr>\n",
              "      <th>3</th>\n",
              "      <td>1</td>\n",
              "      <td>89</td>\n",
              "      <td>66</td>\n",
              "      <td>23</td>\n",
              "      <td>94</td>\n",
              "      <td>28.1</td>\n",
              "      <td>0.167</td>\n",
              "      <td>21</td>\n",
              "      <td>0</td>\n",
              "    </tr>\n",
              "    <tr>\n",
              "      <th>4</th>\n",
              "      <td>0</td>\n",
              "      <td>137</td>\n",
              "      <td>40</td>\n",
              "      <td>35</td>\n",
              "      <td>168</td>\n",
              "      <td>43.1</td>\n",
              "      <td>2.288</td>\n",
              "      <td>33</td>\n",
              "      <td>1</td>\n",
              "    </tr>\n",
              "  </tbody>\n",
              "</table>\n",
              "</div>\n",
              "      <button class=\"colab-df-convert\" onclick=\"convertToInteractive('df-5daa4833-9b90-47b1-9908-994ed663e589')\"\n",
              "              title=\"Convert this dataframe to an interactive table.\"\n",
              "              style=\"display:none;\">\n",
              "        \n",
              "  <svg xmlns=\"http://www.w3.org/2000/svg\" height=\"24px\"viewBox=\"0 0 24 24\"\n",
              "       width=\"24px\">\n",
              "    <path d=\"M0 0h24v24H0V0z\" fill=\"none\"/>\n",
              "    <path d=\"M18.56 5.44l.94 2.06.94-2.06 2.06-.94-2.06-.94-.94-2.06-.94 2.06-2.06.94zm-11 1L8.5 8.5l.94-2.06 2.06-.94-2.06-.94L8.5 2.5l-.94 2.06-2.06.94zm10 10l.94 2.06.94-2.06 2.06-.94-2.06-.94-.94-2.06-.94 2.06-2.06.94z\"/><path d=\"M17.41 7.96l-1.37-1.37c-.4-.4-.92-.59-1.43-.59-.52 0-1.04.2-1.43.59L10.3 9.45l-7.72 7.72c-.78.78-.78 2.05 0 2.83L4 21.41c.39.39.9.59 1.41.59.51 0 1.02-.2 1.41-.59l7.78-7.78 2.81-2.81c.8-.78.8-2.07 0-2.86zM5.41 20L4 18.59l7.72-7.72 1.47 1.35L5.41 20z\"/>\n",
              "  </svg>\n",
              "      </button>\n",
              "      \n",
              "  <style>\n",
              "    .colab-df-container {\n",
              "      display:flex;\n",
              "      flex-wrap:wrap;\n",
              "      gap: 12px;\n",
              "    }\n",
              "\n",
              "    .colab-df-convert {\n",
              "      background-color: #E8F0FE;\n",
              "      border: none;\n",
              "      border-radius: 50%;\n",
              "      cursor: pointer;\n",
              "      display: none;\n",
              "      fill: #1967D2;\n",
              "      height: 32px;\n",
              "      padding: 0 0 0 0;\n",
              "      width: 32px;\n",
              "    }\n",
              "\n",
              "    .colab-df-convert:hover {\n",
              "      background-color: #E2EBFA;\n",
              "      box-shadow: 0px 1px 2px rgba(60, 64, 67, 0.3), 0px 1px 3px 1px rgba(60, 64, 67, 0.15);\n",
              "      fill: #174EA6;\n",
              "    }\n",
              "\n",
              "    [theme=dark] .colab-df-convert {\n",
              "      background-color: #3B4455;\n",
              "      fill: #D2E3FC;\n",
              "    }\n",
              "\n",
              "    [theme=dark] .colab-df-convert:hover {\n",
              "      background-color: #434B5C;\n",
              "      box-shadow: 0px 1px 3px 1px rgba(0, 0, 0, 0.15);\n",
              "      filter: drop-shadow(0px 1px 2px rgba(0, 0, 0, 0.3));\n",
              "      fill: #FFFFFF;\n",
              "    }\n",
              "  </style>\n",
              "\n",
              "      <script>\n",
              "        const buttonEl =\n",
              "          document.querySelector('#df-5daa4833-9b90-47b1-9908-994ed663e589 button.colab-df-convert');\n",
              "        buttonEl.style.display =\n",
              "          google.colab.kernel.accessAllowed ? 'block' : 'none';\n",
              "\n",
              "        async function convertToInteractive(key) {\n",
              "          const element = document.querySelector('#df-5daa4833-9b90-47b1-9908-994ed663e589');\n",
              "          const dataTable =\n",
              "            await google.colab.kernel.invokeFunction('convertToInteractive',\n",
              "                                                     [key], {});\n",
              "          if (!dataTable) return;\n",
              "\n",
              "          const docLinkHtml = 'Like what you see? Visit the ' +\n",
              "            '<a target=\"_blank\" href=https://colab.research.google.com/notebooks/data_table.ipynb>data table notebook</a>'\n",
              "            + ' to learn more about interactive tables.';\n",
              "          element.innerHTML = '';\n",
              "          dataTable['output_type'] = 'display_data';\n",
              "          await google.colab.output.renderOutput(dataTable, element);\n",
              "          const docLink = document.createElement('div');\n",
              "          docLink.innerHTML = docLinkHtml;\n",
              "          element.appendChild(docLink);\n",
              "        }\n",
              "      </script>\n",
              "    </div>\n",
              "  </div>\n",
              "  "
            ],
            "text/plain": [
              "   Pregnancies  Glucose  BloodPressure  SkinThickness  Insulin   BMI  \\\n",
              "0            6      148             72             35        0  33.6   \n",
              "1            1       85             66             29        0  26.6   \n",
              "2            8      183             64              0        0  23.3   \n",
              "3            1       89             66             23       94  28.1   \n",
              "4            0      137             40             35      168  43.1   \n",
              "\n",
              "   DiabetesPedigreeFunction  Age  Outcome  \n",
              "0                     0.627   50        1  \n",
              "1                     0.351   31        0  \n",
              "2                     0.672   32        1  \n",
              "3                     0.167   21        0  \n",
              "4                     2.288   33        1  "
            ]
          },
          "execution_count": 21,
          "metadata": {},
          "output_type": "execute_result"
        }
      ],
      "source": [
        "df.head()"
      ]
    },
    {
      "cell_type": "markdown",
      "metadata": {
        "id": "zcAdCHH14BrE"
      },
      "source": [
        "### Seleção das variáveis e divisão entre os conjuntos de teste e treino"
      ]
    },
    {
      "cell_type": "code",
      "execution_count": 22,
      "metadata": {
        "id": "teTfCYFwb3kp"
      },
      "outputs": [],
      "source": [
        "X = df.drop(\"Outcome\", axis=1)\n",
        "y = df[[\"Outcome\"]]"
      ]
    },
    {
      "cell_type": "code",
      "execution_count": 23,
      "metadata": {
        "colab": {
          "base_uri": "https://localhost:8080/",
          "height": 0
        },
        "id": "0398OMXecqOB",
        "outputId": "65f92c42-cfe8-4967-f0e9-ad3cbe4c83c5"
      },
      "outputs": [
        {
          "data": {
            "text/plain": [
              "(768, 8)"
            ]
          },
          "execution_count": 23,
          "metadata": {},
          "output_type": "execute_result"
        }
      ],
      "source": [
        "X.shape"
      ]
    },
    {
      "cell_type": "code",
      "execution_count": 24,
      "metadata": {
        "id": "Gy4bmSkLcuM-"
      },
      "outputs": [],
      "source": [
        "X_train, X_test, y_train, y_test = train_test_split(X, y, test_size=0.15, \n",
        "                                                    random_state=42)"
      ]
    },
    {
      "cell_type": "markdown",
      "metadata": {
        "id": "3MvODY8d4QVF"
      },
      "source": [
        "Tamanho do conjunto de testes definido em 15% arbitráriamente"
      ]
    },
    {
      "cell_type": "code",
      "execution_count": 25,
      "metadata": {
        "colab": {
          "base_uri": "https://localhost:8080/",
          "height": 305
        },
        "id": "A4FX3B2UoKOM",
        "outputId": "e624a63f-c98c-44fa-fc96-1e402ea4098f"
      },
      "outputs": [
        {
          "data": {
            "text/plain": [
              "<matplotlib.axes._subplots.AxesSubplot at 0x7f1788fef640>"
            ]
          },
          "execution_count": 25,
          "metadata": {},
          "output_type": "execute_result"
        },
        {
          "data": {
            "image/png": "[encoded data removed]",
            "text/plain": [
              "<Figure size 432x288 with 1 Axes>"
            ]
          },
          "metadata": {
            "needs_background": "light"
          },
          "output_type": "display_data"
        }
      ],
      "source": [
        "y_train.value_counts().plot.bar()"
      ]
    },
    {
      "cell_type": "code",
      "execution_count": 26,
      "metadata": {
        "colab": {
          "base_uri": "https://localhost:8080/",
          "height": 305
        },
        "id": "Ibzpm1p-oPf7",
        "outputId": "f5aa8a82-2596-4dea-ad59-fe875fb6efea"
      },
      "outputs": [
        {
          "data": {
            "text/plain": [
              "<matplotlib.axes._subplots.AxesSubplot at 0x7f1788e81940>"
            ]
          },
          "execution_count": 26,
          "metadata": {},
          "output_type": "execute_result"
        },
        {
          "data": {
            "image/png": "[encoded data removed]",
            "text/plain": [
              "<Figure size 432x288 with 1 Axes>"
            ]
          },
          "metadata": {
            "needs_background": "light"
          },
          "output_type": "display_data"
        }
      ],
      "source": [
        "y_test.value_counts().plot.bar()"
      ]
    },
    {
      "cell_type": "markdown",
      "metadata": {
        "id": "VsoIYNfY6GIX"
      },
      "source": [
        "### Treinamento do modelo sem padronizar o conjunto de dados"
      ]
    },
    {
      "cell_type": "code",
      "execution_count": 27,
      "metadata": {
        "colab": {
          "base_uri": "https://localhost:8080/",
          "height": 0
        },
        "id": "SWnAdrN4ctKH",
        "outputId": "b06ebc20-9407-4e8a-f2d5-72c57ccbf979"
      },
      "outputs": [
        {
          "name": "stderr",
          "output_type": "stream",
          "text": [
            "/usr/local/lib/python3.8/dist-packages/sklearn/utils/validation.py:993: DataConversionWarning: A column-vector y was passed when a 1d array was expected. Please change the shape of y to (n_samples, ), for example using ravel().\n",
            "  y = column_or_1d(y, warn=True)\n",
            "/usr/local/lib/python3.8/dist-packages/sklearn/linear_model/_logistic.py:814: ConvergenceWarning: lbfgs failed to converge (status=1):\n",
            "STOP: TOTAL NO. of ITERATIONS REACHED LIMIT.\n",
            "\n",
            "Increase the number of iterations (max_iter) or scale the data as shown in:\n",
            "    https://scikit-learn.org/stable/modules/preprocessing.html\n",
            "Please also refer to the documentation for alternative solver options:\n",
            "    https://scikit-learn.org/stable/modules/linear_model.html#logistic-regression\n",
            "  n_iter_i = _check_optimize_result(\n"
          ]
        },
        {
          "data": {
            "text/plain": [
              "LogisticRegression(random_state=42)"
            ]
          },
          "execution_count": 27,
          "metadata": {},
          "output_type": "execute_result"
        }
      ],
      "source": [
        "clf.fit(X_train, y_train)"
      ]
    },
    {
      "cell_type": "code",
      "execution_count": 28,
      "metadata": {
        "id": "3IFLRIoqcrbM"
      },
      "outputs": [],
      "source": [
        "y_hat = clf.predict(X_test)"
      ]
    },
    {
      "cell_type": "markdown",
      "metadata": {
        "id": "UvpLbUM16VFQ"
      },
      "source": [
        "#### Avaliação do modelo sem padronizar o conjunto de dados"
      ]
    },
    {
      "cell_type": "code",
      "execution_count": 29,
      "metadata": {
        "colab": {
          "base_uri": "https://localhost:8080/",
          "height": 0
        },
        "id": "FQf5MkGephfv",
        "outputId": "f7376027-5407-45d2-915e-763c6d1c13ec"
      },
      "outputs": [
        {
          "name": "stdout",
          "output_type": "stream",
          "text": [
            "              precision    recall  f1-score   support\n",
            "\n",
            "           0       0.84      0.80      0.82        76\n",
            "           1       0.65      0.70      0.67        40\n",
            "\n",
            "    accuracy                           0.77       116\n",
            "   macro avg       0.74      0.75      0.75       116\n",
            "weighted avg       0.77      0.77      0.77       116\n",
            "\n"
          ]
        }
      ],
      "source": [
        "print(classification_report(y_test, y_hat))"
      ]
    },
    {
      "cell_type": "code",
      "execution_count": 30,
      "metadata": {
        "colab": {
          "base_uri": "https://localhost:8080/",
          "height": 283
        },
        "id": "eefR_8Lmpq_Z",
        "outputId": "6c5fe4a4-87c3-4110-caa9-82b7e0faa9e3"
      },
      "outputs": [
        {
          "data": {
            "text/plain": [
              "<matplotlib.axes._subplots.AxesSubplot at 0x7f1788df0d30>"
            ]
          },
          "execution_count": 30,
          "metadata": {},
          "output_type": "execute_result"
        },
        {
          "data": {
            "image/png": "[encoded data removed]",
            "text/plain": [
              "<Figure size 432x288 with 2 Axes>"
            ]
          },
          "metadata": {
            "needs_background": "light"
          },
          "output_type": "display_data"
        }
      ],
      "source": [
        "cm = confusion_matrix(y_test, y_hat)\n",
        "sns.heatmap(cm, annot=True)"
      ]
    },
    {
      "cell_type": "markdown",
      "metadata": {
        "id": "8_h-QK-96hXj"
      },
      "source": [
        "#### Conclusão"
      ]
    },
    {
      "attachments": {},
      "cell_type": "markdown",
      "metadata": {
        "id": "eD4mVBrN6oHG"
      },
      "source": [
        "Conseguimos uma boa acruácia para predizer ambas às classes, porém, pela classe positiva (1) conter menos exemplos, a predição ficou mais pobre em relação a classe negativa (0)."
      ]
    },
    {
      "cell_type": "markdown",
      "metadata": {
        "id": "HXAC14gXBF9U"
      },
      "source": [
        "### Treinamento do modelo com a padronização aplicada as features"
      ]
    },
    {
      "cell_type": "code",
      "execution_count": 31,
      "metadata": {
        "id": "5k-cmclhrqxv"
      },
      "outputs": [],
      "source": [
        "X_scaled = scaler.fit_transform(X)"
      ]
    },
    {
      "cell_type": "code",
      "execution_count": 32,
      "metadata": {
        "id": "lFQAvDMXx1jW"
      },
      "outputs": [],
      "source": [
        "X_train, X_test, y_train, y_test = train_test_split(X_scaled, y, test_size=0.15, \n",
        "                                                    random_state=42)"
      ]
    },
    {
      "cell_type": "code",
      "execution_count": 33,
      "metadata": {
        "id": "8kTFwtCnx9oM"
      },
      "outputs": [],
      "source": [
        "clf = LogisticRegression(random_state = 42)"
      ]
    },
    {
      "cell_type": "code",
      "execution_count": 34,
      "metadata": {
        "colab": {
          "base_uri": "https://localhost:8080/",
          "height": 0
        },
        "id": "g3rv0OYkyAzA",
        "outputId": "e877c0a8-510c-4611-a207-6e850a976ef3"
      },
      "outputs": [
        {
          "name": "stderr",
          "output_type": "stream",
          "text": [
            "/usr/local/lib/python3.8/dist-packages/sklearn/utils/validation.py:993: DataConversionWarning: A column-vector y was passed when a 1d array was expected. Please change the shape of y to (n_samples, ), for example using ravel().\n",
            "  y = column_or_1d(y, warn=True)\n"
          ]
        },
        {
          "data": {
            "text/plain": [
              "LogisticRegression(random_state=42)"
            ]
          },
          "execution_count": 34,
          "metadata": {},
          "output_type": "execute_result"
        }
      ],
      "source": [
        "clf.fit(X_train, y_train)"
      ]
    },
    {
      "cell_type": "markdown",
      "metadata": {
        "id": "mewprBPOCTeg"
      },
      "source": [
        "#### Avaliação do modelo com o junto de dados padronizados"
      ]
    },
    {
      "cell_type": "code",
      "execution_count": 35,
      "metadata": {
        "id": "nUoezdAbyIjc"
      },
      "outputs": [],
      "source": [
        "y_hat = clf.predict(X_test)"
      ]
    },
    {
      "cell_type": "code",
      "execution_count": 36,
      "metadata": {
        "colab": {
          "base_uri": "https://localhost:8080/",
          "height": 0
        },
        "id": "eS9fQkqjyWhW",
        "outputId": "b049c837-7082-4c66-d625-b987fe8b3af8"
      },
      "outputs": [
        {
          "name": "stdout",
          "output_type": "stream",
          "text": [
            "              precision    recall  f1-score   support\n",
            "\n",
            "           0       0.83      0.79      0.81        76\n",
            "           1       0.64      0.70      0.67        40\n",
            "\n",
            "    accuracy                           0.76       116\n",
            "   macro avg       0.73      0.74      0.74       116\n",
            "weighted avg       0.77      0.76      0.76       116\n",
            "\n"
          ]
        }
      ],
      "source": [
        "print(classification_report(y_test, y_hat))"
      ]
    },
    {
      "cell_type": "markdown",
      "metadata": {
        "id": "dcYBWN0NCbrg"
      },
      "source": [
        "#### Conclusão"
      ]
    },
    {
      "attachments": {},
      "cell_type": "markdown",
      "metadata": {
        "id": "dFgyuIuPCfcW"
      },
      "source": [
        "Não foi notado uma mudança significativa entre padronizar ou não os dados, o modelo conseguiu interpretar bem ambas opções."
      ]
    },
    {
      "cell_type": "markdown",
      "metadata": {
        "id": "em3pL6O3Cvcc"
      },
      "source": [
        "## Etapa 3 - Considerar como trabalho 3"
      ]
    },
    {
      "cell_type": "code",
      "execution_count": 37,
      "metadata": {
        "id": "3naNxzhqGYaY"
      },
      "outputs": [],
      "source": [
        "# !pip install h2o"
      ]
    },
    {
      "cell_type": "code",
      "execution_count": 38,
      "metadata": {
        "colab": {
          "base_uri": "https://localhost:8080/",
          "height": 548
        },
        "id": "-sKM1k0UCwy6",
        "outputId": "8b3c9c1c-90a7-4806-9fba-170102a52422"
      },
      "outputs": [
        {
          "name": "stdout",
          "output_type": "stream",
          "text": [
            "Checking whether there is an H2O instance running at http://localhost:54321 ..... not found.\n",
            "Attempting to start a local H2O server...\n",
            "  Java Version: openjdk version \"11.0.17\" 2022-10-18; OpenJDK Runtime Environment (build 11.0.17+8-post-Ubuntu-1ubuntu218.04); OpenJDK 64-Bit Server VM (build 11.0.17+8-post-Ubuntu-1ubuntu218.04, mixed mode, sharing)\n",
            "  Starting server from /usr/local/lib/python3.8/dist-packages/h2o/backend/bin/h2o.jar\n",
            "  Ice root: /tmp/tmprcq2fltz\n",
            "  JVM stdout: /tmp/tmprcq2fltz/h2o_unknownUser_started_from_python.out\n",
            "  JVM stderr: /tmp/tmprcq2fltz/h2o_unknownUser_started_from_python.err\n",
            "  Server is running at http://127.0.0.1:54321\n",
            "Connecting to H2O server at http://127.0.0.1:54321 ... successful.\n"
          ]
        },
        {
          "data": {
            "text/html": [
              "\n",
              "<style>\n",
              "\n",
              "#h2o-table-1.h2o-container {\n",
              "  overflow-x: auto;\n",
              "}\n",
              "#h2o-table-1 .h2o-table {\n",
              "  /* width: 100%; */\n",
              "  margin-top: 1em;\n",
              "  margin-bottom: 1em;\n",
              "}\n",
              "#h2o-table-1 .h2o-table caption {\n",
              "  white-space: nowrap;\n",
              "  caption-side: top;\n",
              "  text-align: left;\n",
              "  /* margin-left: 1em; */\n",
              "  margin: 0;\n",
              "  font-size: larger;\n",
              "}\n",
              "#h2o-table-1 .h2o-table thead {\n",
              "  white-space: nowrap; \n",
              "  position: sticky;\n",
              "  top: 0;\n",
              "  box-shadow: 0 -1px inset;\n",
              "}\n",
              "#h2o-table-1 .h2o-table tbody {\n",
              "  overflow: auto;\n",
              "}\n",
              "#h2o-table-1 .h2o-table th,\n",
              "#h2o-table-1 .h2o-table td {\n",
              "  text-align: right;\n",
              "  /* border: 1px solid; */\n",
              "}\n",
              "#h2o-table-1 .h2o-table tr:nth-child(even) {\n",
              "  /* background: #F5F5F5 */\n",
              "}\n",
              "\n",
              "</style>      \n",
              "<div id=\"h2o-table-1\" class=\"h2o-container\">\n",
              "  <table class=\"h2o-table\">\n",
              "    <caption></caption>\n",
              "    <thead></thead>\n",
              "    <tbody><tr><td>H2O_cluster_uptime:</td>\n",
              "<td>06 secs</td></tr>\n",
              "<tr><td>H2O_cluster_timezone:</td>\n",
              "<td>Etc/UTC</td></tr>\n",
              "<tr><td>H2O_data_parsing_timezone:</td>\n",
              "<td>UTC</td></tr>\n",
              "<tr><td>H2O_cluster_version:</td>\n",
              "<td>3.38.0.3</td></tr>\n",
              "<tr><td>H2O_cluster_version_age:</td>\n",
              "<td>27 days </td></tr>\n",
              "<tr><td>H2O_cluster_name:</td>\n",
              "<td>H2O_from_python_unknownUser_vpl4q4</td></tr>\n",
              "<tr><td>H2O_cluster_total_nodes:</td>\n",
              "<td>1</td></tr>\n",
              "<tr><td>H2O_cluster_free_memory:</td>\n",
              "<td>3.172 Gb</td></tr>\n",
              "<tr><td>H2O_cluster_total_cores:</td>\n",
              "<td>2</td></tr>\n",
              "<tr><td>H2O_cluster_allowed_cores:</td>\n",
              "<td>2</td></tr>\n",
              "<tr><td>H2O_cluster_status:</td>\n",
              "<td>locked, healthy</td></tr>\n",
              "<tr><td>H2O_connection_url:</td>\n",
              "<td>http://127.0.0.1:54321</td></tr>\n",
              "<tr><td>H2O_connection_proxy:</td>\n",
              "<td>{\"http\": null, \"https\": null}</td></tr>\n",
              "<tr><td>H2O_internal_security:</td>\n",
              "<td>False</td></tr>\n",
              "<tr><td>Python_version:</td>\n",
              "<td>3.8.16 final</td></tr></tbody>\n",
              "  </table>\n",
              "</div>\n"
            ],
            "text/plain": [
              "--------------------------  ----------------------------------\n",
              "H2O_cluster_uptime:         06 secs\n",
              "H2O_cluster_timezone:       Etc/UTC\n",
              "H2O_data_parsing_timezone:  UTC\n",
              "H2O_cluster_version:        3.38.0.3\n",
              "H2O_cluster_version_age:    27 days\n",
              "H2O_cluster_name:           H2O_from_python_unknownUser_vpl4q4\n",
              "H2O_cluster_total_nodes:    1\n",
              "H2O_cluster_free_memory:    3.172 Gb\n",
              "H2O_cluster_total_cores:    2\n",
              "H2O_cluster_allowed_cores:  2\n",
              "H2O_cluster_status:         locked, healthy\n",
              "H2O_connection_url:         http://127.0.0.1:54321\n",
              "H2O_connection_proxy:       {\"http\": null, \"https\": null}\n",
              "H2O_internal_security:      False\n",
              "Python_version:             3.8.16 final\n",
              "--------------------------  ----------------------------------"
            ]
          },
          "metadata": {},
          "output_type": "display_data"
        }
      ],
      "source": [
        "import h2o\n",
        "h2o.init()"
      ]
    },
    {
      "cell_type": "code",
      "execution_count": 39,
      "metadata": {
        "colab": {
          "base_uri": "https://localhost:8080/",
          "height": 0
        },
        "id": "FPPtBGLnGWmc",
        "outputId": "56ab4f14-ecd9-41a1-a007-b9867bbb67d8"
      },
      "outputs": [
        {
          "name": "stdout",
          "output_type": "stream",
          "text": [
            "Parse progress: |████████████████████████████████████████████████████████████████| (done) 100%\n"
          ]
        }
      ],
      "source": [
        "df_h2o = h2o.import_file('diabetes.csv')\n",
        "\n",
        "df_h2o['Outcome'] = df_h2o['Outcome'].asfactor()\n",
        "train, test = df_h2o.split_frame(ratios=[0.85]) #85% para os dados de treino"
      ]
    },
    {
      "cell_type": "code",
      "execution_count": 40,
      "metadata": {
        "colab": {
          "base_uri": "https://localhost:8080/",
          "height": 389
        },
        "id": "OUXAHjutwKTw",
        "outputId": "181356ab-bf38-43ae-ed99-5a5103dce21b"
      },
      "outputs": [
        {
          "data": {
            "text/html": [
              "<table class='dataframe'>\n",
              "<thead>\n",
              "<tr><th style=\"text-align: right;\">  Pregnancies</th><th style=\"text-align: right;\">  Glucose</th><th style=\"text-align: right;\">  BloodPressure</th><th style=\"text-align: right;\">  SkinThickness</th><th style=\"text-align: right;\">  Insulin</th><th style=\"text-align: right;\">  BMI</th><th style=\"text-align: right;\">  DiabetesPedigreeFunction</th><th style=\"text-align: right;\">  Age</th><th style=\"text-align: right;\">  Outcome</th></tr>\n",
              "</thead>\n",
              "<tbody>\n",
              "<tr><td style=\"text-align: right;\">            6</td><td style=\"text-align: right;\">      148</td><td style=\"text-align: right;\">             72</td><td style=\"text-align: right;\">             35</td><td style=\"text-align: right;\">        0</td><td style=\"text-align: right;\"> 33.6</td><td style=\"text-align: right;\">                     0.627</td><td style=\"text-align: right;\">   50</td><td style=\"text-align: right;\">        1</td></tr>\n",
              "<tr><td style=\"text-align: right;\">            1</td><td style=\"text-align: right;\">       85</td><td style=\"text-align: right;\">             66</td><td style=\"text-align: right;\">             29</td><td style=\"text-align: right;\">        0</td><td style=\"text-align: right;\"> 26.6</td><td style=\"text-align: right;\">                     0.351</td><td style=\"text-align: right;\">   31</td><td style=\"text-align: right;\">        0</td></tr>\n",
              "<tr><td style=\"text-align: right;\">            8</td><td style=\"text-align: right;\">      183</td><td style=\"text-align: right;\">             64</td><td style=\"text-align: right;\">              0</td><td style=\"text-align: right;\">        0</td><td style=\"text-align: right;\"> 23.3</td><td style=\"text-align: right;\">                     0.672</td><td style=\"text-align: right;\">   32</td><td style=\"text-align: right;\">        1</td></tr>\n",
              "<tr><td style=\"text-align: right;\">            1</td><td style=\"text-align: right;\">       89</td><td style=\"text-align: right;\">             66</td><td style=\"text-align: right;\">             23</td><td style=\"text-align: right;\">       94</td><td style=\"text-align: right;\"> 28.1</td><td style=\"text-align: right;\">                     0.167</td><td style=\"text-align: right;\">   21</td><td style=\"text-align: right;\">        0</td></tr>\n",
              "<tr><td style=\"text-align: right;\">            0</td><td style=\"text-align: right;\">      137</td><td style=\"text-align: right;\">             40</td><td style=\"text-align: right;\">             35</td><td style=\"text-align: right;\">      168</td><td style=\"text-align: right;\"> 43.1</td><td style=\"text-align: right;\">                     2.288</td><td style=\"text-align: right;\">   33</td><td style=\"text-align: right;\">        1</td></tr>\n",
              "<tr><td style=\"text-align: right;\">            5</td><td style=\"text-align: right;\">      116</td><td style=\"text-align: right;\">             74</td><td style=\"text-align: right;\">              0</td><td style=\"text-align: right;\">        0</td><td style=\"text-align: right;\"> 25.6</td><td style=\"text-align: right;\">                     0.201</td><td style=\"text-align: right;\">   30</td><td style=\"text-align: right;\">        0</td></tr>\n",
              "<tr><td style=\"text-align: right;\">            3</td><td style=\"text-align: right;\">       78</td><td style=\"text-align: right;\">             50</td><td style=\"text-align: right;\">             32</td><td style=\"text-align: right;\">       88</td><td style=\"text-align: right;\"> 31  </td><td style=\"text-align: right;\">                     0.248</td><td style=\"text-align: right;\">   26</td><td style=\"text-align: right;\">        1</td></tr>\n",
              "<tr><td style=\"text-align: right;\">           10</td><td style=\"text-align: right;\">      115</td><td style=\"text-align: right;\">              0</td><td style=\"text-align: right;\">              0</td><td style=\"text-align: right;\">        0</td><td style=\"text-align: right;\"> 35.3</td><td style=\"text-align: right;\">                     0.134</td><td style=\"text-align: right;\">   29</td><td style=\"text-align: right;\">        0</td></tr>\n",
              "<tr><td style=\"text-align: right;\">            2</td><td style=\"text-align: right;\">      197</td><td style=\"text-align: right;\">             70</td><td style=\"text-align: right;\">             45</td><td style=\"text-align: right;\">      543</td><td style=\"text-align: right;\"> 30.5</td><td style=\"text-align: right;\">                     0.158</td><td style=\"text-align: right;\">   53</td><td style=\"text-align: right;\">        1</td></tr>\n",
              "<tr><td style=\"text-align: right;\">            8</td><td style=\"text-align: right;\">      125</td><td style=\"text-align: right;\">             96</td><td style=\"text-align: right;\">              0</td><td style=\"text-align: right;\">        0</td><td style=\"text-align: right;\">  0  </td><td style=\"text-align: right;\">                     0.232</td><td style=\"text-align: right;\">   54</td><td style=\"text-align: right;\">        1</td></tr>\n",
              "</tbody>\n",
              "</table><pre style='font-size: smaller; margin-bottom: 1em;'>[10 rows x 9 columns]</pre>"
            ],
            "text/plain": [
              "  Pregnancies    Glucose    BloodPressure    SkinThickness    Insulin    BMI    DiabetesPedigreeFunction    Age    Outcome\n",
              "-------------  ---------  ---------------  ---------------  ---------  -----  --------------------------  -----  ---------\n",
              "            6        148               72               35          0   33.6                       0.627     50          1\n",
              "            1         85               66               29          0   26.6                       0.351     31          0\n",
              "            8        183               64                0          0   23.3                       0.672     32          1\n",
              "            1         89               66               23         94   28.1                       0.167     21          0\n",
              "            0        137               40               35        168   43.1                       2.288     33          1\n",
              "            5        116               74                0          0   25.6                       0.201     30          0\n",
              "            3         78               50               32         88   31                         0.248     26          1\n",
              "           10        115                0                0          0   35.3                       0.134     29          0\n",
              "            2        197               70               45        543   30.5                       0.158     53          1\n",
              "            8        125               96                0          0    0                         0.232     54          1\n",
              "[10 rows x 9 columns]\n"
            ]
          },
          "execution_count": 40,
          "metadata": {},
          "output_type": "execute_result"
        }
      ],
      "source": [
        "df_h2o.head()"
      ]
    },
    {
      "cell_type": "code",
      "execution_count": 41,
      "metadata": {
        "colab": {
          "base_uri": "https://localhost:8080/",
          "height": 0
        },
        "id": "wnHMeYB5LOcU",
        "outputId": "82fcb597-8e0c-4ec2-fcd4-4614764d5177"
      },
      "outputs": [
        {
          "data": {
            "text/plain": [
              "(649, 9)"
            ]
          },
          "execution_count": 41,
          "metadata": {},
          "output_type": "execute_result"
        }
      ],
      "source": [
        "train.shape"
      ]
    },
    {
      "cell_type": "code",
      "execution_count": 42,
      "metadata": {
        "colab": {
          "base_uri": "https://localhost:8080/",
          "height": 0
        },
        "id": "K67wb9FrLQ6m",
        "outputId": "b1dca6db-4086-421c-9d7a-a7c0b4f043b5"
      },
      "outputs": [
        {
          "data": {
            "text/plain": [
              "(119, 9)"
            ]
          },
          "execution_count": 42,
          "metadata": {},
          "output_type": "execute_result"
        }
      ],
      "source": [
        "test.shape"
      ]
    },
    {
      "cell_type": "markdown",
      "metadata": {
        "id": "0wdhpI7owQWT"
      },
      "source": [
        "### Random forest"
      ]
    },
    {
      "cell_type": "code",
      "execution_count": 43,
      "metadata": {
        "id": "CfmdQV9bF6N8"
      },
      "outputs": [],
      "source": [
        "from h2o.estimators import H2ORandomForestEstimator"
      ]
    },
    {
      "cell_type": "code",
      "execution_count": 44,
      "metadata": {
        "id": "XQS2DKacJ2pK"
      },
      "outputs": [],
      "source": [
        "features = X.columns.values.tolist()"
      ]
    },
    {
      "cell_type": "code",
      "execution_count": 45,
      "metadata": {
        "colab": {
          "base_uri": "https://localhost:8080/",
          "height": 1285
        },
        "id": "pjF7YQcvGFe3",
        "outputId": "426935ca-177f-4107-c9ec-bbc2c93eaf52"
      },
      "outputs": [
        {
          "name": "stdout",
          "output_type": "stream",
          "text": [
            "drf Model Build progress: |██████████████████████████████████████████████████████| (done) 100%\n"
          ]
        },
        {
          "data": {
            "text/html": [
              "<pre style='margin: 1em 0 1em 0;'>ModelMetricsBinomial: drf\n",
              "** Reported on test data. **\n",
              "\n",
              "MSE: 0.15820433239696352\n",
              "RMSE: 0.39774908220756905\n",
              "LogLoss: 0.486642532797519\n",
              "Mean Per-Class Error: 0.208843329253366\n",
              "AUC: 0.8580171358629131\n",
              "AUCPR: 0.774258867756621\n",
              "Gini: 0.7160342717258261</pre>\n",
              "<div style='margin: 1em 0 1em 0;'>\n",
              "<style>\n",
              "\n",
              "#h2o-table-2.h2o-container {\n",
              "  overflow-x: auto;\n",
              "}\n",
              "#h2o-table-2 .h2o-table {\n",
              "  /* width: 100%; */\n",
              "  margin-top: 1em;\n",
              "  margin-bottom: 1em;\n",
              "}\n",
              "#h2o-table-2 .h2o-table caption {\n",
              "  white-space: nowrap;\n",
              "  caption-side: top;\n",
              "  text-align: left;\n",
              "  /* margin-left: 1em; */\n",
              "  margin: 0;\n",
              "  font-size: larger;\n",
              "}\n",
              "#h2o-table-2 .h2o-table thead {\n",
              "  white-space: nowrap; \n",
              "  position: sticky;\n",
              "  top: 0;\n",
              "  box-shadow: 0 -1px inset;\n",
              "}\n",
              "#h2o-table-2 .h2o-table tbody {\n",
              "  overflow: auto;\n",
              "}\n",
              "#h2o-table-2 .h2o-table th,\n",
              "#h2o-table-2 .h2o-table td {\n",
              "  text-align: right;\n",
              "  /* border: 1px solid; */\n",
              "}\n",
              "#h2o-table-2 .h2o-table tr:nth-child(even) {\n",
              "  /* background: #F5F5F5 */\n",
              "}\n",
              "\n",
              "</style>      \n",
              "<div id=\"h2o-table-2\" class=\"h2o-container\">\n",
              "  <table class=\"h2o-table\">\n",
              "    <caption>Confusion Matrix (Act/Pred) for max f1 @ threshold = 0.46894120670855044</caption>\n",
              "    <thead><tr><th></th>\n",
              "<th>0</th>\n",
              "<th>1</th>\n",
              "<th>Error</th>\n",
              "<th>Rate</th></tr></thead>\n",
              "    <tbody><tr><td>0</td>\n",
              "<td>69.0</td>\n",
              "<td>7.0</td>\n",
              "<td>0.0921</td>\n",
              "<td> (7.0/76.0)</td></tr>\n",
              "<tr><td>1</td>\n",
              "<td>14.0</td>\n",
              "<td>29.0</td>\n",
              "<td>0.3256</td>\n",
              "<td> (14.0/43.0)</td></tr>\n",
              "<tr><td>Total</td>\n",
              "<td>83.0</td>\n",
              "<td>36.0</td>\n",
              "<td>0.1765</td>\n",
              "<td> (21.0/119.0)</td></tr></tbody>\n",
              "  </table>\n",
              "</div>\n",
              "</div>\n",
              "<div style='margin: 1em 0 1em 0;'>\n",
              "<style>\n",
              "\n",
              "#h2o-table-3.h2o-container {\n",
              "  overflow-x: auto;\n",
              "}\n",
              "#h2o-table-3 .h2o-table {\n",
              "  /* width: 100%; */\n",
              "  margin-top: 1em;\n",
              "  margin-bottom: 1em;\n",
              "}\n",
              "#h2o-table-3 .h2o-table caption {\n",
              "  white-space: nowrap;\n",
              "  caption-side: top;\n",
              "  text-align: left;\n",
              "  /* margin-left: 1em; */\n",
              "  margin: 0;\n",
              "  font-size: larger;\n",
              "}\n",
              "#h2o-table-3 .h2o-table thead {\n",
              "  white-space: nowrap; \n",
              "  position: sticky;\n",
              "  top: 0;\n",
              "  box-shadow: 0 -1px inset;\n",
              "}\n",
              "#h2o-table-3 .h2o-table tbody {\n",
              "  overflow: auto;\n",
              "}\n",
              "#h2o-table-3 .h2o-table th,\n",
              "#h2o-table-3 .h2o-table td {\n",
              "  text-align: right;\n",
              "  /* border: 1px solid; */\n",
              "}\n",
              "#h2o-table-3 .h2o-table tr:nth-child(even) {\n",
              "  /* background: #F5F5F5 */\n",
              "}\n",
              "\n",
              "</style>      \n",
              "<div id=\"h2o-table-3\" class=\"h2o-container\">\n",
              "  <table class=\"h2o-table\">\n",
              "    <caption>Maximum Metrics: Maximum metrics at their respective thresholds</caption>\n",
              "    <thead><tr><th>metric</th>\n",
              "<th>threshold</th>\n",
              "<th>value</th>\n",
              "<th>idx</th></tr></thead>\n",
              "    <tbody><tr><td>max f1</td>\n",
              "<td>0.4689412</td>\n",
              "<td>0.7341772</td>\n",
              "<td>35.0</td></tr>\n",
              "<tr><td>max f2</td>\n",
              "<td>0.1976648</td>\n",
              "<td>0.8237548</td>\n",
              "<td>88.0</td></tr>\n",
              "<tr><td>max f0point5</td>\n",
              "<td>0.4759113</td>\n",
              "<td>0.7821229</td>\n",
              "<td>33.0</td></tr>\n",
              "<tr><td>max accuracy</td>\n",
              "<td>0.4759113</td>\n",
              "<td>0.8235294</td>\n",
              "<td>33.0</td></tr>\n",
              "<tr><td>max precision</td>\n",
              "<td>0.7661330</td>\n",
              "<td>1.0</td>\n",
              "<td>0.0</td></tr>\n",
              "<tr><td>max recall</td>\n",
              "<td>0.1976648</td>\n",
              "<td>1.0</td>\n",
              "<td>88.0</td></tr>\n",
              "<tr><td>max specificity</td>\n",
              "<td>0.7661330</td>\n",
              "<td>1.0</td>\n",
              "<td>0.0</td></tr>\n",
              "<tr><td>max absolute_mcc</td>\n",
              "<td>0.4689412</td>\n",
              "<td>0.6089862</td>\n",
              "<td>35.0</td></tr>\n",
              "<tr><td>max min_per_class_accuracy</td>\n",
              "<td>0.4069289</td>\n",
              "<td>0.7674419</td>\n",
              "<td>46.0</td></tr>\n",
              "<tr><td>max mean_per_class_accuracy</td>\n",
              "<td>0.4069289</td>\n",
              "<td>0.7916157</td>\n",
              "<td>46.0</td></tr>\n",
              "<tr><td>max tns</td>\n",
              "<td>0.7661330</td>\n",
              "<td>76.0</td>\n",
              "<td>0.0</td></tr>\n",
              "<tr><td>max fns</td>\n",
              "<td>0.7661330</td>\n",
              "<td>42.0</td>\n",
              "<td>0.0</td></tr>\n",
              "<tr><td>max fps</td>\n",
              "<td>0.0851460</td>\n",
              "<td>76.0</td>\n",
              "<td>117.0</td></tr>\n",
              "<tr><td>max tps</td>\n",
              "<td>0.1976648</td>\n",
              "<td>43.0</td>\n",
              "<td>88.0</td></tr>\n",
              "<tr><td>max tnr</td>\n",
              "<td>0.7661330</td>\n",
              "<td>1.0</td>\n",
              "<td>0.0</td></tr>\n",
              "<tr><td>max fnr</td>\n",
              "<td>0.7661330</td>\n",
              "<td>0.9767442</td>\n",
              "<td>0.0</td></tr>\n",
              "<tr><td>max fpr</td>\n",
              "<td>0.0851460</td>\n",
              "<td>1.0</td>\n",
              "<td>117.0</td></tr>\n",
              "<tr><td>max tpr</td>\n",
              "<td>0.1976648</td>\n",
              "<td>1.0</td>\n",
              "<td>88.0</td></tr></tbody>\n",
              "  </table>\n",
              "</div>\n",
              "</div>\n",
              "<div style='margin: 1em 0 1em 0;'>\n",
              "<style>\n",
              "\n",
              "#h2o-table-4.h2o-container {\n",
              "  overflow-x: auto;\n",
              "}\n",
              "#h2o-table-4 .h2o-table {\n",
              "  /* width: 100%; */\n",
              "  margin-top: 1em;\n",
              "  margin-bottom: 1em;\n",
              "}\n",
              "#h2o-table-4 .h2o-table caption {\n",
              "  white-space: nowrap;\n",
              "  caption-side: top;\n",
              "  text-align: left;\n",
              "  /* margin-left: 1em; */\n",
              "  margin: 0;\n",
              "  font-size: larger;\n",
              "}\n",
              "#h2o-table-4 .h2o-table thead {\n",
              "  white-space: nowrap; \n",
              "  position: sticky;\n",
              "  top: 0;\n",
              "  box-shadow: 0 -1px inset;\n",
              "}\n",
              "#h2o-table-4 .h2o-table tbody {\n",
              "  overflow: auto;\n",
              "}\n",
              "#h2o-table-4 .h2o-table th,\n",
              "#h2o-table-4 .h2o-table td {\n",
              "  text-align: right;\n",
              "  /* border: 1px solid; */\n",
              "}\n",
              "#h2o-table-4 .h2o-table tr:nth-child(even) {\n",
              "  /* background: #F5F5F5 */\n",
              "}\n",
              "\n",
              "</style>      \n",
              "<div id=\"h2o-table-4\" class=\"h2o-container\">\n",
              "  <table class=\"h2o-table\">\n",
              "    <caption>Gains/Lift Table: Avg response rate: 36.13 %, avg score: 36.35 %</caption>\n",
              "    <thead><tr><th>group</th>\n",
              "<th>cumulative_data_fraction</th>\n",
              "<th>lower_threshold</th>\n",
              "<th>lift</th>\n",
              "<th>cumulative_lift</th>\n",
              "<th>response_rate</th>\n",
              "<th>score</th>\n",
              "<th>cumulative_response_rate</th>\n",
              "<th>cumulative_score</th>\n",
              "<th>capture_rate</th>\n",
              "<th>cumulative_capture_rate</th>\n",
              "<th>gain</th>\n",
              "<th>cumulative_gain</th>\n",
              "<th>kolmogorov_smirnov</th></tr></thead>\n",
              "    <tbody><tr><td>1</td>\n",
              "<td>0.0168067</td>\n",
              "<td>0.7516154</td>\n",
              "<td>2.7674419</td>\n",
              "<td>2.7674419</td>\n",
              "<td>1.0</td>\n",
              "<td>0.7597515</td>\n",
              "<td>1.0</td>\n",
              "<td>0.7597515</td>\n",
              "<td>0.0465116</td>\n",
              "<td>0.0465116</td>\n",
              "<td>176.7441860</td>\n",
              "<td>176.7441860</td>\n",
              "<td>0.0465116</td></tr>\n",
              "<tr><td>2</td>\n",
              "<td>0.0252101</td>\n",
              "<td>0.7418641</td>\n",
              "<td>2.7674419</td>\n",
              "<td>2.7674419</td>\n",
              "<td>1.0</td>\n",
              "<td>0.7436218</td>\n",
              "<td>1.0</td>\n",
              "<td>0.7543750</td>\n",
              "<td>0.0232558</td>\n",
              "<td>0.0697674</td>\n",
              "<td>176.7441860</td>\n",
              "<td>176.7441860</td>\n",
              "<td>0.0697674</td></tr>\n",
              "<tr><td>3</td>\n",
              "<td>0.0336134</td>\n",
              "<td>0.7355123</td>\n",
              "<td>2.7674419</td>\n",
              "<td>2.7674419</td>\n",
              "<td>1.0</td>\n",
              "<td>0.7387393</td>\n",
              "<td>1.0</td>\n",
              "<td>0.7504661</td>\n",
              "<td>0.0232558</td>\n",
              "<td>0.0930233</td>\n",
              "<td>176.7441860</td>\n",
              "<td>176.7441860</td>\n",
              "<td>0.0930233</td></tr>\n",
              "<tr><td>4</td>\n",
              "<td>0.0420168</td>\n",
              "<td>0.7222435</td>\n",
              "<td>0.0</td>\n",
              "<td>2.2139535</td>\n",
              "<td>0.0</td>\n",
              "<td>0.7327633</td>\n",
              "<td>0.8</td>\n",
              "<td>0.7469255</td>\n",
              "<td>0.0</td>\n",
              "<td>0.0930233</td>\n",
              "<td>-100.0</td>\n",
              "<td>121.3953488</td>\n",
              "<td>0.0798654</td></tr>\n",
              "<tr><td>5</td>\n",
              "<td>0.0504202</td>\n",
              "<td>0.6930185</td>\n",
              "<td>2.7674419</td>\n",
              "<td>2.3062016</td>\n",
              "<td>1.0</td>\n",
              "<td>0.7181524</td>\n",
              "<td>0.8333333</td>\n",
              "<td>0.7421300</td>\n",
              "<td>0.0232558</td>\n",
              "<td>0.1162791</td>\n",
              "<td>176.7441860</td>\n",
              "<td>130.6201550</td>\n",
              "<td>0.1031212</td></tr>\n",
              "<tr><td>6</td>\n",
              "<td>0.1008403</td>\n",
              "<td>0.6350852</td>\n",
              "<td>2.7674419</td>\n",
              "<td>2.5368217</td>\n",
              "<td>1.0</td>\n",
              "<td>0.6638976</td>\n",
              "<td>0.9166667</td>\n",
              "<td>0.7030138</td>\n",
              "<td>0.1395349</td>\n",
              "<td>0.2558140</td>\n",
              "<td>176.7441860</td>\n",
              "<td>153.6821705</td>\n",
              "<td>0.2426561</td></tr>\n",
              "<tr><td>7</td>\n",
              "<td>0.1512605</td>\n",
              "<td>0.5824275</td>\n",
              "<td>1.8449612</td>\n",
              "<td>2.3062016</td>\n",
              "<td>0.6666667</td>\n",
              "<td>0.6005007</td>\n",
              "<td>0.8333333</td>\n",
              "<td>0.6688427</td>\n",
              "<td>0.0930233</td>\n",
              "<td>0.3488372</td>\n",
              "<td>84.4961240</td>\n",
              "<td>130.6201550</td>\n",
              "<td>0.3093635</td></tr>\n",
              "<tr><td>8</td>\n",
              "<td>0.2016807</td>\n",
              "<td>0.5335498</td>\n",
              "<td>1.8449612</td>\n",
              "<td>2.1908915</td>\n",
              "<td>0.6666667</td>\n",
              "<td>0.5599677</td>\n",
              "<td>0.7916667</td>\n",
              "<td>0.6416240</td>\n",
              "<td>0.0930233</td>\n",
              "<td>0.4418605</td>\n",
              "<td>84.4961240</td>\n",
              "<td>119.0891473</td>\n",
              "<td>0.3760710</td></tr>\n",
              "<tr><td>9</td>\n",
              "<td>0.3025210</td>\n",
              "<td>0.4627769</td>\n",
              "<td>2.3062016</td>\n",
              "<td>2.2293282</td>\n",
              "<td>0.8333333</td>\n",
              "<td>0.4978871</td>\n",
              "<td>0.8055556</td>\n",
              "<td>0.5937117</td>\n",
              "<td>0.2325581</td>\n",
              "<td>0.6744186</td>\n",
              "<td>130.6201550</td>\n",
              "<td>122.9328165</td>\n",
              "<td>0.5823133</td></tr>\n",
              "<tr><td>10</td>\n",
              "<td>0.4033613</td>\n",
              "<td>0.4061754</td>\n",
              "<td>0.9224806</td>\n",
              "<td>1.9026163</td>\n",
              "<td>0.3333333</td>\n",
              "<td>0.4278862</td>\n",
              "<td>0.6875</td>\n",
              "<td>0.5522553</td>\n",
              "<td>0.0930233</td>\n",
              "<td>0.7674419</td>\n",
              "<td>-7.7519380</td>\n",
              "<td>90.2616279</td>\n",
              "<td>0.5700734</td></tr>\n",
              "<tr><td>11</td>\n",
              "<td>0.5042017</td>\n",
              "<td>0.3613962</td>\n",
              "<td>0.9224806</td>\n",
              "<td>1.7065891</td>\n",
              "<td>0.3333333</td>\n",
              "<td>0.3872683</td>\n",
              "<td>0.6166667</td>\n",
              "<td>0.5192579</td>\n",
              "<td>0.0930233</td>\n",
              "<td>0.8604651</td>\n",
              "<td>-7.7519380</td>\n",
              "<td>70.6589147</td>\n",
              "<td>0.5578335</td></tr>\n",
              "<tr><td>12</td>\n",
              "<td>0.5966387</td>\n",
              "<td>0.2907927</td>\n",
              "<td>0.2515856</td>\n",
              "<td>1.4811661</td>\n",
              "<td>0.0909091</td>\n",
              "<td>0.3238410</td>\n",
              "<td>0.5352113</td>\n",
              "<td>0.4889821</td>\n",
              "<td>0.0232558</td>\n",
              "<td>0.8837209</td>\n",
              "<td>-74.8414376</td>\n",
              "<td>48.1166066</td>\n",
              "<td>0.4495104</td></tr>\n",
              "<tr><td>13</td>\n",
              "<td>0.6974790</td>\n",
              "<td>0.2212549</td>\n",
              "<td>0.6918605</td>\n",
              "<td>1.3670496</td>\n",
              "<td>0.25</td>\n",
              "<td>0.2614768</td>\n",
              "<td>0.4939759</td>\n",
              "<td>0.4560897</td>\n",
              "<td>0.0697674</td>\n",
              "<td>0.9534884</td>\n",
              "<td>-30.8139535</td>\n",
              "<td>36.7049594</td>\n",
              "<td>0.4008568</td></tr>\n",
              "<tr><td>14</td>\n",
              "<td>0.7983193</td>\n",
              "<td>0.1753142</td>\n",
              "<td>0.4612403</td>\n",
              "<td>1.2526316</td>\n",
              "<td>0.1666667</td>\n",
              "<td>0.1989710</td>\n",
              "<td>0.4526316</td>\n",
              "<td>0.4236116</td>\n",
              "<td>0.0465116</td>\n",
              "<td>1.0</td>\n",
              "<td>-53.8759690</td>\n",
              "<td>25.2631579</td>\n",
              "<td>0.3157895</td></tr>\n",
              "<tr><td>15</td>\n",
              "<td>0.8991597</td>\n",
              "<td>0.1276154</td>\n",
              "<td>0.0</td>\n",
              "<td>1.1121495</td>\n",
              "<td>0.0</td>\n",
              "<td>0.1443664</td>\n",
              "<td>0.4018692</td>\n",
              "<td>0.3922944</td>\n",
              "<td>0.0</td>\n",
              "<td>1.0</td>\n",
              "<td>-100.0</td>\n",
              "<td>11.2149533</td>\n",
              "<td>0.1578947</td></tr>\n",
              "<tr><td>16</td>\n",
              "<td>1.0</td>\n",
              "<td>0.0851460</td>\n",
              "<td>0.0</td>\n",
              "<td>1.0</td>\n",
              "<td>0.0</td>\n",
              "<td>0.1066246</td>\n",
              "<td>0.3613445</td>\n",
              "<td>0.3634873</td>\n",
              "<td>0.0</td>\n",
              "<td>1.0</td>\n",
              "<td>-100.0</td>\n",
              "<td>0.0</td>\n",
              "<td>0.0</td></tr></tbody>\n",
              "  </table>\n",
              "</div>\n",
              "</div>"
            ],
            "text/plain": [
              "ModelMetricsBinomial: drf\n",
              "** Reported on test data. **\n",
              "\n",
              "MSE: 0.15820433239696352\n",
              "RMSE: 0.39774908220756905\n",
              "LogLoss: 0.486642532797519\n",
              "Mean Per-Class Error: 0.208843329253366\n",
              "AUC: 0.8580171358629131\n",
              "AUCPR: 0.774258867756621\n",
              "Gini: 0.7160342717258261\n",
              "\n",
              "Confusion Matrix (Act/Pred) for max f1 @ threshold = 0.46894120670855044\n",
              "       0    1    Error    Rate\n",
              "-----  ---  ---  -------  ------------\n",
              "0      69   7    0.0921   (7.0/76.0)\n",
              "1      14   29   0.3256   (14.0/43.0)\n",
              "Total  83   36   0.1765   (21.0/119.0)\n",
              "\n",
              "Maximum Metrics: Maximum metrics at their respective thresholds\n",
              "metric                       threshold    value     idx\n",
              "---------------------------  -----------  --------  -----\n",
              "max f1                       0.468941     0.734177  35\n",
              "max f2                       0.197665     0.823755  88\n",
              "max f0point5                 0.475911     0.782123  33\n",
              "max accuracy                 0.475911     0.823529  33\n",
              "max precision                0.766133     1         0\n",
              "max recall                   0.197665     1         88\n",
              "max specificity              0.766133     1         0\n",
              "max absolute_mcc             0.468941     0.608986  35\n",
              "max min_per_class_accuracy   0.406929     0.767442  46\n",
              "max mean_per_class_accuracy  0.406929     0.791616  46\n",
              "max tns                      0.766133     76        0\n",
              "max fns                      0.766133     42        0\n",
              "max fps                      0.085146     76        117\n",
              "max tps                      0.197665     43        88\n",
              "max tnr                      0.766133     1         0\n",
              "max fnr                      0.766133     0.976744  0\n",
              "max fpr                      0.085146     1         117\n",
              "max tpr                      0.197665     1         88\n",
              "\n",
              "Gains/Lift Table: Avg response rate: 36.13 %, avg score: 36.35 %\n",
              "group    cumulative_data_fraction    lower_threshold    lift      cumulative_lift    response_rate    score     cumulative_response_rate    cumulative_score    capture_rate    cumulative_capture_rate    gain      cumulative_gain    kolmogorov_smirnov\n",
              "-------  --------------------------  -----------------  --------  -----------------  ---------------  --------  --------------------------  ------------------  --------------  -------------------------  --------  -----------------  --------------------\n",
              "1        0.0168067                   0.751615           2.76744   2.76744            1                0.759752  1                           0.759752            0.0465116       0.0465116                  176.744   176.744            0.0465116\n",
              "2        0.0252101                   0.741864           2.76744   2.76744            1                0.743622  1                           0.754375            0.0232558       0.0697674                  176.744   176.744            0.0697674\n",
              "3        0.0336134                   0.735512           2.76744   2.76744            1                0.738739  1                           0.750466            0.0232558       0.0930233                  176.744   176.744            0.0930233\n",
              "4        0.0420168                   0.722243           0         2.21395            0                0.732763  0.8                         0.746925            0               0.0930233                  -100      121.395            0.0798654\n",
              "5        0.0504202                   0.693019           2.76744   2.3062             1                0.718152  0.833333                    0.74213             0.0232558       0.116279                   176.744   130.62             0.103121\n",
              "6        0.10084                     0.635085           2.76744   2.53682            1                0.663898  0.916667                    0.703014            0.139535        0.255814                   176.744   153.682            0.242656\n",
              "7        0.151261                    0.582427           1.84496   2.3062             0.666667         0.600501  0.833333                    0.668843            0.0930233       0.348837                   84.4961   130.62             0.309364\n",
              "8        0.201681                    0.53355            1.84496   2.19089            0.666667         0.559968  0.791667                    0.641624            0.0930233       0.44186                    84.4961   119.089            0.376071\n",
              "9        0.302521                    0.462777           2.3062    2.22933            0.833333         0.497887  0.805556                    0.593712            0.232558        0.674419                   130.62    122.933            0.582313\n",
              "10       0.403361                    0.406175           0.922481  1.90262            0.333333         0.427886  0.6875                      0.552255            0.0930233       0.767442                   -7.75194  90.2616            0.570073\n",
              "11       0.504202                    0.361396           0.922481  1.70659            0.333333         0.387268  0.616667                    0.519258            0.0930233       0.860465                   -7.75194  70.6589            0.557834\n",
              "12       0.596639                    0.290793           0.251586  1.48117            0.0909091        0.323841  0.535211                    0.488982            0.0232558       0.883721                   -74.8414  48.1166            0.44951\n",
              "13       0.697479                    0.221255           0.69186   1.36705            0.25             0.261477  0.493976                    0.45609             0.0697674       0.953488                   -30.814   36.705             0.400857\n",
              "14       0.798319                    0.175314           0.46124   1.25263            0.166667         0.198971  0.452632                    0.423612            0.0465116       1                          -53.876   25.2632            0.315789\n",
              "15       0.89916                     0.127615           0         1.11215            0                0.144366  0.401869                    0.392294            0               1                          -100      11.215             0.157895\n",
              "16       1                           0.085146           0         1                  0                0.106625  0.361345                    0.363487            0               1                          -100      0                  0"
            ]
          },
          "execution_count": 45,
          "metadata": {},
          "output_type": "execute_result"
        }
      ],
      "source": [
        "tree = H2ORandomForestEstimator(max_depth=3, seed=42)\n",
        "\n",
        "tree.train(x=features, y='Outcome', training_frame=train, \n",
        "           validation_frame=test)\n",
        "\n",
        "tree.model_performance(test)"
      ]
    },
    {
      "cell_type": "markdown",
      "metadata": {
        "id": "lQCMCcJf-wfo"
      },
      "source": [
        "#### Conclusão"
      ]
    },
    {
      "cell_type": "markdown",
      "metadata": {
        "id": "6fjgs1deyajU"
      },
      "source": [
        "Tivemos um bom aumento na acurácia do modelo em comparação com a regressão logistica. Tentaremos outros valores de profundidade da árvore com GRID SEARCH."
      ]
    },
    {
      "cell_type": "markdown",
      "metadata": {
        "id": "D8f2KgmywiaL"
      },
      "source": [
        "### Random forest com GRID SEARCH"
      ]
    },
    {
      "cell_type": "code",
      "execution_count": 46,
      "metadata": {
        "id": "zBkFiJdZF3uU"
      },
      "outputs": [],
      "source": [
        "from h2o.grid.grid_search import H2OGridSearch"
      ]
    },
    {
      "cell_type": "code",
      "execution_count": 47,
      "metadata": {
        "colab": {
          "base_uri": "https://localhost:8080/",
          "height": 1428
        },
        "id": "XnaqmGiVH8YM",
        "outputId": "d353a2c3-74fd-41df-e2e6-06f207dde5dd"
      },
      "outputs": [
        {
          "name": "stdout",
          "output_type": "stream",
          "text": [
            "drf Grid Build progress: |███████████████████████████████████████████████████████| (done) 100%\n",
            "Hyper-Parameter Search Summary: ordered by decreasing accuracy\n",
            "    max_depth    model_ids                                                     accuracy\n",
            "--  -----------  ------------------------------------------------------------  ----------\n",
            "    6            Grid_DRF_py_3_sid_9fc4_model_python_1671595841208_96_model_5  0.790447\n",
            "    5            Grid_DRF_py_3_sid_9fc4_model_python_1671595841208_96_model_4  0.768875\n",
            "    4            Grid_DRF_py_3_sid_9fc4_model_python_1671595841208_96_model_3  0.767334\n",
            "    3            Grid_DRF_py_3_sid_9fc4_model_python_1671595841208_96_model_2  0.764253\n",
            "    2            Grid_DRF_py_3_sid_9fc4_model_python_1671595841208_96_model_1  0.75963\n"
          ]
        },
        {
          "data": {
            "text/html": [
              "<pre style='margin: 1em 0 1em 0;'>ModelMetricsBinomial: drf\n",
              "** Reported on test data. **\n",
              "\n",
              "MSE: 0.150682089073954\n",
              "RMSE: 0.38817790904938676\n",
              "LogLoss: 0.46117962931873124\n",
              "Mean Per-Class Error: 0.21144430844553241\n",
              "AUC: 0.8567931456548348\n",
              "AUCPR: 0.7587018374746664\n",
              "Gini: 0.7135862913096696</pre>\n",
              "<div style='margin: 1em 0 1em 0;'>\n",
              "<style>\n",
              "\n",
              "#h2o-table-5.h2o-container {\n",
              "  overflow-x: auto;\n",
              "}\n",
              "#h2o-table-5 .h2o-table {\n",
              "  /* width: 100%; */\n",
              "  margin-top: 1em;\n",
              "  margin-bottom: 1em;\n",
              "}\n",
              "#h2o-table-5 .h2o-table caption {\n",
              "  white-space: nowrap;\n",
              "  caption-side: top;\n",
              "  text-align: left;\n",
              "  /* margin-left: 1em; */\n",
              "  margin: 0;\n",
              "  font-size: larger;\n",
              "}\n",
              "#h2o-table-5 .h2o-table thead {\n",
              "  white-space: nowrap; \n",
              "  position: sticky;\n",
              "  top: 0;\n",
              "  box-shadow: 0 -1px inset;\n",
              "}\n",
              "#h2o-table-5 .h2o-table tbody {\n",
              "  overflow: auto;\n",
              "}\n",
              "#h2o-table-5 .h2o-table th,\n",
              "#h2o-table-5 .h2o-table td {\n",
              "  text-align: right;\n",
              "  /* border: 1px solid; */\n",
              "}\n",
              "#h2o-table-5 .h2o-table tr:nth-child(even) {\n",
              "  /* background: #F5F5F5 */\n",
              "}\n",
              "\n",
              "</style>      \n",
              "<div id=\"h2o-table-5\" class=\"h2o-container\">\n",
              "  <table class=\"h2o-table\">\n",
              "    <caption>Confusion Matrix (Act/Pred) for max f1 @ threshold = 0.4343874019384384</caption>\n",
              "    <thead><tr><th></th>\n",
              "<th>0</th>\n",
              "<th>1</th>\n",
              "<th>Error</th>\n",
              "<th>Rate</th></tr></thead>\n",
              "    <tbody><tr><td>0</td>\n",
              "<td>58.0</td>\n",
              "<td>18.0</td>\n",
              "<td>0.2368</td>\n",
              "<td> (18.0/76.0)</td></tr>\n",
              "<tr><td>1</td>\n",
              "<td>8.0</td>\n",
              "<td>35.0</td>\n",
              "<td>0.186</td>\n",
              "<td> (8.0/43.0)</td></tr>\n",
              "<tr><td>Total</td>\n",
              "<td>66.0</td>\n",
              "<td>53.0</td>\n",
              "<td>0.2185</td>\n",
              "<td> (26.0/119.0)</td></tr></tbody>\n",
              "  </table>\n",
              "</div>\n",
              "</div>\n",
              "<div style='margin: 1em 0 1em 0;'>\n",
              "<style>\n",
              "\n",
              "#h2o-table-6.h2o-container {\n",
              "  overflow-x: auto;\n",
              "}\n",
              "#h2o-table-6 .h2o-table {\n",
              "  /* width: 100%; */\n",
              "  margin-top: 1em;\n",
              "  margin-bottom: 1em;\n",
              "}\n",
              "#h2o-table-6 .h2o-table caption {\n",
              "  white-space: nowrap;\n",
              "  caption-side: top;\n",
              "  text-align: left;\n",
              "  /* margin-left: 1em; */\n",
              "  margin: 0;\n",
              "  font-size: larger;\n",
              "}\n",
              "#h2o-table-6 .h2o-table thead {\n",
              "  white-space: nowrap; \n",
              "  position: sticky;\n",
              "  top: 0;\n",
              "  box-shadow: 0 -1px inset;\n",
              "}\n",
              "#h2o-table-6 .h2o-table tbody {\n",
              "  overflow: auto;\n",
              "}\n",
              "#h2o-table-6 .h2o-table th,\n",
              "#h2o-table-6 .h2o-table td {\n",
              "  text-align: right;\n",
              "  /* border: 1px solid; */\n",
              "}\n",
              "#h2o-table-6 .h2o-table tr:nth-child(even) {\n",
              "  /* background: #F5F5F5 */\n",
              "}\n",
              "\n",
              "</style>      \n",
              "<div id=\"h2o-table-6\" class=\"h2o-container\">\n",
              "  <table class=\"h2o-table\">\n",
              "    <caption>Maximum Metrics: Maximum metrics at their respective thresholds</caption>\n",
              "    <thead><tr><th>metric</th>\n",
              "<th>threshold</th>\n",
              "<th>value</th>\n",
              "<th>idx</th></tr></thead>\n",
              "    <tbody><tr><td>max f1</td>\n",
              "<td>0.4343874</td>\n",
              "<td>0.7291667</td>\n",
              "<td>52.0</td></tr>\n",
              "<tr><td>max f2</td>\n",
              "<td>0.1269880</td>\n",
              "<td>0.8174905</td>\n",
              "<td>90.0</td></tr>\n",
              "<tr><td>max f0point5</td>\n",
              "<td>0.5543872</td>\n",
              "<td>0.7650273</td>\n",
              "<td>34.0</td></tr>\n",
              "<tr><td>max accuracy</td>\n",
              "<td>0.5543872</td>\n",
              "<td>0.8151261</td>\n",
              "<td>34.0</td></tr>\n",
              "<tr><td>max precision</td>\n",
              "<td>0.8810058</td>\n",
              "<td>1.0</td>\n",
              "<td>0.0</td></tr>\n",
              "<tr><td>max recall</td>\n",
              "<td>0.1269880</td>\n",
              "<td>1.0</td>\n",
              "<td>90.0</td></tr>\n",
              "<tr><td>max specificity</td>\n",
              "<td>0.8810058</td>\n",
              "<td>1.0</td>\n",
              "<td>0.0</td></tr>\n",
              "<tr><td>max absolute_mcc</td>\n",
              "<td>0.5493961</td>\n",
              "<td>0.5906961</td>\n",
              "<td>36.0</td></tr>\n",
              "<tr><td>max min_per_class_accuracy</td>\n",
              "<td>0.4545093</td>\n",
              "<td>0.7763158</td>\n",
              "<td>50.0</td></tr>\n",
              "<tr><td>max mean_per_class_accuracy</td>\n",
              "<td>0.4343874</td>\n",
              "<td>0.7885557</td>\n",
              "<td>52.0</td></tr>\n",
              "<tr><td>max tns</td>\n",
              "<td>0.8810058</td>\n",
              "<td>76.0</td>\n",
              "<td>0.0</td></tr>\n",
              "<tr><td>max fns</td>\n",
              "<td>0.8810058</td>\n",
              "<td>42.0</td>\n",
              "<td>0.0</td></tr>\n",
              "<tr><td>max fps</td>\n",
              "<td>0.0111927</td>\n",
              "<td>76.0</td>\n",
              "<td>118.0</td></tr>\n",
              "<tr><td>max tps</td>\n",
              "<td>0.1269880</td>\n",
              "<td>43.0</td>\n",
              "<td>90.0</td></tr>\n",
              "<tr><td>max tnr</td>\n",
              "<td>0.8810058</td>\n",
              "<td>1.0</td>\n",
              "<td>0.0</td></tr>\n",
              "<tr><td>max fnr</td>\n",
              "<td>0.8810058</td>\n",
              "<td>0.9767442</td>\n",
              "<td>0.0</td></tr>\n",
              "<tr><td>max fpr</td>\n",
              "<td>0.0111927</td>\n",
              "<td>1.0</td>\n",
              "<td>118.0</td></tr>\n",
              "<tr><td>max tpr</td>\n",
              "<td>0.1269880</td>\n",
              "<td>1.0</td>\n",
              "<td>90.0</td></tr></tbody>\n",
              "  </table>\n",
              "</div>\n",
              "</div>\n",
              "<div style='margin: 1em 0 1em 0;'>\n",
              "<style>\n",
              "\n",
              "#h2o-table-7.h2o-container {\n",
              "  overflow-x: auto;\n",
              "}\n",
              "#h2o-table-7 .h2o-table {\n",
              "  /* width: 100%; */\n",
              "  margin-top: 1em;\n",
              "  margin-bottom: 1em;\n",
              "}\n",
              "#h2o-table-7 .h2o-table caption {\n",
              "  white-space: nowrap;\n",
              "  caption-side: top;\n",
              "  text-align: left;\n",
              "  /* margin-left: 1em; */\n",
              "  margin: 0;\n",
              "  font-size: larger;\n",
              "}\n",
              "#h2o-table-7 .h2o-table thead {\n",
              "  white-space: nowrap; \n",
              "  position: sticky;\n",
              "  top: 0;\n",
              "  box-shadow: 0 -1px inset;\n",
              "}\n",
              "#h2o-table-7 .h2o-table tbody {\n",
              "  overflow: auto;\n",
              "}\n",
              "#h2o-table-7 .h2o-table th,\n",
              "#h2o-table-7 .h2o-table td {\n",
              "  text-align: right;\n",
              "  /* border: 1px solid; */\n",
              "}\n",
              "#h2o-table-7 .h2o-table tr:nth-child(even) {\n",
              "  /* background: #F5F5F5 */\n",
              "}\n",
              "\n",
              "</style>      \n",
              "<div id=\"h2o-table-7\" class=\"h2o-container\">\n",
              "  <table class=\"h2o-table\">\n",
              "    <caption>Gains/Lift Table: Avg response rate: 36.13 %, avg score: 37.79 %</caption>\n",
              "    <thead><tr><th>group</th>\n",
              "<th>cumulative_data_fraction</th>\n",
              "<th>lower_threshold</th>\n",
              "<th>lift</th>\n",
              "<th>cumulative_lift</th>\n",
              "<th>response_rate</th>\n",
              "<th>score</th>\n",
              "<th>cumulative_response_rate</th>\n",
              "<th>cumulative_score</th>\n",
              "<th>capture_rate</th>\n",
              "<th>cumulative_capture_rate</th>\n",
              "<th>gain</th>\n",
              "<th>cumulative_gain</th>\n",
              "<th>kolmogorov_smirnov</th></tr></thead>\n",
              "    <tbody><tr><td>1</td>\n",
              "<td>0.0168067</td>\n",
              "<td>0.8655355</td>\n",
              "<td>2.7674419</td>\n",
              "<td>2.7674419</td>\n",
              "<td>1.0</td>\n",
              "<td>0.8750824</td>\n",
              "<td>1.0</td>\n",
              "<td>0.8750824</td>\n",
              "<td>0.0465116</td>\n",
              "<td>0.0465116</td>\n",
              "<td>176.7441860</td>\n",
              "<td>176.7441860</td>\n",
              "<td>0.0465116</td></tr>\n",
              "<tr><td>2</td>\n",
              "<td>0.0252101</td>\n",
              "<td>0.8474317</td>\n",
              "<td>2.7674419</td>\n",
              "<td>2.7674419</td>\n",
              "<td>1.0</td>\n",
              "<td>0.8490279</td>\n",
              "<td>1.0</td>\n",
              "<td>0.8663976</td>\n",
              "<td>0.0232558</td>\n",
              "<td>0.0697674</td>\n",
              "<td>176.7441860</td>\n",
              "<td>176.7441860</td>\n",
              "<td>0.0697674</td></tr>\n",
              "<tr><td>3</td>\n",
              "<td>0.0336134</td>\n",
              "<td>0.8422047</td>\n",
              "<td>0.0</td>\n",
              "<td>2.0755814</td>\n",
              "<td>0.0</td>\n",
              "<td>0.8445940</td>\n",
              "<td>0.75</td>\n",
              "<td>0.8609467</td>\n",
              "<td>0.0</td>\n",
              "<td>0.0697674</td>\n",
              "<td>-100.0</td>\n",
              "<td>107.5581395</td>\n",
              "<td>0.0566095</td></tr>\n",
              "<tr><td>4</td>\n",
              "<td>0.0420168</td>\n",
              "<td>0.8212338</td>\n",
              "<td>2.7674419</td>\n",
              "<td>2.2139535</td>\n",
              "<td>1.0</td>\n",
              "<td>0.8401694</td>\n",
              "<td>0.8</td>\n",
              "<td>0.8567912</td>\n",
              "<td>0.0232558</td>\n",
              "<td>0.0930233</td>\n",
              "<td>176.7441860</td>\n",
              "<td>121.3953488</td>\n",
              "<td>0.0798654</td></tr>\n",
              "<tr><td>5</td>\n",
              "<td>0.0504202</td>\n",
              "<td>0.7951337</td>\n",
              "<td>2.7674419</td>\n",
              "<td>2.3062016</td>\n",
              "<td>1.0</td>\n",
              "<td>0.8138699</td>\n",
              "<td>0.8333333</td>\n",
              "<td>0.8496377</td>\n",
              "<td>0.0232558</td>\n",
              "<td>0.1162791</td>\n",
              "<td>176.7441860</td>\n",
              "<td>130.6201550</td>\n",
              "<td>0.1031212</td></tr>\n",
              "<tr><td>6</td>\n",
              "<td>0.1008403</td>\n",
              "<td>0.7522240</td>\n",
              "<td>2.3062016</td>\n",
              "<td>2.3062016</td>\n",
              "<td>0.8333333</td>\n",
              "<td>0.7744144</td>\n",
              "<td>0.8333333</td>\n",
              "<td>0.8120260</td>\n",
              "<td>0.1162791</td>\n",
              "<td>0.2325581</td>\n",
              "<td>130.6201550</td>\n",
              "<td>130.6201550</td>\n",
              "<td>0.2062424</td></tr>\n",
              "<tr><td>7</td>\n",
              "<td>0.1512605</td>\n",
              "<td>0.6679962</td>\n",
              "<td>2.3062016</td>\n",
              "<td>2.3062016</td>\n",
              "<td>0.8333333</td>\n",
              "<td>0.7058694</td>\n",
              "<td>0.8333333</td>\n",
              "<td>0.7766405</td>\n",
              "<td>0.1162791</td>\n",
              "<td>0.3488372</td>\n",
              "<td>130.6201550</td>\n",
              "<td>130.6201550</td>\n",
              "<td>0.3093635</td></tr>\n",
              "<tr><td>8</td>\n",
              "<td>0.2016807</td>\n",
              "<td>0.6298742</td>\n",
              "<td>1.8449612</td>\n",
              "<td>2.1908915</td>\n",
              "<td>0.6666667</td>\n",
              "<td>0.6547227</td>\n",
              "<td>0.7916667</td>\n",
              "<td>0.7461610</td>\n",
              "<td>0.0930233</td>\n",
              "<td>0.4418605</td>\n",
              "<td>84.4961240</td>\n",
              "<td>119.0891473</td>\n",
              "<td>0.3760710</td></tr>\n",
              "<tr><td>9</td>\n",
              "<td>0.3025210</td>\n",
              "<td>0.5505954</td>\n",
              "<td>2.0755814</td>\n",
              "<td>2.1524548</td>\n",
              "<td>0.75</td>\n",
              "<td>0.5838752</td>\n",
              "<td>0.7777778</td>\n",
              "<td>0.6920657</td>\n",
              "<td>0.2093023</td>\n",
              "<td>0.6511628</td>\n",
              "<td>107.5581395</td>\n",
              "<td>115.2454780</td>\n",
              "<td>0.5458996</td></tr>\n",
              "<tr><td>10</td>\n",
              "<td>0.4033613</td>\n",
              "<td>0.4684510</td>\n",
              "<td>1.1531008</td>\n",
              "<td>1.9026163</td>\n",
              "<td>0.4166667</td>\n",
              "<td>0.4987347</td>\n",
              "<td>0.6875</td>\n",
              "<td>0.6437330</td>\n",
              "<td>0.1162791</td>\n",
              "<td>0.7674419</td>\n",
              "<td>15.3100775</td>\n",
              "<td>90.2616279</td>\n",
              "<td>0.5700734</td></tr>\n",
              "<tr><td>11</td>\n",
              "<td>0.5042017</td>\n",
              "<td>0.3668813</td>\n",
              "<td>0.9224806</td>\n",
              "<td>1.7065891</td>\n",
              "<td>0.3333333</td>\n",
              "<td>0.4115205</td>\n",
              "<td>0.6166667</td>\n",
              "<td>0.5972905</td>\n",
              "<td>0.0930233</td>\n",
              "<td>0.8604651</td>\n",
              "<td>-7.7519380</td>\n",
              "<td>70.6589147</td>\n",
              "<td>0.5578335</td></tr>\n",
              "<tr><td>12</td>\n",
              "<td>0.5966387</td>\n",
              "<td>0.2831908</td>\n",
              "<td>0.5031712</td>\n",
              "<td>1.5201441</td>\n",
              "<td>0.1818182</td>\n",
              "<td>0.3175340</td>\n",
              "<td>0.5492958</td>\n",
              "<td>0.5539479</td>\n",
              "<td>0.0465116</td>\n",
              "<td>0.9069767</td>\n",
              "<td>-49.6828753</td>\n",
              "<td>52.0144121</td>\n",
              "<td>0.4859241</td></tr>\n",
              "<tr><td>13</td>\n",
              "<td>0.6974790</td>\n",
              "<td>0.1583871</td>\n",
              "<td>0.4612403</td>\n",
              "<td>1.3670496</td>\n",
              "<td>0.1666667</td>\n",
              "<td>0.2151877</td>\n",
              "<td>0.4939759</td>\n",
              "<td>0.5049705</td>\n",
              "<td>0.0465116</td>\n",
              "<td>0.9534884</td>\n",
              "<td>-53.8759690</td>\n",
              "<td>36.7049594</td>\n",
              "<td>0.4008568</td></tr>\n",
              "<tr><td>14</td>\n",
              "<td>0.7983193</td>\n",
              "<td>0.1123760</td>\n",
              "<td>0.4612403</td>\n",
              "<td>1.2526316</td>\n",
              "<td>0.1666667</td>\n",
              "<td>0.1351033</td>\n",
              "<td>0.4526316</td>\n",
              "<td>0.4582505</td>\n",
              "<td>0.0465116</td>\n",
              "<td>1.0</td>\n",
              "<td>-53.8759690</td>\n",
              "<td>25.2631579</td>\n",
              "<td>0.3157895</td></tr>\n",
              "<tr><td>15</td>\n",
              "<td>0.8991597</td>\n",
              "<td>0.0662221</td>\n",
              "<td>0.0</td>\n",
              "<td>1.1121495</td>\n",
              "<td>0.0</td>\n",
              "<td>0.0884954</td>\n",
              "<td>0.4018692</td>\n",
              "<td>0.4167826</td>\n",
              "<td>0.0</td>\n",
              "<td>1.0</td>\n",
              "<td>-100.0</td>\n",
              "<td>11.2149533</td>\n",
              "<td>0.1578947</td></tr>\n",
              "<tr><td>16</td>\n",
              "<td>1.0</td>\n",
              "<td>0.0111927</td>\n",
              "<td>0.0</td>\n",
              "<td>1.0</td>\n",
              "<td>0.0</td>\n",
              "<td>0.0309565</td>\n",
              "<td>0.3613445</td>\n",
              "<td>0.3778758</td>\n",
              "<td>0.0</td>\n",
              "<td>1.0</td>\n",
              "<td>-100.0</td>\n",
              "<td>0.0</td>\n",
              "<td>0.0</td></tr></tbody>\n",
              "  </table>\n",
              "</div>\n",
              "</div>"
            ],
            "text/plain": [
              "ModelMetricsBinomial: drf\n",
              "** Reported on test data. **\n",
              "\n",
              "MSE: 0.150682089073954\n",
              "RMSE: 0.38817790904938676\n",
              "LogLoss: 0.46117962931873124\n",
              "Mean Per-Class Error: 0.21144430844553241\n",
              "AUC: 0.8567931456548348\n",
              "AUCPR: 0.7587018374746664\n",
              "Gini: 0.7135862913096696\n",
              "\n",
              "Confusion Matrix (Act/Pred) for max f1 @ threshold = 0.4343874019384384\n",
              "       0    1    Error    Rate\n",
              "-----  ---  ---  -------  ------------\n",
              "0      58   18   0.2368   (18.0/76.0)\n",
              "1      8    35   0.186    (8.0/43.0)\n",
              "Total  66   53   0.2185   (26.0/119.0)\n",
              "\n",
              "Maximum Metrics: Maximum metrics at their respective thresholds\n",
              "metric                       threshold    value     idx\n",
              "---------------------------  -----------  --------  -----\n",
              "max f1                       0.434387     0.729167  52\n",
              "max f2                       0.126988     0.81749   90\n",
              "max f0point5                 0.554387     0.765027  34\n",
              "max accuracy                 0.554387     0.815126  34\n",
              "max precision                0.881006     1         0\n",
              "max recall                   0.126988     1         90\n",
              "max specificity              0.881006     1         0\n",
              "max absolute_mcc             0.549396     0.590696  36\n",
              "max min_per_class_accuracy   0.454509     0.776316  50\n",
              "max mean_per_class_accuracy  0.434387     0.788556  52\n",
              "max tns                      0.881006     76        0\n",
              "max fns                      0.881006     42        0\n",
              "max fps                      0.0111927    76        118\n",
              "max tps                      0.126988     43        90\n",
              "max tnr                      0.881006     1         0\n",
              "max fnr                      0.881006     0.976744  0\n",
              "max fpr                      0.0111927    1         118\n",
              "max tpr                      0.126988     1         90\n",
              "\n",
              "Gains/Lift Table: Avg response rate: 36.13 %, avg score: 37.79 %\n",
              "group    cumulative_data_fraction    lower_threshold    lift      cumulative_lift    response_rate    score      cumulative_response_rate    cumulative_score    capture_rate    cumulative_capture_rate    gain      cumulative_gain    kolmogorov_smirnov\n",
              "-------  --------------------------  -----------------  --------  -----------------  ---------------  ---------  --------------------------  ------------------  --------------  -------------------------  --------  -----------------  --------------------\n",
              "1        0.0168067                   0.865535           2.76744   2.76744            1                0.875082   1                           0.875082            0.0465116       0.0465116                  176.744   176.744            0.0465116\n",
              "2        0.0252101                   0.847432           2.76744   2.76744            1                0.849028   1                           0.866398            0.0232558       0.0697674                  176.744   176.744            0.0697674\n",
              "3        0.0336134                   0.842205           0         2.07558            0                0.844594   0.75                        0.860947            0               0.0697674                  -100      107.558            0.0566095\n",
              "4        0.0420168                   0.821234           2.76744   2.21395            1                0.840169   0.8                         0.856791            0.0232558       0.0930233                  176.744   121.395            0.0798654\n",
              "5        0.0504202                   0.795134           2.76744   2.3062             1                0.81387    0.833333                    0.849638            0.0232558       0.116279                   176.744   130.62             0.103121\n",
              "6        0.10084                     0.752224           2.3062    2.3062             0.833333         0.774414   0.833333                    0.812026            0.116279        0.232558                   130.62    130.62             0.206242\n",
              "7        0.151261                    0.667996           2.3062    2.3062             0.833333         0.705869   0.833333                    0.776641            0.116279        0.348837                   130.62    130.62             0.309364\n",
              "8        0.201681                    0.629874           1.84496   2.19089            0.666667         0.654723   0.791667                    0.746161            0.0930233       0.44186                    84.4961   119.089            0.376071\n",
              "9        0.302521                    0.550595           2.07558   2.15245            0.75             0.583875   0.777778                    0.692066            0.209302        0.651163                   107.558   115.245            0.5459\n",
              "10       0.403361                    0.468451           1.1531    1.90262            0.416667         0.498735   0.6875                      0.643733            0.116279        0.767442                   15.3101   90.2616            0.570073\n",
              "11       0.504202                    0.366881           0.922481  1.70659            0.333333         0.41152    0.616667                    0.59729             0.0930233       0.860465                   -7.75194  70.6589            0.557834\n",
              "12       0.596639                    0.283191           0.503171  1.52014            0.181818         0.317534   0.549296                    0.553948            0.0465116       0.906977                   -49.6829  52.0144            0.485924\n",
              "13       0.697479                    0.158387           0.46124   1.36705            0.166667         0.215188   0.493976                    0.504971            0.0465116       0.953488                   -53.876   36.705             0.400857\n",
              "14       0.798319                    0.112376           0.46124   1.25263            0.166667         0.135103   0.452632                    0.45825             0.0465116       1                          -53.876   25.2632            0.315789\n",
              "15       0.89916                     0.0662221          0         1.11215            0                0.0884954  0.401869                    0.416783            0               1                          -100      11.215             0.157895\n",
              "16       1                           0.0111927          0         1                  0                0.0309565  0.361345                    0.377876            0               1                          -100      0                  0"
            ]
          },
          "execution_count": 47,
          "metadata": {},
          "output_type": "execute_result"
        }
      ],
      "source": [
        "params = {'max_depth': [2,3,4,5,6]}\n",
        "grid = H2OGridSearch(model=H2ORandomForestEstimator, hyper_params=params)\n",
        "\n",
        "grid.train(features, 'Outcome', train, nfolds=5)\n",
        "print(grid.get_grid(sort_by='accuracy', decreasing=True))\n",
        "\n",
        "grid.models[0].model_performance(test)"
      ]
    },
    {
      "cell_type": "markdown",
      "metadata": {
        "id": "QhnVQm7a1u5_"
      },
      "source": [
        "#### Conclusão"
      ]
    },
    {
      "cell_type": "markdown",
      "metadata": {
        "id": "9EVxlKOS1xGd"
      },
      "source": [
        "Como o aumento da profundidade das árvores, o modelo Random Forest não conseguiu generalizar valores nunca vistos com mais acurácia."
      ]
    },
    {
      "cell_type": "markdown",
      "metadata": {
        "id": "OpIujubPwnLG"
      },
      "source": [
        "### AUTOML"
      ]
    },
    {
      "cell_type": "code",
      "execution_count": 48,
      "metadata": {
        "id": "jBwATCelnoyO"
      },
      "outputs": [],
      "source": [
        "from h2o.automl import H2OAutoML"
      ]
    },
    {
      "cell_type": "code",
      "execution_count": 49,
      "metadata": {
        "colab": {
          "base_uri": "https://localhost:8080/",
          "height": 1551
        },
        "id": "5O9Fsd_gmRLC",
        "outputId": "6509d1b5-710a-403e-bb9e-e6bb3368a8d9"
      },
      "outputs": [
        {
          "name": "stdout",
          "output_type": "stream",
          "text": [
            "AutoML progress: |███████████████████████████████████████████████████████████████| (done) 100%\n",
            "model_id                                                     auc    logloss     aucpr    mean_per_class_error      rmse       mse\n",
            "StackedEnsemble_BestOfFamily_1_AutoML_1_20221221_41135  0.83434    0.483146  0.68915                 0.228538  0.396017  0.156829\n",
            "StackedEnsemble_AllModels_1_AutoML_1_20221221_41135     0.829906   0.486051  0.674969                0.229628  0.398216  0.158576\n",
            "GBM_4_AutoML_1_20221221_41135                           0.827521   0.488007  0.672559                0.239104  0.4023    0.161845\n",
            "DRF_1_AutoML_1_20221221_41135                           0.821866   0.536117  0.680078                0.240419  0.401809  0.161451\n",
            "GLM_1_AutoML_1_20221221_41135                           0.821745   0.49315   0.694547                0.242096  0.400797  0.160639\n",
            "GBM_1_AutoML_1_20221221_41135                           0.818611   0.494383  0.663689                0.242552  0.405763  0.164644\n",
            "GBM_2_AutoML_1_20221221_41135                           0.815943   0.500395  0.644684                0.23761   0.406719  0.165421\n",
            "GBM_3_AutoML_1_20221221_41135                           0.814298   0.498278  0.664412                0.239874  0.40627   0.165055\n",
            "[8 rows x 7 columns]\n",
            "\n"
          ]
        },
        {
          "data": {
            "text/html": [
              "<pre style='margin: 1em 0 1em 0;'>ModelMetricsBinomialGLM: stackedensemble\n",
              "** Reported on test data. **\n",
              "\n",
              "MSE: 0.14655403757466068\n",
              "RMSE: 0.3828237682990186\n",
              "LogLoss: 0.44835871161171575\n",
              "AUC: 0.8589351285189718\n",
              "AUCPR: 0.7728370433416273\n",
              "Gini: 0.7178702570379436\n",
              "Null degrees of freedom: 118\n",
              "Residual degrees of freedom: 115\n",
              "Null deviance: 155.80886679073578\n",
              "Residual deviance: 106.70937336358838\n",
              "AIC: 114.70937336358838</pre>\n",
              "<div style='margin: 1em 0 1em 0;'>\n",
              "<style>\n",
              "\n",
              "#h2o-table-8.h2o-container {\n",
              "  overflow-x: auto;\n",
              "}\n",
              "#h2o-table-8 .h2o-table {\n",
              "  /* width: 100%; */\n",
              "  margin-top: 1em;\n",
              "  margin-bottom: 1em;\n",
              "}\n",
              "#h2o-table-8 .h2o-table caption {\n",
              "  white-space: nowrap;\n",
              "  caption-side: top;\n",
              "  text-align: left;\n",
              "  /* margin-left: 1em; */\n",
              "  margin: 0;\n",
              "  font-size: larger;\n",
              "}\n",
              "#h2o-table-8 .h2o-table thead {\n",
              "  white-space: nowrap; \n",
              "  position: sticky;\n",
              "  top: 0;\n",
              "  box-shadow: 0 -1px inset;\n",
              "}\n",
              "#h2o-table-8 .h2o-table tbody {\n",
              "  overflow: auto;\n",
              "}\n",
              "#h2o-table-8 .h2o-table th,\n",
              "#h2o-table-8 .h2o-table td {\n",
              "  text-align: right;\n",
              "  /* border: 1px solid; */\n",
              "}\n",
              "#h2o-table-8 .h2o-table tr:nth-child(even) {\n",
              "  /* background: #F5F5F5 */\n",
              "}\n",
              "\n",
              "</style>      \n",
              "<div id=\"h2o-table-8\" class=\"h2o-container\">\n",
              "  <table class=\"h2o-table\">\n",
              "    <caption>Confusion Matrix (Act/Pred) for max f1 @ threshold = 0.3887361964959848</caption>\n",
              "    <thead><tr><th></th>\n",
              "<th>0</th>\n",
              "<th>1</th>\n",
              "<th>Error</th>\n",
              "<th>Rate</th></tr></thead>\n",
              "    <tbody><tr><td>0</td>\n",
              "<td>59.0</td>\n",
              "<td>17.0</td>\n",
              "<td>0.2237</td>\n",
              "<td> (17.0/76.0)</td></tr>\n",
              "<tr><td>1</td>\n",
              "<td>7.0</td>\n",
              "<td>36.0</td>\n",
              "<td>0.1628</td>\n",
              "<td> (7.0/43.0)</td></tr>\n",
              "<tr><td>Total</td>\n",
              "<td>66.0</td>\n",
              "<td>53.0</td>\n",
              "<td>0.2017</td>\n",
              "<td> (24.0/119.0)</td></tr></tbody>\n",
              "  </table>\n",
              "</div>\n",
              "</div>\n",
              "<div style='margin: 1em 0 1em 0;'>\n",
              "<style>\n",
              "\n",
              "#h2o-table-9.h2o-container {\n",
              "  overflow-x: auto;\n",
              "}\n",
              "#h2o-table-9 .h2o-table {\n",
              "  /* width: 100%; */\n",
              "  margin-top: 1em;\n",
              "  margin-bottom: 1em;\n",
              "}\n",
              "#h2o-table-9 .h2o-table caption {\n",
              "  white-space: nowrap;\n",
              "  caption-side: top;\n",
              "  text-align: left;\n",
              "  /* margin-left: 1em; */\n",
              "  margin: 0;\n",
              "  font-size: larger;\n",
              "}\n",
              "#h2o-table-9 .h2o-table thead {\n",
              "  white-space: nowrap; \n",
              "  position: sticky;\n",
              "  top: 0;\n",
              "  box-shadow: 0 -1px inset;\n",
              "}\n",
              "#h2o-table-9 .h2o-table tbody {\n",
              "  overflow: auto;\n",
              "}\n",
              "#h2o-table-9 .h2o-table th,\n",
              "#h2o-table-9 .h2o-table td {\n",
              "  text-align: right;\n",
              "  /* border: 1px solid; */\n",
              "}\n",
              "#h2o-table-9 .h2o-table tr:nth-child(even) {\n",
              "  /* background: #F5F5F5 */\n",
              "}\n",
              "\n",
              "</style>      \n",
              "<div id=\"h2o-table-9\" class=\"h2o-container\">\n",
              "  <table class=\"h2o-table\">\n",
              "    <caption>Maximum Metrics: Maximum metrics at their respective thresholds</caption>\n",
              "    <thead><tr><th>metric</th>\n",
              "<th>threshold</th>\n",
              "<th>value</th>\n",
              "<th>idx</th></tr></thead>\n",
              "    <tbody><tr><td>max f1</td>\n",
              "<td>0.3887362</td>\n",
              "<td>0.7500000</td>\n",
              "<td>52.0</td></tr>\n",
              "<tr><td>max f2</td>\n",
              "<td>0.1815515</td>\n",
              "<td>0.8366534</td>\n",
              "<td>78.0</td></tr>\n",
              "<tr><td>max f0point5</td>\n",
              "<td>0.6517588</td>\n",
              "<td>0.7232704</td>\n",
              "<td>28.0</td></tr>\n",
              "<tr><td>max accuracy</td>\n",
              "<td>0.3887362</td>\n",
              "<td>0.7983193</td>\n",
              "<td>52.0</td></tr>\n",
              "<tr><td>max precision</td>\n",
              "<td>0.9034689</td>\n",
              "<td>1.0</td>\n",
              "<td>0.0</td></tr>\n",
              "<tr><td>max recall</td>\n",
              "<td>0.1010450</td>\n",
              "<td>1.0</td>\n",
              "<td>96.0</td></tr>\n",
              "<tr><td>max specificity</td>\n",
              "<td>0.9034689</td>\n",
              "<td>1.0</td>\n",
              "<td>0.0</td></tr>\n",
              "<tr><td>max absolute_mcc</td>\n",
              "<td>0.3887362</td>\n",
              "<td>0.5930120</td>\n",
              "<td>52.0</td></tr>\n",
              "<tr><td>max min_per_class_accuracy</td>\n",
              "<td>0.4017631</td>\n",
              "<td>0.7763158</td>\n",
              "<td>50.0</td></tr>\n",
              "<tr><td>max mean_per_class_accuracy</td>\n",
              "<td>0.3887362</td>\n",
              "<td>0.8067625</td>\n",
              "<td>52.0</td></tr>\n",
              "<tr><td>max tns</td>\n",
              "<td>0.9034689</td>\n",
              "<td>76.0</td>\n",
              "<td>0.0</td></tr>\n",
              "<tr><td>max fns</td>\n",
              "<td>0.9034689</td>\n",
              "<td>42.0</td>\n",
              "<td>0.0</td></tr>\n",
              "<tr><td>max fps</td>\n",
              "<td>0.0094081</td>\n",
              "<td>76.0</td>\n",
              "<td>118.0</td></tr>\n",
              "<tr><td>max tps</td>\n",
              "<td>0.1010450</td>\n",
              "<td>43.0</td>\n",
              "<td>96.0</td></tr>\n",
              "<tr><td>max tnr</td>\n",
              "<td>0.9034689</td>\n",
              "<td>1.0</td>\n",
              "<td>0.0</td></tr>\n",
              "<tr><td>max fnr</td>\n",
              "<td>0.9034689</td>\n",
              "<td>0.9767442</td>\n",
              "<td>0.0</td></tr>\n",
              "<tr><td>max fpr</td>\n",
              "<td>0.0094081</td>\n",
              "<td>1.0</td>\n",
              "<td>118.0</td></tr>\n",
              "<tr><td>max tpr</td>\n",
              "<td>0.1010450</td>\n",
              "<td>1.0</td>\n",
              "<td>96.0</td></tr></tbody>\n",
              "  </table>\n",
              "</div>\n",
              "</div>\n",
              "<div style='margin: 1em 0 1em 0;'>\n",
              "<style>\n",
              "\n",
              "#h2o-table-10.h2o-container {\n",
              "  overflow-x: auto;\n",
              "}\n",
              "#h2o-table-10 .h2o-table {\n",
              "  /* width: 100%; */\n",
              "  margin-top: 1em;\n",
              "  margin-bottom: 1em;\n",
              "}\n",
              "#h2o-table-10 .h2o-table caption {\n",
              "  white-space: nowrap;\n",
              "  caption-side: top;\n",
              "  text-align: left;\n",
              "  /* margin-left: 1em; */\n",
              "  margin: 0;\n",
              "  font-size: larger;\n",
              "}\n",
              "#h2o-table-10 .h2o-table thead {\n",
              "  white-space: nowrap; \n",
              "  position: sticky;\n",
              "  top: 0;\n",
              "  box-shadow: 0 -1px inset;\n",
              "}\n",
              "#h2o-table-10 .h2o-table tbody {\n",
              "  overflow: auto;\n",
              "}\n",
              "#h2o-table-10 .h2o-table th,\n",
              "#h2o-table-10 .h2o-table td {\n",
              "  text-align: right;\n",
              "  /* border: 1px solid; */\n",
              "}\n",
              "#h2o-table-10 .h2o-table tr:nth-child(even) {\n",
              "  /* background: #F5F5F5 */\n",
              "}\n",
              "\n",
              "</style>      \n",
              "<div id=\"h2o-table-10\" class=\"h2o-container\">\n",
              "  <table class=\"h2o-table\">\n",
              "    <caption>Gains/Lift Table: Avg response rate: 36.13 %, avg score: 38.07 %</caption>\n",
              "    <thead><tr><th>group</th>\n",
              "<th>cumulative_data_fraction</th>\n",
              "<th>lower_threshold</th>\n",
              "<th>lift</th>\n",
              "<th>cumulative_lift</th>\n",
              "<th>response_rate</th>\n",
              "<th>score</th>\n",
              "<th>cumulative_response_rate</th>\n",
              "<th>cumulative_score</th>\n",
              "<th>capture_rate</th>\n",
              "<th>cumulative_capture_rate</th>\n",
              "<th>gain</th>\n",
              "<th>cumulative_gain</th>\n",
              "<th>kolmogorov_smirnov</th></tr></thead>\n",
              "    <tbody><tr><td>1</td>\n",
              "<td>0.0168067</td>\n",
              "<td>0.8802424</td>\n",
              "<td>2.7674419</td>\n",
              "<td>2.7674419</td>\n",
              "<td>1.0</td>\n",
              "<td>0.8927318</td>\n",
              "<td>1.0</td>\n",
              "<td>0.8927318</td>\n",
              "<td>0.0465116</td>\n",
              "<td>0.0465116</td>\n",
              "<td>176.7441860</td>\n",
              "<td>176.7441860</td>\n",
              "<td>0.0465116</td></tr>\n",
              "<tr><td>2</td>\n",
              "<td>0.0252101</td>\n",
              "<td>0.8703737</td>\n",
              "<td>2.7674419</td>\n",
              "<td>2.7674419</td>\n",
              "<td>1.0</td>\n",
              "<td>0.8722591</td>\n",
              "<td>1.0</td>\n",
              "<td>0.8859076</td>\n",
              "<td>0.0232558</td>\n",
              "<td>0.0697674</td>\n",
              "<td>176.7441860</td>\n",
              "<td>176.7441860</td>\n",
              "<td>0.0697674</td></tr>\n",
              "<tr><td>3</td>\n",
              "<td>0.0336134</td>\n",
              "<td>0.8631247</td>\n",
              "<td>2.7674419</td>\n",
              "<td>2.7674419</td>\n",
              "<td>1.0</td>\n",
              "<td>0.8670219</td>\n",
              "<td>1.0</td>\n",
              "<td>0.8811862</td>\n",
              "<td>0.0232558</td>\n",
              "<td>0.0930233</td>\n",
              "<td>176.7441860</td>\n",
              "<td>176.7441860</td>\n",
              "<td>0.0930233</td></tr>\n",
              "<tr><td>4</td>\n",
              "<td>0.0420168</td>\n",
              "<td>0.8487841</td>\n",
              "<td>0.0</td>\n",
              "<td>2.2139535</td>\n",
              "<td>0.0</td>\n",
              "<td>0.8598049</td>\n",
              "<td>0.8</td>\n",
              "<td>0.8769099</td>\n",
              "<td>0.0</td>\n",
              "<td>0.0930233</td>\n",
              "<td>-100.0</td>\n",
              "<td>121.3953488</td>\n",
              "<td>0.0798654</td></tr>\n",
              "<tr><td>5</td>\n",
              "<td>0.0504202</td>\n",
              "<td>0.8316041</td>\n",
              "<td>2.7674419</td>\n",
              "<td>2.3062016</td>\n",
              "<td>1.0</td>\n",
              "<td>0.8444982</td>\n",
              "<td>0.8333333</td>\n",
              "<td>0.8715080</td>\n",
              "<td>0.0232558</td>\n",
              "<td>0.1162791</td>\n",
              "<td>176.7441860</td>\n",
              "<td>130.6201550</td>\n",
              "<td>0.1031212</td></tr>\n",
              "<tr><td>6</td>\n",
              "<td>0.1008403</td>\n",
              "<td>0.7865603</td>\n",
              "<td>2.7674419</td>\n",
              "<td>2.5368217</td>\n",
              "<td>1.0</td>\n",
              "<td>0.8061039</td>\n",
              "<td>0.9166667</td>\n",
              "<td>0.8388059</td>\n",
              "<td>0.1395349</td>\n",
              "<td>0.2558140</td>\n",
              "<td>176.7441860</td>\n",
              "<td>153.6821705</td>\n",
              "<td>0.2426561</td></tr>\n",
              "<tr><td>7</td>\n",
              "<td>0.1512605</td>\n",
              "<td>0.7377266</td>\n",
              "<td>2.3062016</td>\n",
              "<td>2.4599483</td>\n",
              "<td>0.8333333</td>\n",
              "<td>0.7637976</td>\n",
              "<td>0.8888889</td>\n",
              "<td>0.8138032</td>\n",
              "<td>0.1162791</td>\n",
              "<td>0.3720930</td>\n",
              "<td>130.6201550</td>\n",
              "<td>145.9948320</td>\n",
              "<td>0.3457772</td></tr>\n",
              "<tr><td>8</td>\n",
              "<td>0.2016807</td>\n",
              "<td>0.6867834</td>\n",
              "<td>1.3837209</td>\n",
              "<td>2.1908915</td>\n",
              "<td>0.5</td>\n",
              "<td>0.7096147</td>\n",
              "<td>0.7916667</td>\n",
              "<td>0.7877560</td>\n",
              "<td>0.0697674</td>\n",
              "<td>0.4418605</td>\n",
              "<td>38.3720930</td>\n",
              "<td>119.0891473</td>\n",
              "<td>0.3760710</td></tr>\n",
              "<tr><td>9</td>\n",
              "<td>0.3025210</td>\n",
              "<td>0.5975150</td>\n",
              "<td>1.6143411</td>\n",
              "<td>1.9987080</td>\n",
              "<td>0.5833333</td>\n",
              "<td>0.6474289</td>\n",
              "<td>0.7222222</td>\n",
              "<td>0.7409803</td>\n",
              "<td>0.1627907</td>\n",
              "<td>0.6046512</td>\n",
              "<td>61.4341085</td>\n",
              "<td>99.8708010</td>\n",
              "<td>0.4730722</td></tr>\n",
              "<tr><td>10</td>\n",
              "<td>0.4033613</td>\n",
              "<td>0.4331974</td>\n",
              "<td>1.3837209</td>\n",
              "<td>1.8449612</td>\n",
              "<td>0.5</td>\n",
              "<td>0.4958962</td>\n",
              "<td>0.6666667</td>\n",
              "<td>0.6797093</td>\n",
              "<td>0.1395349</td>\n",
              "<td>0.7441860</td>\n",
              "<td>38.3720930</td>\n",
              "<td>84.4961240</td>\n",
              "<td>0.5336597</td></tr>\n",
              "<tr><td>11</td>\n",
              "<td>0.5042017</td>\n",
              "<td>0.3057791</td>\n",
              "<td>0.9224806</td>\n",
              "<td>1.6604651</td>\n",
              "<td>0.3333333</td>\n",
              "<td>0.3641694</td>\n",
              "<td>0.6</td>\n",
              "<td>0.6166013</td>\n",
              "<td>0.0930233</td>\n",
              "<td>0.8372093</td>\n",
              "<td>-7.7519380</td>\n",
              "<td>66.0465116</td>\n",
              "<td>0.5214198</td></tr>\n",
              "<tr><td>12</td>\n",
              "<td>0.5966387</td>\n",
              "<td>0.2295289</td>\n",
              "<td>0.5031712</td>\n",
              "<td>1.4811661</td>\n",
              "<td>0.1818182</td>\n",
              "<td>0.2783457</td>\n",
              "<td>0.5352113</td>\n",
              "<td>0.5641955</td>\n",
              "<td>0.0465116</td>\n",
              "<td>0.8837209</td>\n",
              "<td>-49.6828753</td>\n",
              "<td>48.1166066</td>\n",
              "<td>0.4495104</td></tr>\n",
              "<tr><td>13</td>\n",
              "<td>0.6974790</td>\n",
              "<td>0.1509296</td>\n",
              "<td>0.9224806</td>\n",
              "<td>1.4003923</td>\n",
              "<td>0.3333333</td>\n",
              "<td>0.1923637</td>\n",
              "<td>0.5060241</td>\n",
              "<td>0.5104367</td>\n",
              "<td>0.0930233</td>\n",
              "<td>0.9767442</td>\n",
              "<td>-7.7519380</td>\n",
              "<td>40.0392267</td>\n",
              "<td>0.4372705</td></tr>\n",
              "<tr><td>14</td>\n",
              "<td>0.7983193</td>\n",
              "<td>0.1028625</td>\n",
              "<td>0.0</td>\n",
              "<td>1.2235006</td>\n",
              "<td>0.0</td>\n",
              "<td>0.1217385</td>\n",
              "<td>0.4421053</td>\n",
              "<td>0.4613380</td>\n",
              "<td>0.0</td>\n",
              "<td>0.9767442</td>\n",
              "<td>-100.0</td>\n",
              "<td>22.3500612</td>\n",
              "<td>0.2793758</td></tr>\n",
              "<tr><td>15</td>\n",
              "<td>0.8991597</td>\n",
              "<td>0.0683871</td>\n",
              "<td>0.2306202</td>\n",
              "<td>1.1121495</td>\n",
              "<td>0.0833333</td>\n",
              "<td>0.0889927</td>\n",
              "<td>0.4018692</td>\n",
              "<td>0.4195797</td>\n",
              "<td>0.0232558</td>\n",
              "<td>1.0</td>\n",
              "<td>-76.9379845</td>\n",
              "<td>11.2149533</td>\n",
              "<td>0.1578947</td></tr>\n",
              "<tr><td>16</td>\n",
              "<td>1.0</td>\n",
              "<td>0.0094081</td>\n",
              "<td>0.0</td>\n",
              "<td>1.0</td>\n",
              "<td>0.0</td>\n",
              "<td>0.0337439</td>\n",
              "<td>0.3613445</td>\n",
              "<td>0.3806718</td>\n",
              "<td>0.0</td>\n",
              "<td>1.0</td>\n",
              "<td>-100.0</td>\n",
              "<td>0.0</td>\n",
              "<td>0.0</td></tr></tbody>\n",
              "  </table>\n",
              "</div>\n",
              "</div>"
            ],
            "text/plain": [
              "ModelMetricsBinomialGLM: stackedensemble\n",
              "** Reported on test data. **\n",
              "\n",
              "MSE: 0.14655403757466068\n",
              "RMSE: 0.3828237682990186\n",
              "LogLoss: 0.44835871161171575\n",
              "AUC: 0.8589351285189718\n",
              "AUCPR: 0.7728370433416273\n",
              "Gini: 0.7178702570379436\n",
              "Null degrees of freedom: 118\n",
              "Residual degrees of freedom: 115\n",
              "Null deviance: 155.80886679073578\n",
              "Residual deviance: 106.70937336358838\n",
              "AIC: 114.70937336358838\n",
              "\n",
              "Confusion Matrix (Act/Pred) for max f1 @ threshold = 0.3887361964959848\n",
              "       0    1    Error    Rate\n",
              "-----  ---  ---  -------  ------------\n",
              "0      59   17   0.2237   (17.0/76.0)\n",
              "1      7    36   0.1628   (7.0/43.0)\n",
              "Total  66   53   0.2017   (24.0/119.0)\n",
              "\n",
              "Maximum Metrics: Maximum metrics at their respective thresholds\n",
              "metric                       threshold    value     idx\n",
              "---------------------------  -----------  --------  -----\n",
              "max f1                       0.388736     0.75      52\n",
              "max f2                       0.181551     0.836653  78\n",
              "max f0point5                 0.651759     0.72327   28\n",
              "max accuracy                 0.388736     0.798319  52\n",
              "max precision                0.903469     1         0\n",
              "max recall                   0.101045     1         96\n",
              "max specificity              0.903469     1         0\n",
              "max absolute_mcc             0.388736     0.593012  52\n",
              "max min_per_class_accuracy   0.401763     0.776316  50\n",
              "max mean_per_class_accuracy  0.388736     0.806763  52\n",
              "max tns                      0.903469     76        0\n",
              "max fns                      0.903469     42        0\n",
              "max fps                      0.00940813   76        118\n",
              "max tps                      0.101045     43        96\n",
              "max tnr                      0.903469     1         0\n",
              "max fnr                      0.903469     0.976744  0\n",
              "max fpr                      0.00940813   1         118\n",
              "max tpr                      0.101045     1         96\n",
              "\n",
              "Gains/Lift Table: Avg response rate: 36.13 %, avg score: 38.07 %\n",
              "group    cumulative_data_fraction    lower_threshold    lift      cumulative_lift    response_rate    score      cumulative_response_rate    cumulative_score    capture_rate    cumulative_capture_rate    gain      cumulative_gain    kolmogorov_smirnov\n",
              "-------  --------------------------  -----------------  --------  -----------------  ---------------  ---------  --------------------------  ------------------  --------------  -------------------------  --------  -----------------  --------------------\n",
              "1        0.0168067                   0.880242           2.76744   2.76744            1                0.892732   1                           0.892732            0.0465116       0.0465116                  176.744   176.744            0.0465116\n",
              "2        0.0252101                   0.870374           2.76744   2.76744            1                0.872259   1                           0.885908            0.0232558       0.0697674                  176.744   176.744            0.0697674\n",
              "3        0.0336134                   0.863125           2.76744   2.76744            1                0.867022   1                           0.881186            0.0232558       0.0930233                  176.744   176.744            0.0930233\n",
              "4        0.0420168                   0.848784           0         2.21395            0                0.859805   0.8                         0.87691             0               0.0930233                  -100      121.395            0.0798654\n",
              "5        0.0504202                   0.831604           2.76744   2.3062             1                0.844498   0.833333                    0.871508            0.0232558       0.116279                   176.744   130.62             0.103121\n",
              "6        0.10084                     0.78656            2.76744   2.53682            1                0.806104   0.916667                    0.838806            0.139535        0.255814                   176.744   153.682            0.242656\n",
              "7        0.151261                    0.737727           2.3062    2.45995            0.833333         0.763798   0.888889                    0.813803            0.116279        0.372093                   130.62    145.995            0.345777\n",
              "8        0.201681                    0.686783           1.38372   2.19089            0.5              0.709615   0.791667                    0.787756            0.0697674       0.44186                    38.3721   119.089            0.376071\n",
              "9        0.302521                    0.597515           1.61434   1.99871            0.583333         0.647429   0.722222                    0.74098             0.162791        0.604651                   61.4341   99.8708            0.473072\n",
              "10       0.403361                    0.433197           1.38372   1.84496            0.5              0.495896   0.666667                    0.679709            0.139535        0.744186                   38.3721   84.4961            0.53366\n",
              "11       0.504202                    0.305779           0.922481  1.66047            0.333333         0.364169   0.6                         0.616601            0.0930233       0.837209                   -7.75194  66.0465            0.52142\n",
              "12       0.596639                    0.229529           0.503171  1.48117            0.181818         0.278346   0.535211                    0.564196            0.0465116       0.883721                   -49.6829  48.1166            0.44951\n",
              "13       0.697479                    0.15093            0.922481  1.40039            0.333333         0.192364   0.506024                    0.510437            0.0930233       0.976744                   -7.75194  40.0392            0.437271\n",
              "14       0.798319                    0.102862           0         1.2235             0                0.121739   0.442105                    0.461338            0               0.976744                   -100      22.3501            0.279376\n",
              "15       0.89916                     0.0683871          0.23062   1.11215            0.0833333        0.0889927  0.401869                    0.41958             0.0232558       1                          -76.938   11.215             0.157895\n",
              "16       1                           0.00940813         0         1                  0                0.0337439  0.361345                    0.380672            0               1                          -100      0                  0"
            ]
          },
          "execution_count": 49,
          "metadata": {},
          "output_type": "execute_result"
        }
      ],
      "source": [
        "aml = H2OAutoML(max_models=8, nfolds=5, seed=42)\n",
        "aml.train(features, 'Outcome', train)\n",
        "\n",
        "print(aml.leaderboard.head(8))\n",
        "\n",
        "aml.get_best_model().model_performance(test)"
      ]
    },
    {
      "cell_type": "markdown",
      "metadata": {
        "id": "HDvCqRGl9S_U"
      },
      "source": [
        "#### Conclusão"
      ]
    },
    {
      "attachments": {},
      "cell_type": "markdown",
      "metadata": {
        "id": "KbFxbWiJ9W3P"
      },
      "source": [
        "Os modelos escolhidos pelo AUTOML tiveram as performances parecidas com Random Forest, porém, levemente inferior."
      ]
    }
  ],
  "metadata": {
    "colab": {
      "provenance": []
    },
    "kernelspec": {
      "display_name": "Python 3",
      "language": "python",
      "name": "python3"
    },
    "language_info": {
      "name": "python",
      "version": "3.8.0 (v3.8.0:fa919fdf25, Oct 14 2019, 10:23:27) \n[Clang 6.0 (clang-600.0.57)]"
    },
    "vscode": {
      "interpreter": {
        "hash": "752579dbebe7f4dfe7c1aa72eac13e23fc88be2cc1ea7ab14e1f8d69b2d97d12"
      }
    }
  },
  "nbformat": 4,
  "nbformat_minor": 0
}
