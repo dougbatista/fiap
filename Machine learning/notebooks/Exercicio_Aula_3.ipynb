{
 "cells": [
  {
   "cell_type": "code",
   "execution_count": null,
   "id": "differential-sound",
   "metadata": {},
   "outputs": [],
   "source": [
    "from sklearn import datasets\n",
    "from sklearn.model_selection import train_test_split\n",
    "from sklearn.tree import DecisionTreeClassifier\n",
    "from sklearn.metrics import confusion_matrix\n",
    "from sklearn import metrics"
   ]
  },
  {
   "cell_type": "code",
   "execution_count": null,
   "id": "centered-familiar",
   "metadata": {},
   "outputs": [],
   "source": [
    "#fazendo o download dos dados direto dos datasets presente na scikit-learn\n",
    "data = datasets.load_breast_cancer()\n",
    "data.feature_names"
   ]
  },
  {
   "cell_type": "code",
   "execution_count": null,
   "id": "american-outline",
   "metadata": {},
   "outputs": [],
   "source": [
    "#variável meta (target) -> aquilos que estamos tentando prever\n",
    "#no caso: cancer benigno ou maligno\n",
    "data.target_names"
   ]
  },
  {
   "cell_type": "code",
   "execution_count": null,
   "id": "fundamental-field",
   "metadata": {},
   "outputs": [],
   "source": [
    "#linhas x colunas\n",
    "data.data.shape"
   ]
  },
  {
   "cell_type": "code",
   "execution_count": null,
   "id": "acoustic-campaign",
   "metadata": {},
   "outputs": [],
   "source": [
    "#visualizando as 5 primeiras amostras\n",
    "data.data[0:5]"
   ]
  },
  {
   "cell_type": "markdown",
   "id": "meaningful-frontier",
   "metadata": {},
   "source": [
    "## TODO 1\n",
    "> Separe o dataset em conjunto de treino e teste, sendo 70% para treino e 30% para teste"
   ]
  },
  {
   "cell_type": "code",
   "execution_count": null,
   "id": "inclusive-banking",
   "metadata": {},
   "outputs": [],
   "source": [
    "#resposta"
   ]
  },
  {
   "cell_type": "markdown",
   "id": "spatial-indianapolis",
   "metadata": {},
   "source": [
    "## TODO 2\n",
    "> Treine uma Árvore de Decisão. Teste com diferentes valores de max_depth e compare os resultados"
   ]
  },
  {
   "cell_type": "code",
   "execution_count": null,
   "id": "armed-grocery",
   "metadata": {},
   "outputs": [],
   "source": [
    "#resposta"
   ]
  },
  {
   "cell_type": "markdown",
   "id": "stupid-insider",
   "metadata": {},
   "source": [
    "## TODO 3\n",
    "> Faça a predição para o conjunto de teste"
   ]
  },
  {
   "cell_type": "code",
   "execution_count": null,
   "id": "every-placement",
   "metadata": {},
   "outputs": [],
   "source": [
    "#resposta"
   ]
  },
  {
   "cell_type": "markdown",
   "id": "narrative-factor",
   "metadata": {},
   "source": [
    "## TODO 4\n",
    "\n",
    "> Imprima a matriz de confusão (usando a Scikit-Learn)\n",
    "\n",
    "> Obtenha a Acurácia, Precision, Recall e F1-Score"
   ]
  },
  {
   "cell_type": "code",
   "execution_count": null,
   "id": "announced-ownership",
   "metadata": {},
   "outputs": [],
   "source": [
    "#resposta linear"
   ]
  },
  {
   "cell_type": "markdown",
   "id": "concerned-stage",
   "metadata": {},
   "source": [
    "# KNN"
   ]
  },
  {
   "cell_type": "code",
   "execution_count": null,
   "id": "figured-space",
   "metadata": {},
   "outputs": [],
   "source": [
    "from sklearn.neighbors import KNeighborsClassifier\n",
    "import pandas as pd "
   ]
  },
  {
   "cell_type": "markdown",
   "id": "billion-transportation",
   "metadata": {},
   "source": [
    "## TODO 5\n",
    "> Treine o KNN nesse mesmo conjunto de  com diferentes valores de k variando de 5 a 15\n",
    "\n",
    "> Armazene os valores de k e o valor respectivo da acurácia\n",
    "\n",
    "> Como o melhor resultado do KNN se saiu em relação ao resultado da Árvore de Decisão?"
   ]
  },
  {
   "cell_type": "code",
   "execution_count": null,
   "id": "narrow-martin",
   "metadata": {},
   "outputs": [],
   "source": [
    "# resposta"
   ]
  }
 ],
 "metadata": {
  "kernelspec": {
   "display_name": "Python 3",
   "language": "python",
   "name": "python3"
  },
  "language_info": {
   "codemirror_mode": {
    "name": "ipython",
    "version": 3
   },
   "file_extension": ".py",
   "mimetype": "text/x-python",
   "name": "python",
   "nbconvert_exporter": "python",
   "pygments_lexer": "ipython3",
   "version": "3.7.5"
  }
 },
 "nbformat": 4,
 "nbformat_minor": 5
}
