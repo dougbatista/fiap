{
  "cells": [
    {
      "cell_type": "markdown",
      "id": "238a115d-f26e-46f3-b250-4f93649107b2",
      "metadata": {
        "id": "238a115d-f26e-46f3-b250-4f93649107b2"
      },
      "source": [
        "# Exercícios"
      ]
    },
    {
      "cell_type": "code",
      "execution_count": 1,
      "id": "9c3cd6b9-caec-4dae-8f2a-828f136f3244",
      "metadata": {
        "colab": {
          "base_uri": "https://localhost:8080/",
          "height": 206
        },
        "id": "9c3cd6b9-caec-4dae-8f2a-828f136f3244",
        "outputId": "46b34297-0ebb-4647-9992-8d3ae56920b4"
      },
      "outputs": [
        {
          "data": {
            "text/html": [
              "<div>\n",
              "<style scoped>\n",
              "    .dataframe tbody tr th:only-of-type {\n",
              "        vertical-align: middle;\n",
              "    }\n",
              "\n",
              "    .dataframe tbody tr th {\n",
              "        vertical-align: top;\n",
              "    }\n",
              "\n",
              "    .dataframe thead th {\n",
              "        text-align: right;\n",
              "    }\n",
              "</style>\n",
              "<table border=\"1\" class=\"dataframe\">\n",
              "  <thead>\n",
              "    <tr style=\"text-align: right;\">\n",
              "      <th></th>\n",
              "      <th>id</th>\n",
              "      <th>data_tweet</th>\n",
              "      <th>texto</th>\n",
              "      <th>sentimento</th>\n",
              "    </tr>\n",
              "  </thead>\n",
              "  <tbody>\n",
              "    <tr>\n",
              "      <th>0</th>\n",
              "      <td>0</td>\n",
              "      <td>Sun Jan 08 01:22:05 +0000 2017</td>\n",
              "      <td>���⛪ @ Catedral de Santo Antônio - Governador ...</td>\n",
              "      <td>Neutro</td>\n",
              "    </tr>\n",
              "    <tr>\n",
              "      <th>1</th>\n",
              "      <td>1</td>\n",
              "      <td>Sun Jan 08 01:49:01 +0000 2017</td>\n",
              "      <td>� @ Governador Valadares, Minas Gerais https:/...</td>\n",
              "      <td>Neutro</td>\n",
              "    </tr>\n",
              "    <tr>\n",
              "      <th>2</th>\n",
              "      <td>2</td>\n",
              "      <td>Sun Jan 08 01:01:46 +0000 2017</td>\n",
              "      <td>�� @ Governador Valadares, Minas Gerais https:...</td>\n",
              "      <td>Neutro</td>\n",
              "    </tr>\n",
              "    <tr>\n",
              "      <th>3</th>\n",
              "      <td>3</td>\n",
              "      <td>Wed Jan 04 21:43:51 +0000 2017</td>\n",
              "      <td>��� https://t.co/BnDsO34qK0</td>\n",
              "      <td>Neutro</td>\n",
              "    </tr>\n",
              "    <tr>\n",
              "      <th>4</th>\n",
              "      <td>4</td>\n",
              "      <td>Mon Jan 09 15:08:21 +0000 2017</td>\n",
              "      <td>��� PSOL vai questionar aumento de vereadores ...</td>\n",
              "      <td>Negativo</td>\n",
              "    </tr>\n",
              "  </tbody>\n",
              "</table>\n",
              "</div>"
            ],
            "text/plain": [
              "   id                      data_tweet                                              texto sentimento\n",
              "0   0  Sun Jan 08 01:22:05 +0000 2017  ���⛪ @ Catedral de Santo Antônio - Governador ...     Neutro\n",
              "1   1  Sun Jan 08 01:49:01 +0000 2017  � @ Governador Valadares, Minas Gerais https:/...     Neutro\n",
              "2   2  Sun Jan 08 01:01:46 +0000 2017  �� @ Governador Valadares, Minas Gerais https:...     Neutro\n",
              "3   3  Wed Jan 04 21:43:51 +0000 2017                        ��� https://t.co/BnDsO34qK0     Neutro\n",
              "4   4  Mon Jan 09 15:08:21 +0000 2017  ��� PSOL vai questionar aumento de vereadores ...   Negativo"
            ]
          },
          "execution_count": 1,
          "metadata": {},
          "output_type": "execute_result"
        }
      ],
      "source": [
        "import pandas as pd\n",
        "\n",
        "df = pd.read_csv(\"https://dados-ml-pln.s3.sa-east-1.amazonaws.com/tweets_classificados.csv\", encoding='utf-8')\n",
        "pd.set_option('display.max_rows', 500)\n",
        "pd.set_option('display.max_columns', 500)\n",
        "pd.set_option('display.width', 1000)\n",
        "\n",
        "df.head()"
      ]
    },
    {
      "cell_type": "code",
      "execution_count": null,
      "id": "10sT6vvEvo57",
      "metadata": {
        "colab": {
          "base_uri": "https://localhost:8080/"
        },
        "id": "10sT6vvEvo57",
        "outputId": "36bfd902-4449-481f-e3d5-00df657df173"
      },
      "outputs": [],
      "source": [
        "!pip install space\n",
        "!python -m spacy download pt_core_news_sm"
      ]
    },
    {
      "cell_type": "code",
      "execution_count": 2,
      "id": "Dpfk7Jy3x6ki",
      "metadata": {
        "colab": {
          "base_uri": "https://localhost:8080/"
        },
        "id": "Dpfk7Jy3x6ki",
        "outputId": "dba741df-5664-4617-b57b-2f5e0b081de0"
      },
      "outputs": [
        {
          "data": {
            "text/plain": [
              "0    ���⛪ @ Catedral de Santo Antônio - Governador ...\n",
              "1    � @ Governador Valadares, Minas Gerais https:/...\n",
              "2    �� @ Governador Valadares, Minas Gerais https:...\n",
              "3                          ��� https://t.co/BnDsO34qK0\n",
              "4    ��� PSOL vai questionar aumento de vereadores ...\n",
              "Name: texto, dtype: object"
            ]
          },
          "execution_count": 2,
          "metadata": {},
          "output_type": "execute_result"
        }
      ],
      "source": [
        "df[\"texto\"].head()"
      ]
    },
    {
      "cell_type": "markdown",
      "id": "16438df8-d978-4680-8049-70093533fd0e",
      "metadata": {
        "id": "16438df8-d978-4680-8049-70093533fd0e"
      },
      "source": [
        "## ToDo 1\n",
        "\n",
        "Altere as funções de tratamento de texto apresentadas em sala para que elas façam a remoção de links também. \n",
        "\n",
        "Crie uma nova coluna chamada texto_tratado que conterá o resultado da aplicação das funções. "
      ]
    },
    {
      "cell_type": "code",
      "execution_count": 3,
      "id": "c09d7e0e-4d25-4d51-83a4-c509b89ac1a7",
      "metadata": {
        "colab": {
          "base_uri": "https://localhost:8080/"
        },
        "id": "c09d7e0e-4d25-4d51-83a4-c509b89ac1a7",
        "outputId": "83599aca-8ab6-49b8-e3ac-e3098d253735"
      },
      "outputs": [],
      "source": [
        "# resposta\n",
        "import nltk\n",
        "# nltk.download(\"stopwords\")\n",
        "# nltk.download(\"punkt\")\n",
        "import re\n",
        "import string\n",
        "import unicodedata\n",
        "\n",
        "from nltk.tokenize import word_tokenize\n",
        "from nltk.corpus import stopwords\n",
        "    \n",
        "def remove_link(text):\n",
        "  return re.sub(r'http\\S+', '', text)\n",
        "  \n",
        "def normalize_accents(text):\n",
        "    return unicodedata.normalize(\"NFKD\", text).encode(\"ASCII\", \"ignore\").decode(\"utf-8\")\n",
        "\n",
        "def normalize_str(text):\n",
        "    text = text.lower()\n",
        "    text = remove_link(text)\n",
        "    text = remove_punctuation(text)\n",
        "    text = normalize_accents(text)\n",
        "    text = re.sub(re.compile(r\" +\"), \" \",text)\n",
        "    return \" \".join([w for w in text.split()])\n",
        "\n",
        "def remove_punctuation(text):\n",
        "    punctuations = string.punctuation\n",
        "    table = str.maketrans({key: \" \" for key in punctuations})\n",
        "    text = text.translate(table)\n",
        "    return text\n",
        "\n",
        "def tokenizer(text):\n",
        "    stop_words = nltk.corpus.stopwords.words(\"portuguese\") # portuguese, caso o dataset seja em português\n",
        "    if isinstance(text, str):\n",
        "        text = normalize_str(text)\n",
        "        text = \"\".join([w for w in text if not w.isdigit()])\n",
        "        text = word_tokenize(text)\n",
        "        text = [x for x in text if x not in stop_words]\n",
        "        text = [y for y in text if len(y) > 2]\n",
        "        return \" \".join([t for t in text])\n",
        "    else:\n",
        "        return None"
      ]
    },
    {
      "cell_type": "code",
      "execution_count": 4,
      "id": "0lw4CH4izpL0",
      "metadata": {
        "id": "0lw4CH4izpL0"
      },
      "outputs": [],
      "source": [
        "df['texto_tratado'] = df['texto'].apply(tokenizer)"
      ]
    },
    {
      "cell_type": "code",
      "execution_count": 5,
      "id": "KBi9J2FI0tmQ",
      "metadata": {
        "colab": {
          "base_uri": "https://localhost:8080/"
        },
        "id": "KBi9J2FI0tmQ",
        "outputId": "4ffa8a1b-b5dd-4c9c-d4f1-6926798c74a4"
      },
      "outputs": [
        {
          "data": {
            "text/plain": [
              "0          catedral santo antonio governador valadares\n",
              "1                    governador valadares minas gerais\n",
              "2                    governador valadares minas gerais\n",
              "3                                                     \n",
              "4    psol vai questionar aumento vereadores prefeit...\n",
              "5    bom bandido morto deputado cabo julio condenad...\n",
              "6    mineiros dizem nao torcer time nenhum dentro e...\n",
              "7    gigantesca barba mal destaque caderno cultura ...\n",
              "8    governo minas travam disputa sobre depositos j...\n",
              "9    vcs fica pequena belo horizonte pron bloizonti...\n",
              "Name: texto_tratado, dtype: object"
            ]
          },
          "execution_count": 5,
          "metadata": {},
          "output_type": "execute_result"
        }
      ],
      "source": [
        "df['texto_tratado'].head(10)"
      ]
    },
    {
      "cell_type": "markdown",
      "id": "9c91a5c5-c909-4af7-8b9e-3a6e224f0d23",
      "metadata": {
        "id": "9c91a5c5-c909-4af7-8b9e-3a6e224f0d23"
      },
      "source": [
        "## ToDo 2\n",
        "\n",
        "Ao fazer a remoção de links, percebemos que algumas linhas da coluna texto_tratado possuem valores faltantes. Entretanto, o Python trata eles como ''(str) e nao como Null. Assim, um simples dropna nao resolve o problema. \n",
        "\n",
        "Encontre uma forma de remover tais elementos. Dica: use o índice das linhas cujos elementos da coluna texto_tratado seja nulo. "
      ]
    },
    {
      "cell_type": "code",
      "execution_count": 6,
      "id": "pHzdvZWb4Ewp",
      "metadata": {
        "colab": {
          "base_uri": "https://localhost:8080/"
        },
        "id": "pHzdvZWb4Ewp",
        "outputId": "74ba09e1-fc13-4b93-dd40-be2f0a35ea82"
      },
      "outputs": [
        {
          "data": {
            "text/plain": [
              "(5775, 5)"
            ]
          },
          "execution_count": 6,
          "metadata": {},
          "output_type": "execute_result"
        }
      ],
      "source": [
        "df.shape"
      ]
    },
    {
      "cell_type": "code",
      "execution_count": 7,
      "id": "9297ec43-a5ac-4f48-b3cb-284b5b8a8ad8",
      "metadata": {
        "colab": {
          "base_uri": "https://localhost:8080/"
        },
        "id": "9297ec43-a5ac-4f48-b3cb-284b5b8a8ad8",
        "outputId": "6ccafed1-bad0-47f5-cbfd-25226cfe90f6"
      },
      "outputs": [
        {
          "name": "stdout",
          "output_type": "stream",
          "text": [
            "[3, 1324, 1330, 1333, 1334, 1335, 1336, 1337, 1341, 1343, 1344, 1346, 2117]\n"
          ]
        }
      ],
      "source": [
        "empty_texts = []\n",
        "for i in range(0, df.shape[0]):\n",
        "  if df[\"texto_tratado\"][i] == \"\":\n",
        "    empty_texts.append(i)\n",
        "\n",
        "print(empty_texts)"
      ]
    },
    {
      "cell_type": "code",
      "execution_count": 8,
      "id": "IMtGvzFH5emD",
      "metadata": {
        "id": "IMtGvzFH5emD"
      },
      "outputs": [],
      "source": [
        "df.drop(empty_texts, axis=0, inplace=True)"
      ]
    },
    {
      "cell_type": "code",
      "execution_count": 9,
      "id": "b19cr42u5rbo",
      "metadata": {
        "colab": {
          "base_uri": "https://localhost:8080/",
          "height": 206
        },
        "id": "b19cr42u5rbo",
        "outputId": "d13bb39c-99ad-4d5c-ce70-25d317f1161e"
      },
      "outputs": [
        {
          "data": {
            "text/html": [
              "<div>\n",
              "<style scoped>\n",
              "    .dataframe tbody tr th:only-of-type {\n",
              "        vertical-align: middle;\n",
              "    }\n",
              "\n",
              "    .dataframe tbody tr th {\n",
              "        vertical-align: top;\n",
              "    }\n",
              "\n",
              "    .dataframe thead th {\n",
              "        text-align: right;\n",
              "    }\n",
              "</style>\n",
              "<table border=\"1\" class=\"dataframe\">\n",
              "  <thead>\n",
              "    <tr style=\"text-align: right;\">\n",
              "      <th></th>\n",
              "      <th>id</th>\n",
              "      <th>data_tweet</th>\n",
              "      <th>texto</th>\n",
              "      <th>sentimento</th>\n",
              "      <th>texto_tratado</th>\n",
              "    </tr>\n",
              "  </thead>\n",
              "  <tbody>\n",
              "    <tr>\n",
              "      <th>0</th>\n",
              "      <td>0</td>\n",
              "      <td>Sun Jan 08 01:22:05 +0000 2017</td>\n",
              "      <td>���⛪ @ Catedral de Santo Antônio - Governador ...</td>\n",
              "      <td>Neutro</td>\n",
              "      <td>catedral santo antonio governador valadares</td>\n",
              "    </tr>\n",
              "    <tr>\n",
              "      <th>1</th>\n",
              "      <td>1</td>\n",
              "      <td>Sun Jan 08 01:49:01 +0000 2017</td>\n",
              "      <td>� @ Governador Valadares, Minas Gerais https:/...</td>\n",
              "      <td>Neutro</td>\n",
              "      <td>governador valadares minas gerais</td>\n",
              "    </tr>\n",
              "    <tr>\n",
              "      <th>2</th>\n",
              "      <td>2</td>\n",
              "      <td>Sun Jan 08 01:01:46 +0000 2017</td>\n",
              "      <td>�� @ Governador Valadares, Minas Gerais https:...</td>\n",
              "      <td>Neutro</td>\n",
              "      <td>governador valadares minas gerais</td>\n",
              "    </tr>\n",
              "    <tr>\n",
              "      <th>4</th>\n",
              "      <td>4</td>\n",
              "      <td>Mon Jan 09 15:08:21 +0000 2017</td>\n",
              "      <td>��� PSOL vai questionar aumento de vereadores ...</td>\n",
              "      <td>Negativo</td>\n",
              "      <td>psol vai questionar aumento vereadores prefeit...</td>\n",
              "    </tr>\n",
              "    <tr>\n",
              "      <th>5</th>\n",
              "      <td>5</td>\n",
              "      <td>Sat Jan 07 13:47:55 +0000 2017</td>\n",
              "      <td>\" bom é bandido morto\"\\nDeputado Cabo Júlio é ...</td>\n",
              "      <td>Neutro</td>\n",
              "      <td>bom bandido morto deputado cabo julio condenad...</td>\n",
              "    </tr>\n",
              "  </tbody>\n",
              "</table>\n",
              "</div>"
            ],
            "text/plain": [
              "   id                      data_tweet                                              texto sentimento                                      texto_tratado\n",
              "0   0  Sun Jan 08 01:22:05 +0000 2017  ���⛪ @ Catedral de Santo Antônio - Governador ...     Neutro        catedral santo antonio governador valadares\n",
              "1   1  Sun Jan 08 01:49:01 +0000 2017  � @ Governador Valadares, Minas Gerais https:/...     Neutro                  governador valadares minas gerais\n",
              "2   2  Sun Jan 08 01:01:46 +0000 2017  �� @ Governador Valadares, Minas Gerais https:...     Neutro                  governador valadares minas gerais\n",
              "4   4  Mon Jan 09 15:08:21 +0000 2017  ��� PSOL vai questionar aumento de vereadores ...   Negativo  psol vai questionar aumento vereadores prefeit...\n",
              "5   5  Sat Jan 07 13:47:55 +0000 2017  \" bom é bandido morto\"\\nDeputado Cabo Júlio é ...     Neutro  bom bandido morto deputado cabo julio condenad..."
            ]
          },
          "execution_count": 9,
          "metadata": {},
          "output_type": "execute_result"
        }
      ],
      "source": [
        "df.head()"
      ]
    },
    {
      "cell_type": "markdown",
      "id": "9657c5a9-de70-4500-b2ef-b28065659888",
      "metadata": {
        "id": "9657c5a9-de70-4500-b2ef-b28065659888"
      },
      "source": [
        "## ToDo 3\n",
        "\n",
        "Separe a coluna texto_tratado em conjunto de treino e teste na proporção 70/30"
      ]
    },
    {
      "cell_type": "code",
      "execution_count": 11,
      "id": "7e9a01f6-af94-4b98-9091-94b08ccc48f6",
      "metadata": {
        "id": "7e9a01f6-af94-4b98-9091-94b08ccc48f6"
      },
      "outputs": [],
      "source": [
        "from sklearn.model_selection import train_test_split\n",
        "X = df['texto_tratado'].copy()\n",
        "y = df['sentimento'].copy()\n",
        "X_train, X_test, y_train, y_test = train_test_split(X, y, test_size=0.3, random_state=42)"
      ]
    },
    {
      "cell_type": "markdown",
      "id": "b7434514-3e94-4d8d-abd3-f711bbada875",
      "metadata": {
        "id": "b7434514-3e94-4d8d-abd3-f711bbada875"
      },
      "source": [
        "## ToDo 4\n",
        "\n",
        "Transforme os dados para criar a representação numérica dos textos. Use uma versão com CountVectorizer e outra com TFIDFVectorizer"
      ]
    },
    {
      "cell_type": "code",
      "execution_count": 12,
      "id": "64278ca9-3618-4002-a4d5-8b95803c70ec",
      "metadata": {
        "colab": {
          "base_uri": "https://localhost:8080/"
        },
        "id": "64278ca9-3618-4002-a4d5-8b95803c70ec",
        "outputId": "b49bb531-5c13-4dd2-a166-07bc12418737"
      },
      "outputs": [
        {
          "data": {
            "text/plain": [
              "<4033x16393 sparse matrix of type '<class 'numpy.int64'>'\n",
              "\twith 65857 stored elements in Compressed Sparse Row format>"
            ]
          },
          "execution_count": 12,
          "metadata": {},
          "output_type": "execute_result"
        }
      ],
      "source": [
        "from sklearn.feature_extraction.text import CountVectorizer\n",
        "\n",
        "vect = CountVectorizer(ngram_range=(1,2)) \n",
        "vect.fit(X_train)\n",
        "X_train_count_vec = vect.transform(X_train)\n",
        "X_train_count_vec"
      ]
    },
    {
      "cell_type": "code",
      "execution_count": 13,
      "id": "ae614042",
      "metadata": {},
      "outputs": [
        {
          "name": "stdout",
          "output_type": "stream",
          "text": [
            "[[0 0 0 ... 0 0 0]\n",
            " [0 0 0 ... 0 0 0]\n",
            " [0 0 0 ... 0 0 0]\n",
            " ...\n",
            " [0 0 0 ... 0 0 0]\n",
            " [0 0 0 ... 0 0 0]\n",
            " [0 0 0 ... 0 0 0]]\n"
          ]
        }
      ],
      "source": [
        "print(X_train_count_vec.A)"
      ]
    },
    {
      "cell_type": "code",
      "execution_count": null,
      "id": "da33737e",
      "metadata": {},
      "outputs": [],
      "source": [
        "# print(pd.DataFrame(X_train_count_vec.A, columns=vect.get_feature_names()).T.to_string())"
      ]
    },
    {
      "cell_type": "code",
      "execution_count": 14,
      "id": "N7JB4OZM8SaP",
      "metadata": {
        "colab": {
          "base_uri": "https://localhost:8080/"
        },
        "id": "N7JB4OZM8SaP",
        "outputId": "85da92cb-6a7f-429c-841d-43b2d0f13cf5"
      },
      "outputs": [
        {
          "data": {
            "text/plain": [
              "<1729x16393 sparse matrix of type '<class 'numpy.int64'>'\n",
              "\twith 23551 stored elements in Compressed Sparse Row format>"
            ]
          },
          "execution_count": 14,
          "metadata": {},
          "output_type": "execute_result"
        }
      ],
      "source": [
        "X_test_count_vec = vect.transform(X_test)\n",
        "X_test_count_vec"
      ]
    },
    {
      "cell_type": "code",
      "execution_count": 15,
      "id": "9017f885-b3cb-4cfa-88f7-5dc7f52bd668",
      "metadata": {
        "colab": {
          "base_uri": "https://localhost:8080/"
        },
        "id": "9017f885-b3cb-4cfa-88f7-5dc7f52bd668",
        "outputId": "388dbe67-02b9-4fb3-8595-eb36015c5976"
      },
      "outputs": [
        {
          "data": {
            "text/plain": [
              "<4033x5380 sparse matrix of type '<class 'numpy.float64'>'\n",
              "\twith 34790 stored elements in Compressed Sparse Row format>"
            ]
          },
          "execution_count": 15,
          "metadata": {},
          "output_type": "execute_result"
        }
      ],
      "source": [
        "from sklearn.feature_extraction.text import TfidfVectorizer\n",
        "\n",
        "tf_id_vec = TfidfVectorizer(lowercase=False,ngram_range=(1,1))\n",
        "tf_id_vec.fit(X_train)\n",
        "X_train_id_vec = tf_id_vec.transform(X_train)\n",
        "X_train_id_vec"
      ]
    },
    {
      "cell_type": "code",
      "execution_count": 16,
      "id": "5b-Bw26W90Nz",
      "metadata": {
        "colab": {
          "base_uri": "https://localhost:8080/"
        },
        "id": "5b-Bw26W90Nz",
        "outputId": "314c121e-eaec-4ee6-c24c-5e79965b6b9a"
      },
      "outputs": [
        {
          "data": {
            "text/plain": [
              "<1729x5380 sparse matrix of type '<class 'numpy.float64'>'\n",
              "\twith 13706 stored elements in Compressed Sparse Row format>"
            ]
          },
          "execution_count": 16,
          "metadata": {},
          "output_type": "execute_result"
        }
      ],
      "source": [
        "X_test_id_vec = tf_id_vec.transform(X_test)\n",
        "X_test_id_vec"
      ]
    },
    {
      "cell_type": "markdown",
      "id": "fabfb366-1e15-433a-a6e6-00ebe3f0844f",
      "metadata": {
        "id": "fabfb366-1e15-433a-a6e6-00ebe3f0844f"
      },
      "source": [
        "## ToDo 5\n",
        "\n",
        "Treine uma árvore de decisão nas duas abordagens e compare seus resultados"
      ]
    },
    {
      "cell_type": "code",
      "execution_count": 17,
      "id": "Au2XK-Th_DK1",
      "metadata": {
        "id": "Au2XK-Th_DK1"
      },
      "outputs": [],
      "source": [
        "from sklearn.metrics import confusion_matrix, roc_curve, classification_report"
      ]
    },
    {
      "cell_type": "code",
      "execution_count": 18,
      "id": "0925a9b3-ffd2-40cf-86ca-5a75c02ecd9b",
      "metadata": {
        "colab": {
          "base_uri": "https://localhost:8080/",
          "height": 980
        },
        "id": "0925a9b3-ffd2-40cf-86ca-5a75c02ecd9b",
        "outputId": "c07ff71a-a48a-481e-ffe9-40af8f2487af"
      },
      "outputs": [
        {
          "data": {
            "text/plain": [
              "[Text(0.6979166666666666, 0.9444444444444444, 'X[5285] <= 0.5\\ngini = 0.61\\nsamples = 4033\\nvalue = [655, 1369, 2009]'),\n",
              " Text(0.48313492063492064, 0.8333333333333334, 'X[6978] <= 0.5\\ngini = 0.503\\nsamples = 2895\\nvalue = [527, 448, 1920]'),\n",
              " Text(0.2777777777777778, 0.7222222222222222, 'X[6920] <= 0.5\\ngini = 0.344\\nsamples = 2262\\nvalue = [139, 326, 1797]'),\n",
              " Text(0.16666666666666666, 0.6111111111111112, 'X[3920] <= 0.5\\ngini = 0.168\\nsamples = 1949\\nvalue = [72, 104, 1773]'),\n",
              " Text(0.1111111111111111, 0.5, 'X[7291] <= 0.5\\ngini = 0.143\\nsamples = 1919\\nvalue = [45, 101, 1773]'),\n",
              " Text(0.07936507936507936, 0.3888888888888889, 'X[2494] <= 0.5\\ngini = 0.128\\nsamples = 1902\\nvalue = [29, 100, 1773]'),\n",
              " Text(0.06349206349206349, 0.2777777777777778, 'X[1734] <= 0.5\\ngini = 0.12\\nsamples = 1893\\nvalue = [29, 91, 1773]'),\n",
              " Text(0.031746031746031744, 0.16666666666666666, 'X[7268] <= 0.5\\ngini = 0.108\\nsamples = 1870\\nvalue = [29, 77, 1764]'),\n",
              " Text(0.015873015873015872, 0.05555555555555555, 'gini = 0.102\\nsamples = 1863\\nvalue = [22, 77, 1764]'),\n",
              " Text(0.047619047619047616, 0.05555555555555555, 'gini = 0.0\\nsamples = 7\\nvalue = [7, 0, 0]'),\n",
              " Text(0.09523809523809523, 0.16666666666666666, 'X[15297] <= 0.5\\ngini = 0.476\\nsamples = 23\\nvalue = [0, 14, 9]'),\n",
              " Text(0.07936507936507936, 0.05555555555555555, 'gini = 0.42\\nsamples = 20\\nvalue = [0, 14, 6]'),\n",
              " Text(0.1111111111111111, 0.05555555555555555, 'gini = 0.0\\nsamples = 3\\nvalue = [0, 0, 3]'),\n",
              " Text(0.09523809523809523, 0.2777777777777778, 'gini = 0.0\\nsamples = 9\\nvalue = [0, 9, 0]'),\n",
              " Text(0.14285714285714285, 0.3888888888888889, 'X[13591] <= 0.5\\ngini = 0.111\\nsamples = 17\\nvalue = [16, 1, 0]'),\n",
              " Text(0.12698412698412698, 0.2777777777777778, 'gini = 0.0\\nsamples = 16\\nvalue = [16, 0, 0]'),\n",
              " Text(0.15873015873015872, 0.2777777777777778, 'gini = 0.0\\nsamples = 1\\nvalue = [0, 1, 0]'),\n",
              " Text(0.2222222222222222, 0.5, 'X[7608] <= 0.5\\ngini = 0.18\\nsamples = 30\\nvalue = [27, 3, 0]'),\n",
              " Text(0.20634920634920634, 0.3888888888888889, 'X[3712] <= 0.5\\ngini = 0.128\\nsamples = 29\\nvalue = [27, 2, 0]'),\n",
              " Text(0.19047619047619047, 0.2777777777777778, 'X[14504] <= 0.5\\ngini = 0.069\\nsamples = 28\\nvalue = [27, 1, 0]'),\n",
              " Text(0.1746031746031746, 0.16666666666666666, 'gini = 0.0\\nsamples = 26\\nvalue = [26, 0, 0]'),\n",
              " Text(0.20634920634920634, 0.16666666666666666, 'X[2422] <= 0.5\\ngini = 0.5\\nsamples = 2\\nvalue = [1, 1, 0]'),\n",
              " Text(0.19047619047619047, 0.05555555555555555, 'gini = 0.0\\nsamples = 1\\nvalue = [0, 1, 0]'),\n",
              " Text(0.2222222222222222, 0.05555555555555555, 'gini = 0.0\\nsamples = 1\\nvalue = [1, 0, 0]'),\n",
              " Text(0.2222222222222222, 0.2777777777777778, 'gini = 0.0\\nsamples = 1\\nvalue = [0, 1, 0]'),\n",
              " Text(0.23809523809523808, 0.3888888888888889, 'gini = 0.0\\nsamples = 1\\nvalue = [0, 1, 0]'),\n",
              " Text(0.3888888888888889, 0.6111111111111112, 'X[15786] <= 0.5\\ngini = 0.445\\nsamples = 313\\nvalue = [67, 222, 24]'),\n",
              " Text(0.3333333333333333, 0.5, 'X[1688] <= 0.5\\ngini = 0.569\\nsamples = 120\\nvalue = [67, 39, 14]'),\n",
              " Text(0.30158730158730157, 0.3888888888888889, 'X[5021] <= 0.5\\ngini = 0.537\\nsamples = 109\\nvalue = [67, 29, 13]'),\n",
              " Text(0.2857142857142857, 0.2777777777777778, 'X[9524] <= 0.5\\ngini = 0.501\\nsamples = 104\\nvalue = [67, 29, 8]'),\n",
              " Text(0.2698412698412698, 0.16666666666666666, 'X[365] <= 0.5\\ngini = 0.484\\nsamples = 102\\nvalue = [67, 29, 6]'),\n",
              " Text(0.25396825396825395, 0.05555555555555555, 'gini = 0.457\\nsamples = 96\\nvalue = [66, 25, 5]'),\n",
              " Text(0.2857142857142857, 0.05555555555555555, 'gini = 0.5\\nsamples = 6\\nvalue = [1, 4, 1]'),\n",
              " Text(0.30158730158730157, 0.16666666666666666, 'gini = 0.0\\nsamples = 2\\nvalue = [0, 0, 2]'),\n",
              " Text(0.31746031746031744, 0.2777777777777778, 'gini = 0.0\\nsamples = 5\\nvalue = [0, 0, 5]'),\n",
              " Text(0.36507936507936506, 0.3888888888888889, 'X[8368] <= 0.5\\ngini = 0.165\\nsamples = 11\\nvalue = [0, 10, 1]'),\n",
              " Text(0.3492063492063492, 0.2777777777777778, 'gini = 0.0\\nsamples = 10\\nvalue = [0, 10, 0]'),\n",
              " Text(0.38095238095238093, 0.2777777777777778, 'gini = 0.0\\nsamples = 1\\nvalue = [0, 0, 1]'),\n",
              " Text(0.4444444444444444, 0.5, 'X[16099] <= 0.5\\ngini = 0.098\\nsamples = 193\\nvalue = [0, 183, 10]'),\n",
              " Text(0.42857142857142855, 0.3888888888888889, 'X[694] <= 0.5\\ngini = 0.011\\nsamples = 184\\nvalue = [0, 183, 1]'),\n",
              " Text(0.4126984126984127, 0.2777777777777778, 'gini = 0.0\\nsamples = 183\\nvalue = [0, 183, 0]'),\n",
              " Text(0.4444444444444444, 0.2777777777777778, 'gini = 0.0\\nsamples = 1\\nvalue = [0, 0, 1]'),\n",
              " Text(0.4603174603174603, 0.3888888888888889, 'gini = 0.0\\nsamples = 9\\nvalue = [0, 0, 9]'),\n",
              " Text(0.6884920634920635, 0.7222222222222222, 'X[9431] <= 0.5\\ngini = 0.549\\nsamples = 633\\nvalue = [388, 122, 123]'),\n",
              " Text(0.6726190476190477, 0.6111111111111112, 'X[3009] <= 0.5\\ngini = 0.493\\nsamples = 580\\nvalue = [388, 69, 123]'),\n",
              " Text(0.5992063492063492, 0.5, 'X[10215] <= 0.5\\ngini = 0.597\\nsamples = 402\\nvalue = [214, 65, 123]'),\n",
              " Text(0.5317460317460317, 0.3888888888888889, 'X[11585] <= 0.5\\ngini = 0.639\\nsamples = 268\\nvalue = [85, 60, 123]'),\n",
              " Text(0.47619047619047616, 0.2777777777777778, 'X[7291] <= 0.5\\ngini = 0.607\\nsamples = 231\\nvalue = [50, 58, 123]'),\n",
              " Text(0.4444444444444444, 0.16666666666666666, 'X[7268] <= 0.5\\ngini = 0.56\\nsamples = 208\\nvalue = [30, 55, 123]'),\n",
              " Text(0.42857142857142855, 0.05555555555555555, 'gini = 0.534\\nsamples = 200\\nvalue = [22, 55, 123]'),\n",
              " Text(0.4603174603174603, 0.05555555555555555, 'gini = 0.0\\nsamples = 8\\nvalue = [8, 0, 0]'),\n",
              " Text(0.5079365079365079, 0.16666666666666666, 'X[270] <= 0.5\\ngini = 0.227\\nsamples = 23\\nvalue = [20, 3, 0]'),\n",
              " Text(0.49206349206349204, 0.05555555555555555, 'gini = 0.0\\nsamples = 19\\nvalue = [19, 0, 0]'),\n",
              " Text(0.5238095238095238, 0.05555555555555555, 'gini = 0.375\\nsamples = 4\\nvalue = [1, 3, 0]'),\n",
              " Text(0.5873015873015873, 0.2777777777777778, 'X[6251] <= 0.5\\ngini = 0.102\\nsamples = 37\\nvalue = [35, 2, 0]'),\n",
              " Text(0.5714285714285714, 0.16666666666666666, 'X[14118] <= 0.5\\ngini = 0.054\\nsamples = 36\\nvalue = [35, 1, 0]'),\n",
              " Text(0.5555555555555556, 0.05555555555555555, 'gini = 0.0\\nsamples = 35\\nvalue = [35, 0, 0]'),\n",
              " Text(0.5873015873015873, 0.05555555555555555, 'gini = 0.0\\nsamples = 1\\nvalue = [0, 1, 0]'),\n",
              " Text(0.6031746031746031, 0.16666666666666666, 'gini = 0.0\\nsamples = 1\\nvalue = [0, 1, 0]'),\n",
              " Text(0.6666666666666666, 0.3888888888888889, 'X[5897] <= 0.5\\ngini = 0.072\\nsamples = 134\\nvalue = [129, 5, 0]'),\n",
              " Text(0.6507936507936508, 0.2777777777777778, 'X[14615] <= 0.5\\ngini = 0.058\\nsamples = 133\\nvalue = [129, 4, 0]'),\n",
              " Text(0.6349206349206349, 0.16666666666666666, 'X[11431] <= 0.5\\ngini = 0.044\\nsamples = 132\\nvalue = [129, 3, 0]'),\n",
              " Text(0.6190476190476191, 0.05555555555555555, 'gini = 0.03\\nsamples = 131\\nvalue = [129, 2, 0]'),\n",
              " Text(0.6507936507936508, 0.05555555555555555, 'gini = 0.0\\nsamples = 1\\nvalue = [0, 1, 0]'),\n",
              " Text(0.6666666666666666, 0.16666666666666666, 'gini = 0.0\\nsamples = 1\\nvalue = [0, 1, 0]'),\n",
              " Text(0.6825396825396826, 0.2777777777777778, 'gini = 0.0\\nsamples = 1\\nvalue = [0, 1, 0]'),\n",
              " Text(0.746031746031746, 0.5, 'X[6897] <= 0.5\\ngini = 0.044\\nsamples = 178\\nvalue = [174, 4, 0]'),\n",
              " Text(0.7301587301587301, 0.3888888888888889, 'X[15502] <= 0.5\\ngini = 0.033\\nsamples = 177\\nvalue = [174, 3, 0]'),\n",
              " Text(0.7142857142857143, 0.2777777777777778, 'X[13587] <= 0.5\\ngini = 0.022\\nsamples = 176\\nvalue = [174, 2, 0]'),\n",
              " Text(0.6984126984126984, 0.16666666666666666, 'X[9910] <= 0.5\\ngini = 0.011\\nsamples = 175\\nvalue = [174, 1, 0]'),\n",
              " Text(0.6825396825396826, 0.05555555555555555, 'gini = 0.0\\nsamples = 174\\nvalue = [174, 0, 0]'),\n",
              " Text(0.7142857142857143, 0.05555555555555555, 'gini = 0.0\\nsamples = 1\\nvalue = [0, 1, 0]'),\n",
              " Text(0.7301587301587301, 0.16666666666666666, 'gini = 0.0\\nsamples = 1\\nvalue = [0, 1, 0]'),\n",
              " Text(0.746031746031746, 0.2777777777777778, 'gini = 0.0\\nsamples = 1\\nvalue = [0, 1, 0]'),\n",
              " Text(0.7619047619047619, 0.3888888888888889, 'gini = 0.0\\nsamples = 1\\nvalue = [0, 1, 0]'),\n",
              " Text(0.7043650793650794, 0.6111111111111112, 'gini = 0.0\\nsamples = 53\\nvalue = [0, 53, 0]'),\n",
              " Text(0.9126984126984127, 0.8333333333333334, 'X[2174] <= 0.5\\ngini = 0.326\\nsamples = 1138\\nvalue = [128, 921, 89]'),\n",
              " Text(0.8571428571428571, 0.7222222222222222, 'X[12279] <= 0.5\\ngini = 0.275\\nsamples = 1087\\nvalue = [80, 918, 89]'),\n",
              " Text(0.8253968253968254, 0.6111111111111112, 'X[7268] <= 0.5\\ngini = 0.246\\nsamples = 1064\\nvalue = [70, 918, 76]'),\n",
              " Text(0.8095238095238095, 0.5, 'X[13352] <= 0.5\\ngini = 0.233\\nsamples = 1054\\nvalue = [60, 918, 76]'),\n",
              " Text(0.7936507936507936, 0.3888888888888889, 'X[8262] <= 0.5\\ngini = 0.222\\nsamples = 1046\\nvalue = [60, 918, 68]'),\n",
              " Text(0.7777777777777778, 0.2777777777777778, 'X[3294] <= 0.5\\ngini = 0.212\\nsamples = 1039\\nvalue = [53, 918, 68]'),\n",
              " Text(0.7619047619047619, 0.16666666666666666, 'X[12886] <= 0.5\\ngini = 0.203\\nsamples = 1032\\nvalue = [53, 918, 61]'),\n",
              " Text(0.746031746031746, 0.05555555555555555, 'gini = 0.19\\nsamples = 1021\\nvalue = [52, 916, 53]'),\n",
              " Text(0.7777777777777778, 0.05555555555555555, 'gini = 0.43\\nsamples = 11\\nvalue = [1, 2, 8]'),\n",
              " Text(0.7936507936507936, 0.16666666666666666, 'gini = 0.0\\nsamples = 7\\nvalue = [0, 0, 7]'),\n",
              " Text(0.8095238095238095, 0.2777777777777778, 'gini = 0.0\\nsamples = 7\\nvalue = [7, 0, 0]'),\n",
              " Text(0.8253968253968254, 0.3888888888888889, 'gini = 0.0\\nsamples = 8\\nvalue = [0, 0, 8]'),\n",
              " Text(0.8412698412698413, 0.5, 'gini = 0.0\\nsamples = 10\\nvalue = [10, 0, 0]'),\n",
              " Text(0.8888888888888888, 0.6111111111111112, 'X[8368] <= 0.5\\ngini = 0.491\\nsamples = 23\\nvalue = [10, 0, 13]'),\n",
              " Text(0.873015873015873, 0.5, 'X[11585] <= 0.5\\ngini = 0.278\\nsamples = 12\\nvalue = [10, 0, 2]'),\n",
              " Text(0.8571428571428571, 0.3888888888888889, 'gini = 0.0\\nsamples = 10\\nvalue = [10, 0, 0]'),\n",
              " Text(0.8888888888888888, 0.3888888888888889, 'gini = 0.0\\nsamples = 2\\nvalue = [0, 0, 2]'),\n",
              " Text(0.9047619047619048, 0.5, 'gini = 0.0\\nsamples = 11\\nvalue = [0, 0, 11]'),\n",
              " Text(0.9682539682539683, 0.7222222222222222, 'X[12286] <= 0.5\\ngini = 0.111\\nsamples = 51\\nvalue = [48, 3, 0]'),\n",
              " Text(0.9523809523809523, 0.6111111111111112, 'X[15505] <= 0.5\\ngini = 0.077\\nsamples = 50\\nvalue = [48, 2, 0]'),\n",
              " Text(0.9365079365079365, 0.5, 'X[13058] <= 0.5\\ngini = 0.04\\nsamples = 49\\nvalue = [48, 1, 0]'),\n",
              " Text(0.9206349206349206, 0.3888888888888889, 'gini = 0.0\\nsamples = 48\\nvalue = [48, 0, 0]'),\n",
              " Text(0.9523809523809523, 0.3888888888888889, 'gini = 0.0\\nsamples = 1\\nvalue = [0, 1, 0]'),\n",
              " Text(0.9682539682539683, 0.5, 'gini = 0.0\\nsamples = 1\\nvalue = [0, 1, 0]'),\n",
              " Text(0.9841269841269841, 0.6111111111111112, 'gini = 0.0\\nsamples = 1\\nvalue = [0, 1, 0]')]"
            ]
          },
          "execution_count": 18,
          "metadata": {},
          "output_type": "execute_result"
        },
        {
          "data": {
            "image/png": "[encoded data removed]",
            "text/plain": [
              "<Figure size 640x480 with 1 Axes>"
            ]
          },
          "metadata": {},
          "output_type": "display_data"
        }
      ],
      "source": [
        "from sklearn import tree\n",
        "\n",
        "clf_count_vec = tree.DecisionTreeClassifier(max_depth=8, random_state=42)\n",
        "clf_count_vec = clf_count_vec.fit(X_train_count_vec, y_train)\n",
        "\n",
        "tree.plot_tree(clf_count_vec)"
      ]
    },
    {
      "cell_type": "code",
      "execution_count": 19,
      "id": "NSRhE_h5__Hf",
      "metadata": {
        "id": "NSRhE_h5__Hf"
      },
      "outputs": [],
      "source": [
        "y_hat = clf_count_vec.predict(X_test_count_vec)"
      ]
    },
    {
      "cell_type": "code",
      "execution_count": 20,
      "id": "c_eSsBvy_nss",
      "metadata": {
        "colab": {
          "base_uri": "https://localhost:8080/"
        },
        "id": "c_eSsBvy_nss",
        "outputId": "773b3872-5393-4536-913b-c09d0a8260c7"
      },
      "outputs": [
        {
          "name": "stdout",
          "output_type": "stream",
          "text": [
            "              precision    recall  f1-score   support\n",
            "\n",
            "    Negativo       0.89      0.79      0.84       297\n",
            "      Neutro       0.90      0.84      0.87       595\n",
            "    Positivo       0.89      0.97      0.93       837\n",
            "\n",
            "    accuracy                           0.90      1729\n",
            "   macro avg       0.90      0.87      0.88      1729\n",
            "weighted avg       0.90      0.90      0.89      1729\n",
            "\n"
          ]
        }
      ],
      "source": [
        "print(classification_report(y_test, y_hat))"
      ]
    },
    {
      "cell_type": "code",
      "execution_count": 21,
      "id": "12ea2e86-2685-426b-aad2-b58a75b9000f",
      "metadata": {
        "colab": {
          "base_uri": "https://localhost:8080/",
          "height": 1000
        },
        "id": "12ea2e86-2685-426b-aad2-b58a75b9000f",
        "outputId": "44d593da-4810-4ab8-f7e3-deb51a4bee74"
      },
      "outputs": [
        {
          "data": {
            "text/plain": [
              "[Text(0.6772540983606558, 0.9444444444444444, 'X[1882] <= 0.027\\ngini = 0.61\\nsamples = 4033\\nvalue = [655, 1369, 2009]'),\n",
              " Text(0.444672131147541, 0.8333333333333334, 'X[2361] <= 0.042\\ngini = 0.503\\nsamples = 2895\\nvalue = [527, 448, 1920]'),\n",
              " Text(0.27049180327868855, 0.7222222222222222, 'X[2357] <= 0.05\\ngini = 0.344\\nsamples = 2262\\nvalue = [139, 326, 1797]'),\n",
              " Text(0.1721311475409836, 0.6111111111111112, 'X[1416] <= 0.103\\ngini = 0.168\\nsamples = 1949\\nvalue = [72, 104, 1773]'),\n",
              " Text(0.11475409836065574, 0.5, 'X[2446] <= 0.09\\ngini = 0.143\\nsamples = 1919\\nvalue = [45, 101, 1773]'),\n",
              " Text(0.08196721311475409, 0.3888888888888889, 'X[3334] <= 0.42\\ngini = 0.128\\nsamples = 1902\\nvalue = [29, 100, 1773]'),\n",
              " Text(0.06557377049180328, 0.2777777777777778, 'X[609] <= 0.123\\ngini = 0.12\\nsamples = 1893\\nvalue = [29, 91, 1773]'),\n",
              " Text(0.03278688524590164, 0.16666666666666666, 'X[2445] <= 0.111\\ngini = 0.108\\nsamples = 1870\\nvalue = [29, 77, 1764]'),\n",
              " Text(0.01639344262295082, 0.05555555555555555, 'gini = 0.102\\nsamples = 1863\\nvalue = [22, 77, 1764]'),\n",
              " Text(0.04918032786885246, 0.05555555555555555, 'gini = 0.0\\nsamples = 7\\nvalue = [7, 0, 0]'),\n",
              " Text(0.09836065573770492, 0.16666666666666666, 'X[609] <= 0.32\\ngini = 0.476\\nsamples = 23\\nvalue = [0, 14, 9]'),\n",
              " Text(0.08196721311475409, 0.05555555555555555, 'gini = 0.388\\nsamples = 19\\nvalue = [0, 14, 5]'),\n",
              " Text(0.11475409836065574, 0.05555555555555555, 'gini = 0.0\\nsamples = 4\\nvalue = [0, 0, 4]'),\n",
              " Text(0.09836065573770492, 0.2777777777777778, 'gini = 0.0\\nsamples = 9\\nvalue = [0, 9, 0]'),\n",
              " Text(0.14754098360655737, 0.3888888888888889, 'X[4468] <= 0.204\\ngini = 0.111\\nsamples = 17\\nvalue = [16, 1, 0]'),\n",
              " Text(0.13114754098360656, 0.2777777777777778, 'gini = 0.0\\nsamples = 16\\nvalue = [16, 0, 0]'),\n",
              " Text(0.16393442622950818, 0.2777777777777778, 'gini = 0.0\\nsamples = 1\\nvalue = [0, 1, 0]'),\n",
              " Text(0.22950819672131148, 0.5, 'X[212] <= 0.192\\ngini = 0.18\\nsamples = 30\\nvalue = [27, 3, 0]'),\n",
              " Text(0.21311475409836064, 0.3888888888888889, 'X[2547] <= 0.27\\ngini = 0.128\\nsamples = 29\\nvalue = [27, 2, 0]'),\n",
              " Text(0.19672131147540983, 0.2777777777777778, 'X[4752] <= 0.364\\ngini = 0.069\\nsamples = 28\\nvalue = [27, 1, 0]'),\n",
              " Text(0.18032786885245902, 0.16666666666666666, 'gini = 0.0\\nsamples = 27\\nvalue = [27, 0, 0]'),\n",
              " Text(0.21311475409836064, 0.16666666666666666, 'gini = 0.0\\nsamples = 1\\nvalue = [0, 1, 0]'),\n",
              " Text(0.22950819672131148, 0.2777777777777778, 'gini = 0.0\\nsamples = 1\\nvalue = [0, 1, 0]'),\n",
              " Text(0.2459016393442623, 0.3888888888888889, 'gini = 0.0\\nsamples = 1\\nvalue = [0, 1, 0]'),\n",
              " Text(0.36885245901639346, 0.6111111111111112, 'X[5176] <= 0.06\\ngini = 0.445\\nsamples = 313\\nvalue = [67, 222, 24]'),\n",
              " Text(0.3114754098360656, 0.5, 'X[2483] <= 0.12\\ngini = 0.569\\nsamples = 120\\nvalue = [67, 39, 14]'),\n",
              " Text(0.2786885245901639, 0.3888888888888889, 'X[1782] <= 0.118\\ngini = 0.537\\nsamples = 109\\nvalue = [67, 29, 13]'),\n",
              " Text(0.26229508196721313, 0.2777777777777778, 'X[1123] <= 0.195\\ngini = 0.501\\nsamples = 104\\nvalue = [67, 29, 8]'),\n",
              " Text(0.2459016393442623, 0.16666666666666666, 'X[147] <= 0.143\\ngini = 0.484\\nsamples = 102\\nvalue = [67, 29, 6]'),\n",
              " Text(0.22950819672131148, 0.05555555555555555, 'gini = 0.457\\nsamples = 96\\nvalue = [66, 25, 5]'),\n",
              " Text(0.26229508196721313, 0.05555555555555555, 'gini = 0.5\\nsamples = 6\\nvalue = [1, 4, 1]'),\n",
              " Text(0.2786885245901639, 0.16666666666666666, 'gini = 0.0\\nsamples = 2\\nvalue = [0, 0, 2]'),\n",
              " Text(0.29508196721311475, 0.2777777777777778, 'gini = 0.0\\nsamples = 5\\nvalue = [0, 0, 5]'),\n",
              " Text(0.3442622950819672, 0.3888888888888889, 'X[1582] <= 0.2\\ngini = 0.165\\nsamples = 11\\nvalue = [0, 10, 1]'),\n",
              " Text(0.32786885245901637, 0.2777777777777778, 'gini = 0.0\\nsamples = 10\\nvalue = [0, 10, 0]'),\n",
              " Text(0.36065573770491804, 0.2777777777777778, 'gini = 0.0\\nsamples = 1\\nvalue = [0, 0, 1]'),\n",
              " Text(0.4262295081967213, 0.5, 'X[2081] <= 0.173\\ngini = 0.098\\nsamples = 193\\nvalue = [0, 183, 10]'),\n",
              " Text(0.4098360655737705, 0.3888888888888889, 'X[1287] <= 0.21\\ngini = 0.011\\nsamples = 184\\nvalue = [0, 183, 1]'),\n",
              " Text(0.39344262295081966, 0.2777777777777778, 'gini = 0.0\\nsamples = 183\\nvalue = [0, 183, 0]'),\n",
              " Text(0.4262295081967213, 0.2777777777777778, 'gini = 0.0\\nsamples = 1\\nvalue = [0, 0, 1]'),\n",
              " Text(0.4426229508196721, 0.3888888888888889, 'gini = 0.0\\nsamples = 9\\nvalue = [0, 0, 9]'),\n",
              " Text(0.6188524590163934, 0.7222222222222222, 'X[3231] <= 0.106\\ngini = 0.549\\nsamples = 633\\nvalue = [388, 122, 123]'),\n",
              " Text(0.6024590163934426, 0.6111111111111112, 'X[2361] <= 0.197\\ngini = 0.493\\nsamples = 580\\nvalue = [388, 69, 123]'),\n",
              " Text(0.5327868852459017, 0.5, 'X[1078] <= 0.191\\ngini = 0.616\\nsamples = 350\\nvalue = [173, 62, 115]'),\n",
              " Text(0.47540983606557374, 0.3888888888888889, 'X[3404] <= 0.162\\ngini = 0.642\\nsamples = 289\\nvalue = [115, 59, 115]'),\n",
              " Text(0.45901639344262296, 0.2777777777777778, 'X[3868] <= 0.082\\ngini = 0.64\\nsamples = 250\\nvalue = [76, 59, 115]'),\n",
              " Text(0.4262295081967213, 0.16666666666666666, 'X[2361] <= 0.167\\ngini = 0.597\\nsamples = 211\\nvalue = [40, 56, 115]'),\n",
              " Text(0.4098360655737705, 0.05555555555555555, 'gini = 0.659\\nsamples = 127\\nvalue = [33, 47, 47]'),\n",
              " Text(0.4426229508196721, 0.05555555555555555, 'gini = 0.326\\nsamples = 84\\nvalue = [7, 9, 68]'),\n",
              " Text(0.4918032786885246, 0.16666666666666666, 'X[1556] <= 0.14\\ngini = 0.142\\nsamples = 39\\nvalue = [36, 3, 0]'),\n",
              " Text(0.47540983606557374, 0.05555555555555555, 'gini = 0.1\\nsamples = 38\\nvalue = [36, 2, 0]'),\n",
              " Text(0.5081967213114754, 0.05555555555555555, 'gini = 0.0\\nsamples = 1\\nvalue = [0, 1, 0]'),\n",
              " Text(0.4918032786885246, 0.2777777777777778, 'gini = 0.0\\nsamples = 39\\nvalue = [39, 0, 0]'),\n",
              " Text(0.5901639344262295, 0.3888888888888889, 'X[868] <= 0.239\\ngini = 0.094\\nsamples = 61\\nvalue = [58, 3, 0]'),\n",
              " Text(0.5737704918032787, 0.2777777777777778, 'X[2344] <= 0.279\\ngini = 0.064\\nsamples = 60\\nvalue = [58, 2, 0]'),\n",
              " Text(0.5573770491803278, 0.16666666666666666, 'X[1722] <= 0.231\\ngini = 0.033\\nsamples = 59\\nvalue = [58, 1, 0]'),\n",
              " Text(0.5409836065573771, 0.05555555555555555, 'gini = 0.0\\nsamples = 58\\nvalue = [58, 0, 0]'),\n",
              " Text(0.5737704918032787, 0.05555555555555555, 'gini = 0.0\\nsamples = 1\\nvalue = [0, 1, 0]'),\n",
              " Text(0.5901639344262295, 0.16666666666666666, 'gini = 0.0\\nsamples = 1\\nvalue = [0, 1, 0]'),\n",
              " Text(0.6065573770491803, 0.2777777777777778, 'gini = 0.0\\nsamples = 1\\nvalue = [0, 1, 0]'),\n",
              " Text(0.6721311475409836, 0.5, 'X[1680] <= 0.18\\ngini = 0.124\\nsamples = 230\\nvalue = [215, 7, 8]'),\n",
              " Text(0.6557377049180327, 0.3888888888888889, 'X[3469] <= 0.334\\ngini = 0.101\\nsamples = 227\\nvalue = [215, 7, 5]'),\n",
              " Text(0.639344262295082, 0.2777777777777778, 'X[3765] <= 0.156\\ngini = 0.086\\nsamples = 225\\nvalue = [215, 7, 3]'),\n",
              " Text(0.6229508196721312, 0.16666666666666666, 'X[2055] <= 0.128\\ngini = 0.07\\nsamples = 223\\nvalue = [215, 5, 3]'),\n",
              " Text(0.6065573770491803, 0.05555555555555555, 'gini = 0.053\\nsamples = 221\\nvalue = [215, 4, 2]'),\n",
              " Text(0.639344262295082, 0.05555555555555555, 'gini = 0.5\\nsamples = 2\\nvalue = [0, 1, 1]'),\n",
              " Text(0.6557377049180327, 0.16666666666666666, 'gini = 0.0\\nsamples = 2\\nvalue = [0, 2, 0]'),\n",
              " Text(0.6721311475409836, 0.2777777777777778, 'gini = 0.0\\nsamples = 2\\nvalue = [0, 0, 2]'),\n",
              " Text(0.6885245901639344, 0.3888888888888889, 'gini = 0.0\\nsamples = 3\\nvalue = [0, 0, 3]'),\n",
              " Text(0.6352459016393442, 0.6111111111111112, 'gini = 0.0\\nsamples = 53\\nvalue = [0, 53, 0]'),\n",
              " Text(0.9098360655737705, 0.8333333333333334, 'X[1363] <= 0.129\\ngini = 0.326\\nsamples = 1138\\nvalue = [128, 921, 89]'),\n",
              " Text(0.8524590163934426, 0.7222222222222222, 'X[3868] <= 0.192\\ngini = 0.278\\nsamples = 1092\\nvalue = [83, 920, 89]'),\n",
              " Text(0.7868852459016393, 0.6111111111111112, 'X[4030] <= 0.104\\ngini = 0.256\\nsamples = 1071\\nvalue = [66, 917, 88]'),\n",
              " Text(0.7540983606557377, 0.5, 'X[4365] <= 0.181\\ngini = 0.237\\nsamples = 1055\\nvalue = [64, 916, 75]'),\n",
              " Text(0.7377049180327869, 0.3888888888888889, 'X[173] <= 0.084\\ngini = 0.227\\nsamples = 1047\\nvalue = [64, 916, 67]'),\n",
              " Text(0.7213114754098361, 0.2777777777777778, 'X[4630] <= 0.106\\ngini = 0.217\\nsamples = 1040\\nvalue = [57, 916, 67]'),\n",
              " Text(0.6885245901639344, 0.16666666666666666, 'X[4192] <= 0.118\\ngini = 0.203\\nsamples = 1023\\nvalue = [57, 910, 56]'),\n",
              " Text(0.6721311475409836, 0.05555555555555555, 'gini = 0.19\\nsamples = 1012\\nvalue = [56, 908, 48]'),\n",
              " Text(0.7049180327868853, 0.05555555555555555, 'gini = 0.43\\nsamples = 11\\nvalue = [1, 2, 8]'),\n",
              " Text(0.7540983606557377, 0.16666666666666666, 'X[197] <= 0.167\\ngini = 0.457\\nsamples = 17\\nvalue = [0, 6, 11]'),\n",
              " Text(0.7377049180327869, 0.05555555555555555, 'gini = 0.337\\nsamples = 14\\nvalue = [0, 3, 11]'),\n",
              " Text(0.7704918032786885, 0.05555555555555555, 'gini = 0.0\\nsamples = 3\\nvalue = [0, 3, 0]'),\n",
              " Text(0.7540983606557377, 0.2777777777777778, 'gini = 0.0\\nsamples = 7\\nvalue = [7, 0, 0]'),\n",
              " Text(0.7704918032786885, 0.3888888888888889, 'gini = 0.0\\nsamples = 8\\nvalue = [0, 0, 8]'),\n",
              " Text(0.819672131147541, 0.5, 'X[4254] <= 0.225\\ngini = 0.32\\nsamples = 16\\nvalue = [2, 1, 13]'),\n",
              " Text(0.8032786885245902, 0.3888888888888889, 'X[43] <= 0.196\\ngini = 0.133\\nsamples = 14\\nvalue = [0, 1, 13]'),\n",
              " Text(0.7868852459016393, 0.2777777777777778, 'gini = 0.0\\nsamples = 13\\nvalue = [0, 0, 13]'),\n",
              " Text(0.819672131147541, 0.2777777777777778, 'gini = 0.0\\nsamples = 1\\nvalue = [0, 1, 0]'),\n",
              " Text(0.8360655737704918, 0.3888888888888889, 'gini = 0.0\\nsamples = 2\\nvalue = [2, 0, 0]'),\n",
              " Text(0.9180327868852459, 0.6111111111111112, 'X[3934] <= 0.1\\ngini = 0.322\\nsamples = 21\\nvalue = [17, 3, 1]'),\n",
              " Text(0.8852459016393442, 0.5, 'X[4379] <= 0.414\\ngini = 0.188\\nsamples = 19\\nvalue = [17, 2, 0]'),\n",
              " Text(0.8688524590163934, 0.3888888888888889, 'X[1675] <= 0.192\\ngini = 0.105\\nsamples = 18\\nvalue = [17, 1, 0]'),\n",
              " Text(0.8524590163934426, 0.2777777777777778, 'gini = 0.0\\nsamples = 17\\nvalue = [17, 0, 0]'),\n",
              " Text(0.8852459016393442, 0.2777777777777778, 'gini = 0.0\\nsamples = 1\\nvalue = [0, 1, 0]'),\n",
              " Text(0.9016393442622951, 0.3888888888888889, 'gini = 0.0\\nsamples = 1\\nvalue = [0, 1, 0]'),\n",
              " Text(0.9508196721311475, 0.5, 'X[3868] <= 0.215\\ngini = 0.5\\nsamples = 2\\nvalue = [0, 1, 1]'),\n",
              " Text(0.9344262295081968, 0.3888888888888889, 'gini = 0.0\\nsamples = 1\\nvalue = [0, 0, 1]'),\n",
              " Text(0.9672131147540983, 0.3888888888888889, 'gini = 0.0\\nsamples = 1\\nvalue = [0, 1, 0]'),\n",
              " Text(0.9672131147540983, 0.7222222222222222, 'X[5096] <= 0.271\\ngini = 0.043\\nsamples = 46\\nvalue = [45, 1, 0]'),\n",
              " Text(0.9508196721311475, 0.6111111111111112, 'gini = 0.0\\nsamples = 45\\nvalue = [45, 0, 0]'),\n",
              " Text(0.9836065573770492, 0.6111111111111112, 'gini = 0.0\\nsamples = 1\\nvalue = [0, 1, 0]')]"
            ]
          },
          "execution_count": 21,
          "metadata": {},
          "output_type": "execute_result"
        },
        {
          "data": {
            "image/png": "[encoded data removed]",
            "text/plain": [
              "<Figure size 640x480 with 1 Axes>"
            ]
          },
          "metadata": {},
          "output_type": "display_data"
        }
      ],
      "source": [
        "# resposta - TFIDFVectorizer\n",
        "\n",
        "clf_tf_id_vec = tree.DecisionTreeClassifier(max_depth=8, random_state=42)\n",
        "clf_tf_id_vec = clf_tf_id_vec.fit(X_train_id_vec, y_train)\n",
        "\n",
        "tree.plot_tree(clf_tf_id_vec)"
      ]
    },
    {
      "cell_type": "code",
      "execution_count": 22,
      "id": "KsGS9Uq3CT-D",
      "metadata": {
        "id": "KsGS9Uq3CT-D"
      },
      "outputs": [],
      "source": [
        "y_hat_2 = clf_tf_id_vec.predict(X_test_id_vec)"
      ]
    },
    {
      "cell_type": "code",
      "execution_count": 23,
      "id": "76EqsskgE6O6",
      "metadata": {
        "colab": {
          "base_uri": "https://localhost:8080/"
        },
        "id": "76EqsskgE6O6",
        "outputId": "906cefe3-87c0-4578-9ddd-d2e292557ec3"
      },
      "outputs": [
        {
          "name": "stdout",
          "output_type": "stream",
          "text": [
            "              precision    recall  f1-score   support\n",
            "\n",
            "    Negativo       0.87      0.79      0.83       297\n",
            "      Neutro       0.86      0.86      0.86       595\n",
            "    Positivo       0.92      0.95      0.93       837\n",
            "\n",
            "    accuracy                           0.89      1729\n",
            "   macro avg       0.88      0.86      0.87      1729\n",
            "weighted avg       0.89      0.89      0.89      1729\n",
            "\n"
          ]
        }
      ],
      "source": [
        "print(classification_report(y_test, y_hat_2))"
      ]
    },
    {
      "cell_type": "markdown",
      "id": "ad7c2477-5e10-4d3a-a5e7-477812b5629f",
      "metadata": {
        "id": "ad7c2477-5e10-4d3a-a5e7-477812b5629f"
      },
      "source": [
        "## ToDo 6\n",
        "Crie uma função que lematiza as palavras da coluna texto_tratado apenas se elas forem um verbo. Depois, crie uma nova coluna chamada texto_tratado_lemma que conterá o resultado da aplicação da função na coluna texto_tratado. \n",
        "\n",
        "Dica: use o Corpus pt_core_news_sm como referência para determinar a classe gramatical da palavra"
      ]
    },
    {
      "cell_type": "code",
      "execution_count": 25,
      "id": "dd9837bc",
      "metadata": {},
      "outputs": [
        {
          "name": "stdout",
          "output_type": "stream",
          "text": [
            "Collecting spacy\n",
            "  Downloading spacy-3.4.3-cp38-cp38-macosx_10_9_x86_64.whl (6.6 MB)\n",
            "\u001b[2K     \u001b[90m━━━━━━━━━━━━━━━━━━━━━━━━━━━━━━━━━━━━━━━━\u001b[0m \u001b[32m6.6/6.6 MB\u001b[0m \u001b[31m27.4 MB/s\u001b[0m eta \u001b[36m0:00:00\u001b[0m00:01\u001b[0m00:01\u001b[0m\n",
            "\u001b[?25hCollecting spacy-loggers<2.0.0,>=1.0.0\n",
            "  Downloading spacy_loggers-1.0.3-py3-none-any.whl (9.3 kB)\n",
            "Requirement already satisfied: requests<3.0.0,>=2.13.0 in /opt/anaconda3/envs/CustomEnvironments/lib/python3.8/site-packages (from spacy) (2.28.1)\n",
            "Collecting murmurhash<1.1.0,>=0.28.0\n",
            "  Downloading murmurhash-1.0.9-cp38-cp38-macosx_10_9_x86_64.whl (18 kB)\n",
            "Collecting typer<0.8.0,>=0.3.0\n",
            "  Downloading typer-0.7.0-py3-none-any.whl (38 kB)\n",
            "Collecting wasabi<1.1.0,>=0.9.1\n",
            "  Downloading wasabi-0.10.1-py3-none-any.whl (26 kB)\n",
            "Collecting srsly<3.0.0,>=2.4.3\n",
            "  Downloading srsly-2.4.5-cp38-cp38-macosx_10_9_x86_64.whl (489 kB)\n",
            "\u001b[2K     \u001b[90m━━━━━━━━━━━━━━━━━━━━━━━━━━━━━━━━━━━━━━\u001b[0m \u001b[32m489.1/489.1 kB\u001b[0m \u001b[31m15.3 MB/s\u001b[0m eta \u001b[36m0:00:00\u001b[0m\n",
            "\u001b[?25hCollecting langcodes<4.0.0,>=3.2.0\n",
            "  Downloading langcodes-3.3.0-py3-none-any.whl (181 kB)\n",
            "\u001b[2K     \u001b[90m━━━━━━━━━━━━━━━━━━━━━━━━━━━━━━━━━━━━━━━\u001b[0m \u001b[32m181.6/181.6 kB\u001b[0m \u001b[31m8.0 MB/s\u001b[0m eta \u001b[36m0:00:00\u001b[0m\n",
            "\u001b[?25hRequirement already satisfied: setuptools in /opt/anaconda3/envs/CustomEnvironments/lib/python3.8/site-packages (from spacy) (63.4.1)\n",
            "Collecting jinja2\n",
            "  Using cached Jinja2-3.1.2-py3-none-any.whl (133 kB)\n",
            "Collecting thinc<8.2.0,>=8.1.0\n",
            "  Downloading thinc-8.1.5-cp38-cp38-macosx_10_9_x86_64.whl (754 kB)\n",
            "\u001b[2K     \u001b[90m━━━━━━━━━━━━━━━━━━━━━━━━━━━━━━━━━━━━━━\u001b[0m \u001b[32m754.4/754.4 kB\u001b[0m \u001b[31m13.2 MB/s\u001b[0m eta \u001b[36m0:00:00\u001b[0m00:01\u001b[0m\n",
            "\u001b[?25hRequirement already satisfied: packaging>=20.0 in /opt/anaconda3/envs/CustomEnvironments/lib/python3.8/site-packages (from spacy) (21.3)\n",
            "Collecting spacy-legacy<3.1.0,>=3.0.10\n",
            "  Downloading spacy_legacy-3.0.10-py2.py3-none-any.whl (21 kB)\n",
            "Requirement already satisfied: numpy>=1.15.0 in /opt/anaconda3/envs/CustomEnvironments/lib/python3.8/site-packages (from spacy) (1.22.4)\n",
            "Collecting pathy>=0.3.5\n",
            "  Downloading pathy-0.10.0-py3-none-any.whl (48 kB)\n",
            "\u001b[2K     \u001b[90m━━━━━━━━━━━━━━━━━━━━━━━━━━━━━━━━━━━━━━━━\u001b[0m \u001b[32m48.9/48.9 kB\u001b[0m \u001b[31m1.1 MB/s\u001b[0m eta \u001b[36m0:00:00\u001b[0mta \u001b[36m0:00:01\u001b[0m\n",
            "\u001b[?25hRequirement already satisfied: tqdm<5.0.0,>=4.38.0 in /opt/anaconda3/envs/CustomEnvironments/lib/python3.8/site-packages (from spacy) (4.64.1)\n",
            "Collecting pydantic!=1.8,!=1.8.1,<1.11.0,>=1.7.4\n",
            "  Downloading pydantic-1.10.2-cp38-cp38-macosx_10_9_x86_64.whl (3.1 MB)\n",
            "\u001b[2K     \u001b[90m━━━━━━━━━━━━━━━━━━━━━━━━━━━━━━━━━━━━━━━━\u001b[0m \u001b[32m3.1/3.1 MB\u001b[0m \u001b[31m26.1 MB/s\u001b[0m eta \u001b[36m0:00:00\u001b[0m00:01\u001b[0m00:01\u001b[0m\n",
            "\u001b[?25hCollecting catalogue<2.1.0,>=2.0.6\n",
            "  Downloading catalogue-2.0.8-py3-none-any.whl (17 kB)\n",
            "Collecting cymem<2.1.0,>=2.0.2\n",
            "  Downloading cymem-2.0.7-cp38-cp38-macosx_10_9_x86_64.whl (32 kB)\n",
            "Collecting preshed<3.1.0,>=3.0.2\n",
            "  Downloading preshed-3.0.8-cp38-cp38-macosx_10_9_x86_64.whl (107 kB)\n",
            "\u001b[2K     \u001b[90m━━━━━━━━━━━━━━━━━━━━━━━━━━━━━━━━━━━━━━━\u001b[0m \u001b[32m107.4/107.4 kB\u001b[0m \u001b[31m4.7 MB/s\u001b[0m eta \u001b[36m0:00:00\u001b[0m\n",
            "\u001b[?25hRequirement already satisfied: pyparsing!=3.0.5,>=2.0.2 in /opt/anaconda3/envs/CustomEnvironments/lib/python3.8/site-packages (from packaging>=20.0->spacy) (3.0.9)\n",
            "Collecting smart-open<6.0.0,>=5.2.1\n",
            "  Downloading smart_open-5.2.1-py3-none-any.whl (58 kB)\n",
            "\u001b[2K     \u001b[90m━━━━━━━━━━━━━━━━━━━━━━━━━━━━━━━━━━━━━━━━\u001b[0m \u001b[32m58.6/58.6 kB\u001b[0m \u001b[31m2.3 MB/s\u001b[0m eta \u001b[36m0:00:00\u001b[0m\n",
            "\u001b[?25hRequirement already satisfied: typing-extensions>=4.1.0 in /opt/anaconda3/envs/CustomEnvironments/lib/python3.8/site-packages (from pydantic!=1.8,!=1.8.1,<1.11.0,>=1.7.4->spacy) (4.4.0)\n",
            "Requirement already satisfied: idna<4,>=2.5 in /opt/anaconda3/envs/CustomEnvironments/lib/python3.8/site-packages (from requests<3.0.0,>=2.13.0->spacy) (3.4)\n",
            "Requirement already satisfied: urllib3<1.27,>=1.21.1 in /opt/anaconda3/envs/CustomEnvironments/lib/python3.8/site-packages (from requests<3.0.0,>=2.13.0->spacy) (1.26.12)\n",
            "Requirement already satisfied: charset-normalizer<3,>=2 in /opt/anaconda3/envs/CustomEnvironments/lib/python3.8/site-packages (from requests<3.0.0,>=2.13.0->spacy) (2.1.1)\n",
            "Requirement already satisfied: certifi>=2017.4.17 in /opt/anaconda3/envs/CustomEnvironments/lib/python3.8/site-packages (from requests<3.0.0,>=2.13.0->spacy) (2022.9.24)\n",
            "Collecting blis<0.8.0,>=0.7.8\n",
            "  Downloading blis-0.7.9-cp38-cp38-macosx_10_9_x86_64.whl (6.1 MB)\n",
            "\u001b[2K     \u001b[90m━━━━━━━━━━━━━━━━━━━━━━━━━━━━━━━━━━━━━━━━\u001b[0m \u001b[32m6.1/6.1 MB\u001b[0m \u001b[31m31.9 MB/s\u001b[0m eta \u001b[36m0:00:00\u001b[0m00:01\u001b[0m00:01\u001b[0m\n",
            "\u001b[?25hCollecting confection<1.0.0,>=0.0.1\n",
            "  Downloading confection-0.0.3-py3-none-any.whl (32 kB)\n",
            "Requirement already satisfied: click<9.0.0,>=7.1.1 in /opt/anaconda3/envs/CustomEnvironments/lib/python3.8/site-packages (from typer<0.8.0,>=0.3.0->spacy) (8.0.4)\n",
            "Collecting MarkupSafe>=2.0\n",
            "  Using cached MarkupSafe-2.1.1-cp38-cp38-macosx_10_9_x86_64.whl (13 kB)\n",
            "Installing collected packages: wasabi, cymem, typer, spacy-loggers, spacy-legacy, smart-open, pydantic, murmurhash, MarkupSafe, langcodes, catalogue, blis, srsly, preshed, pathy, jinja2, confection, thinc, spacy\n",
            "\u001b[31mERROR: pip's dependency resolver does not currently take into account all the packages that are installed. This behaviour is the source of the following dependency conflicts.\n",
            "tensorboard 2.10.1 requires protobuf<3.20,>=3.9.2, but you have protobuf 3.20.1 which is incompatible.\u001b[0m\u001b[31m\n",
            "\u001b[0mSuccessfully installed MarkupSafe-2.1.1 blis-0.7.9 catalogue-2.0.8 confection-0.0.3 cymem-2.0.7 jinja2-3.1.2 langcodes-3.3.0 murmurhash-1.0.9 pathy-0.10.0 preshed-3.0.8 pydantic-1.10.2 smart-open-5.2.1 spacy-3.4.3 spacy-legacy-3.0.10 spacy-loggers-1.0.3 srsly-2.4.5 thinc-8.1.5 typer-0.7.0 wasabi-0.10.1\n"
          ]
        }
      ],
      "source": [
        "!pip install spacy"
      ]
    },
    {
      "cell_type": "code",
      "execution_count": 27,
      "id": "df2087ac",
      "metadata": {},
      "outputs": [
        {
          "name": "stdout",
          "output_type": "stream",
          "text": [
            "Collecting pt-core-news-sm==3.4.0\n",
            "  Downloading https://github.com/explosion/spacy-models/releases/download/pt_core_news_sm-3.4.0/pt_core_news_sm-3.4.0-py3-none-any.whl (13.0 MB)\n",
            "\u001b[2K     \u001b[90m━━━━━━━━━━━━━━━━━━━━━━━━━━━━━━━━━━━━━━━━\u001b[0m \u001b[32m13.0/13.0 MB\u001b[0m \u001b[31m13.3 MB/s\u001b[0m eta \u001b[36m0:00:00\u001b[0m00:01\u001b[0m00:01\u001b[0m\n",
            "\u001b[?25hRequirement already satisfied: spacy<3.5.0,>=3.4.0 in /opt/anaconda3/envs/CustomEnvironments/lib/python3.8/site-packages (from pt-core-news-sm==3.4.0) (3.4.3)\n",
            "Requirement already satisfied: setuptools in /opt/anaconda3/envs/CustomEnvironments/lib/python3.8/site-packages (from spacy<3.5.0,>=3.4.0->pt-core-news-sm==3.4.0) (63.4.1)\n",
            "Requirement already satisfied: spacy-loggers<2.0.0,>=1.0.0 in /opt/anaconda3/envs/CustomEnvironments/lib/python3.8/site-packages (from spacy<3.5.0,>=3.4.0->pt-core-news-sm==3.4.0) (1.0.3)\n",
            "Requirement already satisfied: tqdm<5.0.0,>=4.38.0 in /opt/anaconda3/envs/CustomEnvironments/lib/python3.8/site-packages (from spacy<3.5.0,>=3.4.0->pt-core-news-sm==3.4.0) (4.64.1)\n",
            "Requirement already satisfied: thinc<8.2.0,>=8.1.0 in /opt/anaconda3/envs/CustomEnvironments/lib/python3.8/site-packages (from spacy<3.5.0,>=3.4.0->pt-core-news-sm==3.4.0) (8.1.5)\n",
            "Requirement already satisfied: wasabi<1.1.0,>=0.9.1 in /opt/anaconda3/envs/CustomEnvironments/lib/python3.8/site-packages (from spacy<3.5.0,>=3.4.0->pt-core-news-sm==3.4.0) (0.10.1)\n",
            "Requirement already satisfied: packaging>=20.0 in /opt/anaconda3/envs/CustomEnvironments/lib/python3.8/site-packages (from spacy<3.5.0,>=3.4.0->pt-core-news-sm==3.4.0) (21.3)\n",
            "Requirement already satisfied: spacy-legacy<3.1.0,>=3.0.10 in /opt/anaconda3/envs/CustomEnvironments/lib/python3.8/site-packages (from spacy<3.5.0,>=3.4.0->pt-core-news-sm==3.4.0) (3.0.10)\n",
            "Requirement already satisfied: preshed<3.1.0,>=3.0.2 in /opt/anaconda3/envs/CustomEnvironments/lib/python3.8/site-packages (from spacy<3.5.0,>=3.4.0->pt-core-news-sm==3.4.0) (3.0.8)\n",
            "Requirement already satisfied: requests<3.0.0,>=2.13.0 in /opt/anaconda3/envs/CustomEnvironments/lib/python3.8/site-packages (from spacy<3.5.0,>=3.4.0->pt-core-news-sm==3.4.0) (2.28.1)\n",
            "Requirement already satisfied: jinja2 in /opt/anaconda3/envs/CustomEnvironments/lib/python3.8/site-packages (from spacy<3.5.0,>=3.4.0->pt-core-news-sm==3.4.0) (3.1.2)\n",
            "Requirement already satisfied: catalogue<2.1.0,>=2.0.6 in /opt/anaconda3/envs/CustomEnvironments/lib/python3.8/site-packages (from spacy<3.5.0,>=3.4.0->pt-core-news-sm==3.4.0) (2.0.8)\n",
            "Requirement already satisfied: pydantic!=1.8,!=1.8.1,<1.11.0,>=1.7.4 in /opt/anaconda3/envs/CustomEnvironments/lib/python3.8/site-packages (from spacy<3.5.0,>=3.4.0->pt-core-news-sm==3.4.0) (1.10.2)\n",
            "Requirement already satisfied: pathy>=0.3.5 in /opt/anaconda3/envs/CustomEnvironments/lib/python3.8/site-packages (from spacy<3.5.0,>=3.4.0->pt-core-news-sm==3.4.0) (0.10.0)\n",
            "Requirement already satisfied: murmurhash<1.1.0,>=0.28.0 in /opt/anaconda3/envs/CustomEnvironments/lib/python3.8/site-packages (from spacy<3.5.0,>=3.4.0->pt-core-news-sm==3.4.0) (1.0.9)\n",
            "Requirement already satisfied: srsly<3.0.0,>=2.4.3 in /opt/anaconda3/envs/CustomEnvironments/lib/python3.8/site-packages (from spacy<3.5.0,>=3.4.0->pt-core-news-sm==3.4.0) (2.4.5)\n",
            "Requirement already satisfied: cymem<2.1.0,>=2.0.2 in /opt/anaconda3/envs/CustomEnvironments/lib/python3.8/site-packages (from spacy<3.5.0,>=3.4.0->pt-core-news-sm==3.4.0) (2.0.7)\n",
            "Requirement already satisfied: typer<0.8.0,>=0.3.0 in /opt/anaconda3/envs/CustomEnvironments/lib/python3.8/site-packages (from spacy<3.5.0,>=3.4.0->pt-core-news-sm==3.4.0) (0.7.0)\n",
            "Requirement already satisfied: langcodes<4.0.0,>=3.2.0 in /opt/anaconda3/envs/CustomEnvironments/lib/python3.8/site-packages (from spacy<3.5.0,>=3.4.0->pt-core-news-sm==3.4.0) (3.3.0)\n",
            "Requirement already satisfied: numpy>=1.15.0 in /opt/anaconda3/envs/CustomEnvironments/lib/python3.8/site-packages (from spacy<3.5.0,>=3.4.0->pt-core-news-sm==3.4.0) (1.22.4)\n",
            "Requirement already satisfied: pyparsing!=3.0.5,>=2.0.2 in /opt/anaconda3/envs/CustomEnvironments/lib/python3.8/site-packages (from packaging>=20.0->spacy<3.5.0,>=3.4.0->pt-core-news-sm==3.4.0) (3.0.9)\n",
            "Requirement already satisfied: smart-open<6.0.0,>=5.2.1 in /opt/anaconda3/envs/CustomEnvironments/lib/python3.8/site-packages (from pathy>=0.3.5->spacy<3.5.0,>=3.4.0->pt-core-news-sm==3.4.0) (5.2.1)\n",
            "Requirement already satisfied: typing-extensions>=4.1.0 in /opt/anaconda3/envs/CustomEnvironments/lib/python3.8/site-packages (from pydantic!=1.8,!=1.8.1,<1.11.0,>=1.7.4->spacy<3.5.0,>=3.4.0->pt-core-news-sm==3.4.0) (4.4.0)\n",
            "Requirement already satisfied: charset-normalizer<3,>=2 in /opt/anaconda3/envs/CustomEnvironments/lib/python3.8/site-packages (from requests<3.0.0,>=2.13.0->spacy<3.5.0,>=3.4.0->pt-core-news-sm==3.4.0) (2.1.1)\n",
            "Requirement already satisfied: idna<4,>=2.5 in /opt/anaconda3/envs/CustomEnvironments/lib/python3.8/site-packages (from requests<3.0.0,>=2.13.0->spacy<3.5.0,>=3.4.0->pt-core-news-sm==3.4.0) (3.4)\n",
            "Requirement already satisfied: certifi>=2017.4.17 in /opt/anaconda3/envs/CustomEnvironments/lib/python3.8/site-packages (from requests<3.0.0,>=2.13.0->spacy<3.5.0,>=3.4.0->pt-core-news-sm==3.4.0) (2022.9.24)\n",
            "Requirement already satisfied: urllib3<1.27,>=1.21.1 in /opt/anaconda3/envs/CustomEnvironments/lib/python3.8/site-packages (from requests<3.0.0,>=2.13.0->spacy<3.5.0,>=3.4.0->pt-core-news-sm==3.4.0) (1.26.12)\n",
            "Requirement already satisfied: confection<1.0.0,>=0.0.1 in /opt/anaconda3/envs/CustomEnvironments/lib/python3.8/site-packages (from thinc<8.2.0,>=8.1.0->spacy<3.5.0,>=3.4.0->pt-core-news-sm==3.4.0) (0.0.3)\n",
            "Requirement already satisfied: blis<0.8.0,>=0.7.8 in /opt/anaconda3/envs/CustomEnvironments/lib/python3.8/site-packages (from thinc<8.2.0,>=8.1.0->spacy<3.5.0,>=3.4.0->pt-core-news-sm==3.4.0) (0.7.9)\n",
            "Requirement already satisfied: click<9.0.0,>=7.1.1 in /opt/anaconda3/envs/CustomEnvironments/lib/python3.8/site-packages (from typer<0.8.0,>=0.3.0->spacy<3.5.0,>=3.4.0->pt-core-news-sm==3.4.0) (8.0.4)\n",
            "Requirement already satisfied: MarkupSafe>=2.0 in /opt/anaconda3/envs/CustomEnvironments/lib/python3.8/site-packages (from jinja2->spacy<3.5.0,>=3.4.0->pt-core-news-sm==3.4.0) (2.1.1)\n",
            "Installing collected packages: pt-core-news-sm\n",
            "Successfully installed pt-core-news-sm-3.4.0\n",
            "\u001b[38;5;2m✔ Download and installation successful\u001b[0m\n",
            "You can now load the package via spacy.load('pt_core_news_sm')\n"
          ]
        }
      ],
      "source": [
        "!python -m spacy download pt_core_news_sm"
      ]
    },
    {
      "cell_type": "code",
      "execution_count": 28,
      "id": "dec1f603-2481-47bd-b4e1-95dc5bba803d",
      "metadata": {
        "id": "dec1f603-2481-47bd-b4e1-95dc5bba803d"
      },
      "outputs": [],
      "source": [
        "import spacy\n",
        "nlp = spacy.load('pt_core_news_sm')\n",
        "def lemmatizer_verbs(text):\n",
        "    sent = []\n",
        "    doc = nlp(text)\n",
        "    for word in doc:\n",
        "        if word.pos_ == \"VERB\":\n",
        "            sent.append(word.lemma_)\n",
        "        else:\n",
        "            sent.append(word.text)\n",
        "    return \" \".join(sent)"
      ]
    },
    {
      "cell_type": "code",
      "execution_count": 29,
      "id": "14e698e4",
      "metadata": {},
      "outputs": [],
      "source": [
        "df['texto_tratado_lemma'] = df.texto_tratado.apply(lemmatizer_verbs)"
      ]
    },
    {
      "cell_type": "markdown",
      "id": "492f00ad-56d7-40d4-857b-1156c6f77bc3",
      "metadata": {
        "id": "492f00ad-56d7-40d4-857b-1156c6f77bc3"
      },
      "source": [
        "## ToDo 7\n",
        "\n",
        "repita os ToDo 3, ToDo 4 e ToDo 5, usando como feature a coluna texto_tratado_lemma, e veja se os resultados tiveram melhora."
      ]
    },
    {
      "cell_type": "code",
      "execution_count": 30,
      "id": "e43f8ffe-358f-40a1-bed4-4470910c657d",
      "metadata": {
        "id": "e43f8ffe-358f-40a1-bed4-4470910c657d"
      },
      "outputs": [],
      "source": [
        "df_train, df_test = train_test_split(\n",
        "    df, \n",
        "    test_size = 0.3, \n",
        "    random_state = 42\n",
        ")"
      ]
    },
    {
      "cell_type": "code",
      "execution_count": 31,
      "id": "a5df549f",
      "metadata": {},
      "outputs": [],
      "source": [
        "#resposta - CountVectorizer\n",
        "cv2 = CountVectorizer(ngram_range=(1,1))   \n",
        "cv2.fit(df_train.texto_tratado_lemma)\n",
        "x_train_cv2 = cv2.transform(df_train.texto_tratado_lemma)"
      ]
    },
    {
      "cell_type": "code",
      "execution_count": 32,
      "id": "d1696939",
      "metadata": {},
      "outputs": [],
      "source": [
        "# resposta - TFIDFVectorizer\n",
        "tfidf2 = TfidfVectorizer(ngram_range=(1,1))  \n",
        "tfidf2.fit(df_train.texto_tratado_lemma)\n",
        "x_train_tf2 = tfidf2.transform(df_train.texto_tratado_lemma)"
      ]
    },
    {
      "cell_type": "code",
      "execution_count": 36,
      "id": "986a7f72",
      "metadata": {},
      "outputs": [
        {
          "name": "stdout",
          "output_type": "stream",
          "text": [
            "              precision    recall  f1-score   support\n",
            "\n",
            "    Negativo       0.82      0.90      0.86       271\n",
            "      Neutro       0.82      0.91      0.86       536\n",
            "    Positivo       0.97      0.88      0.93       922\n",
            "\n",
            "    accuracy                           0.89      1729\n",
            "   macro avg       0.87      0.90      0.88      1729\n",
            "weighted avg       0.90      0.89      0.90      1729\n",
            "\n"
          ]
        }
      ],
      "source": [
        "y_train = df_train[\"sentimento\"]\n",
        "model = tree.DecisionTreeClassifier(max_depth=8, random_state=42)\n",
        "model.fit(x_train_cv2, y_train)\n",
        "\n",
        "x_test = cv2.transform(df_test.texto_tratado_lemma)\n",
        "\n",
        "y_prediction = model.predict(x_test)\n",
        "\n",
        "y_test = df_test[\"sentimento\"]\n",
        "print(classification_report(y_prediction, y_test))"
      ]
    }
  ],
  "metadata": {
    "colab": {
      "provenance": []
    },
    "kernelspec": {
      "display_name": "Python 3.8.13 ('CustomEnvironments')",
      "language": "python",
      "name": "python3"
    },
    "language_info": {
      "codemirror_mode": {
        "name": "ipython",
        "version": 3
      },
      "file_extension": ".py",
      "mimetype": "text/x-python",
      "name": "python",
      "nbconvert_exporter": "python",
      "pygments_lexer": "ipython3",
      "version": "3.8.13"
    },
    "vscode": {
      "interpreter": {
        "hash": "a4aabb88045435d349253dee9475f1b8f1d18d926eaa18aec263db52c9fe6629"
      }
    }
  },
  "nbformat": 4,
  "nbformat_minor": 5
}
