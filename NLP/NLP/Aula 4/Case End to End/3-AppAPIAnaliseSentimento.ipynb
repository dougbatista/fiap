{
 "cells": [
  {
   "cell_type": "code",
   "execution_count": null,
   "metadata": {},
   "outputs": [],
   "source": [
    "#!pip install flask\n",
    "\n",
    "# não compartilhem a base de dados envolvidas nesse projeto"
   ]
  },
  {
   "cell_type": "code",
   "execution_count": null,
   "metadata": {},
   "outputs": [],
   "source": [
    "import os\n",
    "os.environ['KMP_DUPLICATE_LIB_OK']='True'\n",
    "from flask import Flask\n",
    "from flask import request, jsonify\n",
    "from flask import json, Response\n",
    "\n",
    "import settings_flask\n",
    "\n",
    "import pickle\n",
    "import pandas as pd\n",
    "import re\n",
    "import spacy\n"
   ]
  },
  {
   "cell_type": "code",
   "execution_count": null,
   "metadata": {},
   "outputs": [],
   "source": [
    "# CARREGA VARIÁVEIS DO PROJETO\n",
    "\n",
    "# CRIA APP DA API\n",
    "app = Flask(__name__)\n",
    "\n",
    "# OBJETOS DOS MODELOS\n",
    "nlp = spacy.load('pt_core_news_sm')\n",
    "novo_vetor = pickle.load(open('modelo_verorizacao.pkl', 'rb'))\n",
    "novo_modelo = pickle.load(open('modelo_classificacao.pkl', 'rb'))\n"
   ]
  },
  {
   "cell_type": "code",
   "execution_count": null,
   "metadata": {},
   "outputs": [],
   "source": [
    "# função de lematização completa do documento\n",
    "def fn_lematiza_texto(texto):\n",
    "    sent = []\n",
    "    doc = nlp(texto)\n",
    "    for word in doc:\n",
    "        sent.append(word.lemma_)\n",
    "        \n",
    "    return ' '.join(sent)\n",
    "\n",
    "# função para limpar documento\n",
    "def fn_limpa_texto(texto):\n",
    "    texto = re.sub(r'@\\w+','',texto)\n",
    "    texto = re.sub(r'#','',texto)\n",
    "    texto = re.sub(r'RT[\\s]+','',texto)  \n",
    "    #texto = re.sub(r'rt[\\s]+','',texto)\n",
    "    texto = re.sub(r'https:/\\/\\S+','',texto)\n",
    "    texto = re.sub(r'[,.:;]','',texto)\n",
    "    texto = re.sub(r'\\n',' ',texto)\n",
    "    texto = re.sub(u'[^a-zA-ZáéíóúÁÉÍÓÚâêîôÂÊÎÔãõÃÕçÇ ]', '', texto)\n",
    "    texto = texto.strip().lower()\n",
    "    \n",
    "    return texto\n",
    "\n",
    "# função para fazer a predição do sentimento\n",
    "def fn_sentimento(texto):\n",
    "    texto = fn_limpa_texto(texto)\n",
    "    texto = fn_lematiza_texto(texto)\n",
    "    texto = [texto]\n",
    "    text_vect = novo_vetor.transform(texto)\n",
    "    texto_predito = novo_modelo.predict(text_vect)\n",
    "    return texto_predito"
   ]
  },
  {
   "cell_type": "code",
   "execution_count": null,
   "metadata": {},
   "outputs": [],
   "source": [
    "# INICIALIZA API\n",
    "def initialize_app(flask_app):\n",
    "    flask_app.config['SERVER_NAME'] = settings_flask.FLASK_SERVER_NAME\n",
    "    flask_app.config['DEBUG'] = settings_flask.FLASK_DEBUG\n",
    "    flask_app.config['JSON_AS_ASCII'] = settings_flask.FLASK_JSON_AS_ASCII\n"
   ]
  },
  {
   "cell_type": "code",
   "execution_count": null,
   "metadata": {},
   "outputs": [],
   "source": [
    "# CRIA APP DA API\n",
    "app = Flask(__name__)\n",
    "\n",
    "# ROTA DA API - RECEBE ARG: TEXTO\n",
    "@app.route('/api', methods=['GET'])\n",
    "def fn_recebe_texto():    \n",
    "    print('------------------------')\n",
    "    print('requesição feita')\n",
    "    print('----')    \n",
    "    if 'texto' in request.args:        \n",
    "        print('validou argumento')\n",
    "        print('----')        \n",
    "        texto = request.args['texto']        \n",
    "        print('Texto requerido: ', texto)\n",
    "        print('----')        \n",
    "        if len(texto) > 0:            \n",
    "            sentimento = fn_sentimento(texto)\n",
    "            sentimento = sentimento[0]            \n",
    "            print('sentimento predito: ', sentimento)\n",
    "            print('----')            \n",
    "            str_retorno = {'resultado':\n",
    "                               {'texto': texto,\n",
    "                                'sentimento': sentimento},\n",
    "                            'status_geral':\n",
    "                                {'status': 'Ok',\n",
    "                                'mensagem': 'Sucesso'}}\n",
    "        else:\n",
    "            print('Erro: texto inválido')\n",
    "            print('----')\n",
    "            str_retorno = {'status_geral':\n",
    "                        {'status': 'ERRO',\n",
    "                        'mensagem': 'Requisição não contém um texto valido. Por favor, verifique sua requisição'}}\n",
    "    else:\n",
    "        print('Erro: requisição enválida')\n",
    "        print('----')\n",
    "        str_retorno = {'status_geral':\n",
    "                        {'status': 'ERRO',\n",
    "                        'mensagem': 'Requisição não contém o argumente de texto. Por favor, verifique sua requisição'}}\n",
    "    \n",
    "    print('fim da requisição e retorna resultado')\n",
    "    print('------------------------')\n",
    "    return jsonify(str_retorno)\n"
   ]
  },
  {
   "cell_type": "code",
   "execution_count": null,
   "metadata": {
    "scrolled": true
   },
   "outputs": [],
   "source": [
    "# COMPILA API\n",
    "def main():\n",
    "    initialize_app(app)\n",
    "    app.run()\n",
    "\n",
    "# EXECUTA API\n",
    "if __name__ == \"__main__\":\n",
    "    main()"
   ]
  },
  {
   "cell_type": "markdown",
   "metadata": {},
   "source": [
    "**Teste da API**"
   ]
  },
  {
   "cell_type": "code",
   "execution_count": null,
   "metadata": {},
   "outputs": [],
   "source": [
    "#http://localhost:8088/api?texto=que dia bonito!!!\n",
    "#http://localhost:8088/api?texto=Filme horrível"
   ]
  },
  {
   "cell_type": "code",
   "execution_count": null,
   "metadata": {},
   "outputs": [],
   "source": []
  }
 ],
 "metadata": {
  "kernelspec": {
   "display_name": "Python 3 (ipykernel)",
   "language": "python",
   "name": "python3"
  },
  "language_info": {
   "codemirror_mode": {
    "name": "ipython",
    "version": 3
   },
   "file_extension": ".py",
   "mimetype": "text/x-python",
   "name": "python",
   "nbconvert_exporter": "python",
   "pygments_lexer": "ipython3",
   "version": "3.9.12"
  }
 },
 "nbformat": 4,
 "nbformat_minor": 4
}
