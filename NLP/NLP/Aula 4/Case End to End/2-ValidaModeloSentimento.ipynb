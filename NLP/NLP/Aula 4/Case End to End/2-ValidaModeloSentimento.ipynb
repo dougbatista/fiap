{
 "cells": [
  {
   "cell_type": "code",
   "execution_count": null,
   "metadata": {},
   "outputs": [],
   "source": [
    "import os\n",
    "os.environ['KMP_DUPLICATE_LIB_OK']='True'\n",
    "import pickle\n",
    "import pandas as pd\n",
    "import re\n",
    "import spacy\n",
    "from sklearn.metrics import accuracy_score\n",
    "\n",
    "\n",
    "# não compartilhem a base de dados envolvidas nesse projeto"
   ]
  },
  {
   "cell_type": "code",
   "execution_count": null,
   "metadata": {},
   "outputs": [],
   "source": [
    "# função de lematização completa do documento\n",
    "def fn_lematiza_texto(texto):\n",
    "    sent = []\n",
    "    doc = nlp(texto)\n",
    "    for word in doc:\n",
    "        sent.append(word.lemma_)\n",
    "        \n",
    "    return ' '.join(sent)\n",
    "\n",
    "# função para limpar documento\n",
    "def fn_limpa_texto(texto):\n",
    "    texto = re.sub(r'@\\w+','',texto)\n",
    "    texto = re.sub(r'#','',texto)\n",
    "    texto = re.sub(r'RT[\\s]+','',texto)  \n",
    "    #texto = re.sub(r'rt[\\s]+','',texto)  \n",
    "    texto = re.sub(r'https:/\\/\\S+','',texto)\n",
    "    texto = re.sub(r'[,.:;]','',texto)\n",
    "    texto = re.sub(r'\\n',' ',texto)\n",
    "    texto = re.sub(u'[^a-zA-ZâêîôûÂÊÎÔÛáéíóúÁÉÍÓÚàèìòùÀÈÌÒÙãõÃÕçÇ ]', '', texto)\n",
    "    texto = texto.strip().lower()\n",
    "    \n",
    "    return texto\n"
   ]
  },
  {
   "cell_type": "code",
   "execution_count": null,
   "metadata": {},
   "outputs": [],
   "source": [
    "nlp = spacy.load('pt_core_news_sm')\n",
    "novo_vetor = pickle.load(open('modelo_verorizacao.pkl', 'rb'))\n",
    "novo_modelo = pickle.load(open('modelo_classificacao.pkl', 'rb'))"
   ]
  },
  {
   "cell_type": "code",
   "execution_count": null,
   "metadata": {},
   "outputs": [],
   "source": [
    "# carrega os Tweets classificados\n",
    "dfTweetsValida = pd.read_csv('dados/tweets_classificados_validacao.txt') #dfTweetsClass\n",
    "dfTweetsValida.info()\n",
    "dfTweetsValida.sentimento.value_counts()"
   ]
  },
  {
   "cell_type": "code",
   "execution_count": null,
   "metadata": {},
   "outputs": [],
   "source": [
    "# aplica normalização no dataframe\n",
    "dfTweetsValida['texto_trat'] = dfTweetsValida.texto.apply(fn_limpa_texto)\n",
    "\n",
    "# aplica a lematização no dataframe\n",
    "dfTweetsValida['texto_lemma_verb'] = dfTweetsValida.texto_trat.apply(fn_lematiza_texto)\n",
    "\n",
    "# apaga tweets nulos\n",
    "dfTweetsValida.dropna(inplace=True)"
   ]
  },
  {
   "cell_type": "code",
   "execution_count": null,
   "metadata": {},
   "outputs": [],
   "source": [
    "text_vect = novo_vetor.transform(dfTweetsValida.texto_lemma_verb)"
   ]
  },
  {
   "cell_type": "code",
   "execution_count": null,
   "metadata": {},
   "outputs": [],
   "source": [
    "predito = novo_modelo.predict(text_vect)"
   ]
  },
  {
   "cell_type": "code",
   "execution_count": null,
   "metadata": {},
   "outputs": [],
   "source": [
    "predito"
   ]
  },
  {
   "cell_type": "code",
   "execution_count": null,
   "metadata": {},
   "outputs": [],
   "source": [
    "# valida a parformance\n",
    "accuracy = accuracy_score(predito, dfTweetsValida.sentimento)\n",
    "\n",
    "print(text_vect.shape)\n",
    "print(accuracy)"
   ]
  },
  {
   "cell_type": "code",
   "execution_count": null,
   "metadata": {},
   "outputs": [],
   "source": []
  }
 ],
 "metadata": {
  "kernelspec": {
   "display_name": "Python 3 (ipykernel)",
   "language": "python",
   "name": "python3"
  },
  "language_info": {
   "codemirror_mode": {
    "name": "ipython",
    "version": 3
   },
   "file_extension": ".py",
   "mimetype": "text/x-python",
   "name": "python",
   "nbconvert_exporter": "python",
   "pygments_lexer": "ipython3",
   "version": "3.9.12"
  }
 },
 "nbformat": 4,
 "nbformat_minor": 4
}
