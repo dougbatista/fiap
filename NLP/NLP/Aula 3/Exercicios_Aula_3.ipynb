{
 "cells": [
  {
   "cell_type": "markdown",
   "id": "b0fc0c91-9c13-4cca-b9bc-8f34adb01fd3",
   "metadata": {},
   "source": [
    "# Exercícios"
   ]
  },
  {
   "cell_type": "code",
   "execution_count": null,
   "id": "4e6730fc-5c55-42a8-9c9c-2fb3baa16237",
   "metadata": {},
   "outputs": [],
   "source": [
    "import pandas as pd\n",
    "\n",
    "df = pd.read_csv(\"https://dados-ml-pln.s3-sa-east-1.amazonaws.com/produtos.csv\", delimiter=\";\", encoding='utf-8')\n",
    "df.dropna(inplace=True)\n",
    "df[\"texto\"] = df['nome'] + \" \" + df['descricao']\n",
    "df.describe()"
   ]
  },
  {
   "cell_type": "code",
   "execution_count": null,
   "id": "973c49cc-2c53-49b3-ac43-869ec7c5749c",
   "metadata": {},
   "outputs": [],
   "source": [
    "# em caso de ter falha na hora de importar o spacy\n",
    "# import os\n",
    "\n",
    "# os.environ['KMP_DUPLICATE_LIB_OK']='True'"
   ]
  },
  {
   "cell_type": "markdown",
   "id": "f64475ea-3db9-403c-b60c-e5a5888fa218",
   "metadata": {},
   "source": [
    "## ToDo 1\n",
    "\n",
    "Use a função criada no exercício da Aula 2 que lematiza uma palavra desde que ela seja um verbo. Crie uma nova coluna chamada texto_lemma que conterá o resultado da aplicação da função. "
   ]
  },
  {
   "cell_type": "code",
   "execution_count": null,
   "id": "df32020c-c39d-4ce5-a493-58a8e7a2f4ff",
   "metadata": {},
   "outputs": [],
   "source": [
    "# resposta"
   ]
  },
  {
   "cell_type": "markdown",
   "id": "640b8ce9-b9fd-4e12-b7a8-add5a15a7463",
   "metadata": {},
   "source": [
    "## ToDo 2\n",
    "Divida o dataset em conjunto de treino e teste e faça a vetorização dos dados usando CountVectorizer. Remova as stop-words usando o conjunto do NLTK. "
   ]
  },
  {
   "cell_type": "code",
   "execution_count": null,
   "id": "1fcebed2-eb65-4100-bada-c04d6be8d61b",
   "metadata": {},
   "outputs": [],
   "source": [
    "#resposta"
   ]
  },
  {
   "cell_type": "markdown",
   "id": "ab320b7c-44a5-4003-b1fe-571a10d88c30",
   "metadata": {},
   "source": [
    "## ToDo 3\n",
    "\n",
    "Use a implementação da SKlearn do LDA para treinar um modelo de tópicos. Use os dados obtidos no ToDo 2 como entrada. \n",
    "\n",
    "Documentação do LDA na Scikit-Learn: [link](https://scikit-learn.org/stable/modules/generated/sklearn.decomposition.LatentDirichletAllocation.html)"
   ]
  },
  {
   "cell_type": "code",
   "execution_count": null,
   "id": "e856946b-9643-4d3a-bd7c-6674ef431f9b",
   "metadata": {},
   "outputs": [],
   "source": [
    "# resposta"
   ]
  },
  {
   "cell_type": "markdown",
   "id": "8b43b90a-bff2-4ae6-be78-0498fa2437f7",
   "metadata": {},
   "source": [
    "**depois de executar o LDA, podemos ver os resultados executando o código abaixo (considerando que a instancia do modelo seja\n",
    "a variável LDA:**"
   ]
  },
  {
   "cell_type": "code",
   "execution_count": null,
   "id": "4a41a297-e791-4f3a-b822-09532368a775",
   "metadata": {},
   "outputs": [],
   "source": [
    "# top palavras dos tópicos\n",
    "terms = vect.get_feature_names_out()\n",
    "\n",
    "for index, topic in enumerate(LDA.components_):\n",
    "    terms_comp = zip(terms, topic)\n",
    "    sorted_terms = sorted(terms_comp, key= lambda x:x[1], reverse=True)[:15]\n",
    "    print(\"THE TOP 15 WORDS FOR TOPIC # \"+str(index)+\": \")\n",
    "    #print(sorted_terms)\n",
    "    print([t[0] for t in sorted_terms])\n",
    "    print('\\n')"
   ]
  },
  {
   "cell_type": "markdown",
   "id": "0faf84fa-bce1-4948-9213-6a6268eee87b",
   "metadata": {},
   "source": [
    "## ToDo 4\n",
    "Usando o df_test, faça:\n",
    "\n",
    "1. Vetorize a coluna texto_lemma do df_test\n",
    "\n",
    "2. Obtenha o tópico a partir da coluna vetorizada para cada exemplo no df_test. Use o método transform do LDA. \n",
    "\n",
    "3. Crie uma nova coluna chamada \"tópico\" no df_test que conterá o tópico de maior probabilidade. (use argmax para recuperar o tópico de maior probabilidade)."
   ]
  },
  {
   "cell_type": "code",
   "execution_count": null,
   "id": "915e7c41-3ba0-4008-ae2f-a4f8035aceaa",
   "metadata": {},
   "outputs": [],
   "source": [
    "# resposta"
   ]
  },
  {
   "cell_type": "markdown",
   "id": "fa0a8c40-a6ac-4be8-b712-979c85258295",
   "metadata": {},
   "source": [
    "## ToDo 5\n",
    "Use a função built-in map para mapear cada categoria para os seguintes números:\n",
    "\n",
    "* livro -> 0\n",
    "* brinquedo -> 1\n",
    "* maquiagem -> 2\n",
    "* game -> 3\n",
    "\n",
    "Crie uma coluna \"categ_cod\" para armazenar o código de cada categoria"
   ]
  },
  {
   "cell_type": "code",
   "execution_count": null,
   "id": "1bffe637-41e0-4e29-a948-c064d1bb004a",
   "metadata": {},
   "outputs": [],
   "source": [
    "# resposta"
   ]
  },
  {
   "cell_type": "markdown",
   "id": "9f6489c5-b6a6-4087-8ed1-76495841fb7b",
   "metadata": {},
   "source": [
    "## ToDo 6\n",
    "Obtenha a acurácia usando \"categ_cod\" como y_true e \"topico\" como y_pred"
   ]
  },
  {
   "cell_type": "code",
   "execution_count": null,
   "id": "336e58a7-f5fa-4018-8e12-a4db927f8def",
   "metadata": {},
   "outputs": [],
   "source": [
    "# resposta"
   ]
  }
 ],
 "metadata": {
  "kernelspec": {
   "display_name": "Python 3 (ipykernel)",
   "language": "python",
   "name": "python3"
  },
  "language_info": {
   "codemirror_mode": {
    "name": "ipython",
    "version": 3
   },
   "file_extension": ".py",
   "mimetype": "text/x-python",
   "name": "python",
   "nbconvert_exporter": "python",
   "pygments_lexer": "ipython3",
   "version": "3.9.12"
  }
 },
 "nbformat": 4,
 "nbformat_minor": 5
}
