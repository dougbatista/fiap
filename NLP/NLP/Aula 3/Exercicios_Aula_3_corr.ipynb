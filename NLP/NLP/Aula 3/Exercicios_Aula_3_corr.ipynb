{
 "cells": [
  {
   "cell_type": "markdown",
   "id": "b0fc0c91-9c13-4cca-b9bc-8f34adb01fd3",
   "metadata": {},
   "source": [
    "# Exercícios"
   ]
  },
  {
   "cell_type": "code",
   "execution_count": 1,
   "id": "4e6730fc-5c55-42a8-9c9c-2fb3baa16237",
   "metadata": {},
   "outputs": [
    {
     "data": {
      "text/html": [
       "<div>\n",
       "<style scoped>\n",
       "    .dataframe tbody tr th:only-of-type {\n",
       "        vertical-align: middle;\n",
       "    }\n",
       "\n",
       "    .dataframe tbody tr th {\n",
       "        vertical-align: top;\n",
       "    }\n",
       "\n",
       "    .dataframe thead th {\n",
       "        text-align: right;\n",
       "    }\n",
       "</style>\n",
       "<table border=\"1\" class=\"dataframe\">\n",
       "  <thead>\n",
       "    <tr style=\"text-align: right;\">\n",
       "      <th></th>\n",
       "      <th>nome</th>\n",
       "      <th>descricao</th>\n",
       "      <th>categoria</th>\n",
       "      <th>texto</th>\n",
       "    </tr>\n",
       "  </thead>\n",
       "  <tbody>\n",
       "    <tr>\n",
       "      <th>count</th>\n",
       "      <td>2916</td>\n",
       "      <td>2916</td>\n",
       "      <td>2916</td>\n",
       "      <td>2916</td>\n",
       "    </tr>\n",
       "    <tr>\n",
       "      <th>unique</th>\n",
       "      <td>2584</td>\n",
       "      <td>2460</td>\n",
       "      <td>4</td>\n",
       "      <td>2646</td>\n",
       "    </tr>\n",
       "    <tr>\n",
       "      <th>top</th>\n",
       "      <td>Boneco Dragon Ball Z Son Gokou</td>\n",
       "      <td>JOGO ORIGINAL. NOVO. LACRADO. PRONTA ENTREGA. ...</td>\n",
       "      <td>livro</td>\n",
       "      <td>Boneco Dragon Ball Z Son Gokou   Produto novo</td>\n",
       "    </tr>\n",
       "    <tr>\n",
       "      <th>freq</th>\n",
       "      <td>20</td>\n",
       "      <td>39</td>\n",
       "      <td>838</td>\n",
       "      <td>20</td>\n",
       "    </tr>\n",
       "  </tbody>\n",
       "</table>\n",
       "</div>"
      ],
      "text/plain": [
       "                                     nome  \\\n",
       "count                                2916   \n",
       "unique                               2584   \n",
       "top      Boneco Dragon Ball Z Son Gokou     \n",
       "freq                                   20   \n",
       "\n",
       "                                                descricao categoria  \\\n",
       "count                                                2916      2916   \n",
       "unique                                               2460         4   \n",
       "top     JOGO ORIGINAL. NOVO. LACRADO. PRONTA ENTREGA. ...     livro   \n",
       "freq                                                   39       838   \n",
       "\n",
       "                                                 texto  \n",
       "count                                             2916  \n",
       "unique                                            2646  \n",
       "top      Boneco Dragon Ball Z Son Gokou   Produto novo  \n",
       "freq                                                20  "
      ]
     },
     "execution_count": 1,
     "metadata": {},
     "output_type": "execute_result"
    }
   ],
   "source": [
    "import pandas as pd\n",
    "\n",
    "df = pd.read_csv(\"https://dados-ml-pln.s3-sa-east-1.amazonaws.com/produtos.csv\", delimiter=\";\", encoding='utf-8')\n",
    "df.dropna(inplace=True)\n",
    "df[\"texto\"] = df['nome'] + \" \" + df['descricao']\n",
    "df.describe()"
   ]
  },
  {
   "cell_type": "code",
   "execution_count": 2,
   "id": "973c49cc-2c53-49b3-ac43-869ec7c5749c",
   "metadata": {},
   "outputs": [],
   "source": [
    "# em caso de ter falha na hora de importar o spacy\n",
    "# import os\n",
    "\n",
    "# os.environ['KMP_DUPLICATE_LIB_OK']='True'"
   ]
  },
  {
   "cell_type": "markdown",
   "id": "f64475ea-3db9-403c-b60c-e5a5888fa218",
   "metadata": {},
   "source": [
    "## ToDo 1\n",
    "\n",
    "Use a função criada no exercício da Aula 2 que lematiza uma palavra desde que ela seja um verbo. Crie uma nova coluna chamada texto_lemma que conterá o resultado da aplicação da função. "
   ]
  },
  {
   "cell_type": "code",
   "execution_count": 3,
   "id": "e308da58-34e4-4a15-86a7-f3206d2db31e",
   "metadata": {},
   "outputs": [],
   "source": [
    "#!python -m spacy download pt_core_news_sm"
   ]
  },
  {
   "cell_type": "code",
   "execution_count": 4,
   "id": "df32020c-c39d-4ce5-a493-58a8e7a2f4ff",
   "metadata": {
    "tags": []
   },
   "outputs": [
    {
     "data": {
      "text/html": [
       "<div>\n",
       "<style scoped>\n",
       "    .dataframe tbody tr th:only-of-type {\n",
       "        vertical-align: middle;\n",
       "    }\n",
       "\n",
       "    .dataframe tbody tr th {\n",
       "        vertical-align: top;\n",
       "    }\n",
       "\n",
       "    .dataframe thead th {\n",
       "        text-align: right;\n",
       "    }\n",
       "</style>\n",
       "<table border=\"1\" class=\"dataframe\">\n",
       "  <thead>\n",
       "    <tr style=\"text-align: right;\">\n",
       "      <th></th>\n",
       "      <th>nome</th>\n",
       "      <th>descricao</th>\n",
       "      <th>categoria</th>\n",
       "      <th>texto</th>\n",
       "      <th>texto_lemma</th>\n",
       "    </tr>\n",
       "  </thead>\n",
       "  <tbody>\n",
       "    <tr>\n",
       "      <th>0</th>\n",
       "      <td>O Hobbit - 7ª Ed. 2013</td>\n",
       "      <td>Produto NovoBilbo Bolseiro é um hobbit que lev...</td>\n",
       "      <td>livro</td>\n",
       "      <td>O Hobbit - 7ª Ed. 2013  Produto NovoBilbo Bol...</td>\n",
       "      <td>O Hobbit - 7ª Ed . 2013   Produto NovoBilbo ...</td>\n",
       "    </tr>\n",
       "    <tr>\n",
       "      <th>1</th>\n",
       "      <td>Livro - It A Coisa - Stephen King</td>\n",
       "      <td>Produto NovoDurante as férias escolares de 195...</td>\n",
       "      <td>livro</td>\n",
       "      <td>Livro - It A Coisa - Stephen King  Produto No...</td>\n",
       "      <td>Livro - It A Coisa - Stephen King   Produto ...</td>\n",
       "    </tr>\n",
       "    <tr>\n",
       "      <th>2</th>\n",
       "      <td>Box  As Crônicas De Gelo E Fogo  Pocket  5 Li...</td>\n",
       "      <td>Produto NovoTodo o reino de Westeros ao alcanc...</td>\n",
       "      <td>livro</td>\n",
       "      <td>Box  As Crônicas De Gelo E Fogo  Pocket  5 Li...</td>\n",
       "      <td>Box   As Crônicas De Gelo E Fogo   Pocket   ...</td>\n",
       "    </tr>\n",
       "    <tr>\n",
       "      <th>3</th>\n",
       "      <td>Box Harry Potter</td>\n",
       "      <td>Produto Novo e Físico  A série Harry Potter ch...</td>\n",
       "      <td>livro</td>\n",
       "      <td>Box Harry Potter  Produto Novo e Físico  A sé...</td>\n",
       "      <td>Box Harry Potter   Produto Novo e Físico   A...</td>\n",
       "    </tr>\n",
       "    <tr>\n",
       "      <th>4</th>\n",
       "      <td>Livro Origem - Dan Brown</td>\n",
       "      <td>Produto NovoDe Onde Viemos? Para Onde Vamos? R...</td>\n",
       "      <td>livro</td>\n",
       "      <td>Livro Origem - Dan Brown  Produto NovoDe Onde...</td>\n",
       "      <td>Livro Origem - Dan Brown   Produto NovoDe On...</td>\n",
       "    </tr>\n",
       "  </tbody>\n",
       "</table>\n",
       "</div>"
      ],
      "text/plain": [
       "                                                nome  \\\n",
       "0                            O Hobbit - 7ª Ed. 2013    \n",
       "1                 Livro - It A Coisa - Stephen King    \n",
       "2   Box  As Crônicas De Gelo E Fogo  Pocket  5 Li...   \n",
       "3                                  Box Harry Potter    \n",
       "4                          Livro Origem - Dan Brown    \n",
       "\n",
       "                                           descricao categoria  \\\n",
       "0  Produto NovoBilbo Bolseiro é um hobbit que lev...     livro   \n",
       "1  Produto NovoDurante as férias escolares de 195...     livro   \n",
       "2  Produto NovoTodo o reino de Westeros ao alcanc...     livro   \n",
       "3  Produto Novo e Físico  A série Harry Potter ch...     livro   \n",
       "4  Produto NovoDe Onde Viemos? Para Onde Vamos? R...     livro   \n",
       "\n",
       "                                               texto  \\\n",
       "0   O Hobbit - 7ª Ed. 2013  Produto NovoBilbo Bol...   \n",
       "1   Livro - It A Coisa - Stephen King  Produto No...   \n",
       "2   Box  As Crônicas De Gelo E Fogo  Pocket  5 Li...   \n",
       "3   Box Harry Potter  Produto Novo e Físico  A sé...   \n",
       "4   Livro Origem - Dan Brown  Produto NovoDe Onde...   \n",
       "\n",
       "                                         texto_lemma  \n",
       "0    O Hobbit - 7ª Ed . 2013   Produto NovoBilbo ...  \n",
       "1    Livro - It A Coisa - Stephen King   Produto ...  \n",
       "2    Box   As Crônicas De Gelo E Fogo   Pocket   ...  \n",
       "3    Box Harry Potter   Produto Novo e Físico   A...  \n",
       "4    Livro Origem - Dan Brown   Produto NovoDe On...  "
      ]
     },
     "execution_count": 4,
     "metadata": {},
     "output_type": "execute_result"
    }
   ],
   "source": [
    "# resposta\n",
    "import spacy\n",
    "nlp = spacy.load('pt_core_news_sm')\n",
    "def lemmatizer(text):\n",
    "    doc = nlp(text)\n",
    "    return \" \".join([word.lemma_ if word.pos_ == \"VERB\" else word.text for word in doc])\n",
    "    \n",
    "df['texto_lemma'] = df['texto'].apply(lemmatizer)\n",
    "df.head()"
   ]
  },
  {
   "cell_type": "markdown",
   "id": "640b8ce9-b9fd-4e12-b7a8-add5a15a7463",
   "metadata": {},
   "source": [
    "## ToDo 2\n",
    "Divida o dataset em conjunto de treino e teste e faça a vetorização dos dados usando CountVectorizer. Remova as stop-words usando o conjunto do NLTK. "
   ]
  },
  {
   "cell_type": "code",
   "execution_count": 5,
   "id": "1fcebed2-eb65-4100-bada-c04d6be8d61b",
   "metadata": {
    "tags": []
   },
   "outputs": [],
   "source": [
    "#resposta\n",
    "from sklearn.model_selection import train_test_split\n",
    "\n",
    "df_train, df_test = train_test_split(df,\n",
    "      test_size = 0.3, \n",
    "      random_state = 42\n",
    "  )"
   ]
  },
  {
   "cell_type": "code",
   "execution_count": 6,
   "id": "89859889-2b5c-4805-8c1a-3bd2fc60af37",
   "metadata": {
    "tags": []
   },
   "outputs": [],
   "source": [
    "import nltk\n",
    "from sklearn.feature_extraction.text import CountVectorizer\n",
    "\n",
    "stops = nltk.corpus.stopwords.words('portuguese')\n",
    "\n",
    "vect = CountVectorizer(ngram_range=(1,1), stop_words=stops)\n",
    "vect.fit(df_train.texto_lemma)\n",
    "text_vect_train = vect.transform(df_train.texto_lemma)"
   ]
  },
  {
   "cell_type": "markdown",
   "id": "ab320b7c-44a5-4003-b1fe-571a10d88c30",
   "metadata": {},
   "source": [
    "## ToDo 3\n",
    "\n",
    "Use a implementação da SKlearn do LDA para treinar um modelo de tópicos. Use os dados obtidos no ToDo 2 como entrada. \n",
    "\n",
    "Documentação do LDA na Scikit-Learn: [link](https://scikit-learn.org/stable/modules/generated/sklearn.decomposition.LatentDirichletAllocation.html)"
   ]
  },
  {
   "cell_type": "code",
   "execution_count": 7,
   "id": "f7082e3d-d968-406e-86ad-4e2ead691c93",
   "metadata": {
    "tags": []
   },
   "outputs": [
    {
     "data": {
      "text/plain": [
       "array(['livro', 'brinquedo', 'maquiagem', 'game'], dtype=object)"
      ]
     },
     "execution_count": 7,
     "metadata": {},
     "output_type": "execute_result"
    }
   ],
   "source": [
    "# para definir o número de tópicos.\n",
    "df['categoria'].unique()"
   ]
  },
  {
   "cell_type": "code",
   "execution_count": 8,
   "id": "e856946b-9643-4d3a-bd7c-6674ef431f9b",
   "metadata": {
    "tags": []
   },
   "outputs": [
    {
     "data": {
      "text/plain": [
       "LatentDirichletAllocation(n_components=4, random_state=42)"
      ]
     },
     "execution_count": 8,
     "metadata": {},
     "output_type": "execute_result"
    }
   ],
   "source": [
    "# resposta\n",
    "from sklearn.decomposition import LatentDirichletAllocation\n",
    "\n",
    "# modelo\n",
    "LDA = LatentDirichletAllocation(n_components=4,random_state=42)\n",
    "LDA.fit(text_vect_train)"
   ]
  },
  {
   "cell_type": "code",
   "execution_count": 9,
   "id": "4a41a297-e791-4f3a-b822-09532368a775",
   "metadata": {},
   "outputs": [
    {
     "name": "stdout",
     "output_type": "stream",
     "text": [
      "THE TOP 15 WORDS FOR TOPIC # 0: \n",
      "['produto', 'edição', 'livro', 'páginas', 'ter', 'poder', 'vida', 'mundo', 'novo', 'história', 'anos', '00', 'livros', 'capa', 'origem']\n",
      "\n",
      "\n",
      "THE TOP 15 WORDS FOR TOPIC # 1: \n",
      "['produto', 'cm', 'bonecos', 'kit', 'boneco', 'pronta', 'super', 'ball', 'dragon', '12', 'novo', 'frete', 'personagem', '100', 'vingadores']\n",
      "\n",
      "\n",
      "THE TOP 15 WORDS FOR TOPIC # 2: \n",
      "['pincel', 'cm', 'maquiagem', 'kit', 'cílios', 'cores', 'maleta', 'profissional', '01', 'base', 'matte', 'sombra', 'produto', 'cor', 'the']\n",
      "\n",
      "\n",
      "THE TOP 15 WORDS FOR TOPIC # 3: \n",
      "['mercado', 'produto', 'pagamento', 'prazo', 'frete', 'envio', 'produtos', 'enviar', 'entrega', 'jogo', 'compra', 'ter', 'dias', 'vendedor', 'comprar']\n",
      "\n",
      "\n"
     ]
    }
   ],
   "source": [
    "# depois de executar o LDA, podemos ver os resultados executando o código abaixo (considerando que a instancia do modelo seja\n",
    "# a variável LDA:\n",
    "# top palavras dos tópicos\n",
    "terms = vect.get_feature_names_out()\n",
    "\n",
    "for index, topic in enumerate(LDA.components_):\n",
    "    terms_comp = zip(terms, topic)\n",
    "    sorted_terms = sorted(terms_comp, key= lambda x:x[1], reverse=True)[:15]\n",
    "    print(\"THE TOP 15 WORDS FOR TOPIC # \"+str(index)+\": \")\n",
    "    #print(sorted_terms)\n",
    "    print([t[0] for t in sorted_terms])\n",
    "    print('\\n')"
   ]
  },
  {
   "cell_type": "markdown",
   "id": "0faf84fa-bce1-4948-9213-6a6268eee87b",
   "metadata": {},
   "source": [
    "## ToDo 4\n",
    "Usando o df_test, faça:\n",
    "\n",
    "1. Vetorize a coluna texto_lemma do df_test\n",
    "\n",
    "2. Obtenha o tópico a partir da coluna vetorizada para cada exemplo no df_test. Use o método transform do LDA. \n",
    "\n",
    "3. Crie uma nova coluna chamada \"tópico\" no df_test que conterá o tópico de maior probabilidade. (use argmax para recuperar o tópico de maior probabilidade)."
   ]
  },
  {
   "cell_type": "code",
   "execution_count": 10,
   "id": "915e7c41-3ba0-4008-ae2f-a4f8035aceaa",
   "metadata": {
    "tags": []
   },
   "outputs": [
    {
     "data": {
      "text/html": [
       "<div>\n",
       "<style scoped>\n",
       "    .dataframe tbody tr th:only-of-type {\n",
       "        vertical-align: middle;\n",
       "    }\n",
       "\n",
       "    .dataframe tbody tr th {\n",
       "        vertical-align: top;\n",
       "    }\n",
       "\n",
       "    .dataframe thead th {\n",
       "        text-align: right;\n",
       "    }\n",
       "</style>\n",
       "<table border=\"1\" class=\"dataframe\">\n",
       "  <thead>\n",
       "    <tr style=\"text-align: right;\">\n",
       "      <th></th>\n",
       "      <th>nome</th>\n",
       "      <th>descricao</th>\n",
       "      <th>categoria</th>\n",
       "      <th>texto</th>\n",
       "      <th>texto_lemma</th>\n",
       "      <th>topico</th>\n",
       "    </tr>\n",
       "  </thead>\n",
       "  <tbody>\n",
       "    <tr>\n",
       "      <th>2700</th>\n",
       "      <td>Estojo Duo Iluminador E Bronzer Belle Angel M...</td>\n",
       "      <td>DUO ILUMINADOR E BRONZER BELLE ANGEL - B025O D...</td>\n",
       "      <td>maquiagem</td>\n",
       "      <td>Estojo Duo Iluminador E Bronzer Belle Angel M...</td>\n",
       "      <td>Estojo Duo Iluminador E Bronzer Belle Angel ...</td>\n",
       "      <td>2</td>\n",
       "    </tr>\n",
       "    <tr>\n",
       "      <th>1297</th>\n",
       "      <td>Patrulha Canina Carrinhos De Fricção 6 Person...</td>\n",
       "      <td>Kit carrinhos da Patrulha canina Tamanho: Cerc...</td>\n",
       "      <td>brinquedo</td>\n",
       "      <td>Patrulha Canina Carrinhos De Fricção 6 Person...</td>\n",
       "      <td>Patrulha Canina Carrinhos De Fricção 6 Perso...</td>\n",
       "      <td>1</td>\n",
       "    </tr>\n",
       "    <tr>\n",
       "      <th>3162</th>\n",
       "      <td>Pokemon Ultra Moon Nintendo 3ds Midia Fisica ...</td>\n",
       "      <td>#Nossos produtos são NOVOS e 100% ORIGINAIS#  ...</td>\n",
       "      <td>game</td>\n",
       "      <td>Pokemon Ultra Moon Nintendo 3ds Midia Fisica ...</td>\n",
       "      <td>Pokemon Ultra Moon Nintendo 3ds Midia Fisica...</td>\n",
       "      <td>3</td>\n",
       "    </tr>\n",
       "    <tr>\n",
       "      <th>2895</th>\n",
       "      <td>Kite Pincel  12 Unidade</td>\n",
       "      <td>esta alta qualidade Punho de madeira Escova Co...</td>\n",
       "      <td>maquiagem</td>\n",
       "      <td>Kite Pincel  12 Unidade  esta alta qualidade ...</td>\n",
       "      <td>Kite Pincel   12 Unidade   esta alta qualida...</td>\n",
       "      <td>2</td>\n",
       "    </tr>\n",
       "    <tr>\n",
       "      <th>2226</th>\n",
       "      <td>Maleta Grande P/ Maquiagem Profissional Rodin...</td>\n",
       "      <td>FOTOS REAIS DO PRODUTO - ENVIAMOS SUA MALETA C...</td>\n",
       "      <td>maquiagem</td>\n",
       "      <td>Maleta Grande P/ Maquiagem Profissional Rodin...</td>\n",
       "      <td>Maleta Grande P/ Maquiagem Profissional Rodi...</td>\n",
       "      <td>2</td>\n",
       "    </tr>\n",
       "  </tbody>\n",
       "</table>\n",
       "</div>"
      ],
      "text/plain": [
       "                                                   nome  \\\n",
       "2700   Estojo Duo Iluminador E Bronzer Belle Angel M...   \n",
       "1297   Patrulha Canina Carrinhos De Fricção 6 Person...   \n",
       "3162   Pokemon Ultra Moon Nintendo 3ds Midia Fisica ...   \n",
       "2895                           Kite Pincel  12 Unidade    \n",
       "2226   Maleta Grande P/ Maquiagem Profissional Rodin...   \n",
       "\n",
       "                                              descricao  categoria  \\\n",
       "2700  DUO ILUMINADOR E BRONZER BELLE ANGEL - B025O D...  maquiagem   \n",
       "1297  Kit carrinhos da Patrulha canina Tamanho: Cerc...  brinquedo   \n",
       "3162  #Nossos produtos são NOVOS e 100% ORIGINAIS#  ...       game   \n",
       "2895  esta alta qualidade Punho de madeira Escova Co...  maquiagem   \n",
       "2226  FOTOS REAIS DO PRODUTO - ENVIAMOS SUA MALETA C...  maquiagem   \n",
       "\n",
       "                                                  texto  \\\n",
       "2700   Estojo Duo Iluminador E Bronzer Belle Angel M...   \n",
       "1297   Patrulha Canina Carrinhos De Fricção 6 Person...   \n",
       "3162   Pokemon Ultra Moon Nintendo 3ds Midia Fisica ...   \n",
       "2895   Kite Pincel  12 Unidade  esta alta qualidade ...   \n",
       "2226   Maleta Grande P/ Maquiagem Profissional Rodin...   \n",
       "\n",
       "                                            texto_lemma  topico  \n",
       "2700    Estojo Duo Iluminador E Bronzer Belle Angel ...       2  \n",
       "1297    Patrulha Canina Carrinhos De Fricção 6 Perso...       1  \n",
       "3162    Pokemon Ultra Moon Nintendo 3ds Midia Fisica...       3  \n",
       "2895    Kite Pincel   12 Unidade   esta alta qualida...       2  \n",
       "2226    Maleta Grande P/ Maquiagem Profissional Rodi...       2  "
      ]
     },
     "execution_count": 10,
     "metadata": {},
     "output_type": "execute_result"
    }
   ],
   "source": [
    "# resposta\n",
    "text_vect_test = vect.transform(df_test.texto_lemma)\n",
    "results = LDA.transform(text_vect_test)\n",
    "\n",
    "df_test['topico'] = results.argmax(axis=1)\n",
    "\n",
    "df_test.head()"
   ]
  },
  {
   "cell_type": "markdown",
   "id": "fa0a8c40-a6ac-4be8-b712-979c85258295",
   "metadata": {},
   "source": [
    "## ToDo 5\n",
    "Use a função built-in map para mapear cada categoria para os seguintes números:\n",
    "\n",
    "* livro -> 0\n",
    "* brinquedo -> 1\n",
    "* maquiagem -> 2\n",
    "* game -> 3\n",
    "\n",
    "Crie uma coluna \"categ_cod\" para armazenar o código de cada categoria"
   ]
  },
  {
   "cell_type": "code",
   "execution_count": 11,
   "id": "1bffe637-41e0-4e29-a948-c064d1bb004a",
   "metadata": {
    "tags": []
   },
   "outputs": [],
   "source": [
    "# resposta\n",
    "df_test['categ_cod'] = df_test.categoria.map(\n",
    "    {'livro': 0, 'brinquedo': 1, 'maquiagem': 2, 'game': 3 } \n",
    "    )"
   ]
  },
  {
   "cell_type": "code",
   "execution_count": 13,
   "id": "1adf7ea5-9409-4522-976a-37780216bdab",
   "metadata": {},
   "outputs": [
    {
     "data": {
      "text/html": [
       "<div>\n",
       "<style scoped>\n",
       "    .dataframe tbody tr th:only-of-type {\n",
       "        vertical-align: middle;\n",
       "    }\n",
       "\n",
       "    .dataframe tbody tr th {\n",
       "        vertical-align: top;\n",
       "    }\n",
       "\n",
       "    .dataframe thead th {\n",
       "        text-align: right;\n",
       "    }\n",
       "</style>\n",
       "<table border=\"1\" class=\"dataframe\">\n",
       "  <thead>\n",
       "    <tr style=\"text-align: right;\">\n",
       "      <th></th>\n",
       "      <th>nome</th>\n",
       "      <th>descricao</th>\n",
       "      <th>categoria</th>\n",
       "      <th>texto</th>\n",
       "      <th>texto_lemma</th>\n",
       "      <th>topico</th>\n",
       "      <th>categ_cod</th>\n",
       "    </tr>\n",
       "  </thead>\n",
       "  <tbody>\n",
       "    <tr>\n",
       "      <th>2700</th>\n",
       "      <td>Estojo Duo Iluminador E Bronzer Belle Angel M...</td>\n",
       "      <td>DUO ILUMINADOR E BRONZER BELLE ANGEL - B025O D...</td>\n",
       "      <td>maquiagem</td>\n",
       "      <td>Estojo Duo Iluminador E Bronzer Belle Angel M...</td>\n",
       "      <td>Estojo Duo Iluminador E Bronzer Belle Angel ...</td>\n",
       "      <td>2</td>\n",
       "      <td>2</td>\n",
       "    </tr>\n",
       "    <tr>\n",
       "      <th>1297</th>\n",
       "      <td>Patrulha Canina Carrinhos De Fricção 6 Person...</td>\n",
       "      <td>Kit carrinhos da Patrulha canina Tamanho: Cerc...</td>\n",
       "      <td>brinquedo</td>\n",
       "      <td>Patrulha Canina Carrinhos De Fricção 6 Person...</td>\n",
       "      <td>Patrulha Canina Carrinhos De Fricção 6 Perso...</td>\n",
       "      <td>1</td>\n",
       "      <td>1</td>\n",
       "    </tr>\n",
       "    <tr>\n",
       "      <th>3162</th>\n",
       "      <td>Pokemon Ultra Moon Nintendo 3ds Midia Fisica ...</td>\n",
       "      <td>#Nossos produtos são NOVOS e 100% ORIGINAIS#  ...</td>\n",
       "      <td>game</td>\n",
       "      <td>Pokemon Ultra Moon Nintendo 3ds Midia Fisica ...</td>\n",
       "      <td>Pokemon Ultra Moon Nintendo 3ds Midia Fisica...</td>\n",
       "      <td>3</td>\n",
       "      <td>3</td>\n",
       "    </tr>\n",
       "    <tr>\n",
       "      <th>2895</th>\n",
       "      <td>Kite Pincel  12 Unidade</td>\n",
       "      <td>esta alta qualidade Punho de madeira Escova Co...</td>\n",
       "      <td>maquiagem</td>\n",
       "      <td>Kite Pincel  12 Unidade  esta alta qualidade ...</td>\n",
       "      <td>Kite Pincel   12 Unidade   esta alta qualida...</td>\n",
       "      <td>2</td>\n",
       "      <td>2</td>\n",
       "    </tr>\n",
       "    <tr>\n",
       "      <th>2226</th>\n",
       "      <td>Maleta Grande P/ Maquiagem Profissional Rodin...</td>\n",
       "      <td>FOTOS REAIS DO PRODUTO - ENVIAMOS SUA MALETA C...</td>\n",
       "      <td>maquiagem</td>\n",
       "      <td>Maleta Grande P/ Maquiagem Profissional Rodin...</td>\n",
       "      <td>Maleta Grande P/ Maquiagem Profissional Rodi...</td>\n",
       "      <td>2</td>\n",
       "      <td>2</td>\n",
       "    </tr>\n",
       "  </tbody>\n",
       "</table>\n",
       "</div>"
      ],
      "text/plain": [
       "                                                   nome  \\\n",
       "2700   Estojo Duo Iluminador E Bronzer Belle Angel M...   \n",
       "1297   Patrulha Canina Carrinhos De Fricção 6 Person...   \n",
       "3162   Pokemon Ultra Moon Nintendo 3ds Midia Fisica ...   \n",
       "2895                           Kite Pincel  12 Unidade    \n",
       "2226   Maleta Grande P/ Maquiagem Profissional Rodin...   \n",
       "\n",
       "                                              descricao  categoria  \\\n",
       "2700  DUO ILUMINADOR E BRONZER BELLE ANGEL - B025O D...  maquiagem   \n",
       "1297  Kit carrinhos da Patrulha canina Tamanho: Cerc...  brinquedo   \n",
       "3162  #Nossos produtos são NOVOS e 100% ORIGINAIS#  ...       game   \n",
       "2895  esta alta qualidade Punho de madeira Escova Co...  maquiagem   \n",
       "2226  FOTOS REAIS DO PRODUTO - ENVIAMOS SUA MALETA C...  maquiagem   \n",
       "\n",
       "                                                  texto  \\\n",
       "2700   Estojo Duo Iluminador E Bronzer Belle Angel M...   \n",
       "1297   Patrulha Canina Carrinhos De Fricção 6 Person...   \n",
       "3162   Pokemon Ultra Moon Nintendo 3ds Midia Fisica ...   \n",
       "2895   Kite Pincel  12 Unidade  esta alta qualidade ...   \n",
       "2226   Maleta Grande P/ Maquiagem Profissional Rodin...   \n",
       "\n",
       "                                            texto_lemma  topico  categ_cod  \n",
       "2700    Estojo Duo Iluminador E Bronzer Belle Angel ...       2          2  \n",
       "1297    Patrulha Canina Carrinhos De Fricção 6 Perso...       1          1  \n",
       "3162    Pokemon Ultra Moon Nintendo 3ds Midia Fisica...       3          3  \n",
       "2895    Kite Pincel   12 Unidade   esta alta qualida...       2          2  \n",
       "2226    Maleta Grande P/ Maquiagem Profissional Rodi...       2          2  "
      ]
     },
     "execution_count": 13,
     "metadata": {},
     "output_type": "execute_result"
    }
   ],
   "source": [
    "df_test.head()"
   ]
  },
  {
   "cell_type": "markdown",
   "id": "9f6489c5-b6a6-4087-8ed1-76495841fb7b",
   "metadata": {},
   "source": [
    "## ToDo 6\n",
    "Obtenha a acurácia usando \"categ_cod\" como y_true e \"topico\" como y_pred"
   ]
  },
  {
   "cell_type": "code",
   "execution_count": 12,
   "id": "336e58a7-f5fa-4018-8e12-a4db927f8def",
   "metadata": {
    "tags": []
   },
   "outputs": [
    {
     "name": "stdout",
     "output_type": "stream",
     "text": [
      "0.8194285714285714\n"
     ]
    }
   ],
   "source": [
    "# resposta\n",
    "from sklearn.metrics import accuracy_score, confusion_matrix\n",
    "\n",
    "print(accuracy_score(df_test.categ_cod, df_test.topico))"
   ]
  },
  {
   "cell_type": "code",
   "execution_count": null,
   "id": "bce29d68-88cf-487a-82ec-2c051c454aab",
   "metadata": {},
   "outputs": [],
   "source": []
  }
 ],
 "metadata": {
  "kernelspec": {
   "display_name": "Python 3 (ipykernel)",
   "language": "python",
   "name": "python3"
  },
  "language_info": {
   "codemirror_mode": {
    "name": "ipython",
    "version": 3
   },
   "file_extension": ".py",
   "mimetype": "text/x-python",
   "name": "python",
   "nbconvert_exporter": "python",
   "pygments_lexer": "ipython3",
   "version": "3.9.12"
  }
 },
 "nbformat": 4,
 "nbformat_minor": 5
}
